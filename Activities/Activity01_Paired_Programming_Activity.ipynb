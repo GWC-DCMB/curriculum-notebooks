{
 "cells": [
  {
   "cell_type": "markdown",
   "metadata": {},
   "source": [
    "# Paired programming activity\n",
    "\n",
    "For this activity, work with your partner to write code to answer these questions. If you're stuck, put up a pink sticky. Feel free to do the questions out of order if you want.\n",
    "\n",
    "For each question, you can try different values for the input to see if your code is right!"
   ]
  },
  {
   "cell_type": "markdown",
   "metadata": {},
   "source": [
    "**Question 1:** Given a string, count and report how many times each letter appears. Example string: \"computing is too important to be left to men\" (credit: Karen Sparck Jones). \n",
    "\n",
    "*Hint:* If you loop over a string, it goes through each character. \n",
    "\n",
    "*Challenge:* How short can you make your code and have it still work?"
   ]
  },
  {
   "cell_type": "code",
   "execution_count": null,
   "metadata": {},
   "outputs": [],
   "source": [
    "# define string (remember you can change this if you want to test out different strings!)\n",
    "string = \"computing is too important to be left to men\"\n",
    "# write code here\n"
   ]
  },
  {
   "cell_type": "markdown",
   "metadata": {},
   "source": [
    "**Question 2:** Given two numbers, find the largest of them. Try at least 2 different sets of numbers: one where x is bigger and one where y is bigger.\n",
    "\n",
    "*Hint:* Use if-then-else. (python has a max function built in, but write your own)"
   ]
  },
  {
   "cell_type": "code",
   "execution_count": null,
   "metadata": {},
   "outputs": [],
   "source": [
    "# find the largest of two numbers (also try one where x is bigger)\n",
    "# define numbers\n",
    "x = 1 \n",
    "y = 2\n",
    "# write code here\n"
   ]
  },
  {
   "cell_type": "markdown",
   "metadata": {},
   "source": [
    "**Question 3:** Given three numbers, find the largest of them. Try at least 3 sets of numbers: where x is biggest, where y is biggest, and where z is biggest."
   ]
  },
  {
   "cell_type": "code",
   "execution_count": null,
   "metadata": {},
   "outputs": [],
   "source": [
    "# find the largest of three numbers \n",
    "# define numbers\n",
    "x = 1 \n",
    "y = 2\n",
    "z = 3\n",
    "# write code here\n"
   ]
  },
  {
   "cell_type": "markdown",
   "metadata": {},
   "source": [
    "**Question 4:** Given a list or a string, find the length of it. (Again, python has the `len` function, but write your own code to do this.) Test your code at least twice: using a string, and using a list."
   ]
  },
  {
   "cell_type": "code",
   "execution_count": null,
   "metadata": {},
   "outputs": [],
   "source": [
    "# find the length of a string or a list\n",
    "# define string and list\n",
    "string = 'mystring'\n",
    "mylist = [0,1,2,3,4,5]\n",
    "# write code here\n"
   ]
  },
  {
   "cell_type": "markdown",
   "metadata": {},
   "source": [
    "**Question 5:** Given a character (i.e. a string of length 1), print `True` if it is a vowel, and `False` otherwise. Test your code out with something that is a vowel and something that is not a vowel. Remeber that you can have capital and lowercase vowels!"
   ]
  },
  {
   "cell_type": "code",
   "execution_count": null,
   "metadata": {},
   "outputs": [],
   "source": [
    "# find whether a character is a vowel\n",
    "# define character\n",
    "x = 'A'\n",
    "# write code here    \n"
   ]
  },
  {
   "cell_type": "markdown",
   "metadata": {},
   "source": [
    "**Question 6a:** Write code that sums all the numbers in a list of numbers. For example, the sum of `[1, 2, 3, 4]` should be 10. (Again, these exist in python but write your own code to do this.)"
   ]
  },
  {
   "cell_type": "code",
   "execution_count": null,
   "metadata": {},
   "outputs": [],
   "source": [
    "# find the sum of a list of numbers\n",
    "# define list of numbers\n",
    "numbers = [1,2,3,4]\n",
    "# write code here\n"
   ]
  },
  {
   "cell_type": "markdown",
   "metadata": {},
   "source": [
    "**Question 6b:** Write code that multiplies all the numbers in a list of numbers. For example, the product of `[1,2,3,4]` should be 24. (Again, these exist in python but write your own code to do this.)"
   ]
  },
  {
   "cell_type": "code",
   "execution_count": null,
   "metadata": {},
   "outputs": [],
   "source": [
    "# find the product of a list of numbers\n",
    "# define list of numbers\n",
    "numbers = [1,2,3,4]\n",
    "# write code here\n"
   ]
  },
  {
   "cell_type": "markdown",
   "metadata": {},
   "source": [
    "**Question 7:** Find the reversal of a string. So if you give “this is too much” it will prnt out “hcum oot si siht”."
   ]
  },
  {
   "cell_type": "code",
   "execution_count": null,
   "metadata": {},
   "outputs": [],
   "source": [
    "# find the reversal of a string\n",
    "# define string\n",
    "string = 'this is too much'\n",
    "# write code here\n"
   ]
  },
  {
   "cell_type": "markdown",
   "metadata": {},
   "source": [
    "**Question 8:** Write code that recognizes palindromes. A palindrome is a word or phrase that is the same forward and backward when you remove any spaces. If the string is a palindrome, print `True`. If it's not a palindrome, print `False`. You can test your code with “a man a plan a canal panama” or “radar”."
   ]
  },
  {
   "cell_type": "code",
   "execution_count": null,
   "metadata": {},
   "outputs": [],
   "source": [
    "# write code that prints True if the string is a palindrome\n",
    "# define string\n",
    "x = 'a man a plan a canal panama'\n",
    "# write code here\n"
   ]
  }
 ],
 "metadata": {
  "kernelspec": {
   "display_name": "Python 3",
   "language": "python",
   "name": "python3"
  },
  "language_info": {
   "codemirror_mode": {
    "name": "ipython",
    "version": 3
   },
   "file_extension": ".py",
   "mimetype": "text/x-python",
   "name": "python",
   "nbconvert_exporter": "python",
   "pygments_lexer": "ipython3",
   "version": "3.7.3"
  }
 },
 "nbformat": 4,
 "nbformat_minor": 2
}
