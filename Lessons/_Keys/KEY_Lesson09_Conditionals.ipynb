{
 "cells": [
  {
   "cell_type": "markdown",
   "metadata": {
    "colab_type": "text",
    "id": "OLN8UWNM4gO5"
   },
   "source": [
    "# Conditional Logic\n",
    "\n",
    "In the last lesson, we learned about logic with booleans. Booleans can be used to determine if a certain line of code should be run. How would we do this? This is where we can use something called an if statement.\n",
    "\n",
    "If statements follow the following formula:\n",
    "\n",
    "```\n",
    "if [condition]:\n",
    "    [code]\n",
    "```\n",
    "\n",
    "The __condition__ is a boolean, and the code under the condition only runs if the condition is true. These are called **if statements**\n",
    "\n",
    "For example, say we had a list that we wanted to print out, but we don't want to print the list if it's too long. We could run the following:"
   ]
  },
  {
   "cell_type": "code",
   "execution_count": 1,
   "metadata": {
    "colab": {},
    "colab_type": "code",
    "id": "w0vYiQVk4gO-",
    "outputId": "6da5cb4d-5732-4b83-93c3-312e55faf3c7"
   },
   "outputs": [
    {
     "name": "stdout",
     "output_type": "stream",
     "text": [
      "[0, 1, 2, 3, 4, 5, 6, 7]\n"
     ]
    }
   ],
   "source": [
    "# create a list called my_list containing the numbers 0 to 7\n",
    "my_list = [0, 1, 2, 3, 4, 5, 6, 7]\n",
    "\n",
    "# write an if statement that only prints my_list if it has less than 10 items\n",
    "if len(my_list) < 10:\n",
    "    print(my_list)"
   ]
  },
  {
   "cell_type": "markdown",
   "metadata": {},
   "source": [
    "Let's test the conditional statement on its own to see what the result is:"
   ]
  },
  {
   "cell_type": "code",
   "execution_count": 2,
   "metadata": {
    "colab": {},
    "colab_type": "code",
    "id": "q3hSCO_i4gPI",
    "outputId": "adbf2d2c-9330-4783-87aa-ff9e9f64e9d3"
   },
   "outputs": [
    {
     "data": {
      "text/plain": [
       "True"
      ]
     },
     "execution_count": 2,
     "metadata": {},
     "output_type": "execute_result"
    }
   ],
   "source": [
    "# print the boolean value of the condition in the if statement above\n",
    "len(my_list) < 10"
   ]
  },
  {
   "cell_type": "markdown",
   "metadata": {
    "colab_type": "text",
    "id": "eLWm7_7f4gPP"
   },
   "source": [
    "We see that the condition is `True`, the code below runs.\n",
    "\n",
    "What if we changed the condition above? How would this change our code?"
   ]
  },
  {
   "cell_type": "code",
   "execution_count": 4,
   "metadata": {
    "colab": {},
    "colab_type": "code",
    "id": "Yx_5-0Fq4gPR"
   },
   "outputs": [],
   "source": [
    "# write an if statement that only prints my_list if it has 10 or more items\n",
    "if len(my_list) >= 10:\n",
    "    print(my_list)"
   ]
  },
  {
   "cell_type": "markdown",
   "metadata": {
    "colab_type": "text",
    "id": "4zGhearv4gPV"
   },
   "source": [
    "Nothing happened! Let's see why this is."
   ]
  },
  {
   "cell_type": "code",
   "execution_count": 5,
   "metadata": {
    "colab": {},
    "colab_type": "code",
    "id": "aa6JU-xC4gPW",
    "outputId": "7375ac9c-6d78-481e-e926-697d86ddef9a"
   },
   "outputs": [
    {
     "data": {
      "text/plain": [
       "False"
      ]
     },
     "execution_count": 5,
     "metadata": {},
     "output_type": "execute_result"
    }
   ],
   "source": [
    "# print the boolean value of the above if statement\n",
    "len(my_list) >= 10"
   ]
  },
  {
   "cell_type": "markdown",
   "metadata": {
    "colab_type": "text",
    "id": "KHYd0tUm4gPc"
   },
   "source": [
    "In this case, the condition is `False`, so the code within the conditional did not run."
   ]
  },
  {
   "cell_type": "markdown",
   "metadata": {
    "colab_type": "text",
    "id": "LuaRXfzy4gPd"
   },
   "source": [
    "What if we wanted to run one block of code if the condition is `True`, and a different line of code if the condition is `False`? In other words, what if we wanted to run one block of code if our list has less than 10 items, and another block of code if the list has more than 10? This is where we use `if/else`.\n",
    "\n",
    "An `if/else` looks like this:\n",
    "\n",
    "```\n",
    "if [condition]:\n",
    "  [command 1]\n",
    "else:\n",
    "  [command 2]\n",
    "```\n",
    "\n",
    "The first two lines should look familiar; it's an if statement, which we just used! But after the if statement, we write `else:` and then some more python code. The code that comes after `else:` will run if the value of `condition` is false.\n",
    "\n",
    "Let's see how this works! Let's write code that prints `my_list` if it has less than 10 items, and otherwise prints a message letting us know the list is too long to print."
   ]
  },
  {
   "cell_type": "code",
   "execution_count": 6,
   "metadata": {
    "colab": {},
    "colab_type": "code",
    "id": "JTbTyDzR4gPe",
    "outputId": "2f0ee061-cd24-46b0-fb39-2ef577086d57"
   },
   "outputs": [
    {
     "name": "stdout",
     "output_type": "stream",
     "text": [
      "[0, 1, 2, 3, 4, 5, 6, 7]\n"
     ]
    }
   ],
   "source": [
    "# write an if/else statement that prints my_list if my_list has less than 10 items\n",
    "# and if my_list has 10 or more items, prints a message\n",
    "if len(my_list) < 10:\n",
    "    print(my_list)\n",
    "else:\n",
    "    print(\"The list is too long to print!\")"
   ]
  },
  {
   "cell_type": "markdown",
   "metadata": {
    "colab_type": "text",
    "id": "Nf15XEXN4gPj"
   },
   "source": [
    "Because the list has less than 10 items, the list printed. But let's say we added more items to the list, making it longer than 10 items."
   ]
  },
  {
   "cell_type": "code",
   "execution_count": 7,
   "metadata": {
    "colab": {},
    "colab_type": "code",
    "id": "V6zs4yeO4gPl"
   },
   "outputs": [],
   "source": [
    "# append the numbers 8, 9, 10, and 11 to my_list\n",
    "my_list.append(8)\n",
    "my_list.append(9)\n",
    "my_list.append(10)\n",
    "my_list.append(11)"
   ]
  },
  {
   "cell_type": "code",
   "execution_count": 8,
   "metadata": {
    "colab": {},
    "colab_type": "code",
    "id": "f2kJl8cf4gPp",
    "outputId": "b1b2a8e5-4907-44a8-c98e-7b55590d9a86"
   },
   "outputs": [
    {
     "data": {
      "text/plain": [
       "12"
      ]
     },
     "execution_count": 8,
     "metadata": {},
     "output_type": "execute_result"
    }
   ],
   "source": [
    "# print the length of my_list\n",
    "len(my_list)"
   ]
  },
  {
   "cell_type": "markdown",
   "metadata": {
    "colab_type": "text",
    "id": "MVTxM5e54gPs"
   },
   "source": [
    "Now, the length of my_list is above 10. How would the above line of code run now? "
   ]
  },
  {
   "cell_type": "code",
   "execution_count": 9,
   "metadata": {
    "colab": {},
    "colab_type": "code",
    "id": "4PJ8LJSG4gPu",
    "outputId": "ecd36b06-1017-4a67-b7c6-659f08c3ed30"
   },
   "outputs": [
    {
     "name": "stdout",
     "output_type": "stream",
     "text": [
      "The list is too long to print!\n"
     ]
    }
   ],
   "source": [
    "# copy and paste the if/else statement we just wrote\n",
    "if len(my_list) < 10:\n",
    "    print(my_list)\n",
    "else:\n",
    "    print(\"The list is too long to print!\")"
   ]
  },
  {
   "cell_type": "markdown",
   "metadata": {
    "colab_type": "text",
    "id": "TpJm2bZ44gPy"
   },
   "source": [
    "What if there were more than two different conditions? Using `if/elif/else` statements, we can command Python to run different code for any number of conditions. An `if/elif/else` statement looks like this:\n",
    "\n",
    "```\n",
    "if [condition 1]:\n",
    "  [command 1]\n",
    "elif [condition 2]:\n",
    "  [command 2]\n",
    "else:\n",
    "  [command 3]\n",
    "  \n",
    "[more python code]\n",
    "```\n",
    "\n",
    "How does Python run this code? First it checks to see if `condition 1` is true. If it is, then it runs `command 1`, skips `command 2` and `command 3`, then continues running whatever code that comes after the `if/elif/else`.\n",
    "\n",
    "If `condition 1` is false, but `condition 2` is true, then Python runs `command 2`, skips `command 3`, and continues with the code that comes after the `if/elif/else`.\n",
    "\n",
    "Finally, if `condition 1` AND `condition 2` are both false, then `command 3` runs, and continues with the code that comes after the `if/elif/else`.\n",
    "\n",
    "Python is doing a lot to make these statements work! Here is a diagram of how these statements work:\n",
    "![](https://raw.githubusercontent.com/GWC-DCMB/SummerExperience/master/Figures/IfElifElseDiagram.png)"
   ]
  },
  {
   "cell_type": "markdown",
   "metadata": {},
   "source": [
    "We can do a lot of really powerful things with `if/elif/else` statements! Let's start by writing code that does the following:\n",
    "- If my_list has less than 10 items, print a message saying the list is \"short\"\n",
    "- If my_list has at least 10 items, but fewer than 15 items (so 10, 11, 12, 13, or 14 items), print a message saying the list is \"medium\"\n",
    "- Otherwise, print a message saying the list is \"long\""
   ]
  },
  {
   "cell_type": "code",
   "execution_count": 10,
   "metadata": {
    "colab": {},
    "colab_type": "code",
    "id": "JK80pu224gPz",
    "outputId": "9f0670d5-4abd-48e6-aed9-5d69d36c3c20"
   },
   "outputs": [
    {
     "name": "stdout",
     "output_type": "stream",
     "text": [
      "This list is medium length\n"
     ]
    }
   ],
   "source": [
    "# use if/elif/else to print the length of my_list\n",
    "if len(my_list) < 10:\n",
    "    print(\"This list is short\")\n",
    "elif len(my_list) >= 10 & len(my_list) < 15:\n",
    "    print(\"This list is medium length\")\n",
    "else:\n",
    "    print(\"This list is really long!\")"
   ]
  },
  {
   "cell_type": "markdown",
   "metadata": {
    "colab_type": "text",
    "id": "y-fBqabh4gP2"
   },
   "source": [
    "So what happened here? `my_list` is 12 items long. We got to the first `if` statement, and because the length was not less than 10, we did not execute the line that says `This list is short`. The next line tests if the length is between 10 and 15. This conditional is true, so it executes the line saying `This list is medium length`. Because we got to this line, we skip the `else` statement. \n",
    "\n",
    "But what if our list was longer? Then what would happen?"
   ]
  },
  {
   "cell_type": "code",
   "execution_count": 11,
   "metadata": {
    "colab": {},
    "colab_type": "code",
    "id": "AuTSXB1w4gP4"
   },
   "outputs": [],
   "source": [
    "# append numbers 12, 13, and 14 to my_list\n",
    "my_list.append(12)\n",
    "my_list.append(13)\n",
    "my_list.append(14)\n",
    "my_list.append(15)"
   ]
  },
  {
   "cell_type": "code",
   "execution_count": 12,
   "metadata": {
    "colab": {},
    "colab_type": "code",
    "id": "E0NFUr0P4gP7",
    "outputId": "4a7d7209-412b-4baf-c062-3d934714762a"
   },
   "outputs": [
    {
     "data": {
      "text/plain": [
       "16"
      ]
     },
     "execution_count": 12,
     "metadata": {},
     "output_type": "execute_result"
    }
   ],
   "source": [
    "# print the length of my_list\n",
    "len(my_list)"
   ]
  },
  {
   "cell_type": "markdown",
   "metadata": {},
   "source": [
    "Let's copy and paste our `if/elif/else` statement from before and see how our code works now that my_list is longer!"
   ]
  },
  {
   "cell_type": "code",
   "execution_count": 13,
   "metadata": {
    "colab": {},
    "colab_type": "code",
    "id": "v_k76Tfr4gP_",
    "outputId": "e70d2b77-c396-42f5-846a-3deb0c4ea3db"
   },
   "outputs": [
    {
     "name": "stdout",
     "output_type": "stream",
     "text": [
      "This list is really long!\n"
     ]
    }
   ],
   "source": [
    "# copy and paste if/elif/else from before\n",
    "if len(my_list) < 10:\n",
    "    print(\"This list is short\")\n",
    "elif len(my_list) >= 10 and len(my_list) < 15:\n",
    "    print(\"This list is medium length\")\n",
    "else:\n",
    "    print(\"This list is really long!\")"
   ]
  },
  {
   "cell_type": "markdown",
   "metadata": {
    "colab": {},
    "colab_type": "code",
    "id": "yaPkTJ3h4gQC"
   },
   "source": [
    "Great job! You just learned how to use conditionals in Python. You learned:\n",
    "- How to use a boolean to only execute code under certain conditions using `if` statements\n",
    "- How to further control how code runs using `if/else` and `if/elif/else` statements."
   ]
  },
  {
   "cell_type": "code",
   "execution_count": null,
   "metadata": {},
   "outputs": [],
   "source": []
  }
 ],
 "metadata": {
  "kernelspec": {
   "display_name": "Python 3",
   "language": "python",
   "name": "python3"
  },
  "language_info": {
   "codemirror_mode": {
    "name": "ipython",
    "version": 3
   },
   "file_extension": ".py",
   "mimetype": "text/x-python",
   "name": "python",
   "nbconvert_exporter": "python",
   "pygments_lexer": "ipython3",
   "version": "3.7.3"
  }
 },
 "nbformat": 4,
 "nbformat_minor": 4
}
