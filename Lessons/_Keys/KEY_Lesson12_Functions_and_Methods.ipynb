{
 "nbformat": 4,
 "nbformat_minor": 0,
 "metadata": {
  "language_info": {
   "codemirror_mode": {
    "name": "ipython",
    "version": 3
   },
   "file_extension": ".py",
   "mimetype": "text/x-python",
   "name": "python",
   "nbconvert_exporter": "python",
   "pygments_lexer": "ipython3",
   "version": "3.7.3"
  },
  "kernelspec": {
   "display_name": "Python 3",
   "language": "python",
   "name": "python3"
  }
 },
 "cells": [
  {
   "cell_type": "markdown",
   "metadata": {
    "id": "eCiLhCaQ5mJK",
    "colab_type": "text"
   },
   "source": [
    "# Functions and Methods\n",
    "\n",
    "Functions and methods are things that take an input, do something with that input, and then spit out an output. You've already been using functions and methods! \n",
    "\n",
    "Examples of functions:\n",
    "- `print`: prints the input out to the screen\n",
    "- `len`: finds the length of the input\n",
    "\n",
    "Example of a method:\n",
    "- `append`: appends elements to a list\n",
    "\n",
    "So what's the difference between functions and methods?\n",
    "\n",
    "- **Functions** can take lots of different object types as input. For example, `print` can take a variety of inputs including a variable, a string, a list, or numbers. \n",
    "- **Methods** are special cases of functions, so everything that is true for functions is also true for methods (i.e. they can take a variety of input). However, methods *can only be used on one specific type of variable*. For example, append can only be used on lists (and not strings or numbers).\n",
    "\n",
    "Differences in syntax (how we write it to use it):\n",
    "- The input to **functions** goes *between* parentheses after the name of function\n",
    "  - Example: `print(print_input)` \n",
    "\n",
    "\n",
    "- For **methods**, the variable they operate on comes *before* the name of the method and is followed by a period (`.`). Then, any other input the method might require goes between the parentheses, similar to functions.\n",
    "  - Example: `mylist.append(what_to_append)`\n",
    "  \n",
    "We're going to learn a few more functions and methods here!\n",
    "\n",
    "Let's start by learning some functions and methods we can use with lists of numbers!"
   ]
  },
  {
   "cell_type": "code",
   "metadata": {
    "id": "OX7MOIG15mJL",
    "colab_type": "code",
    "colab": {}
   },
   "source": [
    "# make a list of numbers\n",
    "numbers = [10,2.3,-4,20,14,1,2,0,-3,1,-2,2,2,65.4,3,-23,123,43.1,32,57,32]"
   ],
   "execution_count": 0,
   "outputs": []
  },
  {
   "cell_type": "markdown",
   "metadata": {
    "id": "UQIEo8qM5mJQ",
    "colab_type": "text"
   },
   "source": [
    "What function can you use to find the length of this list? Use this function to find the length:"
   ]
  },
  {
   "cell_type": "code",
   "metadata": {
    "id": "JFeRxbha5mJR",
    "colab_type": "code",
    "colab": {
     "base_uri": "https://localhost:8080/",
     "height": 34
    },
    "outputId": "08302ec4-dec0-4d64-e4bb-9cdea60d9c1b",
    "executionInfo": {
     "status": "ok",
     "timestamp": 1563148321613,
     "user_tz": 240,
     "elapsed": 757,
     "user": {
      "displayName": "Kelly Sovacool",
      "photoUrl": "https://lh3.googleusercontent.com/-WQsOgn6cXFg/AAAAAAAAAAI/AAAAAAAAAVA/ol7X28qyOHc/s64/photo.jpg",
      "userId": "07259925140867310896"
     }
    }
   },
   "source": [
    "# get the length of numbers\n",
    "len(numbers)"
   ],
   "execution_count": 2,
   "outputs": [
    {
     "output_type": "execute_result",
     "data": {
      "text/plain": [
       "21"
      ]
     },
     "metadata": {
      "tags": []
     },
     "execution_count": 2
    }
   ]
  },
  {
   "cell_type": "markdown",
   "metadata": {
    "id": "QgW-W5w15mJY",
    "colab_type": "text"
   },
   "source": [
    "If you're not sure how to use a function, you can use the function `help` to get more information about it. Here's an example to find more information about length:"
   ]
  },
  {
   "cell_type": "code",
   "metadata": {
    "id": "rGvAYqFX5mJZ",
    "colab_type": "code",
    "colab": {
     "base_uri": "https://localhost:8080/",
     "height": 102
    },
    "outputId": "d34fffc7-bebf-4e58-82a7-8046e154b699",
    "executionInfo": {
     "status": "ok",
     "timestamp": 1563148321615,
     "user_tz": 240,
     "elapsed": 734,
     "user": {
      "displayName": "Kelly Sovacool",
      "photoUrl": "https://lh3.googleusercontent.com/-WQsOgn6cXFg/AAAAAAAAAAI/AAAAAAAAAVA/ol7X28qyOHc/s64/photo.jpg",
      "userId": "07259925140867310896"
     }
    }
   },
   "source": [
    "help(len)"
   ],
   "execution_count": 3,
   "outputs": [
    {
     "output_type": "stream",
     "text": [
      "Help on built-in function len in module builtins:\n",
      "\n",
      "len(obj, /)\n",
      "    Return the number of items in a container.\n",
      "\n"
     ],
     "name": "stdout"
    }
   ]
  },
  {
   "cell_type": "markdown",
   "metadata": {
    "id": "pCYiK4r85mJd",
    "colab_type": "text"
   },
   "source": [
    "It tells you that `len` takes an object and returns the number of items in the object.\n",
    "\n",
    "To get the object type of `numbers` we can use the function `type`:"
   ]
  },
  {
   "cell_type": "code",
   "metadata": {
    "id": "sF7xYfS35mJe",
    "colab_type": "code",
    "colab": {
     "base_uri": "https://localhost:8080/",
     "height": 34
    },
    "outputId": "86ad1cfe-0f6d-4f8d-f860-8fab0eefae86",
    "executionInfo": {
     "status": "ok",
     "timestamp": 1563148321617,
     "user_tz": 240,
     "elapsed": 714,
     "user": {
      "displayName": "Kelly Sovacool",
      "photoUrl": "https://lh3.googleusercontent.com/-WQsOgn6cXFg/AAAAAAAAAAI/AAAAAAAAAVA/ol7X28qyOHc/s64/photo.jpg",
      "userId": "07259925140867310896"
     }
    }
   },
   "source": [
    "# print the type of numbers\n",
    "type(numbers)"
   ],
   "execution_count": 4,
   "outputs": [
    {
     "output_type": "execute_result",
     "data": {
      "text/plain": [
       "list"
      ]
     },
     "metadata": {
      "tags": []
     },
     "execution_count": 4
    }
   ]
  },
  {
   "cell_type": "markdown",
   "metadata": {
    "id": "M4T6Co5Z5mJh",
    "colab_type": "text"
   },
   "source": [
    "Nice! It's a list, just like we expected. What do you think the type is of the first element in `numbers`?"
   ]
  },
  {
   "cell_type": "code",
   "metadata": {
    "id": "zXI00-5G5mJi",
    "colab_type": "code",
    "colab": {
     "base_uri": "https://localhost:8080/",
     "height": 51
    },
    "outputId": "164dd00c-9dba-465f-f6b7-a9348da869b7",
    "executionInfo": {
     "status": "ok",
     "timestamp": 1563148321619,
     "user_tz": 240,
     "elapsed": 693,
     "user": {
      "displayName": "Kelly Sovacool",
      "photoUrl": "https://lh3.googleusercontent.com/-WQsOgn6cXFg/AAAAAAAAAAI/AAAAAAAAAVA/ol7X28qyOHc/s64/photo.jpg",
      "userId": "07259925140867310896"
     }
    }
   },
   "source": [
    "# print the first element of numbers\n",
    "print(numbers[0])\n",
    "\n",
    "# print the type of the first element of numbers\n",
    "type(numbers[0])"
   ],
   "execution_count": 5,
   "outputs": [
    {
     "output_type": "stream",
     "text": [
      "10\n"
     ],
     "name": "stdout"
    },
    {
     "output_type": "execute_result",
     "data": {
      "text/plain": [
       "int"
      ]
     },
     "metadata": {
      "tags": []
     },
     "execution_count": 5
    }
   ]
  },
  {
   "cell_type": "markdown",
   "metadata": {
    "id": "tqGp7GKd5mJm",
    "colab_type": "text"
   },
   "source": [
    "It's an integer. What about the type of the second element of numbers?"
   ]
  },
  {
   "cell_type": "code",
   "metadata": {
    "id": "JMYpXzIo5mJn",
    "colab_type": "code",
    "colab": {
     "base_uri": "https://localhost:8080/",
     "height": 51
    },
    "outputId": "2f6fd602-528a-4c13-a058-de890f00980f",
    "executionInfo": {
     "status": "ok",
     "timestamp": 1563148322051,
     "user_tz": 240,
     "elapsed": 1102,
     "user": {
      "displayName": "Kelly Sovacool",
      "photoUrl": "https://lh3.googleusercontent.com/-WQsOgn6cXFg/AAAAAAAAAAI/AAAAAAAAAVA/ol7X28qyOHc/s64/photo.jpg",
      "userId": "07259925140867310896"
     }
    }
   },
   "source": [
    "# print the second element of numbers\n",
    "print(numbers[1])\n",
    "\n",
    "# print the type of the second element of numbers\n",
    "type(numbers[1])"
   ],
   "execution_count": 6,
   "outputs": [
    {
     "output_type": "stream",
     "text": [
      "2.3\n"
     ],
     "name": "stdout"
    },
    {
     "output_type": "execute_result",
     "data": {
      "text/plain": [
       "float"
      ]
     },
     "metadata": {
      "tags": []
     },
     "execution_count": 6
    }
   ]
  },
  {
   "cell_type": "markdown",
   "metadata": {
    "id": "IyfBe6KC5mJt",
    "colab_type": "text"
   },
   "source": [
    "It's a float. This means it has a decimal place (so it's not an integer). \n",
    "\n",
    "We can also find the absolute value of a number. Print the third element and then print the absolute value of this number using the function `abs`:"
   ]
  },
  {
   "cell_type": "code",
   "metadata": {
    "id": "DkSlUytM5mJu",
    "colab_type": "code",
    "colab": {
     "base_uri": "https://localhost:8080/",
     "height": 51
    },
    "outputId": "53d127f6-3787-4adf-9dfa-755533d5ccfb",
    "executionInfo": {
     "status": "ok",
     "timestamp": 1563148322064,
     "user_tz": 240,
     "elapsed": 1088,
     "user": {
      "displayName": "Kelly Sovacool",
      "photoUrl": "https://lh3.googleusercontent.com/-WQsOgn6cXFg/AAAAAAAAAAI/AAAAAAAAAVA/ol7X28qyOHc/s64/photo.jpg",
      "userId": "07259925140867310896"
     }
    }
   },
   "source": [
    "# print the third element of numbers\n",
    "print(numbers[2])\n",
    "\n",
    "# print the type of the third element of numbers\n",
    "print(abs(numbers[2]))"
   ],
   "execution_count": 7,
   "outputs": [
    {
     "output_type": "stream",
     "text": [
      "-4\n",
      "4\n"
     ],
     "name": "stdout"
    }
   ]
  },
  {
   "cell_type": "markdown",
   "metadata": {
    "id": "DG74MjCi5mJ0",
    "colab_type": "text"
   },
   "source": [
    "Now let's find the minimum of the numbers list using the function `min` and the maximum of the numbers list using the function `max`:"
   ]
  },
  {
   "cell_type": "code",
   "metadata": {
    "id": "ADowN-B-5mJ1",
    "colab_type": "code",
    "colab": {
     "base_uri": "https://localhost:8080/",
     "height": 51
    },
    "outputId": "ea949d31-16fd-4ba3-8858-82f845be07f2",
    "executionInfo": {
     "status": "ok",
     "timestamp": 1563148322067,
     "user_tz": 240,
     "elapsed": 1077,
     "user": {
      "displayName": "Kelly Sovacool",
      "photoUrl": "https://lh3.googleusercontent.com/-WQsOgn6cXFg/AAAAAAAAAAI/AAAAAAAAAVA/ol7X28qyOHc/s64/photo.jpg",
      "userId": "07259925140867310896"
     }
    }
   },
   "source": [
    "# print the minimum of the numbers list\n",
    "print(min(numbers))\n",
    "\n",
    "# print the maximum of the numbers list\n",
    "print(max(numbers))"
   ],
   "execution_count": 8,
   "outputs": [
    {
     "output_type": "stream",
     "text": [
      "-23\n",
      "123\n"
     ],
     "name": "stdout"
    }
   ]
  },
  {
   "cell_type": "markdown",
   "metadata": {
    "id": "9wvfIXxr5mJ7",
    "colab_type": "text"
   },
   "source": [
    "We can also find the sum of all of the numbers in `numbers` using the function `sum`:"
   ]
  },
  {
   "cell_type": "code",
   "metadata": {
    "id": "u4CYE_oD5mJ7",
    "colab_type": "code",
    "colab": {
     "base_uri": "https://localhost:8080/",
     "height": 34
    },
    "outputId": "edb7b3cf-c3aa-49d5-eeec-31aa3a753ab7",
    "executionInfo": {
     "status": "ok",
     "timestamp": 1563148322082,
     "user_tz": 240,
     "elapsed": 1073,
     "user": {
      "displayName": "Kelly Sovacool",
      "photoUrl": "https://lh3.googleusercontent.com/-WQsOgn6cXFg/AAAAAAAAAAI/AAAAAAAAAVA/ol7X28qyOHc/s64/photo.jpg",
      "userId": "07259925140867310896"
     }
    }
   },
   "source": [
    "# print the sum of numbers\n",
    "print(sum(numbers))"
   ],
   "execution_count": 9,
   "outputs": [
    {
     "output_type": "stream",
     "text": [
      "377.8\n"
     ],
     "name": "stdout"
    }
   ]
  },
  {
   "cell_type": "markdown",
   "metadata": {
    "id": "mp6pd1-l5mKC",
    "colab_type": "text"
   },
   "source": [
    "What if we want to find the mean of this list? If you remember from math class the formula for calculating a list is as follows:\n",
    "<center> mean = sum_of_all_values/total_number_of_values</center>\n",
    "\n",
    "\n",
    "\n",
    "Hint: We can use the functions `sum` and `len` to do this."
   ]
  },
  {
   "cell_type": "code",
   "metadata": {
    "id": "19lYC-iO5mKC",
    "colab_type": "code",
    "colab": {
     "base_uri": "https://localhost:8080/",
     "height": 34
    },
    "outputId": "dc29fb1d-5bf3-4d37-c452-b185bce873bc",
    "executionInfo": {
     "status": "ok",
     "timestamp": 1563148322084,
     "user_tz": 240,
     "elapsed": 1056,
     "user": {
      "displayName": "Kelly Sovacool",
      "photoUrl": "https://lh3.googleusercontent.com/-WQsOgn6cXFg/AAAAAAAAAAI/AAAAAAAAAVA/ol7X28qyOHc/s64/photo.jpg",
      "userId": "07259925140867310896"
     }
    }
   },
   "source": [
    "# save the mean of the numbers list to the variable avg\n",
    "avg = sum(numbers)/len(numbers)\n",
    "\n",
    "# print avg\n",
    "print(avg)"
   ],
   "execution_count": 10,
   "outputs": [
    {
     "output_type": "stream",
     "text": [
      "17.99047619047619\n"
     ],
     "name": "stdout"
    }
   ]
  },
  {
   "cell_type": "markdown",
   "metadata": {
    "id": "SFiw2hYv5mKG",
    "colab_type": "text"
   },
   "source": [
    "What if we want to round this number so there aren't so many decimal places? We can use the function `round` to do this:"
   ]
  },
  {
   "cell_type": "code",
   "metadata": {
    "id": "6RsIySQa5mKH",
    "colab_type": "code",
    "colab": {
     "base_uri": "https://localhost:8080/",
     "height": 34
    },
    "outputId": "df114a5e-4c9e-42e6-d8bd-aeaaf4c52cb2",
    "executionInfo": {
     "status": "ok",
     "timestamp": 1563148322086,
     "user_tz": 240,
     "elapsed": 1041,
     "user": {
      "displayName": "Kelly Sovacool",
      "photoUrl": "https://lh3.googleusercontent.com/-WQsOgn6cXFg/AAAAAAAAAAI/AAAAAAAAAVA/ol7X28qyOHc/s64/photo.jpg",
      "userId": "07259925140867310896"
     }
    }
   },
   "source": [
    "# round avg\n",
    "print(round(avg))"
   ],
   "execution_count": 11,
   "outputs": [
    {
     "output_type": "stream",
     "text": [
      "18\n"
     ],
     "name": "stdout"
    }
   ]
  },
  {
   "cell_type": "markdown",
   "metadata": {
    "id": "C8GV9Bh15mKL",
    "colab_type": "text"
   },
   "source": [
    "What if we want to include 2 decimal places when we round? We can use what's called an *argument* to tell the function that we want to do this. First, let's look at the help description for `round`:"
   ]
  },
  {
   "cell_type": "code",
   "metadata": {
    "id": "OuRBO8Pv5mKM",
    "colab_type": "code",
    "colab": {
     "base_uri": "https://localhost:8080/",
     "height": 170
    },
    "outputId": "eb8c43ba-1f22-4f88-e426-7dcde1954806",
    "executionInfo": {
     "status": "ok",
     "timestamp": 1563148322087,
     "user_tz": 240,
     "elapsed": 1025,
     "user": {
      "displayName": "Kelly Sovacool",
      "photoUrl": "https://lh3.googleusercontent.com/-WQsOgn6cXFg/AAAAAAAAAAI/AAAAAAAAAVA/ol7X28qyOHc/s64/photo.jpg",
      "userId": "07259925140867310896"
     }
    }
   },
   "source": [
    "help(round)"
   ],
   "execution_count": 12,
   "outputs": [
    {
     "output_type": "stream",
     "text": [
      "Help on built-in function round in module builtins:\n",
      "\n",
      "round(...)\n",
      "    round(number[, ndigits]) -> number\n",
      "    \n",
      "    Round a number to a given precision in decimal digits (default 0 digits).\n",
      "    This returns an int when called with one argument, otherwise the\n",
      "    same type as the number. ndigits may be negative.\n",
      "\n"
     ],
     "name": "stdout"
    }
   ]
  },
  {
   "cell_type": "markdown",
   "metadata": {
    "id": "oBaaw3wR5mKU",
    "colab_type": "text"
   },
   "source": [
    "It says that the default number of digits to round to is zero, but you can also give an argument (i.e. another input to the `round` function) to specify the number of digits. To add an argument, you put a comma after the input and then the argument. Let's try it out!"
   ]
  },
  {
   "cell_type": "code",
   "metadata": {
    "id": "YsiSS3EK5mKV",
    "colab_type": "code",
    "colab": {
     "base_uri": "https://localhost:8080/",
     "height": 34
    },
    "outputId": "41a85473-427e-46c7-aae6-7e6760e820fb",
    "executionInfo": {
     "status": "ok",
     "timestamp": 1563148322089,
     "user_tz": 240,
     "elapsed": 1012,
     "user": {
      "displayName": "Kelly Sovacool",
      "photoUrl": "https://lh3.googleusercontent.com/-WQsOgn6cXFg/AAAAAAAAAAI/AAAAAAAAAVA/ol7X28qyOHc/s64/photo.jpg",
      "userId": "07259925140867310896"
     }
    }
   },
   "source": [
    "# print avg rounded to 2 decimal places\n",
    "print(round(avg,2))"
   ],
   "execution_count": 13,
   "outputs": [
    {
     "output_type": "stream",
     "text": [
      "17.99\n"
     ],
     "name": "stdout"
    }
   ]
  },
  {
   "cell_type": "markdown",
   "metadata": {
    "id": "-zipN0dj5mKc",
    "colab_type": "text"
   },
   "source": [
    "Nice job! You just learned about functions in Python! You learned:\n",
    "- What functions and methods do\n",
    "- The difference between functions and methods\n",
    "- How to learn more about a certain function or method (using the `help` function)\n",
    "- New functions: `max`, `min`, `sum`, `abs`, `round`\n",
    "- Functions can take arguments that modify the output "
   ]
  }
 ]
}