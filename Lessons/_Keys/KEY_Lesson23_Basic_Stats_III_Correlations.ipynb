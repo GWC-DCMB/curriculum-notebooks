{
 "cells": [
  {
   "cell_type": "markdown",
   "metadata": {
    "colab_type": "text",
    "id": "Img82EO08Ttf"
   },
   "source": [
    "# Basic Statistics III: Correlations\n",
    "\n"
   ]
  },
  {
   "cell_type": "markdown",
   "metadata": {
    "colab_type": "text",
    "id": "VIi2JLkc8Ttj"
   },
   "source": [
    "Now that we have learned how to compute basic statistics on single variables, we will look at how to measure the relationship between two variables with *correlations*."
   ]
  },
  {
   "cell_type": "markdown",
   "metadata": {
    "colab_type": "text",
    "id": "i3ikcFS4-tUl"
   },
   "source": [
    "## Background on Correlations\n",
    "\n",
    "A **correlation** is a measure of the statistical relationship between two variables. Correlation values range from -1 to 1, where the *magnitude* (a.k.a. absolute value) of the correlation indicates the strength of the relationship and the *sign* of the correlation represents the direction of the relationship. The correlation value is often denoted with the variable **r**, so that is what we will use here. \n",
    "\n",
    "The figure below shows some examples of *perfect*, *strong* and *weak* correlations between two variables in both the positive and negative directions. As you can notice, *perfect* correlation between two variables corresponds to **|r| = 1**. Stronger correlations have r values with magnitude closer to 1, and weaker correlations have r values with magnitude closer to 0. When r = 0, there is no linear relationship between the two variables.\n",
    "\n",
    "What do you notice about the difference between *positive* correlations and *negative* correlations?\n",
    "\n",
    "## Computing Correlations\n",
    "\n",
    "Let's practice with some test data"
   ]
  },
  {
   "cell_type": "code",
   "execution_count": 42,
   "metadata": {
    "colab": {},
    "colab_type": "code",
    "id": "MY4L_ddb-tUm"
   },
   "outputs": [],
   "source": [
    "import numpy as np\n",
    "\n",
    "data_1 = np.array([1,2,3,4,6,7,8,9])\n",
    "data_2 = np.array([2,4,6,8,10,12,13,15])\n",
    "data_3 = np.array([-1,-2,-2,-3,-4,-6,-7,-8])"
   ]
  },
  {
   "cell_type": "markdown",
   "metadata": {},
   "source": [
    "Based on how we've constructed our variables, what do you expect the correlation values to be?\n",
    "\n",
    "Visualizing the relationships may help us understand this better:\n"
   ]
  },
  {
   "cell_type": "markdown",
   "metadata": {
    "colab_type": "text",
    "id": "iAtwvn_z-tUo"
   },
   "source": [
    "Now, let's calculate the actual correlatiton values. We will use the `corrcoef` function from `numpy` to calculate correlation values."
   ]
  },
  {
   "cell_type": "code",
   "execution_count": 60,
   "metadata": {},
   "outputs": [
    {
     "name": "stdout",
     "output_type": "stream",
     "text": [
      "[[ 1.          0.99535001 -0.9805214 ]\n",
      " [ 0.99535001  1.         -0.97172394]\n",
      " [-0.9805214  -0.97172394  1.        ]]\n"
     ]
    }
   ],
   "source": [
    "r = np.corrcoef([data_1,data_2,data_3])\n",
    "print(r)"
   ]
  },
  {
   "cell_type": "markdown",
   "metadata": {
    "colab_type": "text",
    "id": "iAtwvn_z-tUo"
   },
   "source": [
    "Does the output of this function make sense to you?\n",
    "\n",
    "This function returns a *correlation matrix*, which always has 1's along the diagonal and is *symmetric* (i.e. same values above the diagonal as below). This is so you can compute correlations of more than one variable at a time. The correlation values in the matrix above correspond to the following relationships:\n",
    "\n",
    "Based on these plots, can you figure out why all correlation matrices have:\n",
    "* 1's on the diagonal? **(Talk about how the diagonal is always the correlation of one variable with itself, which will always be perfect correlation)**\n",
    "* symmetric entries? **(Talk about how the corr(data1, data2) == corr(data2, data1))**\n"
   ]
  },
  {
   "cell_type": "markdown",
   "metadata": {
    "colab_type": "text",
    "id": "ol0f0yHE-tUr"
   },
   "source": [
    "So, the output of the `corrcoef` function from above is a correlation matrix follows the following form:\n",
    "    \n",
    "|_| data_1 | data_2 | data_3 |\n",
    "|----|--------------|-------------|------------------------|\n",
    "| data_1 | 1  | 0.995 | -0.980 |\n",
    "| data_2 | 0.995 |1 | -0.971 |\n",
    "| data_3 | -0.980 | -0.971 | 1 |\n",
    "\n",
    "Now, it should be clear why a correlation matrix always has 1's along the diagonal - every variable has perfect positive correlation with itself. Furthermore, it is symmetric because the correlation of `data_1` & `data_2` is the same as the correlation of `data_2` & `data_1`. "
   ]
  },
  {
   "cell_type": "markdown",
   "metadata": {
    "colab_type": "text",
    "id": "m2V6k0GZ-tUt"
   },
   "source": [
    "Now that we understand our output, let's check the correlations between the variables in the `iris` dataset."
   ]
  },
  {
   "cell_type": "code",
   "execution_count": 63,
   "metadata": {
    "colab": {},
    "colab_type": "code",
    "id": "TauFHVov-tUu"
   },
   "outputs": [
    {
     "data": {
      "text/html": [
       "<div>\n",
       "<style scoped>\n",
       "    .dataframe tbody tr th:only-of-type {\n",
       "        vertical-align: middle;\n",
       "    }\n",
       "\n",
       "    .dataframe tbody tr th {\n",
       "        vertical-align: top;\n",
       "    }\n",
       "\n",
       "    .dataframe thead th {\n",
       "        text-align: right;\n",
       "    }\n",
       "</style>\n",
       "<table border=\"1\" class=\"dataframe\">\n",
       "  <thead>\n",
       "    <tr style=\"text-align: right;\">\n",
       "      <th></th>\n",
       "      <th>sepal_length</th>\n",
       "      <th>sepal_width</th>\n",
       "      <th>petal_length</th>\n",
       "      <th>petal_width</th>\n",
       "      <th>species</th>\n",
       "    </tr>\n",
       "  </thead>\n",
       "  <tbody>\n",
       "    <tr>\n",
       "      <th>0</th>\n",
       "      <td>5.1</td>\n",
       "      <td>3.5</td>\n",
       "      <td>1.4</td>\n",
       "      <td>0.2</td>\n",
       "      <td>setosa</td>\n",
       "    </tr>\n",
       "    <tr>\n",
       "      <th>1</th>\n",
       "      <td>4.9</td>\n",
       "      <td>3.0</td>\n",
       "      <td>1.4</td>\n",
       "      <td>0.2</td>\n",
       "      <td>setosa</td>\n",
       "    </tr>\n",
       "    <tr>\n",
       "      <th>2</th>\n",
       "      <td>4.7</td>\n",
       "      <td>3.2</td>\n",
       "      <td>1.3</td>\n",
       "      <td>0.2</td>\n",
       "      <td>setosa</td>\n",
       "    </tr>\n",
       "    <tr>\n",
       "      <th>3</th>\n",
       "      <td>4.6</td>\n",
       "      <td>3.1</td>\n",
       "      <td>1.5</td>\n",
       "      <td>0.2</td>\n",
       "      <td>setosa</td>\n",
       "    </tr>\n",
       "    <tr>\n",
       "      <th>4</th>\n",
       "      <td>5.0</td>\n",
       "      <td>3.6</td>\n",
       "      <td>1.4</td>\n",
       "      <td>0.2</td>\n",
       "      <td>setosa</td>\n",
       "    </tr>\n",
       "  </tbody>\n",
       "</table>\n",
       "</div>"
      ],
      "text/plain": [
       "   sepal_length  sepal_width  petal_length  petal_width species\n",
       "0           5.1          3.5           1.4          0.2  setosa\n",
       "1           4.9          3.0           1.4          0.2  setosa\n",
       "2           4.7          3.2           1.3          0.2  setosa\n",
       "3           4.6          3.1           1.5          0.2  setosa\n",
       "4           5.0          3.6           1.4          0.2  setosa"
      ]
     },
     "execution_count": 63,
     "metadata": {},
     "output_type": "execute_result"
    }
   ],
   "source": [
    "# load and preview iris\n",
    "import pandas as pd\n",
    "path = 'https://raw.githubusercontent.com/GWC-DCMB/ClubCurriculum/master/'\n",
    "iris = pd.read_csv(path + 'SampleData/iris.csv')\n",
    "iris.head()"
   ]
  },
  {
   "cell_type": "code",
   "execution_count": 62,
   "metadata": {
    "colab": {},
    "colab_type": "code",
    "id": "xUIYpqTO-tUz"
   },
   "outputs": [
    {
     "name": "stdout",
     "output_type": "stream",
     "text": [
      "[[ 1.         -0.11756978  0.87175378  0.81794113]\n",
      " [-0.11756978  1.         -0.4284401  -0.36612593]\n",
      " [ 0.87175378 -0.4284401   1.          0.96286543]\n",
      " [ 0.81794113 -0.36612593  0.96286543  1.        ]]\n"
     ]
    }
   ],
   "source": [
    "# find correlations between sepal_length, sepal_width, petal_length, petal_width\n",
    "# HINT: Think back to how we subset certain columns in pandas\n",
    "iris_corrs = np.corrcoef(iris.iloc[:,0:4], rowvar=False)\n",
    "print(iris_corrs)"
   ]
  },
  {
   "cell_type": "markdown",
   "metadata": {
    "colab_type": "text",
    "id": "yJ5f0aiw-tU3"
   },
   "source": [
    "You'll notice this time we included the `rowvar` parameter - this is because, by default, the `corrcoef` function expects that each row represents a variable, with observations in the columns. In our case it is the opposite - each column represents a variable, while the rows contain observations. So here we change the value of `rowvar` from the default `True` to `False`. "
   ]
  },
  {
   "cell_type": "markdown",
   "metadata": {
    "colab_type": "text",
    "id": "jyk1BC9n8TuY"
   },
   "source": [
    "In this lesson you learned:\n",
    "\n",
    "* How to measure the relationship between two variables\n",
    "* The difference between positive/negative correlations and strong/weak correlations\n",
    "* How to compute and interpret correlations for multiple variables\n",
    "     \n",
    "Now, lets continue to practice!"
   ]
  }
 ],
 "metadata": {
  "kernelspec": {
   "display_name": "Python 3",
   "language": "python",
   "name": "python3"
  },
  "language_info": {
   "codemirror_mode": {
    "name": "ipython",
    "version": 3
   },
   "file_extension": ".py",
   "mimetype": "text/x-python",
   "name": "python",
   "nbconvert_exporter": "python",
   "pygments_lexer": "ipython3",
   "version": "3.7.0"
  }
 },
 "nbformat": 4,
 "nbformat_minor": 4
}
