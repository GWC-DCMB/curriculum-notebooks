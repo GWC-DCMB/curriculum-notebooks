{
 "cells": [
  {
   "cell_type": "markdown",
   "metadata": {
    "colab_type": "text",
    "id": "WxkGszNX7Oqf"
   },
   "source": [
    "# Loops 2\n",
    "\n",
    "As we saw in our last lesson, loops can be helpful in performing actions on every item in a list. But what if we don't want to iterate over _every_ item in a list? Or what if we want to do something different, or something additional, to list items that meet certain requirements?\n",
    "\n",
    "That's where conditionals, which we learned about not too long ago, become useful. In this lesson, we will learn how to combine loops with conditionals."
   ]
  },
  {
   "cell_type": "code",
   "execution_count": 1,
   "metadata": {
    "colab": {},
    "colab_type": "code",
    "id": "zXuqISg77Oqk"
   },
   "outputs": [],
   "source": [
    "# create a list and store it in animals\n",
    "animals = ['turtle', 'penguin', 'platypus', 'zebra', 'giraffe']"
   ]
  },
  {
   "cell_type": "markdown",
   "metadata": {
    "colab_type": "text",
    "id": "2WeijKbRBEU4"
   },
   "source": [
    "Suppose we wanted to make a list of all the animals that aren't turtles. Within our for loop, we can write an if statement that checks if each object is not a turtle."
   ]
  },
  {
   "cell_type": "code",
   "execution_count": 2,
   "metadata": {
    "colab": {
     "base_uri": "https://localhost:8080/",
     "height": 86
    },
    "colab_type": "code",
    "executionInfo": {
     "elapsed": 366,
     "status": "ok",
     "timestamp": 1567226459885,
     "user": {
      "displayName": "Morgan Oneka",
      "photoUrl": "https://lh3.googleusercontent.com/a-/AAuE7mDDNp7vRaJ72dq-10S667W0tZyfdBWiE2NavfHt=s64",
      "userId": "08973921413298125078"
     },
     "user_tz": 240
    },
    "id": "RoDSDc8b7Oqs",
    "outputId": "574de0d3-bd10-4afc-fb12-2c0420f277e8"
   },
   "outputs": [
    {
     "name": "stdout",
     "output_type": "stream",
     "text": [
      "penguin\n",
      "platypus\n",
      "zebra\n",
      "giraffe\n"
     ]
    }
   ],
   "source": [
    "# create a for loop that only prints the animal if it isn't a turtle\n",
    "for animal in animals:\n",
    "    if animal is not \"turtle\":\n",
    "        print(animal)"
   ]
  },
  {
   "cell_type": "markdown",
   "metadata": {
    "colab_type": "text",
    "id": "cmumROw17Oqz"
   },
   "source": [
    "We can see we printed all the animals except the turtle.\n",
    "\n",
    "What if we wanted to do something else when we came across the turtle item in our list?"
   ]
  },
  {
   "cell_type": "code",
   "execution_count": 3,
   "metadata": {
    "colab": {
     "base_uri": "https://localhost:8080/",
     "height": 104
    },
    "colab_type": "code",
    "executionInfo": {
     "elapsed": 358,
     "status": "ok",
     "timestamp": 1567226461806,
     "user": {
      "displayName": "Morgan Oneka",
      "photoUrl": "https://lh3.googleusercontent.com/a-/AAuE7mDDNp7vRaJ72dq-10S667W0tZyfdBWiE2NavfHt=s64",
      "userId": "08973921413298125078"
     },
     "user_tz": 240
    },
    "id": "nYRHbGON7Oq0",
    "outputId": "2211f4db-cd32-4d83-bf41-c0c868531200"
   },
   "outputs": [
    {
     "name": "stdout",
     "output_type": "stream",
     "text": [
      "aardvark\n",
      "penguin\n",
      "platypus\n",
      "zebra\n",
      "giraffe\n"
     ]
    }
   ],
   "source": [
    "# edit the above for loop to print \"aardvark\" when the item says \"turtle\"\n",
    "for animal in animals:\n",
    "    if animal is not \"turtle\":\n",
    "        print(animal)\n",
    "    else:\n",
    "        print(\"aardvark\")"
   ]
  },
  {
   "cell_type": "markdown",
   "metadata": {
    "colab_type": "text",
    "id": "ROcff5ks7Oq5"
   },
   "source": [
    "Instead of printing out the word turtle, we printed out the word aardvark!"
   ]
  },
  {
   "cell_type": "markdown",
   "metadata": {
    "colab_type": "text",
    "id": "kulzvyfQ7lYO"
   },
   "source": [
    "We also can write our loops so that some code is in a conditional, and some is not. Let's say we want to print something before every entry that is not a turtle."
   ]
  },
  {
   "cell_type": "code",
   "execution_count": 4,
   "metadata": {
    "colab": {
     "base_uri": "https://localhost:8080/",
     "height": 173
    },
    "colab_type": "code",
    "executionInfo": {
     "elapsed": 331,
     "status": "ok",
     "timestamp": 1567226463420,
     "user": {
      "displayName": "Morgan Oneka",
      "photoUrl": "https://lh3.googleusercontent.com/a-/AAuE7mDDNp7vRaJ72dq-10S667W0tZyfdBWiE2NavfHt=s64",
      "userId": "08973921413298125078"
     },
     "user_tz": 240
    },
    "id": "gomN9h8d7Oq6",
    "outputId": "c3540e7f-de91-4723-fef2-4ac3f83c4a8d"
   },
   "outputs": [
    {
     "name": "stdout",
     "output_type": "stream",
     "text": [
      "turtle\n",
      "The following animal is not a turtle\n",
      "penguin\n",
      "The following animal is not a turtle\n",
      "platypus\n",
      "The following animal is not a turtle\n",
      "zebra\n",
      "The following animal is not a turtle\n",
      "giraffe\n"
     ]
    }
   ],
   "source": [
    "# use an if statement inside a for statement to print \"the following animal is not a turtle\"\n",
    "# before every animal that is not a turtle\n",
    "for animal in animals:\n",
    "    if animal is not \"turtle\":\n",
    "        print(\"The following animal is not a turtle\")\n",
    "    print(animal)"
   ]
  },
  {
   "cell_type": "markdown",
   "metadata": {
    "colab_type": "text",
    "id": "f6H75VOU-imW"
   },
   "source": [
    "Maybe there are some animals we don't want to print out. We learned in the previous lesson that we can create a list of the indices we want to print out. But what if we don't know what indices correspond to the items we do and don't want to print? We could use an `if/else` statement, or we could use something called `continue`.\n",
    "\n",
    "The `continue` keyword skips to the following item in a list. Wherever you put `continue` in your for loop, any code within the loop that follows the `continue` statement won't execute for that item."
   ]
  },
  {
   "cell_type": "code",
   "execution_count": 10,
   "metadata": {
    "colab": {
     "base_uri": "https://localhost:8080/",
     "height": 69
    },
    "colab_type": "code",
    "executionInfo": {
     "elapsed": 342,
     "status": "ok",
     "timestamp": 1567226735740,
     "user": {
      "displayName": "Morgan Oneka",
      "photoUrl": "https://lh3.googleusercontent.com/a-/AAuE7mDDNp7vRaJ72dq-10S667W0tZyfdBWiE2NavfHt=s64",
      "userId": "08973921413298125078"
     },
     "user_tz": 240
    },
    "id": "6ZIJHDAI_EQS",
    "outputId": "81983636-0858-4803-f6f5-226a59392944"
   },
   "outputs": [
    {
     "name": "stdout",
     "output_type": "stream",
     "text": [
      "platypus\n",
      "zebra\n",
      "giraffe\n"
     ]
    }
   ],
   "source": [
    "# use continue to print out all animals that aren't a penguin or a turtle\n",
    "for animal in animals:\n",
    "    if animal is 'penguin' or animal is 'turtle':\n",
    "        continue\n",
    "    print(animal)"
   ]
  },
  {
   "cell_type": "markdown",
   "metadata": {
    "colab_type": "text",
    "id": "d0M15gC77cjX"
   },
   "source": [
    "Another keyword that is useful for controlling your for loop is `break`. If you want your for loop to stop running after a certain condition is true, you can use `break`. Once `break` is called, the foor loop stops\u2014no other code runs for the current item, and the for loop won't continue to the rest of the items in the list."
   ]
  },
  {
   "cell_type": "code",
   "execution_count": 11,
   "metadata": {
    "colab": {
     "base_uri": "https://localhost:8080/",
     "height": 86
    },
    "colab_type": "code",
    "executionInfo": {
     "elapsed": 364,
     "status": "ok",
     "timestamp": 1567226892505,
     "user": {
      "displayName": "Morgan Oneka",
      "photoUrl": "https://lh3.googleusercontent.com/a-/AAuE7mDDNp7vRaJ72dq-10S667W0tZyfdBWiE2NavfHt=s64",
      "userId": "08973921413298125078"
     },
     "user_tz": 240
    },
    "id": "1s1RvvzCADyQ",
    "outputId": "70857cb3-43b4-40e6-e771-f02888cf78f5"
   },
   "outputs": [
    {
     "name": "stdout",
     "output_type": "stream",
     "text": [
      "turtle\n",
      "penguin\n",
      "platypus\n",
      "zebra\n"
     ]
    }
   ],
   "source": [
    "# use break to only print animals until we get to the zebra\n",
    "for animal in animals:\n",
    "    print(animal)\n",
    "    if animal is 'zebra':\n",
    "        break"
   ]
  },
  {
   "cell_type": "markdown",
   "metadata": {
    "colab_type": "text",
    "id": "XwZCdjc0ALcW"
   },
   "source": [
    "We see that \"giraffe\" wasn't printed. That's because our for loop was broken after we got to the zebra.``"
   ]
  },
  {
   "cell_type": "markdown",
   "metadata": {},
   "source": [
    "Great job! You just learned even more about loops. You learned:\n",
    "- How to use if statements within a for loop\n",
    "- How to use `continue` to skip certain items in a list\n",
    "- How to use `break` to stop running code in a for loop after a condition has been met"
   ]
  }
 ],
 "metadata": {
  "kernelspec": {
   "display_name": "Python 3",
   "language": "python",
   "name": "python3"
  },
  "language_info": {
   "codemirror_mode": {
    "name": "ipython",
    "version": 3
   },
   "file_extension": ".py",
   "mimetype": "text/x-python",
   "name": "python",
   "nbconvert_exporter": "python",
   "pygments_lexer": "ipython3",
   "version": "3.7.3"
  }
 },
 "nbformat": 4,
 "nbformat_minor": 4
}