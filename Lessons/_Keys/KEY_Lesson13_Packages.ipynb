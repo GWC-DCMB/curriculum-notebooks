{
 "cells": [
  {
   "cell_type": "markdown",
   "metadata": {
    "colab_type": "text",
    "id": "QFT6VHkv5sfE"
   },
   "source": [
    "# Packages\n",
    "\n",
    "**Remember:**\n",
    "- Functions and methods are things that take an input, do something with that input, and then spit out an output. You've already been using functions and methods! \n",
    "- **Functions** can take lots of different object types as input. For example, `print` can take a variety of inputs including a variable, a string, a list, or numbers. \n",
    "- **Methods** can only be used on one specific type of object. For example, `append` can only be used on lists (and not strings or numbers).\n",
    "- The input to **functions** goes *between* parentheses after the name of function\n",
    "  - Example: `print(print_input)` \n",
    "- At least part of the input to **methods** comes *before* the name of the method and is followed by a period (`.`)\n",
    "  - Example: `mylist.append(what_to_append)`\n",
    "  \n",
    "Python comes with certain built-in functions and methods like the ones we used in the previous section (such as `print` and `append`). But sometimes you might want to do things that are a bit more complicated. For this, you can import **packages**. \n",
    "\n",
    "We're going to use our numbers list to play around with functions in the **`numpy`** package."
   ]
  },
  {
   "cell_type": "code",
   "execution_count": 1,
   "metadata": {
    "colab": {
     "base_uri": "https://localhost:8080/",
     "height": 34
    },
    "colab_type": "code",
    "executionInfo": {
     "elapsed": 489,
     "status": "ok",
     "timestamp": 1563148348992,
     "user": {
      "displayName": "Kelly Sovacool",
      "photoUrl": "https://lh3.googleusercontent.com/-WQsOgn6cXFg/AAAAAAAAAAI/AAAAAAAAAVA/ol7X28qyOHc/s64/photo.jpg",
      "userId": "07259925140867310896"
     },
     "user_tz": 240
    },
    "id": "lnxMiOEQ5sfJ",
    "outputId": "bf705ac6-8928-478c-dab6-52e20831f91e"
   },
   "outputs": [
    {
     "name": "stdout",
     "output_type": "stream",
     "text": [
      "[10, 2.3, -4, 20, 14, 1, 2, 0, -3, 1, -2, 2, 2, 65.4, 3, -23, 123, 43.1, 32, 57, 32]\n"
     ]
    }
   ],
   "source": [
    "# list of numbers\n",
    "numbers = [10,2.3,-4,20,14,1,2,0,-3,1,-2,2,2,65.4,3,-23,123,43.1,32,57,32]\n",
    "\n",
    "# print numbers\n",
    "print(numbers)"
   ]
  },
  {
   "cell_type": "markdown",
   "metadata": {
    "colab_type": "text",
    "id": "GJO5wT3t5sfg"
   },
   "source": [
    "Packages are groups of functions and methods that you can **`import`** and then use just like built-in functions and methods.\n",
    "\n",
    "One example of a very powerful package is **`numpy`**. To import **`numpy`** and load all of the functions in that packages into your environment (in this Jupyter Notebook), you do the following:"
   ]
  },
  {
   "cell_type": "code",
   "execution_count": null,
   "metadata": {
    "colab": {},
    "colab_type": "code",
    "id": "N4yFJSDP5sfj"
   },
   "outputs": [],
   "source": [
    "# import numpy package\n",
    "import numpy"
   ]
  },
  {
   "cell_type": "markdown",
   "metadata": {
    "colab_type": "text",
    "id": "8fbU_FWf5sfz"
   },
   "source": [
    "Then you can use the functions that are defined in this package. One function is the `mean` function to find the mean of a list of numbers. To do this, you have to use the prefix `numpy` so Python knows that the function comes from the numpy package:"
   ]
  },
  {
   "cell_type": "code",
   "execution_count": 3,
   "metadata": {
    "colab": {
     "base_uri": "https://localhost:8080/",
     "height": 34
    },
    "colab_type": "code",
    "executionInfo": {
     "elapsed": 473,
     "status": "ok",
     "timestamp": 1563148349002,
     "user": {
      "displayName": "Kelly Sovacool",
      "photoUrl": "https://lh3.googleusercontent.com/-WQsOgn6cXFg/AAAAAAAAAAI/AAAAAAAAAVA/ol7X28qyOHc/s64/photo.jpg",
      "userId": "07259925140867310896"
     },
     "user_tz": 240
    },
    "id": "RQLYovTX5sf2",
    "outputId": "adf2a7ea-b589-402c-9d27-39d5c8b022b2"
   },
   "outputs": [
    {
     "data": {
      "text/plain": [
       "17.99047619047619"
      ]
     },
     "execution_count": 3,
     "metadata": {
      "tags": []
     },
     "output_type": "execute_result"
    }
   ],
   "source": [
    "# get the mean of numbers using the numpy mean function\n",
    "numpy.mean(numbers)"
   ]
  },
  {
   "cell_type": "markdown",
   "metadata": {
    "colab_type": "text",
    "id": "0iI5Mrlw5sgK"
   },
   "source": [
    "Nice, it's the same as we got before when we calculated the mean ourselves!\n",
    "\n",
    "Typing out `numpy` every time is a lot of work, so a lot of people like to shorten the prefix you have to use by giving the package a **nickname**. If you want the prefix to be `np` instead of `numpy`, you can import the package as follows:"
   ]
  },
  {
   "cell_type": "code",
   "execution_count": null,
   "metadata": {
    "colab": {},
    "colab_type": "code",
    "id": "gMOwCDxk5sgS"
   },
   "outputs": [],
   "source": [
    "# import numpy package as np\n",
    "import numpy as np"
   ]
  },
  {
   "cell_type": "markdown",
   "metadata": {
    "colab_type": "text",
    "id": "R9sTNZ3I5sgj"
   },
   "source": [
    "Now, if you want to find the mean of numbers using the numpy mean function, you just have to use the prefix `np`:"
   ]
  },
  {
   "cell_type": "code",
   "execution_count": 5,
   "metadata": {
    "colab": {
     "base_uri": "https://localhost:8080/",
     "height": 34
    },
    "colab_type": "code",
    "executionInfo": {
     "elapsed": 457,
     "status": "ok",
     "timestamp": 1563148349010,
     "user": {
      "displayName": "Kelly Sovacool",
      "photoUrl": "https://lh3.googleusercontent.com/-WQsOgn6cXFg/AAAAAAAAAAI/AAAAAAAAAVA/ol7X28qyOHc/s64/photo.jpg",
      "userId": "07259925140867310896"
     },
     "user_tz": 240
    },
    "id": "iMyTUYvr5sgm",
    "outputId": "debd1be5-cf9e-4d60-e661-ebe0c6f1010b"
   },
   "outputs": [
    {
     "data": {
      "text/plain": [
       "17.99047619047619"
      ]
     },
     "execution_count": 5,
     "metadata": {
      "tags": []
     },
     "output_type": "execute_result"
    }
   ],
   "source": [
    "# print the mean of numbers\n",
    "np.mean(numbers)"
   ]
  },
  {
   "cell_type": "markdown",
   "metadata": {
    "colab_type": "text",
    "id": "YUgEZIzA5sg3"
   },
   "source": [
    "Let's explore some other functions in the `numpy` package.\n",
    "\n",
    "Before, we learned how to find the absolute value of a number using the `abs` function. If we want to get the absolute value of everything in a list, we can use the `numpy` absolute value function by calling `np.abs`:"
   ]
  },
  {
   "cell_type": "code",
   "execution_count": 6,
   "metadata": {
    "colab": {
     "base_uri": "https://localhost:8080/",
     "height": 68
    },
    "colab_type": "code",
    "executionInfo": {
     "elapsed": 438,
     "status": "ok",
     "timestamp": 1563148349011,
     "user": {
      "displayName": "Kelly Sovacool",
      "photoUrl": "https://lh3.googleusercontent.com/-WQsOgn6cXFg/AAAAAAAAAAI/AAAAAAAAAVA/ol7X28qyOHc/s64/photo.jpg",
      "userId": "07259925140867310896"
     },
     "user_tz": 240
    },
    "id": "-sOElRTD5sg9",
    "outputId": "a8ac2091-1ab6-47a4-c155-5c219bdbd943"
   },
   "outputs": [
    {
     "data": {
      "text/plain": [
       "array([ 10. ,   2.3,   4. ,  20. ,  14. ,   1. ,   2. ,   0. ,   3. ,\n",
       "         1. ,   2. ,   2. ,   2. ,  65.4,   3. ,  23. , 123. ,  43.1,\n",
       "        32. ,  57. ,  32. ])"
      ]
     },
     "execution_count": 6,
     "metadata": {
      "tags": []
     },
     "output_type": "execute_result"
    }
   ],
   "source": [
    "# get absolute value of all numbers in numbers and save it to the variable abs_nums\n",
    "abs_nums = np.abs(numbers)\n",
    "\n",
    "# print abs_nums\n",
    "abs_nums"
   ]
  },
  {
   "cell_type": "markdown",
   "metadata": {
    "colab_type": "text",
    "id": "Y8NLXLba5shH"
   },
   "source": [
    "Did you notice that this looks different than a list? Let's look at the type of `abs_nums`:"
   ]
  },
  {
   "cell_type": "code",
   "execution_count": 7,
   "metadata": {
    "colab": {
     "base_uri": "https://localhost:8080/",
     "height": 34
    },
    "colab_type": "code",
    "executionInfo": {
     "elapsed": 417,
     "status": "ok",
     "timestamp": 1563148349013,
     "user": {
      "displayName": "Kelly Sovacool",
      "photoUrl": "https://lh3.googleusercontent.com/-WQsOgn6cXFg/AAAAAAAAAAI/AAAAAAAAAVA/ol7X28qyOHc/s64/photo.jpg",
      "userId": "07259925140867310896"
     },
     "user_tz": 240
    },
    "id": "-TWys5Ca5shJ",
    "outputId": "ed69411d-2349-43b7-f4e2-87cfc269e505"
   },
   "outputs": [
    {
     "name": "stdout",
     "output_type": "stream",
     "text": [
      "<class 'numpy.ndarray'>\n"
     ]
    }
   ],
   "source": [
    "# get the type of abs_nums\n",
    "print(type(abs_nums))"
   ]
  },
  {
   "cell_type": "markdown",
   "metadata": {
    "colab_type": "text",
    "id": "ke6QbVdu5shs"
   },
   "source": [
    "It's a numpy.ndarray. You'll learn more about what that means in a future lesson!\n",
    "\n",
    "numpy also has a similar function for `round`.\n",
    "\n",
    "Okay, we're going to play around with methods a bit more. One method that is useful is `sort`. You can use this to sort a list or a numpy array. It won't print anything out because it sorts the actual numbers list. Let's try this on the numbers list:"
   ]
  },
  {
   "cell_type": "code",
   "execution_count": 8,
   "metadata": {
    "colab": {
     "base_uri": "https://localhost:8080/",
     "height": 51
    },
    "colab_type": "code",
    "executionInfo": {
     "elapsed": 387,
     "status": "ok",
     "timestamp": 1563148349014,
     "user": {
      "displayName": "Kelly Sovacool",
      "photoUrl": "https://lh3.googleusercontent.com/-WQsOgn6cXFg/AAAAAAAAAAI/AAAAAAAAAVA/ol7X28qyOHc/s64/photo.jpg",
      "userId": "07259925140867310896"
     },
     "user_tz": 240
    },
    "id": "zBic_57w5sht",
    "outputId": "1333719f-0497-409f-cdc2-0eb4e15ce3e7"
   },
   "outputs": [
    {
     "name": "stdout",
     "output_type": "stream",
     "text": [
      "[10, 2.3, -4, 20, 14, 1, 2, 0, -3, 1, -2, 2, 2, 65.4, 3, -23, 123, 43.1, 32, 57, 32]\n",
      "[-23, -4, -3, -2, 0, 1, 1, 2, 2, 2, 2.3, 3, 10, 14, 20, 32, 32, 43.1, 57, 65.4, 123]\n"
     ]
    }
   ],
   "source": [
    "# print numbers\n",
    "print(numbers)\n",
    "# sort numbers\n",
    "numbers.sort()\n",
    "# print numbers\n",
    "print(numbers)\n"
   ]
  },
  {
   "cell_type": "markdown",
   "metadata": {
    "colab_type": "text",
    "id": "3NIrMwX65shy"
   },
   "source": [
    "As you can see, the `sort` method operated on the `numbers` list variable and changed the actual list to be sorted from the lowest value (-23) to the highest value (123). It even worked with our list of mixed float and integer values.\n",
    "\n",
    "Now let's try it on the `abs_nums` list:"
   ]
  },
  {
   "cell_type": "code",
   "execution_count": 9,
   "metadata": {
    "colab": {
     "base_uri": "https://localhost:8080/",
     "height": 85
    },
    "colab_type": "code",
    "executionInfo": {
     "elapsed": 364,
     "status": "ok",
     "timestamp": 1563148349018,
     "user": {
      "displayName": "Kelly Sovacool",
      "photoUrl": "https://lh3.googleusercontent.com/-WQsOgn6cXFg/AAAAAAAAAAI/AAAAAAAAAVA/ol7X28qyOHc/s64/photo.jpg",
      "userId": "07259925140867310896"
     },
     "user_tz": 240
    },
    "id": "gOl9zSPv5shz",
    "outputId": "1eb4972c-6efe-4075-afcc-10c6bc8430ee"
   },
   "outputs": [
    {
     "name": "stdout",
     "output_type": "stream",
     "text": [
      "[ 10.    2.3   4.   20.   14.    1.    2.    0.    3.    1.    2.    2.\n",
      "   2.   65.4   3.   23.  123.   43.1  32.   57.   32. ]\n",
      "[  0.    1.    1.    2.    2.    2.    2.    2.3   3.    3.    4.   10.\n",
      "  14.   20.   23.   32.   32.   43.1  57.   65.4 123. ]\n"
     ]
    }
   ],
   "source": [
    "# print abs_nums\n",
    "print(abs_nums)\n",
    "# sort abs_nums\n",
    "abs_nums.sort()\n",
    "# print abs_nums\n",
    "print(abs_nums)"
   ]
  },
  {
   "cell_type": "markdown",
   "metadata": {
    "colab_type": "text",
    "id": "B6mt8PH15sh6"
   },
   "source": [
    "Nice job! You just learned about packages in Python! You learned:\n",
    "- How to import new functions in packages in Python\n",
    "- More functions and methods\n",
    "\n",
    "You'll learn more about `numpy` in a future lesson. There are also tons of other packages out there for different purposes. We'll learn about the `pandas` package in the next lesson, and the `matplotlib` package in a few days!"
   ]
  }
 ],
 "metadata": {
  "kernelspec": {
   "display_name": "Python 3",
   "language": "python",
   "name": "python3"
  },
  "language_info": {
   "codemirror_mode": {
    "name": "ipython",
    "version": 3
   },
   "file_extension": ".py",
   "mimetype": "text/x-python",
   "name": "python",
   "nbconvert_exporter": "python",
   "pygments_lexer": "ipython3",
   "version": "3.9.15"
  }
 },
 "nbformat": 4,
 "nbformat_minor": 0
}
