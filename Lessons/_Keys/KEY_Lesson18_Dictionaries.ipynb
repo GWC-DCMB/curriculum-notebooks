{
 "cells": [
  {
   "cell_type": "markdown",
   "metadata": {},
   "source": [
    "# Dictionaries\n",
    "Today we're going to learn about a super useful Python data type called **dictionaries**. Dictionaries have **key-value pairs** where you can look up a value using a key. Let's jump in with an example.\n",
    "\n",
    "Here, we're going to make a dictionary of foods where:\n",
    "\n",
    "- The *keys* are the category\n",
    "- The *values* are the foods in each category"
   ]
  },
  {
   "cell_type": "code",
   "execution_count": 1,
   "metadata": {},
   "outputs": [
    {
     "name": "stdout",
     "output_type": "stream",
     "text": [
      "<class 'dict'>\n",
      "{'vegetable': ['carrot', 'eggplant'], 'fruit': 'cherry'}\n"
     ]
    }
   ],
   "source": [
    "# create dictionary\n",
    "foods = {'vegetable': ['carrot', 'eggplant'], 'fruit': 'cherry'}\n",
    "# print type of foods\n",
    "print(type(foods))\n",
    "# print dictionary\n",
    "print(foods)"
   ]
  },
  {
   "cell_type": "markdown",
   "metadata": {},
   "source": [
    "Say we want to add an entry to our dictionary. We can do it like this:"
   ]
  },
  {
   "cell_type": "code",
   "execution_count": 2,
   "metadata": {},
   "outputs": [
    {
     "name": "stdout",
     "output_type": "stream",
     "text": [
      "{'vegetable': ['carrot', 'eggplant'], 'fruit': 'cherry', 'snack': 'chips'}\n"
     ]
    }
   ],
   "source": [
    "# add entry to dictionary\n",
    "foods['snack'] = 'chips'\n",
    "# print dictionary\n",
    "print(foods)"
   ]
  },
  {
   "cell_type": "markdown",
   "metadata": {},
   "source": [
    "What if we want to try to get the first element in our foods dictionary?"
   ]
  },
  {
   "cell_type": "code",
   "execution_count": 3,
   "metadata": {
    "scrolled": true
   },
   "outputs": [
    {
     "ename": "KeyError",
     "evalue": "0",
     "output_type": "error",
     "traceback": [
      "\u001b[0;31m---------------------------------------------------------------------------\u001b[0m",
      "\u001b[0;31mKeyError\u001b[0m                                  Traceback (most recent call last)",
      "\u001b[0;32m<ipython-input-3-9635feaa5709>\u001b[0m in \u001b[0;36m<module>\u001b[0;34m\u001b[0m\n\u001b[1;32m      1\u001b[0m \u001b[0;31m# access first element of dictionary\u001b[0m\u001b[0;34m\u001b[0m\u001b[0;34m\u001b[0m\u001b[0;34m\u001b[0m\u001b[0m\n\u001b[0;32m----> 2\u001b[0;31m \u001b[0mfoods\u001b[0m\u001b[0;34m[\u001b[0m\u001b[0;36m0\u001b[0m\u001b[0;34m]\u001b[0m\u001b[0;34m\u001b[0m\u001b[0;34m\u001b[0m\u001b[0m\n\u001b[0m",
      "\u001b[0;31mKeyError\u001b[0m: 0"
     ]
    }
   ],
   "source": [
    "# access first element of dictionary\n",
    "foods[0]"
   ]
  },
  {
   "cell_type": "markdown",
   "metadata": {},
   "source": [
    "Whoops! This didn't work. That's because dictionaries are *unordered*. That means that there's no first, second, third etc. element. This is not like Python lists, which are *ordered*. Because of this, we always have to access dictionaries using their keys. "
   ]
  },
  {
   "cell_type": "markdown",
   "metadata": {},
   "source": [
    "Let's try accessing something in our dictionary using our new knowledge. Let's look up the food(s) from a category (the *value*) using the category (the *key*):"
   ]
  },
  {
   "cell_type": "code",
   "execution_count": 4,
   "metadata": {},
   "outputs": [
    {
     "data": {
      "text/plain": [
       "['carrot', 'eggplant']"
      ]
     },
     "execution_count": 4,
     "metadata": {},
     "output_type": "execute_result"
    }
   ],
   "source": [
    "# get value in dictionary using key\n",
    "foods['vegetable']"
   ]
  },
  {
   "cell_type": "markdown",
   "metadata": {},
   "source": [
    "Cool! As long as we know the category, we can look up the foods that belong to them in our dictionary. \n",
    "\n",
    "What if we want to print out all the keys or all the values? We can do that like this:"
   ]
  },
  {
   "cell_type": "code",
   "execution_count": 5,
   "metadata": {},
   "outputs": [
    {
     "name": "stdout",
     "output_type": "stream",
     "text": [
      "dict_keys(['vegetable', 'fruit', 'snack'])\n",
      "dict_values([['carrot', 'eggplant'], 'cherry', 'chips'])\n"
     ]
    }
   ],
   "source": [
    "# get all the keys:\n",
    "print(foods.keys())\n",
    "# get all the values:\n",
    "print(foods.values())"
   ]
  },
  {
   "cell_type": "markdown",
   "metadata": {},
   "source": [
    "Now let's get a little fancier. Let's try to loop through our dictionary! We're going to use the method `.items()` to access key-value pairs in our dictionary:"
   ]
  },
  {
   "cell_type": "code",
   "execution_count": 6,
   "metadata": {},
   "outputs": [
    {
     "name": "stdout",
     "output_type": "stream",
     "text": [
      "dict_items([('vegetable', ['carrot', 'eggplant']), ('fruit', 'cherry'), ('snack', 'chips')])\n"
     ]
    }
   ],
   "source": [
    "# print items in dictionary\n",
    "print(foods.items())"
   ]
  },
  {
   "cell_type": "code",
   "execution_count": 7,
   "metadata": {},
   "outputs": [
    {
     "name": "stdout",
     "output_type": "stream",
     "text": [
      "vegetable\n",
      "['carrot', 'eggplant']\n",
      "\n",
      "\n",
      "fruit\n",
      "cherry\n",
      "\n",
      "\n",
      "snack\n",
      "chips\n",
      "\n",
      "\n"
     ]
    }
   ],
   "source": [
    "# loop over dictionary items\n",
    "for category, food in foods.items():\n",
    "    print(category)\n",
    "    print(food)\n",
    "    print('\\n')"
   ]
  },
  {
   "cell_type": "markdown",
   "metadata": {},
   "source": [
    "Say we decide that we actually want to take 'snack' out of our dictionary for some reason. We can do that using the `del` function:"
   ]
  },
  {
   "cell_type": "code",
   "execution_count": 8,
   "metadata": {},
   "outputs": [
    {
     "name": "stdout",
     "output_type": "stream",
     "text": [
      "{'vegetable': ['carrot', 'eggplant'], 'fruit': 'cherry'}\n"
     ]
    }
   ],
   "source": [
    "# delete entry in dictionary and save it to variable\n",
    "del foods['snack']\n",
    "# print dictionary\n",
    "print(foods)"
   ]
  },
  {
   "cell_type": "markdown",
   "metadata": {},
   "source": [
    "Alternatively, if you want to save the values to a variable and remove it from the dictionary at the same time, you can use the `.pop` method:"
   ]
  },
  {
   "cell_type": "code",
   "execution_count": 9,
   "metadata": {},
   "outputs": [
    {
     "name": "stdout",
     "output_type": "stream",
     "text": [
      "cherry\n",
      "{'vegetable': ['carrot', 'eggplant']}\n"
     ]
    }
   ],
   "source": [
    "# delete entry in dictionary and save it to variable\n",
    "fr = foods.pop('fruit')\n",
    "# print fr\n",
    "print(fr)\n",
    "# print dictionary\n",
    "print(foods)"
   ]
  },
  {
   "cell_type": "markdown",
   "metadata": {},
   "source": [
    "Nice job! You just learned:\n",
    "\n",
    "- How to create a dictionary in Python\n",
    "- How to access keys, values, and key-value pairs in a dictionary\n",
    "- How to loop over elemets in a dictionary\n",
    "- How to delete elements from a dictionary"
   ]
  }
 ],
 "metadata": {
  "kernelspec": {
   "display_name": "Python 3",
   "language": "python",
   "name": "python3"
  },
  "language_info": {
   "codemirror_mode": {
    "name": "ipython",
    "version": 3
   },
   "file_extension": ".py",
   "mimetype": "text/x-python",
   "name": "python",
   "nbconvert_exporter": "python",
   "pygments_lexer": "ipython3",
   "version": "3.7.3"
  }
 },
 "nbformat": 4,
 "nbformat_minor": 2
}
