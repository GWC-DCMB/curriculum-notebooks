{
 "cells": [
  {
   "cell_type": "markdown",
   "metadata": {},
   "source": [
    "# Dictionaries\n",
    "Today we're going to learn about a super useful Python data type called **dictionaries**. Dictionaries have **key-value pairs**, and act kind of like a dictionary where you can look up a value using a key. Let's jump in with an example.\n",
    "\n",
    "Here, we're going to make a dictionary of books where:\n",
    "\n",
    "- The *keys* are the authors\n",
    "- The *values* are the books the authors have written"
   ]
  },
  {
   "cell_type": "code",
   "execution_count": 1,
   "metadata": {},
   "outputs": [
    {
     "name": "stdout",
     "output_type": "stream",
     "text": [
      "<class 'dict'>\n",
      "{\"Madeline L'Engle\": 'A wrinkle in time', 'J.K. Rowling': [\"Harry Potter and the socerer's stone\", 'Harry Potter and the chamber of secrets']}\n"
     ]
    }
   ],
   "source": [
    "# create dictionary\n",
    "books = {'Madeline L\\'Engle':'A wrinkle in time',\n",
    "        'J.K. Rowling':['Harry Potter and the socerer\\'s stone',\n",
    "                        'Harry Potter and the chamber of secrets']}\n",
    "\n",
    "# print type of books \n",
    "print(type(books))\n",
    "\n",
    "# print dictionary\n",
    "print(books)"
   ]
  },
  {
   "cell_type": "markdown",
   "metadata": {},
   "source": [
    "Say we want to add an entry to our dictionary. We can do it like this:"
   ]
  },
  {
   "cell_type": "code",
   "execution_count": 2,
   "metadata": {},
   "outputs": [
    {
     "name": "stdout",
     "output_type": "stream",
     "text": [
      "{\"Madeline L'Engle\": 'A wrinkle in time', 'J.K. Rowling': [\"Harry Potter and the socerer's stone\", 'Harry Potter and the chamber of secrets'], 'Laura Ingalls Wilder': 'Little House on the Prarie'}\n"
     ]
    }
   ],
   "source": [
    "# add entry to dictionary\n",
    "books['Laura Ingalls Wilder'] = 'Little House on the Prarie'\n",
    "\n",
    "# print dictionary\n",
    "print(books)"
   ]
  },
  {
   "cell_type": "markdown",
   "metadata": {},
   "source": [
    "What if we want to try to get the first element in our books dictionary?"
   ]
  },
  {
   "cell_type": "code",
   "execution_count": 3,
   "metadata": {
    "scrolled": true
   },
   "outputs": [],
   "source": [
    "#books[0]"
   ]
  },
  {
   "cell_type": "markdown",
   "metadata": {},
   "source": [
    "Whoops! This didn't work. That's because dictionaries are *unordered*. That means that there's no first, second, third etc. element. This is not like Python lists, which are *ordered*. Because of this, we always have to access dictionaries using their keys. "
   ]
  },
  {
   "cell_type": "markdown",
   "metadata": {},
   "source": [
    "Let's try accessing something in our dictionary using our new knowledge. Let's look up the book(s) an author has written (the *value*) using the author's name (the *key*):"
   ]
  },
  {
   "cell_type": "code",
   "execution_count": 4,
   "metadata": {},
   "outputs": [
    {
     "data": {
      "text/plain": [
       "[\"Harry Potter and the socerer's stone\",\n",
       " 'Harry Potter and the chamber of secrets']"
      ]
     },
     "execution_count": 4,
     "metadata": {},
     "output_type": "execute_result"
    }
   ],
   "source": [
    "# get value in dictionary using key\n",
    "books['J.K. Rowling']"
   ]
  },
  {
   "cell_type": "markdown",
   "metadata": {},
   "source": [
    "Cool! As long as we know the author's name, we can look up the books that they've written in our dictionary. \n",
    "\n",
    "What if we want to print out all the keys or all the values? We can do that like this:"
   ]
  },
  {
   "cell_type": "code",
   "execution_count": 5,
   "metadata": {},
   "outputs": [
    {
     "name": "stdout",
     "output_type": "stream",
     "text": [
      "dict_keys([\"Madeline L'Engle\", 'J.K. Rowling', 'Laura Ingalls Wilder'])\n",
      "dict_values(['A wrinkle in time', [\"Harry Potter and the socerer's stone\", 'Harry Potter and the chamber of secrets'], 'Little House on the Prarie'])\n"
     ]
    }
   ],
   "source": [
    "# get all the keys:\n",
    "print(books.keys())\n",
    "\n",
    "# get all the values:\n",
    "print(books.values())"
   ]
  },
  {
   "cell_type": "markdown",
   "metadata": {},
   "source": [
    "Now let's get a little fancier. Let's try to loop through our dictionary! We're going to use the method `.items()` to access key-value pairs in our dictionary:"
   ]
  },
  {
   "cell_type": "code",
   "execution_count": 6,
   "metadata": {},
   "outputs": [
    {
     "data": {
      "text/plain": [
       "dict_items([(\"Madeline L'Engle\", 'A wrinkle in time'), ('J.K. Rowling', [\"Harry Potter and the socerer's stone\", 'Harry Potter and the chamber of secrets']), ('Laura Ingalls Wilder', 'Little House on the Prarie')])"
      ]
     },
     "execution_count": 6,
     "metadata": {},
     "output_type": "execute_result"
    }
   ],
   "source": [
    "# print items in dictionary\n",
    "books.items()"
   ]
  },
  {
   "cell_type": "code",
   "execution_count": 7,
   "metadata": {},
   "outputs": [
    {
     "name": "stdout",
     "output_type": "stream",
     "text": [
      "Madeline L'Engle\n",
      "A wrinkle in time\n",
      "\n",
      "\n",
      "J.K. Rowling\n",
      "[\"Harry Potter and the socerer's stone\", 'Harry Potter and the chamber of secrets']\n",
      "\n",
      "\n",
      "Laura Ingalls Wilder\n",
      "Little House on the Prarie\n",
      "\n",
      "\n"
     ]
    }
   ],
   "source": [
    "for author, title in books.items():\n",
    "    print(author)\n",
    "    print(title)\n",
    "    print('\\n')"
   ]
  },
  {
   "cell_type": "markdown",
   "metadata": {},
   "source": [
    "Say we decide that we actually want to take Laura Ingals Wilder out of our dictionary for some reason. We can do that using the `del` function:"
   ]
  },
  {
   "cell_type": "code",
   "execution_count": 12,
   "metadata": {},
   "outputs": [
    {
     "name": "stdout",
     "output_type": "stream",
     "text": [
      "{\"Madeline L'Engle\": 'A wrinkle in time'}\n"
     ]
    }
   ],
   "source": [
    "# delete entry in dictionary and save it to variable\n",
    "del books['Laura Ingalls Wilder']\n",
    "\n",
    "# print dictionary\n",
    "print(books)"
   ]
  },
  {
   "cell_type": "markdown",
   "metadata": {},
   "source": [
    "Alternatively, if you want to save the values to a variable and remove it from the dictionary at the same time, you can use the `.pop` method:"
   ]
  },
  {
   "cell_type": "code",
   "execution_count": 10,
   "metadata": {},
   "outputs": [
    {
     "data": {
      "text/plain": [
       "[\"Harry Potter and the socerer's stone\",\n",
       " 'Harry Potter and the chamber of secrets']"
      ]
     },
     "execution_count": 10,
     "metadata": {},
     "output_type": "execute_result"
    }
   ],
   "source": [
    "# delete entry in dictionary and save it to variable\n",
    "jk = books.pop('J.K. Rowling')\n",
    "\n",
    "# print jk\n",
    "print(jk)\n",
    "\n",
    "# print dictionary\n",
    "print(books)"
   ]
  },
  {
   "cell_type": "markdown",
   "metadata": {},
   "source": [
    "Nice job! You just learned:\n",
    "\n",
    "- How to create a dictionary in Python\n",
    "- How to access keys, values, and key-value pairs in a dictionary\n",
    "- How to loop over elemets in a dictionary\n",
    "- How to delete elements from a dictionary"
   ]
  }
 ],
 "metadata": {
  "kernelspec": {
   "display_name": "Python 3",
   "language": "python",
   "name": "python3"
  },
  "language_info": {
   "codemirror_mode": {
    "name": "ipython",
    "version": 3
   },
   "file_extension": ".py",
   "mimetype": "text/x-python",
   "name": "python",
   "nbconvert_exporter": "python",
   "pygments_lexer": "ipython3",
   "version": "3.6.9"
  }
 },
 "nbformat": 4,
 "nbformat_minor": 2
}
