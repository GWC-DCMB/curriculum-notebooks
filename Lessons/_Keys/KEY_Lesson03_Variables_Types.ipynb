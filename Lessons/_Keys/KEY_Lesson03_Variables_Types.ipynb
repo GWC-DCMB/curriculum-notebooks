{
 "cells": [
  {
   "cell_type": "markdown",
   "metadata": {
    "colab_type": "text",
    "id": "TVOoVkvp35k-"
   },
   "source": [
    "# Variables\n",
    "\n",
    "In the last lesson we learned that we can use variables to store values in Python, similar to how we use variables in algebra. Each variable is assigned a value, and then we can use the variable name to reference the value it represents. \n",
    "\n",
    "Variables are very helpful in coding. Not only do they prevent us from having to remember and type the values over and over again, it allows us to update certain values when we have new information. For example, let's say we have a variable `apples` that stores the number of apples we have in our refrigerator. "
   ]
  },
  {
   "cell_type": "code",
   "execution_count": 1,
   "metadata": {
    "colab": {},
    "colab_type": "code",
    "collapsed": true,
    "id": "wu0PG-Sb35lE"
   },
   "outputs": [],
   "source": [
    "apples = 2"
   ]
  },
  {
   "cell_type": "markdown",
   "metadata": {
    "colab_type": "text",
    "id": "-UFNyq3M35lK"
   },
   "source": [
    "Now let's say I went to the store and bought half a dozen apples. Now I want to update the value of `apples` without having to remember how many we started with. How should I do this?"
   ]
  },
  {
   "cell_type": "code",
   "execution_count": 2,
   "metadata": {
    "colab": {
     "base_uri": "https://localhost:8080/",
     "height": 34
    },
    "colab_type": "code",
    "executionInfo": {
     "elapsed": 1051,
     "status": "ok",
     "timestamp": 1563147891739,
     "user": {
      "displayName": "Kelly Sovacool",
      "photoUrl": "https://lh3.googleusercontent.com/-WQsOgn6cXFg/AAAAAAAAAAI/AAAAAAAAAVA/ol7X28qyOHc/s64/photo.jpg",
      "userId": "07259925140867310896"
     },
     "user_tz": 240
    },
    "id": "nEleT2RG35lL",
    "outputId": "2a9bf951-1a6e-4ada-b19a-413bcb46a4ba"
   },
   "outputs": [
    {
     "name": "stdout",
     "output_type": "stream",
     "text": [
      "2\n"
     ]
    }
   ],
   "source": [
    "# add 6 to apples and print apples\n",
    "apples + 6\n",
    "print(apples)"
   ]
  },
  {
   "cell_type": "code",
   "execution_count": 3,
   "metadata": {
    "colab": {
     "base_uri": "https://localhost:8080/",
     "height": 34
    },
    "colab_type": "code",
    "executionInfo": {
     "elapsed": 1025,
     "status": "ok",
     "timestamp": 1563147891741,
     "user": {
      "displayName": "Kelly Sovacool",
      "photoUrl": "https://lh3.googleusercontent.com/-WQsOgn6cXFg/AAAAAAAAAAI/AAAAAAAAAVA/ol7X28qyOHc/s64/photo.jpg",
      "userId": "07259925140867310896"
     },
     "user_tz": 240
    },
    "id": "nv4NoORO35l8",
    "outputId": "47e8dd53-c667-4491-b3ae-ab1a29ef1358"
   },
   "outputs": [
    {
     "name": "stdout",
     "output_type": "stream",
     "text": [
      "8\n"
     ]
    }
   ],
   "source": [
    "# add 6 to apples and update apples\n",
    "# print apples\n",
    "apples += 6\n",
    "print(apples)"
   ]
  },
  {
   "cell_type": "markdown",
   "metadata": {
    "colab_type": "text",
    "id": "3Ej0-XHO35mT"
   },
   "source": [
    "Notice that we can't just add 6 to `apples` and have Python know we mean for it to save that result, **we need to explicitly tell Python to update the value of** `apples`. To do this we use the `+=` operator. This adds 6 to the previous value of `apples` (2) and updates the variable `apples` to store this new value. This is called **incrementing**. \n",
    "\n",
    "Let's say I had some friends coming over for dinner and I wanted to make an apple pie for dessert. This used up 4 apples. How do you think we should update the variable `apples` to reflect the number of apples that remain in the reifrigerator? "
   ]
  },
  {
   "cell_type": "code",
   "execution_count": 4,
   "metadata": {
    "colab": {
     "base_uri": "https://localhost:8080/",
     "height": 34
    },
    "colab_type": "code",
    "executionInfo": {
     "elapsed": 1009,
     "status": "ok",
     "timestamp": 1563147891743,
     "user": {
      "displayName": "Kelly Sovacool",
      "photoUrl": "https://lh3.googleusercontent.com/-WQsOgn6cXFg/AAAAAAAAAAI/AAAAAAAAAVA/ol7X28qyOHc/s64/photo.jpg",
      "userId": "07259925140867310896"
     },
     "user_tz": 240
    },
    "id": "nflwWS6k35mU",
    "outputId": "88cbcb88-99bc-4881-8e58-fb92a2c1862e"
   },
   "outputs": [
    {
     "name": "stdout",
     "output_type": "stream",
     "text": [
      "4\n"
     ]
    }
   ],
   "source": [
    "# subtract 4 from apples and update it\n",
    "# print apples\n",
    "apples -= 4\n",
    "print(apples)"
   ]
  },
  {
   "cell_type": "markdown",
   "metadata": {
    "colab_type": "text",
    "id": "XbYoEUIt35mk"
   },
   "source": [
    "This is an example of **decrementing**. "
   ]
  },
  {
   "cell_type": "markdown",
   "metadata": {
    "colab_type": "text",
    "id": "Qqc-hie135ms"
   },
   "source": [
    "# Types\n",
    "\n",
    "So far we have only used variables to represent numbers. In fact, Python allows us to store several different kinds of data and assign their values to variables. These basic kinds of data come in pre-defined flavors, called **types**. Each type has certain key ways to identify it and certain rules that it has to follow. All variables fall into some type, and you can use the `type()` function to determine the type of any variable. Let's test this with our `apples` variable from above."
   ]
  },
  {
   "cell_type": "code",
   "execution_count": 5,
   "metadata": {
    "colab": {
     "base_uri": "https://localhost:8080/",
     "height": 34
    },
    "colab_type": "code",
    "executionInfo": {
     "elapsed": 934,
     "status": "ok",
     "timestamp": 1563147891745,
     "user": {
      "displayName": "Kelly Sovacool",
      "photoUrl": "https://lh3.googleusercontent.com/-WQsOgn6cXFg/AAAAAAAAAAI/AAAAAAAAAVA/ol7X28qyOHc/s64/photo.jpg",
      "userId": "07259925140867310896"
     },
     "user_tz": 240
    },
    "id": "v0ovMkij35mt",
    "outputId": "af834abb-fc12-4db0-d2be-7f47eeb81898"
   },
   "outputs": [
    {
     "data": {
      "text/plain": [
       "int"
      ]
     },
     "execution_count": 5,
     "metadata": {},
     "output_type": "execute_result"
    }
   ],
   "source": [
    "type(apples)"
   ]
  },
  {
   "cell_type": "markdown",
   "metadata": {
    "colab_type": "text",
    "id": "spyAdZuv35m0"
   },
   "source": [
    "### Numeric Types\n",
    "\n",
    "`int` stands for integer, which means a whole number or a number that does not have any decimal value. You may have heard this word before in your math classes. Integers follow basic mathematical rules and can be manipulated with standard mathematical operators, like we saw in the previous lesson. \n",
    "\n",
    "Another numerical type is called `float`, which stands for floating point number. This type represents numbers with decimal values. Let's see an example."
   ]
  },
  {
   "cell_type": "code",
   "execution_count": 6,
   "metadata": {
    "colab": {
     "base_uri": "https://localhost:8080/",
     "height": 34
    },
    "colab_type": "code",
    "executionInfo": {
     "elapsed": 875,
     "status": "ok",
     "timestamp": 1563147891747,
     "user": {
      "displayName": "Kelly Sovacool",
      "photoUrl": "https://lh3.googleusercontent.com/-WQsOgn6cXFg/AAAAAAAAAAI/AAAAAAAAAVA/ol7X28qyOHc/s64/photo.jpg",
      "userId": "07259925140867310896"
     },
     "user_tz": 240
    },
    "id": "lWpc-YBr35m1",
    "outputId": "79f6d944-fea9-40dc-f74e-7a1b8c123a92"
   },
   "outputs": [
    {
     "data": {
      "text/plain": [
       "float"
      ]
     },
     "execution_count": 6,
     "metadata": {},
     "output_type": "execute_result"
    }
   ],
   "source": [
    "# create float variable oranges, print type\n",
    "oranges = 3.5\n",
    "type(oranges)"
   ]
  },
  {
   "cell_type": "markdown",
   "metadata": {
    "colab_type": "text",
    "id": "1UEaDLZm35nM"
   },
   "source": [
    "`float` variables are very similar to `int` variables, since they are both numeric types and abide by the same basic mathematical rules. We can even convert between one type to another."
   ]
  },
  {
   "cell_type": "code",
   "execution_count": 7,
   "metadata": {
    "colab": {
     "base_uri": "https://localhost:8080/",
     "height": 51
    },
    "colab_type": "code",
    "executionInfo": {
     "elapsed": 858,
     "status": "ok",
     "timestamp": 1563147891753,
     "user": {
      "displayName": "Kelly Sovacool",
      "photoUrl": "https://lh3.googleusercontent.com/-WQsOgn6cXFg/AAAAAAAAAAI/AAAAAAAAAVA/ol7X28qyOHc/s64/photo.jpg",
      "userId": "07259925140867310896"
     },
     "user_tz": 240
    },
    "id": "U_-uFspz35nN",
    "outputId": "0273ad79-f059-47b4-9caf-1c3e5da19fbd"
   },
   "outputs": [
    {
     "name": "stdout",
     "output_type": "stream",
     "text": [
      "4.0\n"
     ]
    },
    {
     "data": {
      "text/plain": [
       "float"
      ]
     },
     "execution_count": 7,
     "metadata": {},
     "output_type": "execute_result"
    }
   ],
   "source": [
    "# int to float\n",
    "apples = float(apples)\n",
    "print(apples)\n",
    "type(apples)"
   ]
  },
  {
   "cell_type": "code",
   "execution_count": 8,
   "metadata": {
    "colab": {
     "base_uri": "https://localhost:8080/",
     "height": 51
    },
    "colab_type": "code",
    "executionInfo": {
     "elapsed": 818,
     "status": "ok",
     "timestamp": 1563147891755,
     "user": {
      "displayName": "Kelly Sovacool",
      "photoUrl": "https://lh3.googleusercontent.com/-WQsOgn6cXFg/AAAAAAAAAAI/AAAAAAAAAVA/ol7X28qyOHc/s64/photo.jpg",
      "userId": "07259925140867310896"
     },
     "user_tz": 240
    },
    "id": "OFr49nv435nd",
    "outputId": "adfa8c2f-eef1-4923-ad30-fc22be5c3fca"
   },
   "outputs": [
    {
     "name": "stdout",
     "output_type": "stream",
     "text": [
      "3\n"
     ]
    },
    {
     "data": {
      "text/plain": [
       "int"
      ]
     },
     "execution_count": 8,
     "metadata": {},
     "output_type": "execute_result"
    }
   ],
   "source": [
    "# float to int\n",
    "oranges = int(oranges)\n",
    "print(oranges)\n",
    "type(oranges)"
   ]
  },
  {
   "cell_type": "markdown",
   "metadata": {},
   "source": [
    "Notice that here Python rounded down. When you use `int` in Python, the decimal place is just cut off so the number is always rounded down."
   ]
  },
  {
   "cell_type": "code",
   "execution_count": 9,
   "metadata": {
    "colab": {
     "base_uri": "https://localhost:8080/",
     "height": 51
    },
    "colab_type": "code",
    "executionInfo": {
     "elapsed": 792,
     "status": "ok",
     "timestamp": 1563147891757,
     "user": {
      "displayName": "Kelly Sovacool",
      "photoUrl": "https://lh3.googleusercontent.com/-WQsOgn6cXFg/AAAAAAAAAAI/AAAAAAAAAVA/ol7X28qyOHc/s64/photo.jpg",
      "userId": "07259925140867310896"
     },
     "user_tz": 240
    },
    "id": "QOLI6CAY35nv",
    "outputId": "5fb78bf9-89a1-4d23-85e7-b092aee4da70"
   },
   "outputs": [
    {
     "name": "stdout",
     "output_type": "stream",
     "text": [
      "3.3\n"
     ]
    },
    {
     "data": {
      "text/plain": [
       "float"
      ]
     },
     "execution_count": 9,
     "metadata": {},
     "output_type": "execute_result"
    }
   ],
   "source": [
    "# add float to int\n",
    "oranges += 0.3\n",
    "print(oranges)\n",
    "type(oranges)"
   ]
  },
  {
   "cell_type": "code",
   "execution_count": 10,
   "metadata": {
    "colab": {
     "base_uri": "https://localhost:8080/",
     "height": 51
    },
    "colab_type": "code",
    "executionInfo": {
     "elapsed": 765,
     "status": "ok",
     "timestamp": 1563147891759,
     "user": {
      "displayName": "Kelly Sovacool",
      "photoUrl": "https://lh3.googleusercontent.com/-WQsOgn6cXFg/AAAAAAAAAAI/AAAAAAAAAVA/ol7X28qyOHc/s64/photo.jpg",
      "userId": "07259925140867310896"
     },
     "user_tz": 240
    },
    "id": "sOCaxdyI35n4",
    "outputId": "753a7f4b-be94-422a-8404-f95dce1e8e65"
   },
   "outputs": [
    {
     "name": "stdout",
     "output_type": "stream",
     "text": [
      "7.3\n"
     ]
    },
    {
     "data": {
      "text/plain": [
       "float"
      ]
     },
     "execution_count": 10,
     "metadata": {},
     "output_type": "execute_result"
    }
   ],
   "source": [
    "# add int to float\n",
    "oranges += 4\n",
    "print(oranges)\n",
    "type(oranges)"
   ]
  },
  {
   "cell_type": "markdown",
   "metadata": {
    "colab_type": "text",
    "id": "9FcSQXIs35n-"
   },
   "source": [
    "### Strings\n",
    "\n",
    "When you think of data science, you may think mainly of numbers and statistics, but sometimes we need to analyze data in other forms as well. Often we need to work with text data, which are called **strings** in Python and designated using `str`. Strings are comprised of characters, like letters or symbols, or a bunch of characters put together, like words. Strings are defined using single quotations `' '` or double quotations `\" \"`. You can use either as long as they match at the start and end of the string. This is what separates strings from varaible or function names and tells Python to view it as a string value. Remember that everything in programming is extremely literal, so we have to be very explicit about what we mean when writing code. \n",
    "\n",
    "We used a string in our very first line of code from the last lesson - can anyone remember what it was?"
   ]
  },
  {
   "cell_type": "code",
   "execution_count": 11,
   "metadata": {
    "colab": {
     "base_uri": "https://localhost:8080/",
     "height": 34
    },
    "colab_type": "code",
    "executionInfo": {
     "elapsed": 744,
     "status": "ok",
     "timestamp": 1563147891764,
     "user": {
      "displayName": "Kelly Sovacool",
      "photoUrl": "https://lh3.googleusercontent.com/-WQsOgn6cXFg/AAAAAAAAAAI/AAAAAAAAAVA/ol7X28qyOHc/s64/photo.jpg",
      "userId": "07259925140867310896"
     },
     "user_tz": 240
    },
    "id": "fYG2lR5o35n_",
    "outputId": "ffa84549-e398-4405-8ce9-9ae9b42247b3"
   },
   "outputs": [
    {
     "data": {
      "text/plain": [
       "str"
      ]
     },
     "execution_count": 11,
     "metadata": {},
     "output_type": "execute_result"
    }
   ],
   "source": [
    "# create string variable name, print type\n",
    "name = \"Marlena\"\n",
    "type(name)"
   ]
  },
  {
   "cell_type": "markdown",
   "metadata": {
    "colab_type": "text",
    "id": "4M0McEml35oF"
   },
   "source": [
    "Like the numeric types, strings have to follow some basic rules for how they can behave in Python. While we can't perform mathematical addition with strings, we can combine strings together using the `+` operator. This is called **concatenating**."
   ]
  },
  {
   "cell_type": "code",
   "execution_count": 12,
   "metadata": {
    "colab": {
     "base_uri": "https://localhost:8080/",
     "height": 51
    },
    "colab_type": "code",
    "executionInfo": {
     "elapsed": 723,
     "status": "ok",
     "timestamp": 1563147891766,
     "user": {
      "displayName": "Kelly Sovacool",
      "photoUrl": "https://lh3.googleusercontent.com/-WQsOgn6cXFg/AAAAAAAAAAI/AAAAAAAAAVA/ol7X28qyOHc/s64/photo.jpg",
      "userId": "07259925140867310896"
     },
     "user_tz": 240
    },
    "id": "7NyBC0Gv35oH",
    "outputId": "82531003-2d68-48a6-8413-cb4cdecc634a"
   },
   "outputs": [
    {
     "name": "stdout",
     "output_type": "stream",
     "text": [
      "MarlenaDuda\n",
      "Marlena Duda\n"
     ]
    }
   ],
   "source": [
    "# print first name + last name\n",
    "print(\"Marlena\" + \"Duda\")\n",
    "\n",
    "# add space in between\n",
    "print(\"Marlena\" + \" \" + \"Duda\")"
   ]
  },
  {
   "cell_type": "markdown",
   "metadata": {
    "colab_type": "text",
    "id": "hMYhI5Bu35oS"
   },
   "source": [
    "We can also use the multiplication operator on strings. Can anyone guess what that might do?"
   ]
  },
  {
   "cell_type": "code",
   "execution_count": 13,
   "metadata": {
    "colab": {
     "base_uri": "https://localhost:8080/",
     "height": 54
    },
    "colab_type": "code",
    "executionInfo": {
     "elapsed": 706,
     "status": "ok",
     "timestamp": 1563147891768,
     "user": {
      "displayName": "Kelly Sovacool",
      "photoUrl": "https://lh3.googleusercontent.com/-WQsOgn6cXFg/AAAAAAAAAAI/AAAAAAAAAVA/ol7X28qyOHc/s64/photo.jpg",
      "userId": "07259925140867310896"
     },
     "user_tz": 240
    },
    "id": "wicH9_Xt35oT",
    "outputId": "134b8d2c-e33e-4129-c4ca-7df3e9a97aea"
   },
   "outputs": [
    {
     "data": {
      "text/plain": [
       "'Hello World Hello World Hello World Hello World Hello World Hello World Hello World Hello World Hello World Hello World '"
      ]
     },
     "execution_count": 13,
     "metadata": {},
     "output_type": "execute_result"
    }
   ],
   "source": [
    "# use multiplication operator on string\n",
    "\"Hello World \" * 10"
   ]
  },
  {
   "cell_type": "markdown",
   "metadata": {
    "colab_type": "text",
    "id": "yzM6O_zn35oZ"
   },
   "source": [
    "However, not all the operators we learned in the last lesson work with strings. We can't subtract or divide strings, and we also can't add numeric values to strings or multiply strings with other strings. Let's see what kinds of errors arise when we try to break these string rules."
   ]
  },
  {
   "cell_type": "code",
   "execution_count": 14,
   "metadata": {
    "colab": {},
    "colab_type": "code",
    "collapsed": true,
    "id": "5d7mdIAx35oa"
   },
   "outputs": [],
   "source": [
    "# uncomment these lines one by one to see the resulting error messages\n",
    "\n",
    "#\"Hello World\" - \"Hello\"\n",
    "\n",
    "#\"Marlena\"/\"Duda\"\n",
    "\n",
    "#\"Marlena\" * \"GWC\"\n",
    "\n",
    "#\"GWC\" + 2019"
   ]
  },
  {
   "cell_type": "markdown",
   "metadata": {
    "colab_type": "text",
    "id": "PQ-6y_xb35oh"
   },
   "source": [
    "Though there is a clear distinction between numeric and string variables, string variables can contain numbers, which are seen as numeric characters in this context. "
   ]
  },
  {
   "cell_type": "code",
   "execution_count": 15,
   "metadata": {
    "colab": {},
    "colab_type": "code",
    "collapsed": true,
    "id": "uxgCAvF335oi"
   },
   "outputs": [],
   "source": [
    "# create string variable date with today's date\n",
    "date = \"7/15/2019\""
   ]
  },
  {
   "cell_type": "markdown",
   "metadata": {
    "colab_type": "text",
    "id": "uQcIQyaf35os"
   },
   "source": [
    "### Booleans\n",
    "\n",
    "One last basic data type in Python is called the boolean, or `bool`, which is a special type of variable that can take only on the value of `True` or `False`. Since it only has two possible values, a boolean is referred to as a *binary* variable. "
   ]
  },
  {
   "cell_type": "code",
   "execution_count": 16,
   "metadata": {
    "colab": {
     "base_uri": "https://localhost:8080/",
     "height": 34
    },
    "colab_type": "code",
    "executionInfo": {
     "elapsed": 702,
     "status": "ok",
     "timestamp": 1563147891788,
     "user": {
      "displayName": "Kelly Sovacool",
      "photoUrl": "https://lh3.googleusercontent.com/-WQsOgn6cXFg/AAAAAAAAAAI/AAAAAAAAAVA/ol7X28qyOHc/s64/photo.jpg",
      "userId": "07259925140867310896"
     },
     "user_tz": 240
    },
    "id": "rr7i6SDW35ov",
    "outputId": "03099c96-8e10-4f32-bb76-bb4f2b062fd5"
   },
   "outputs": [
    {
     "data": {
      "text/plain": [
       "bool"
      ]
     },
     "execution_count": 16,
     "metadata": {},
     "output_type": "execute_result"
    }
   ],
   "source": [
    "# create boolean variable and print type\n",
    "approved = True\n",
    "type(approved)"
   ]
  },
  {
   "cell_type": "markdown",
   "metadata": {
    "colab_type": "text",
    "id": "t9swYJY835oy"
   },
   "source": [
    "Boolean variables can be assigned directly using the special reserved words of `True` or `False` like we saw above, but they can also be generated as the result of comparison operators: \n",
    "\n",
    "`<`   less than\n",
    "\n",
    "\n",
    "`>`   greater than\n",
    "\n",
    "\n",
    "`<=`  less than or equal to\n",
    "\n",
    "\n",
    "`>=`  greater than or equal to\n",
    "\n",
    "\n",
    "`==`  equal to\n",
    "\n",
    "\n",
    "`!=`  not equal to\n",
    "\n",
    "\n",
    "Pay special attention to the `==` operator - this tests whether or not two values are exactly equal to each other, and is an important distinction from the `=` operator, which assigns a value to a variable. "
   ]
  },
  {
   "cell_type": "code",
   "execution_count": 17,
   "metadata": {
    "colab": {
     "base_uri": "https://localhost:8080/",
     "height": 51
    },
    "colab_type": "code",
    "executionInfo": {
     "elapsed": 1094,
     "status": "ok",
     "timestamp": 1563147892201,
     "user": {
      "displayName": "Kelly Sovacool",
      "photoUrl": "https://lh3.googleusercontent.com/-WQsOgn6cXFg/AAAAAAAAAAI/AAAAAAAAAVA/ol7X28qyOHc/s64/photo.jpg",
      "userId": "07259925140867310896"
     },
     "user_tz": 240
    },
    "id": "Le7NYMOu35oz",
    "outputId": "98752738-d739-46db-f7f3-358c99b11e0f"
   },
   "outputs": [
    {
     "name": "stdout",
     "output_type": "stream",
     "text": [
      "False\n"
     ]
    },
    {
     "data": {
      "text/plain": [
       "bool"
      ]
     },
     "execution_count": 17,
     "metadata": {},
     "output_type": "execute_result"
    }
   ],
   "source": [
    "# generate boolean variables using comparison operators\n",
    "check_equal = apples == 7\n",
    "print(check_equal)\n",
    "type(check_equal)"
   ]
  },
  {
   "cell_type": "markdown",
   "metadata": {
    "colab_type": "text",
    "id": "W7C9m0IX35o3"
   },
   "source": [
    "While we've seen that booleans take on the values of `True` or `False`, they also have a numeric representation: `True` = 1 and `False` = 0. As such, boolean variables follow mathematical rules and can be manipulated using mathematical operators. This can be useful when you want to quickly count up the number of `True` values in a list, for example. Let's play with this below."
   ]
  },
  {
   "cell_type": "code",
   "execution_count": 18,
   "metadata": {
    "colab": {
     "base_uri": "https://localhost:8080/",
     "height": 119
    },
    "colab_type": "code",
    "executionInfo": {
     "elapsed": 1079,
     "status": "ok",
     "timestamp": 1563147892203,
     "user": {
      "displayName": "Kelly Sovacool",
      "photoUrl": "https://lh3.googleusercontent.com/-WQsOgn6cXFg/AAAAAAAAAAI/AAAAAAAAAVA/ol7X28qyOHc/s64/photo.jpg",
      "userId": "07259925140867310896"
     },
     "user_tz": 240
    },
    "id": "hM9zq2PF35o7",
    "outputId": "30860617-f568-4fb9-e3af-c9285cf4925c"
   },
   "outputs": [
    {
     "name": "stdout",
     "output_type": "stream",
     "text": [
      "-1\n",
      "1\n",
      "0\n",
      "-10\n",
      "11\n",
      "10\n"
     ]
    }
   ],
   "source": [
    "yes = True\n",
    "no = False\n",
    "\n",
    "# add, substract, multiply boolean variables\n",
    "print(no - yes)\n",
    "print(yes + no)\n",
    "print(yes * no)\n",
    "\n",
    "# add, subtract, multiple boolean and int variables\n",
    "print(no - 10)\n",
    "print(yes + 10)\n",
    "print(yes * 10)"
   ]
  },
  {
   "cell_type": "markdown",
   "metadata": {
    "colab_type": "text",
    "id": "0dlI1vfG35pA"
   },
   "source": [
    "Now you're an expert in the basic Python data types: \n",
    "* `int`: integer\n",
    "* `float`: decimal number\n",
    "* `string`: text\n",
    "* `bool`: True/False"
   ]
  }
 ],
 "metadata": {
  "kernelspec": {
   "display_name": "Python 3",
   "language": "python",
   "name": "python3"
  },
  "language_info": {
   "codemirror_mode": {
    "name": "ipython",
    "version": 3
   },
   "file_extension": ".py",
   "mimetype": "text/x-python",
   "name": "python",
   "nbconvert_exporter": "python",
   "pygments_lexer": "ipython3",
   "version": "3.6.1"
  }
 },
 "nbformat": 4,
 "nbformat_minor": 1
}