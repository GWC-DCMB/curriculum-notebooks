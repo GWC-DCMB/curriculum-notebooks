{
 "cells": [
  {
   "cell_type": "markdown",
   "metadata": {
    "colab_type": "text",
    "id": "jGg601Uf4tEa"
   },
   "source": [
    "# Loops\n",
    "\n",
    "Earlier, we learned about lists, and how they are super useful ways to store a lot of information in one variable. Suppose you had a list of animals and you wanted to print your list so that each item was on its own line. "
   ]
  },
  {
   "cell_type": "code",
   "execution_count": 3,
   "metadata": {
    "colab": {},
    "colab_type": "code",
    "id": "7Qb7Py2B4tEh"
   },
   "outputs": [],
   "source": [
    "# create a list of animals\n",
    "animals = ['turtle', 'penguin', 'platypus', 'zebra', 'giraffe']"
   ]
  },
  {
   "cell_type": "code",
   "execution_count": 4,
   "metadata": {
    "colab": {
     "base_uri": "https://localhost:8080/",
     "height": 34
    },
    "colab_type": "code",
    "executionInfo": {
     "elapsed": 391,
     "status": "ok",
     "timestamp": 1567260982496,
     "user": {
      "displayName": "Morgan Oneka",
      "photoUrl": "https://lh3.googleusercontent.com/a-/AAuE7mDDNp7vRaJ72dq-10S667W0tZyfdBWiE2NavfHt=s64",
      "userId": "08973921413298125078"
     },
     "user_tz": 240
    },
    "id": "9PTEo3hUCK7X",
    "outputId": "e9bdd59e-e151-44b0-e18e-a45c824f3a25"
   },
   "outputs": [
    {
     "name": "stdout",
     "output_type": "stream",
     "text": [
      "['turtle', 'penguin', 'platypus', 'zebra', 'giraffe']\n"
     ]
    }
   ],
   "source": [
    "# print animals\n",
    "print(animals)"
   ]
  },
  {
   "cell_type": "markdown",
   "metadata": {
    "colab_type": "text",
    "id": "JvB-KP8dCMP5"
   },
   "source": [
    "We see that using the `print` function on our list prints all the values in brackets and separated by commas on the same line. This isn't quite what we want. But, Python has a useful tool we can use for this problem called the for loop.\n",
    "\n",
    "A for loop has three key parts:\n",
    "\n",
    "```\n",
    "for [item] in [list of items]:\n",
    "  [command]\n",
    "```\n",
    "\n",
    "A for loop will look at each individual item in the list it is given, then run the given command on each item. \n",
    "\n",
    "Let's take a look at how we might use a for loop to solve our problem\n"
   ]
  },
  {
   "cell_type": "code",
   "execution_count": 3,
   "metadata": {
    "colab": {
     "base_uri": "https://localhost:8080/",
     "height": 104
    },
    "colab_type": "code",
    "executionInfo": {
     "elapsed": 335,
     "status": "ok",
     "timestamp": 1567261300404,
     "user": {
      "displayName": "Morgan Oneka",
      "photoUrl": "https://lh3.googleusercontent.com/a-/AAuE7mDDNp7vRaJ72dq-10S667W0tZyfdBWiE2NavfHt=s64",
      "userId": "08973921413298125078"
     },
     "user_tz": 240
    },
    "id": "DHd1YvGz4tEt",
    "outputId": "c4f93089-bbdd-40a4-ea7e-31c0a8eaf6de"
   },
   "outputs": [
    {
     "name": "stdout",
     "output_type": "stream",
     "text": [
      "turtle\n",
      "penguin\n",
      "platypus\n",
      "zebra\n",
      "giraffe\n"
     ]
    }
   ],
   "source": [
    "# create a for loop to print each item in our animals list\n",
    "for animal in animals:\n",
    "    print(animal)"
   ]
  },
  {
   "cell_type": "markdown",
   "metadata": {
    "colab_type": "text",
    "id": "4ux_GmDZ41dw"
   },
   "source": [
    "A Python function that is really useful when writing loops is the `range` function. `range` creates a list of numbers between the two numbers given to the function.\n",
    "\n",
    "If we use the output of the `range` function in a for loop, then whatever code we write in our for loop will execute on each number between the two parameters of `range`."
   ]
  },
  {
   "cell_type": "code",
   "execution_count": 1,
   "metadata": {
    "colab": {
     "base_uri": "https://localhost:8080/",
     "height": 104
    },
    "colab_type": "code",
    "executionInfo": {
     "elapsed": 346,
     "status": "ok",
     "timestamp": 1567225306917,
     "user": {
      "displayName": "Morgan Oneka",
      "photoUrl": "https://lh3.googleusercontent.com/a-/AAuE7mDDNp7vRaJ72dq-10S667W0tZyfdBWiE2NavfHt=s64",
      "userId": "08973921413298125078"
     },
     "user_tz": 240
    },
    "id": "oKtvtpPR56Tm",
    "outputId": "a43a2f15-0260-44c5-bb5c-a6326c1e40a2"
   },
   "outputs": [
    {
     "name": "stdout",
     "output_type": "stream",
     "text": [
      "0\n",
      "1\n",
      "2\n",
      "3\n",
      "4\n"
     ]
    }
   ],
   "source": [
    "# use a for loop to print each number in range(0,5)\n",
    "for value in range(0,5):\n",
    "  print(value)"
   ]
  },
  {
   "cell_type": "markdown",
   "metadata": {
    "colab_type": "text",
    "id": "-Ar7A4DY4tE4"
   },
   "source": [
    "The `range` function can be useful when working with lists. To iterate over a whole list, we can use the `range` function with 0 as the start and the list length as the end. Let's test this out with our animals list!"
   ]
  },
  {
   "cell_type": "code",
   "execution_count": 5,
   "metadata": {
    "colab": {
     "base_uri": "https://localhost:8080/",
     "height": 104
    },
    "colab_type": "code",
    "executionInfo": {
     "elapsed": 389,
     "status": "ok",
     "timestamp": 1567225232123,
     "user": {
      "displayName": "Morgan Oneka",
      "photoUrl": "https://lh3.googleusercontent.com/a-/AAuE7mDDNp7vRaJ72dq-10S667W0tZyfdBWiE2NavfHt=s64",
      "userId": "08973921413298125078"
     },
     "user_tz": 240
    },
    "id": "xIjqKd5t4tE6",
    "outputId": "633e47d3-c19d-41af-8833-0d88abc0c4de"
   },
   "outputs": [
    {
     "name": "stdout",
     "output_type": "stream",
     "text": [
      "turtle\n",
      "penguin\n",
      "platypus\n",
      "zebra\n",
      "giraffe\n"
     ]
    }
   ],
   "source": [
    "# use a for loop and the range function to print every animal in the list animals\n",
    "for index in range(0,len(animals)):\n",
    "    print(animals[index])"
   ]
  },
  {
   "cell_type": "markdown",
   "metadata": {
    "colab_type": "text",
    "id": "KaIbwdt75atI"
   },
   "source": [
    "We don't just have to use range, though. Let's say we only wanted to print out some of the animals in our list. We could give our for loop a list of indices in our list we wanted to print"
   ]
  },
  {
   "cell_type": "code",
   "execution_count": 6,
   "metadata": {
    "colab": {
     "base_uri": "https://localhost:8080/",
     "height": 69
    },
    "colab_type": "code",
    "executionInfo": {
     "elapsed": 376,
     "status": "ok",
     "timestamp": 1567225234007,
     "user": {
      "displayName": "Morgan Oneka",
      "photoUrl": "https://lh3.googleusercontent.com/a-/AAuE7mDDNp7vRaJ72dq-10S667W0tZyfdBWiE2NavfHt=s64",
      "userId": "08973921413298125078"
     },
     "user_tz": 240
    },
    "id": "EnIJh1L85qET",
    "outputId": "33289950-6848-4879-8da7-6b25a0587710"
   },
   "outputs": [
    {
     "name": "stdout",
     "output_type": "stream",
     "text": [
      "turtle\n",
      "penguin\n",
      "giraffe\n"
     ]
    }
   ],
   "source": [
    "# create a list called indices containing indices of the list animals to print\n",
    "indices = [0,1,4]\n",
    "\n",
    "# use a for loop to only print animals at the above indices\n",
    "for index in indices:\n",
    "  print(animals[index])"
   ]
  },
  {
   "cell_type": "markdown",
   "metadata": {
    "colab_type": "text",
    "id": "qMlxEuqqBXpr"
   },
   "source": [
    "Earlier, we learned about 2D lists. Can for loops be helpful in working with 2D lists? Let's find out!"
   ]
  },
  {
   "cell_type": "code",
   "execution_count": 8,
   "metadata": {
    "colab": {
     "base_uri": "https://localhost:8080/",
     "height": 34
    },
    "colab_type": "code",
    "executionInfo": {
     "elapsed": 373,
     "status": "ok",
     "timestamp": 1567261506922,
     "user": {
      "displayName": "Morgan Oneka",
      "photoUrl": "https://lh3.googleusercontent.com/a-/AAuE7mDDNp7vRaJ72dq-10S667W0tZyfdBWiE2NavfHt=s64",
      "userId": "08973921413298125078"
     },
     "user_tz": 240
    },
    "id": "ZRouQdJLDtl7",
    "outputId": "e65715bc-2cec-4f3e-d18e-751b043c3180"
   },
   "outputs": [
    {
     "name": "stdout",
     "output_type": "stream",
     "text": [
      "[['turtle', 'penguin', 'platypus', 'zebra', 'giraffe'], ['Shelly', 'Tuxedo', 'Perry', 'Stripes', 'Bob']]\n"
     ]
    }
   ],
   "source": [
    "# create a list of names for our animals (remember, we have 5 animals!)\n",
    "names = ['Shelly', 'Tuxedo', 'Perry', 'Stripes', 'Bob']\n",
    "\n",
    "# create a 2D list combining animals and names\n",
    "zoo = [animals, names]\n",
    "\n",
    "# print zoo so we can look at its structure\n",
    "print(zoo)"
   ]
  },
  {
   "cell_type": "markdown",
   "metadata": {
    "colab_type": "text",
    "id": "IQTJp3bkEOBJ"
   },
   "source": [
    "Say we want to print our whole list so that each animal has its name printed next to it."
   ]
  },
  {
   "cell_type": "code",
   "execution_count": 10,
   "metadata": {
    "colab": {
     "base_uri": "https://localhost:8080/",
     "height": 52
    },
    "colab_type": "code",
    "executionInfo": {
     "elapsed": 471,
     "status": "ok",
     "timestamp": 1567261619088,
     "user": {
      "displayName": "Morgan Oneka",
      "photoUrl": "https://lh3.googleusercontent.com/a-/AAuE7mDDNp7vRaJ72dq-10S667W0tZyfdBWiE2NavfHt=s64",
      "userId": "08973921413298125078"
     },
     "user_tz": 240
    },
    "id": "c9FRzmlkELuE",
    "outputId": "de6f0a3d-cd99-4d79-c6de-6f5c8b4bd365"
   },
   "outputs": [
    {
     "name": "stdout",
     "output_type": "stream",
     "text": [
      "['turtle', 'penguin', 'platypus', 'zebra', 'giraffe']\n",
      "['Shelly', 'Tuxedo', 'Perry', 'Stripes', 'Bob']\n"
     ]
    }
   ],
   "source": [
    "# use a for loop to print each item in the 2D list zoo.\n",
    "for index in range(0,len(zoo)):\n",
    "    print(zoo[index])"
   ]
  },
  {
   "cell_type": "markdown",
   "metadata": {
    "colab_type": "text",
    "id": "_eS4IawYE1a7"
   },
   "source": [
    "Hmm, that isn't quite what we wanted. But there is another way to do this. We can do something called _nesting_ for loops. This means we put two for loops inside one another. Let's see what this might look like.\n",
    "\n",
    "```\n",
    "for [item1] in [list1]:\n",
    "  for [item2] in [list2]:\n",
    "    [command using item1 and item2]\n",
    "```\n",
    "\n",
    "It is __very important__ to remember that `item1` and `item2` have different names. Otherwise, Python might not know which list you want to iterate through, and your code will not run quite how you expected! \n",
    "\n",
    "So how might we nest two for loops inside one another to print out our animal names?"
   ]
  },
  {
   "cell_type": "code",
   "execution_count": 12,
   "metadata": {
    "colab": {
     "base_uri": "https://localhost:8080/",
     "height": 191
    },
    "colab_type": "code",
    "executionInfo": {
     "elapsed": 394,
     "status": "ok",
     "timestamp": 1567262023019,
     "user": {
      "displayName": "Morgan Oneka",
      "photoUrl": "https://lh3.googleusercontent.com/a-/AAuE7mDDNp7vRaJ72dq-10S667W0tZyfdBWiE2NavfHt=s64",
      "userId": "08973921413298125078"
     },
     "user_tz": 240
    },
    "id": "z7CRIBt1EcUv",
    "outputId": "8459bdaf-060f-41e5-9d88-495ea3363b55"
   },
   "outputs": [
    {
     "name": "stdout",
     "output_type": "stream",
     "text": [
      "turtle Shelly \n",
      "penguin Tuxedo \n",
      "platypus Perry \n",
      "zebra Stripes \n",
      "giraffe Bob \n"
     ]
    }
   ],
   "source": [
    "# use a nested for loop to print each animal and its name\n",
    "for column in range(0,len(zoo[0])):\n",
    "    animal_info = \"\"\n",
    "    for row in range(0,len(zoo)):\n",
    "        animal_info += zoo[row][column] + \" \"\n",
    "    print(animal_info)"
   ]
  },
  {
   "cell_type": "markdown",
   "metadata": {
    "colab_type": "text",
    "id": "_q-9a6plGN3P"
   },
   "source": [
    "We can also have code that is inside the first, or _outer_, for loop, but is not inside the second, or _inner_, for loop. We can use this idea to make our list above a bit easier to read."
   ]
  },
  {
   "cell_type": "markdown",
   "metadata": {},
   "source": [
    "Excellent work! You just learned about for loops. You learned:\n",
    "- How to write a for loop to iterate over items in a list\n",
    "- How to write a for loop using the `range` function\n",
    "- How to _nest_ for loops inside one another"
   ]
  }
 ],
 "metadata": {
  "kernelspec": {
   "display_name": "Python 3",
   "language": "python",
   "name": "python3"
  },
  "language_info": {
   "codemirror_mode": {
    "name": "ipython",
    "version": 3
   },
   "file_extension": ".py",
   "mimetype": "text/x-python",
   "name": "python",
   "nbconvert_exporter": "python",
   "pygments_lexer": "ipython3",
   "version": "3.7.3"
  }
 },
 "nbformat": 4,
 "nbformat_minor": 4
}