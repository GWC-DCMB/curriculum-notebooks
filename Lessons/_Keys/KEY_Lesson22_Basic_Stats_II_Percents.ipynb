{
 "cells": [
  {
   "cell_type": "markdown",
   "metadata": {
    "colab_type": "text",
    "id": "pcMCEdrks7Ut"
   },
   "source": [
    "# Basic Statistics I:  Percents"
   ]
  },
  {
   "cell_type": "markdown",
   "metadata": {
    "colab_type": "text",
    "id": "wAk5jXgBs7U0"
   },
   "source": [
    "A **percentage** is a number or ratio expressed as a fraction of 100. We'll do some examples together to learn how to calculate percentages."
   ]
  },
  {
   "cell_type": "markdown",
   "metadata": {
    "colab_type": "text",
    "id": "vvDdKp98s7U3"
   },
   "source": [
    "**Example 1:** For a basket of 18 fruits, there are 5 apples, 3 bananas, 6 peaches, and 4 oranges."
   ]
  },
  {
   "cell_type": "markdown",
   "metadata": {
    "colab_type": "text",
    "id": "DFsUN3HAs7U4"
   },
   "source": [
    "What percentage of fruits are apples? "
   ]
  },
  {
   "cell_type": "code",
   "execution_count": null,
   "metadata": {
    "colab": {},
    "colab_type": "code",
    "id": "agUStgpUs7U5"
   },
   "outputs": [],
   "source": [
    "# Calculate percentage for apples\n",
    "5/18*100"
   ]
  },
  {
   "cell_type": "markdown",
   "metadata": {
    "colab_type": "text",
    "id": "zGoaA_fhs7U9"
   },
   "source": [
    "What percentage of fruits are oranges **and** peaches? "
   ]
  },
  {
   "cell_type": "code",
   "execution_count": null,
   "metadata": {
    "colab": {},
    "colab_type": "code",
    "id": "DIr9ZO4us7U-"
   },
   "outputs": [],
   "source": [
    "# Calculate percentage for oranges and peaches\n",
    "(4+6)/18*100"
   ]
  },
  {
   "cell_type": "markdown",
   "metadata": {
    "colab_type": "text",
    "id": "5ADm2TV-s7VG"
   },
   "source": [
    "**Example 2:**  Let's learn to calculate percentages by using real world data. We will work with a dataset of Ames, Iowa housing prices."
   ]
  },
  {
   "cell_type": "code",
   "execution_count": null,
   "metadata": {
    "colab": {},
    "colab_type": "code",
    "id": "CSoS_MUus7VH"
   },
   "outputs": [],
   "source": [
    "# Import the fetch_openml method \n",
    "from sklearn.datasets import fetch_openml\n",
    "housing = fetch_openml(name=\"house_prices\", as_frame=True, parser=\"auto\")"
   ]
  },
  {
   "cell_type": "code",
   "execution_count": null,
   "metadata": {
    "colab": {},
    "colab_type": "code",
    "id": "9Q6sI8C0s7VL"
   },
   "outputs": [],
   "source": [
    "# Import pandas, so that we can work with the data frame version of the Ames housing data\n",
    "import pandas as pd"
   ]
  },
  {
   "cell_type": "code",
   "execution_count": null,
   "metadata": {
    "colab": {},
    "colab_type": "code",
    "id": "hepVTCgss7VR",
    "scrolled": true
   },
   "outputs": [],
   "source": [
    "# Load the dataset of house prices in Ames, and convert to\n",
    "# a data frame format so it's easier to view and process\n",
    "ames_df = pd.DataFrame(housing['data'], columns = housing['feature_names'])\n",
    "ames_df['SalePrice'] = housing.target\n",
    "ames_df"
   ]
  },
  {
   "cell_type": "markdown",
   "metadata": {
    "colab_type": "text",
    "id": "eyMUHGews7VZ"
   },
   "source": [
    "The `SaleCondition` column lists the condition of the house sale:\n",
    "\n",
    "\n",
    "*   `Normal`: Normal Sale     \n",
    "\n",
    "* `Abnorml`: Abnormal Sale -  trade, foreclosure, short sale\n",
    "\n",
    "* `AdjLand`: Adjoining Land Purchase\n",
    "\n",
    "* `Alloca`: Allocation - two linked properties with separate deeds, typically condo with a garage unit\n",
    "\n",
    "* `Family`: Sale between family members   \n",
    "\n",
    "* `Partial`: Home was not completed when last assessed (associated with New Homes)\n"
   ]
  },
  {
   "cell_type": "markdown",
   "metadata": {
    "colab_type": "text",
    "id": "IMpeHBEzs7VZ"
   },
   "source": [
    "What percentage of the houses were sold normally? We'll see how to do this using the query method AND using boolean indexing."
   ]
  },
  {
   "cell_type": "code",
   "execution_count": null,
   "metadata": {
    "colab": {},
    "colab_type": "code",
    "id": "sX1Nw-nRSEhW"
   },
   "outputs": [],
   "source": [
    "# Determine number of tracts that bound the Charles River two ways:\n",
    "# (1) with the query function\n",
    "num_normal = len(ames_df.query(\"SaleCondition == 'Normal'\"))\n",
    "num_normal"
   ]
  },
  {
   "cell_type": "code",
   "execution_count": null,
   "metadata": {
    "colab": {},
    "colab_type": "code",
    "id": "qU1vhvM0s7Va"
   },
   "outputs": [],
   "source": [
    "# (2) using boolean indexing\n",
    "num_normal = sum(ames_df[\"SaleCondition\"] == \"Normal\")\n",
    "num_normal"
   ]
  },
  {
   "cell_type": "markdown",
   "metadata": {
    "colab_type": "text",
    "id": "NnEK_TTTSWvi"
   },
   "source": [
    "How do these two methods give the same answer?"
   ]
  },
  {
   "cell_type": "code",
   "execution_count": null,
   "metadata": {
    "colab": {},
    "colab_type": "code",
    "id": "mJO-elGkSMuC"
   },
   "outputs": [],
   "source": [
    "# Determine the total number of houses in the dataset\n",
    "total_num = len(ames_df)\n",
    "\n",
    "# Now calculate the percentage of houses sold normally.\n",
    "num_normal/total_num*100"
   ]
  },
  {
   "cell_type": "markdown",
   "metadata": {
    "colab_type": "text",
    "id": "kFGToww_s7Vg"
   },
   "source": [
    "What percentage of houses have a price less than $200,000?"
   ]
  },
  {
   "cell_type": "code",
   "execution_count": null,
   "metadata": {
    "colab": {},
    "colab_type": "code",
    "id": "xiZbDvpOs7Vh"
   },
   "outputs": [],
   "source": [
    "# Determine number of houses that cost less than $200,000\n",
    "num_cost_less_200k = sum(ames_df[\"SalePrice\"] < 200000)\n",
    "\n",
    "# Calculate the percentage of houses that cost less than $200k.\n",
    "num_cost_less_200k/total_num*100"
   ]
  },
  {
   "cell_type": "markdown",
   "metadata": {
    "colab_type": "text",
    "id": "RLZ-k3L7s7Vq"
   },
   "source": [
    "What percentage of houses have a sale price **between** $200,000 and $500,000?"
   ]
  },
  {
   "cell_type": "code",
   "execution_count": null,
   "metadata": {
    "colab": {},
    "colab_type": "code",
    "id": "tWeQmqPos7Vr"
   },
   "outputs": [],
   "source": [
    "# Make an array of booleans with cost greater than $200,000 AND less than $500,000\n",
    "between_200k_and_500k = (ames_df[\"SalePrice\"] > 200000) & (ames_df[\"SalePrice\"] < 500000)\n",
    "\n",
    "# Determine number of houses that cost between $200,000 and $500,000\n",
    "num_between_200k_and_500k = sum(between_200k_and_500k)\n",
    "\n",
    "# Calculate the percentage of houses between $200,000 and $500,000\n",
    "num_between_200k_and_500k/total_num*100"
   ]
  },
  {
   "cell_type": "markdown",
   "metadata": {
    "colab_type": "text",
    "id": "eje8y19Gs7Vv"
   },
   "source": [
    "Good work! You just learned about how to calculate percentages in Python!"
   ]
  }
 ],
 "metadata": {
  "kernelspec": {
   "display_name": "Python 3",
   "language": "python",
   "name": "python3"
  },
  "language_info": {
   "codemirror_mode": {
    "name": "ipython",
    "version": 3
   },
   "file_extension": ".py",
   "mimetype": "text/x-python",
   "name": "python",
   "nbconvert_exporter": "python",
   "pygments_lexer": "ipython3",
   "version": "3.9.15"
  }
 },
 "nbformat": 4,
 "nbformat_minor": 0
}
