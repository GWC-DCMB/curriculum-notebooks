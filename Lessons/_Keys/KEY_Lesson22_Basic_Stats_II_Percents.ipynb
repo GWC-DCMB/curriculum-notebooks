{
 "nbformat": 4,
 "nbformat_minor": 0,
 "metadata": {
  "kernelspec": {
   "display_name": "Python 3",
   "language": "python",
   "name": "python3"
  },
  "language_info": {
   "codemirror_mode": {
    "name": "ipython",
    "version": 3
   },
   "file_extension": ".py",
   "mimetype": "text/x-python",
   "name": "python",
   "nbconvert_exporter": "python",
   "pygments_lexer": "ipython3",
   "version": "3.6.1"
  }
 },
 "cells": [
  {
   "cell_type": "markdown",
   "metadata": {
    "id": "pcMCEdrks7Ut",
    "colab_type": "text"
   },
   "source": [
    "# Basic Statistics I:  Percents"
   ]
  },
  {
   "cell_type": "markdown",
   "metadata": {
    "id": "wAk5jXgBs7U0",
    "colab_type": "text"
   },
   "source": [
    "A **percentage** is a number or ratio expressed as a fraction of 100. We'll do some examples together to learn how to calculate percentages."
   ]
  },
  {
   "cell_type": "markdown",
   "metadata": {
    "id": "vvDdKp98s7U3",
    "colab_type": "text"
   },
   "source": [
    "**Example 1:** For a basket of 18 fruits, there are 5 apples, 3 bananas, 6 peaches, and 4 oranges."
   ]
  },
  {
   "cell_type": "markdown",
   "metadata": {
    "id": "DFsUN3HAs7U4",
    "colab_type": "text"
   },
   "source": [
    "What percentage of fruits are apples? "
   ]
  },
  {
   "cell_type": "code",
   "metadata": {
    "id": "agUStgpUs7U5",
    "colab_type": "code",
    "colab": {}
   },
   "source": [
    "# Calculate percentage for apples\n",
    "5/18*100"
   ],
   "execution_count": 0,
   "outputs": []
  },
  {
   "cell_type": "markdown",
   "metadata": {
    "id": "zGoaA_fhs7U9",
    "colab_type": "text"
   },
   "source": [
    "What percentage of fruits are oranges **and** peaches? "
   ]
  },
  {
   "cell_type": "code",
   "metadata": {
    "id": "DIr9ZO4us7U-",
    "colab_type": "code",
    "colab": {}
   },
   "source": [
    "# Calculate percentage for oranges and peaches\n",
    "(4+6)/18*100"
   ],
   "execution_count": 0,
   "outputs": []
  },
  {
   "cell_type": "markdown",
   "metadata": {
    "id": "5ADm2TV-s7VG",
    "colab_type": "text"
   },
   "source": [
    "**Example 2:**  Let's learn to calculate percentages by using real world data. We will work with a dataset of Boston housing prices."
   ]
  },
  {
   "cell_type": "code",
   "metadata": {
    "id": "CSoS_MUus7VH",
    "colab_type": "code",
    "colab": {}
   },
   "source": [
    "# Import the load_boston method \n",
    "from sklearn.datasets import load_boston"
   ],
   "execution_count": 0,
   "outputs": []
  },
  {
   "cell_type": "code",
   "metadata": {
    "id": "9Q6sI8C0s7VL",
    "colab_type": "code",
    "colab": {}
   },
   "source": [
    "# Import pandas, so that we can work with the data frame version of the Boston housing data\n",
    "import pandas as pd"
   ],
   "execution_count": 0,
   "outputs": []
  },
  {
   "cell_type": "code",
   "metadata": {
    "scrolled": true,
    "id": "hepVTCgss7VR",
    "colab_type": "code",
    "colab": {}
   },
   "source": [
    "# Load the dataset of housing prices in Boston, and convert to\n",
    "# a data frame format so it's easier to view and process\n",
    "boston = load_boston()\n",
    "boston_df = pd.DataFrame(boston['data'], columns = boston['feature_names'])\n",
    "boston_df['PRICE'] = boston.target\n",
    "boston_df"
   ],
   "execution_count": 0,
   "outputs": []
  },
  {
   "cell_type": "markdown",
   "metadata": {
    "id": "eyMUHGews7VZ",
    "colab_type": "text"
   },
   "source": [
    "CHAS is the indicator variable we used last week, where 1 indicates that the property (tract) is on the Charles River and 0 means otherwise."
   ]
  },
  {
   "cell_type": "markdown",
   "metadata": {
    "id": "IMpeHBEzs7VZ",
    "colab_type": "text"
   },
   "source": [
    "What percentage of the tracts bound the Charles River? We'll see how to do this using the query method AND using boolean indexing."
   ]
  },
  {
   "cell_type": "code",
   "metadata": {
    "id": "sX1Nw-nRSEhW",
    "colab_type": "code",
    "colab": {}
   },
   "source": [
    "# Determine number of tracts that bound the Charles River two ways:\n",
    "# (1) with the query function\n",
    "num_bound_river = len(boston_df.query(\"CHAS == 1\"))\n",
    "num_bound_river"
   ],
   "execution_count": 0,
   "outputs": []
  },
  {
   "cell_type": "code",
   "metadata": {
    "id": "qU1vhvM0s7Va",
    "colab_type": "code",
    "colab": {}
   },
   "source": [
    "# (2) using boolean indexing\n",
    "num_bound_river = sum(boston_df[\"CHAS\"] == 1)\n",
    "num_bound_river"
   ],
   "execution_count": 0,
   "outputs": []
  },
  {
   "cell_type": "markdown",
   "metadata": {
    "id": "NnEK_TTTSWvi",
    "colab_type": "text"
   },
   "source": [
    "How do these two methods give the same answer?"
   ]
  },
  {
   "cell_type": "code",
   "metadata": {
    "id": "mJO-elGkSMuC",
    "colab_type": "code",
    "colab": {}
   },
   "source": [
    "# Determine the total number of tracts in the dataset\n",
    "total_num = len(boston_df)\n",
    "\n",
    "# Now calculate the percentage of tracts that bounds the Charles River.\n",
    "num_bound_river/total_num*100"
   ],
   "execution_count": 0,
   "outputs": []
  },
  {
   "cell_type": "code",
   "metadata": {
    "id": "AJZKng3Bs7Vd",
    "colab_type": "code",
    "colab": {}
   },
   "source": [
    "import numpy as np"
   ],
   "execution_count": 0,
   "outputs": []
  },
  {
   "cell_type": "markdown",
   "metadata": {
    "id": "kFGToww_s7Vg",
    "colab_type": "text"
   },
   "source": [
    "What percentage of tracts have a median price less than $10,000?"
   ]
  },
  {
   "cell_type": "code",
   "metadata": {
    "id": "xiZbDvpOs7Vh",
    "colab_type": "code",
    "colab": {}
   },
   "source": [
    "# Determine number of tracts that cost less than $10,000\n",
    "num_cost_less_10k = sum(boston_df[\"PRICE\"] < 10)\n",
    "\n",
    "# Calculate the percentage of tracts that cost less than $10k.\n",
    "num_cost_less_10k/total_num*100"
   ],
   "execution_count": 0,
   "outputs": []
  },
  {
   "cell_type": "markdown",
   "metadata": {
    "id": "RLZ-k3L7s7Vq",
    "colab_type": "text"
   },
   "source": [
    "What percentage of tracts have a median price **between** \\$10,000 and \\$30,000?"
   ]
  },
  {
   "cell_type": "code",
   "metadata": {
    "id": "tWeQmqPos7Vr",
    "colab_type": "code",
    "colab": {}
   },
   "source": [
    "# Make an array of booleans with cost greater than $10,000 AND less than $30,000\n",
    "between_10k_and_30k = (boston_df[\"PRICE\"] > 10) & (boston_df[\"PRICE\"] < 30)\n",
    "\n",
    "# Determine number of tracts that cost between $10,000 and $30,000\n",
    "num_between_10k_and_30k = sum(between_10k_and_30k)\n",
    "\n",
    "# Calculate the percentage of tracts between $10,000 and $30,000\n",
    "num_between_10k_and_30k/total_num*100"
   ],
   "execution_count": 0,
   "outputs": []
  },
  {
   "cell_type": "markdown",
   "metadata": {
    "id": "eje8y19Gs7Vv",
    "colab_type": "text"
   },
   "source": [
    "Good work! You just learned about how to calculate percentages in Python!"
   ]
  }
 ]
}