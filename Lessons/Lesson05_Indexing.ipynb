{
 "cells": [
  {
   "cell_type": "markdown",
   "metadata": {
    "colab_type": "text",
    "id": "-2aCvc1d9ezf"
   },
   "source": [
    "# Indexing\n",
    "To get values from a list, you use **indexing**.\n",
    "\n",
    "To index a list, you use square brackets (`[]`) with a number (or numbers) in the brackets specifying which elements of the list you want.\n",
    "\n",
    "Let's start with a list of fruit:"
   ]
  },
  {
   "cell_type": "code",
   "execution_count": null,
   "metadata": {
    "colab": {},
    "colab_type": "code",
    "id": "fQJFArRj9ezg"
   },
   "outputs": [],
   "source": [
    "# command Python to make a list and store it fruit\n",
    "fruit = ['apple', 'banana', 'grape', 'mango']\n",
    "\n",
    "# command Python to get the length of your list\n"
   ]
  },
  {
   "cell_type": "markdown",
   "metadata": {
    "colab_type": "text",
    "id": "Nt8UDOBF9ezk"
   },
   "source": [
    "Let's try getting the first element in the list:"
   ]
  },
  {
   "cell_type": "code",
   "execution_count": null,
   "metadata": {
    "colab": {},
    "colab_type": "code",
    "id": "O20CWJ3t9ezl"
   },
   "outputs": [],
   "source": [
    "# command Python to print one element of your list\n",
    "print(fruit[1])"
   ]
  },
  {
   "cell_type": "markdown",
   "metadata": {
    "colab_type": "text",
    "id": "9ozBuT_b9ezn"
   },
   "source": [
    "Is this what you expected? If not, you're not alone. The trick is that Python starts counting at zero!\n",
    "\n",
    "Here's how you actually print the first element of the list:"
   ]
  },
  {
   "cell_type": "code",
   "execution_count": null,
   "metadata": {
    "colab": {},
    "colab_type": "code",
    "id": "L_GS8JXH9ezo"
   },
   "outputs": [],
   "source": [
    "# command Python to print the first element of your list\n"
   ]
  },
  {
   "cell_type": "markdown",
   "metadata": {
    "colab_type": "text",
    "id": "TfyIKK5j9ezq"
   },
   "source": [
    "How do you think we can print the element mango in the list?"
   ]
  },
  {
   "cell_type": "code",
   "execution_count": null,
   "metadata": {
    "colab": {},
    "colab_type": "code",
    "id": "Y8HapUry9ezr"
   },
   "outputs": [],
   "source": [
    "# command Python to print the element mango\n"
   ]
  },
  {
   "cell_type": "markdown",
   "metadata": {
    "colab_type": "text",
    "id": "3Hpj3r_A9ezu"
   },
   "source": [
    "We can also get more than one element of a list:"
   ]
  },
  {
   "cell_type": "code",
   "execution_count": null,
   "metadata": {
    "colab": {},
    "colab_type": "code",
    "id": "29nPZjp99ezv"
   },
   "outputs": [],
   "source": [
    "# command Python to get the first 3 elements of the list and save it to fruit_subset\n",
    "\n",
    "# command Python to print the length of fruit_subset\n"
   ]
  },
  {
   "cell_type": "code",
   "execution_count": null,
   "metadata": {
    "colab": {},
    "colab_type": "code",
    "id": "4GHOM5r-9ezx"
   },
   "outputs": [],
   "source": [
    "# command Python to print the length of fruit_subset\n"
   ]
  },
  {
   "cell_type": "markdown",
   "metadata": {
    "colab_type": "text",
    "id": "sF63s8je9ez1"
   },
   "source": [
    "Note that in Python, the first number in indexing is *inclusive* and the second number is *exclusive*. In other words, you get the element corresponding to the first number (0), but not the element corresponding to the last number (3). This is like (0,3] in math.\n",
    "\n",
    "Let's print the second and third elements of the list:"
   ]
  },
  {
   "cell_type": "code",
   "execution_count": null,
   "metadata": {
    "colab": {},
    "colab_type": "code",
    "id": "cQu4h5519ez2"
   },
   "outputs": [],
   "source": [
    "# command Python to get the 2nd and 3rd elements of the list\n"
   ]
  },
  {
   "cell_type": "markdown",
   "metadata": {
    "colab_type": "text",
    "id": "KHS0wHOF9ez5"
   },
   "source": [
    "Now let's get the second and fourth elment from the list:"
   ]
  },
  {
   "cell_type": "code",
   "execution_count": null,
   "metadata": {
    "colab": {},
    "colab_type": "code",
    "id": "j1Oh3pDa9ez5"
   },
   "outputs": [],
   "source": [
    "# command Python to print the second and fourth elements from the list\n"
   ]
  },
  {
   "cell_type": "markdown",
   "metadata": {
    "colab_type": "text",
    "id": "m8yfpDIm9ez9"
   },
   "source": [
    "You can also get letters in a string by indexing!"
   ]
  },
  {
   "cell_type": "code",
   "execution_count": null,
   "metadata": {
    "colab": {},
    "colab_type": "code",
    "id": "rYEI3WRR9ez-"
   },
   "outputs": [],
   "source": [
    "# command Python to store the first element of fruit (apple) in the variable a\n",
    "\n",
    "# command Python to print the first 3 letters in apple\n"
   ]
  },
  {
   "cell_type": "markdown",
   "metadata": {
    "colab_type": "text",
    "id": "inxnEUVl9e0E"
   },
   "source": [
    "You just learned how to:\n",
    "* Get an element from a list or string\n",
    "* Get multiple elements from a list or string\n",
    "\n",
    "Now it's time to practice what you learned!"
   ]
  }
 ],
 "metadata": {
  "kernelspec": {
   "display_name": "Python 3",
   "language": "python",
   "name": "python3"
  },
  "language_info": {
   "codemirror_mode": {
    "name": "ipython",
    "version": 3
   },
   "file_extension": ".py",
   "mimetype": "text/x-python",
   "name": "python",
   "nbconvert_exporter": "python",
   "pygments_lexer": "ipython3",
   "version": "3.7.3"
  }
 },
 "nbformat": 4,
 "nbformat_minor": 4
}