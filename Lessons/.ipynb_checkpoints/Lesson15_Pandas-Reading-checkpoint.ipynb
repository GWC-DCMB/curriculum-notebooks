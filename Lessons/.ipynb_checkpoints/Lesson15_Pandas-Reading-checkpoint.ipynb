{
 "cells": [
  {
   "cell_type": "markdown",
   "metadata": {
    "colab_type": "text",
    "id": "ACIL5-c6rdot"
   },
   "source": [
    "# Reading Data with Pandas\n",
    "\n",
    "In the last lesson, we learned how `pandas` stores data as rows and columns in `DataFrames`. We previously used a small dataset that was hard-coded right in the notebook. But in the real world, we want to be able to use large datasets that can't be easily hard-coded or typed out by hand. One way that we can store large datasets as files is in the CSV format. This is a format which can be opened by many different programs like Excel, Google Sheets, or our Python programs, which allows us to share data easily. "
   ]
  },
  {
   "cell_type": "markdown",
   "metadata": {},
   "source": [
    "Let's start by importing pandas. We can use the `pd` nickname like before:"
   ]
  },
  {
   "cell_type": "code",
   "execution_count": null,
   "metadata": {
    "colab": {},
    "colab_type": "code",
    "id": "ZqBeAVEtuoHO"
   },
   "outputs": [],
   "source": [
    "# import the pandas package\n"
   ]
  },
  {
   "cell_type": "markdown",
   "metadata": {
    "colab_type": "text",
    "id": "OiDokkTnvq58"
   },
   "source": [
    "Now we're ready to read our dataset into Python with `pandas`! We'll use a function called `read_csv`.  Our dataset is in Google Drive and we need to tell `read_csv` exactly where to find it. `read_csv` will create a `DataFrame` for us. Let's call it `tips`:"
   ]
  },
  {
   "cell_type": "code",
   "execution_count": null,
   "metadata": {
    "colab": {},
    "colab_type": "code",
    "id": "ydp4Ua9JwI2D"
   },
   "outputs": [],
   "source": [
    "# load the tips csv\n",
    "tips = pd.read_csv(path + 'SampleData/tips.csv')\n"
   ]
  },
  {
   "cell_type": "markdown",
   "metadata": {
    "colab_type": "text",
    "id": "G2tQtYbCw5Te"
   },
   "source": [
    "Since we saved the data to a variable, `pandas` didn't show us what it looks like. How would you view the beginning of the `tips` `DataFrame` without seeing every row? Try it below:"
   ]
  },
  {
   "cell_type": "code",
   "execution_count": null,
   "metadata": {
    "colab": {},
    "colab_type": "code",
    "id": "aO8F9zhDwUGo"
   },
   "outputs": [],
   "source": [
    "# View just the beginning of the tips DataFrame\n"
   ]
  },
  {
   "cell_type": "markdown",
   "metadata": {
    "colab_type": "text",
    "id": "5gXl4EOlxUHo"
   },
   "source": [
    "Look at the column names of the `tips` `DataFrame`. We have `total_bill`, `tip`, `sex`, `smoker`, `day`, `time`, and `size`. Based on the column names and some of the values in the `DataFrame`, what do you think the rows each represent?"
   ]
  },
  {
   "cell_type": "markdown",
   "metadata": {
    "colab_type": "text",
    "id": "OcufortFyCdx"
   },
   "source": [
    "**The rows represent**: waiters and waitresses in a restaurant"
   ]
  },
  {
   "cell_type": "markdown",
   "metadata": {
    "colab_type": "text",
    "id": "XhE-xUlvzrFD"
   },
   "source": [
    "Now let's take a look at the end of the `DataFrame`:"
   ]
  },
  {
   "cell_type": "code",
   "execution_count": null,
   "metadata": {
    "colab": {},
    "colab_type": "code",
    "id": "8x_k5eVXxhyH"
   },
   "outputs": [],
   "source": [
    "# View the end of the tips DataFrame\n"
   ]
  },
  {
   "cell_type": "markdown",
   "metadata": {
    "colab_type": "text",
    "id": "naQNUtPqz9xK"
   },
   "source": [
    "Notice the numbers on the far left side of the `DataFrame`. `pandas` assigned a number to every row. What number did `pandas` assign to the very first row of the `DataFrame`? (Scroll up if you need to.) So how many rows do we have in this `DataFrame`?"
   ]
  },
  {
   "cell_type": "markdown",
   "metadata": {
    "colab_type": "text",
    "id": "Vf8HXv5P0QAn"
   },
   "source": [
    "**Number of rows:** 244"
   ]
  },
  {
   "cell_type": "markdown",
   "metadata": {
    "colab_type": "text",
    "id": "lwI6Tj780YQ_"
   },
   "source": [
    "The column of numbers that label the rows is called the `index` of the `DataFrame`. The `index` is an `attribute`, a special variable which belongs to variables of the `DataFrame` type. An example of an attribute would be if you had a variable `dog` with an attribute `dog.owner` to store the name of the person who owns the dog.\n",
    "\n",
    "We can view the `DataFrame`'s `index` like this:"
   ]
  },
  {
   "cell_type": "code",
   "execution_count": null,
   "metadata": {
    "colab": {},
    "colab_type": "code",
    "id": "TEper3lH2bXx"
   },
   "outputs": [],
   "source": [
    "tips.index"
   ]
  },
  {
   "cell_type": "markdown",
   "metadata": {
    "colab_type": "text",
    "id": "rE3A4CfS12ag"
   },
   "source": [
    "So our index starts at 0, ends at 244, and increases by 1 for each row.\n",
    "Another way to count the number of rows is to take the length of the index using the `len` function:"
   ]
  },
  {
   "cell_type": "code",
   "execution_count": null,
   "metadata": {
    "colab": {},
    "colab_type": "code",
    "id": "_9syv7p2zyZJ"
   },
   "outputs": [],
   "source": [
    "len(tips.index)"
   ]
  },
  {
   "cell_type": "markdown",
   "metadata": {
    "colab_type": "text",
    "id": "eVPrUNKh3oMH"
   },
   "source": [
    "Like the `index` labels the rows of the `DataFrame`, there is an `attribute` called `columns` that refers to the columns of the `DataFrame`. Let's take a look:"
   ]
  },
  {
   "cell_type": "code",
   "execution_count": null,
   "metadata": {
    "colab": {},
    "colab_type": "code",
    "id": "OGoDPN5F21dq"
   },
   "outputs": [],
   "source": [
    "tips.columns"
   ]
  },
  {
   "cell_type": "markdown",
   "metadata": {
    "colab_type": "text",
    "id": "0JJa0dOf329W"
   },
   "source": [
    "We could count the number of columns -- there aren't too many -- but what's the fun in that? Let's write a line of code to tell us the number of columns:"
   ]
  },
  {
   "cell_type": "code",
   "execution_count": null,
   "metadata": {
    "colab": {},
    "colab_type": "code",
    "id": "zEN-Nmj93vti"
   },
   "outputs": [],
   "source": [
    "# length of the DataFrame's columns\n"
   ]
  },
  {
   "cell_type": "markdown",
   "metadata": {
    "colab_type": "text",
    "id": "rYL5DRca4504"
   },
   "source": [
    "Based on the number of rows and columns, how many data points are in the `tips` `DataFrame`?"
   ]
  },
  {
   "cell_type": "code",
   "execution_count": null,
   "metadata": {
    "colab": {},
    "colab_type": "code",
    "id": "j9bCbWNJ4EYa"
   },
   "outputs": [],
   "source": [
    "# calculate the number of data points in tips\n"
   ]
  },
  {
   "cell_type": "markdown",
   "metadata": {
    "colab_type": "text",
    "id": "yK106lOu5QAn"
   },
   "source": [
    "That's a lot more data than we've handled before. But that's nothing for `pandas` -- it can handle `DataFrames` with *millions* of rows! Data scientists use `pandas` to handle very large datasets from the real world.\n",
    "\n",
    "Instead of typing the number of rows & columns in the DataFrame, we could put both commands with `len` on the same line. Try it here:"
   ]
  },
  {
   "cell_type": "code",
   "execution_count": null,
   "metadata": {
    "colab": {},
    "colab_type": "code",
    "id": "DPj6aVwH5E6Q"
   },
   "outputs": [],
   "source": [
    "# Multiply the length of rows & columns without typing numbers\n"
   ]
  },
  {
   "cell_type": "markdown",
   "metadata": {
    "colab_type": "text",
    "id": "znhZFN0a54aA"
   },
   "source": [
    "This way, if the `tips` data changes, we can quickly re-run the above cell to find the number of values in it, without having to manually type out the number of rows and columns."
   ]
  },
  {
   "cell_type": "markdown",
   "metadata": {
    "colab_type": "text",
    "id": "5eGz8e7H5Xos"
   },
   "source": [
    "You just learned:\n",
    "\n",
    "- How to read datasets into `pandas` `DataFrames`.\n",
    "- The `index` and `columns` `attributes` of `DataFrames`.\n",
    "- How to find the number of rows, columns, and number of data points in a `DataFrame`."
   ]
  }
 ],
 "metadata": {
  "colab": {
   "collapsed_sections": [],
   "name": "Lesson11_Pandas-Reading.ipynb",
   "provenance": [],
   "version": "0.3.2"
  },
  "kernelspec": {
   "display_name": "Python 3",
   "language": "python",
   "name": "python3"
  },
  "language_info": {
   "codemirror_mode": {
    "name": "ipython",
    "version": 3
   },
   "file_extension": ".py",
   "mimetype": "text/x-python",
   "name": "python",
   "nbconvert_exporter": "python",
   "pygments_lexer": "ipython3",
   "version": "3.7.3"
  }
 },
 "nbformat": 4,
 "nbformat_minor": 4
}
