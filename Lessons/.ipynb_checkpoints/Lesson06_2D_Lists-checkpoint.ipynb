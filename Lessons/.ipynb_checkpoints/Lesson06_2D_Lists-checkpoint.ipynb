{
 "cells": [
  {
   "cell_type": "markdown",
   "metadata": {
    "colab_type": "text",
    "id": "HHmEKKZ99kPt"
   },
   "source": [
    "# 2D Lists\n",
    "**Remember:** \n",
    "- Lists can be used to group different values together - it's just a collection of things.\n",
    "- You can make a list in Python by putting different things in a box of brackets `[]` separated by commas:\n",
    "\n",
    "Guess what? You can also make *lists of lists*!! These are called 2D lists in Python.\n",
    "\n",
    "You can make a 2D list like this:"
   ]
  },
  {
   "cell_type": "code",
   "execution_count": null,
   "metadata": {
    "colab": {},
    "colab_type": "code",
    "id": "E0XvOUrh9kPu"
   },
   "outputs": [],
   "source": [
    "# list number 1\n",
    "fruit = ['apple', 'banana', 'grape', 'mango']\n",
    "\n",
    "# list number 2\n",
    "veggies = ['lettuce','carrot','cucumber','beet']\n",
    "\n",
    "# create 2D list\n",
    "\n",
    "# print 2D list\n"
   ]
  },
  {
   "cell_type": "markdown",
   "metadata": {
    "colab_type": "text",
    "id": "q9XxmzP39kPx"
   },
   "source": [
    "What data type is food?"
   ]
  },
  {
   "cell_type": "code",
   "execution_count": null,
   "metadata": {
    "colab": {},
    "colab_type": "code",
    "id": "IBYRJubD9kPy"
   },
   "outputs": [],
   "source": [
    "# print the type of food\n"
   ]
  },
  {
   "cell_type": "markdown",
   "metadata": {
    "colab_type": "text",
    "id": "JFIz4TRu9kP-"
   },
   "source": [
    "What is the length of your list?"
   ]
  },
  {
   "cell_type": "code",
   "execution_count": null,
   "metadata": {
    "colab": {},
    "colab_type": "code",
    "id": "3xFmSibQ9kP_"
   },
   "outputs": [],
   "source": [
    "# print length of food\n"
   ]
  },
  {
   "cell_type": "markdown",
   "metadata": {
    "colab_type": "text",
    "id": "pEXhHrF99kQC"
   },
   "source": [
    "Make a list of meat with the following things: chicken, beef, fish, pork. Add meat to food."
   ]
  },
  {
   "cell_type": "code",
   "execution_count": null,
   "metadata": {
    "colab": {},
    "colab_type": "code",
    "id": "BAF_DQZt9kQC"
   },
   "outputs": [],
   "source": [
    "# make a list of meats and save it to the variable meat\n",
    "\n",
    "# add another list to food with meat\n",
    "\n",
    "# print food\n"
   ]
  },
  {
   "cell_type": "markdown",
   "metadata": {
    "colab_type": "text",
    "id": "KmeLwXFw9kQF"
   },
   "source": [
    "What is the length of food now?"
   ]
  },
  {
   "cell_type": "code",
   "execution_count": null,
   "metadata": {
    "colab": {},
    "colab_type": "code",
    "id": "y8xrLf789kQG"
   },
   "outputs": [],
   "source": [
    "# print length of food\n"
   ]
  },
  {
   "cell_type": "markdown",
   "metadata": {
    "colab_type": "text",
    "id": "tTgGkGJX9kQI"
   },
   "source": [
    "Make a variable called double_food that contains the food list twice. Print out double_food."
   ]
  },
  {
   "cell_type": "code",
   "execution_count": null,
   "metadata": {
    "colab": {},
    "colab_type": "code",
    "id": "t6GLBWHo9kQJ"
   },
   "outputs": [],
   "source": [
    "# create double_food that contains food twice\n",
    "\n",
    "# print double_food\n"
   ]
  },
  {
   "cell_type": "markdown",
   "metadata": {
    "colab_type": "text",
    "id": "-Z0sANaD9kQM"
   },
   "source": [
    "What is the length of double_food? Is this what you expected?"
   ]
  },
  {
   "cell_type": "code",
   "execution_count": null,
   "metadata": {
    "colab": {},
    "colab_type": "code",
    "id": "-aDdsVpn9kQM"
   },
   "outputs": [],
   "source": [
    "# print length of double_food\n"
   ]
  },
  {
   "cell_type": "markdown",
   "metadata": {
    "colab_type": "text",
    "id": "XASk54QY9kQQ"
   },
   "source": [
    "You can also make 2D lists without assigning variables first:"
   ]
  },
  {
   "cell_type": "code",
   "execution_count": null,
   "metadata": {
    "colab": {},
    "colab_type": "code",
    "id": "rho2-mN-9kQS"
   },
   "outputs": [],
   "source": [
    "# create a 2D list of numbers\n",
    "\n",
    "# print 2D list of numbers\n"
   ]
  },
  {
   "cell_type": "markdown",
   "metadata": {
    "colab_type": "text",
    "id": "JSsPvFJe9kQU"
   },
   "source": [
    "What is the length of numbers?"
   ]
  },
  {
   "cell_type": "code",
   "execution_count": null,
   "metadata": {
    "colab": {},
    "colab_type": "code",
    "id": "w_A01eW29kQW"
   },
   "outputs": [],
   "source": [
    "# print length of numbers\n"
   ]
  },
  {
   "cell_type": "markdown",
   "metadata": {
    "colab_type": "text",
    "id": "au93o8uu9kQZ"
   },
   "source": [
    "What happens if you add the food and numbers together?"
   ]
  },
  {
   "cell_type": "code",
   "execution_count": null,
   "metadata": {
    "colab": {},
    "colab_type": "code",
    "id": "oDYmge9b9kQa"
   },
   "outputs": [],
   "source": [
    "# add food and numbers together and print it out\n"
   ]
  },
  {
   "cell_type": "markdown",
   "metadata": {
    "colab_type": "text",
    "id": "Rv4RN5km9kQd"
   },
   "source": [
    "Nice job! You just learned how to make 2D lists in Python!\n"
   ]
  }
 ],
 "metadata": {
  "colab": {
   "collapsed_sections": [],
   "name": "Lesson06_2D_Lists.ipynb",
   "provenance": [],
   "version": "0.3.2"
  },
  "kernelspec": {
   "display_name": "Python 3",
   "language": "python",
   "name": "python3"
  },
  "language_info": {
   "codemirror_mode": {
    "name": "ipython",
    "version": 3
   },
   "file_extension": ".py",
   "mimetype": "text/x-python",
   "name": "python",
   "nbconvert_exporter": "python",
   "pygments_lexer": "ipython3",
   "version": "3.7.3"
  }
 },
 "nbformat": 4,
 "nbformat_minor": 4
}
