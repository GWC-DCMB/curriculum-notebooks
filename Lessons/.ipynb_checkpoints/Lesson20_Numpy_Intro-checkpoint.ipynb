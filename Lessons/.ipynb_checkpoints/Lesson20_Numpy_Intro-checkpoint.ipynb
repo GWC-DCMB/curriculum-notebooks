{
 "cells": [
  {
   "cell_type": "markdown",
   "metadata": {
    "colab_type": "text",
    "id": "fhg6JOUipvkU"
   },
   "source": [
    "# Introduction to Numpy\n",
    "\n",
    "In the last two days of camp, you have learned how to start using python and how to manipulate data with the `pandas` library. Today, we will be learning how to perform calculations with another library known as `numpy`. `numpy` allows you to do math on entire lists of data, all at the same time!"
   ]
  },
  {
   "cell_type": "markdown",
   "metadata": {
    "colab_type": "text",
    "id": "YoGzk6H1pvkV"
   },
   "source": [
    "To review what we learned on monday, let's create a list containing the numbers 0 through 5 and assign it to a variable:"
   ]
  },
  {
   "cell_type": "code",
   "execution_count": null,
   "metadata": {
    "colab": {},
    "colab_type": "code",
    "id": "s2EQD0wEpvkW"
   },
   "outputs": [],
   "source": [
    "# Create a list containing the numbers 0 through 4\n",
    "\n",
    "\n",
    "# or convert the range to a list\n"
   ]
  },
  {
   "cell_type": "code",
   "execution_count": null,
   "metadata": {
    "colab": {},
    "colab_type": "code",
    "id": "N1uGkMLj2us0"
   },
   "outputs": [],
   "source": [
    "# let's see what it looks like\n"
   ]
  },
  {
   "cell_type": "markdown",
   "metadata": {
    "colab_type": "text",
    "id": "OvSKPwFspvka"
   },
   "source": [
    "Using lists can be really useful, because you can store any set of data in the. For instance, you could store the temperature in your house each morning as a list.\n",
    "\n",
    "Now, lets add 1 to each of the items in the list. Is there a simple way to do this?"
   ]
  },
  {
   "cell_type": "code",
   "execution_count": null,
   "metadata": {
    "colab": {},
    "colab_type": "code",
    "id": "wHp0jtLr-eET"
   },
   "outputs": [],
   "source": [
    "data + 1"
   ]
  },
  {
   "cell_type": "markdown",
   "metadata": {
    "colab_type": "text",
    "id": "2OtvNh0F-eEX"
   },
   "source": [
    "hmm ... that didn't work! That is because the `+` operator acts as a concatenation operator on lists, and we learned in Lesson 2 that we can only concatenate lists with lists, not integers. \n",
    "\n",
    "Another way we could update our list is to add 1 to each of the items in the list individually. We can do this by **indexing** to isolate each value in the list one by one. "
   ]
  },
  {
   "cell_type": "code",
   "execution_count": null,
   "metadata": {
    "colab": {},
    "colab_type": "code",
    "id": "qFchEEvkpvkb"
   },
   "outputs": [],
   "source": [
    "# Add 1 to each item in the array you created above\n",
    "\n",
    "\n",
    "# print the list to see how it changed\n"
   ]
  },
  {
   "cell_type": "markdown",
   "metadata": {
    "colab_type": "text",
    "id": "9vRgbEEhpvkk"
   },
   "source": [
    "You might have noticed that this is a little less convenient than with a single variable, where you can do something like this to add a number:"
   ]
  },
  {
   "cell_type": "code",
   "execution_count": null,
   "metadata": {
    "colab": {},
    "colab_type": "code",
    "id": "jc5cRe99pvkl"
   },
   "outputs": [],
   "source": [
    "# create a single variable and add a number to it\n"
   ]
  },
  {
   "cell_type": "markdown",
   "metadata": {
    "colab_type": "text",
    "id": "ZPdA2YAmpvkp"
   },
   "source": [
    "Today we will be using `numpy`, which allows us to quickly and efficiently perform mathematical operations on entire lists (or, as they're called in `numpy`, *arrays*)!"
   ]
  },
  {
   "cell_type": "markdown",
   "metadata": {
    "colab_type": "text",
    "id": "kxiwgby4pvkq"
   },
   "source": [
    "First we will import `numpy`. Remember when we imported `pandas`, we gave it the special nickname `pd`? We're also going to give `numpy` a nickname: `np`:"
   ]
  },
  {
   "cell_type": "code",
   "execution_count": null,
   "metadata": {
    "colab": {},
    "colab_type": "code",
    "id": "uN4ydfz8pvkr"
   },
   "outputs": [],
   "source": [
    "# Load numpy\n"
   ]
  },
  {
   "cell_type": "markdown",
   "metadata": {
    "colab_type": "text",
    "id": "Mpvw3-NApvku"
   },
   "source": [
    "Now whenever we type `np`, python will know we really mean `numpy`.\n",
    "\n",
    "There is a ton of useful stuff we can do with `numpy`, so let's redo the example above using `numpy` `arrays` instead of `lists`."
   ]
  },
  {
   "cell_type": "code",
   "execution_count": null,
   "metadata": {
    "colab": {},
    "colab_type": "code",
    "id": "nenQbNPypvkv"
   },
   "outputs": [],
   "source": [
    "# create a numpy array containing the numbers 0 through 4\n",
    "\n",
    "# you can print arrays just like lists\n",
    "\n",
    "\n"
   ]
  },
  {
   "cell_type": "markdown",
   "metadata": {
    "colab_type": "text",
    "id": "alY8TwmVpvk0"
   },
   "source": [
    "Numpy `arrays` act very similarly to regular python `lists`, we can grab individual items using the same syntax:"
   ]
  },
  {
   "cell_type": "code",
   "execution_count": null,
   "metadata": {
    "colab": {},
    "colab_type": "code",
    "id": "kyP00fcRpvk2"
   },
   "outputs": [],
   "source": [
    "# Print any number from the numpy array you just created:\n"
   ]
  },
  {
   "cell_type": "markdown",
   "metadata": {
    "colab_type": "text",
    "id": "D5u5-neLpvk6"
   },
   "source": [
    "Numpy `arrays` also add a lot of useful features such as the ability to perform commands *on all items in a list at the same time*.\n",
    "\n",
    "We can demonstrate this by adding a number to all of the items in the Numpy `array`:"
   ]
  },
  {
   "cell_type": "code",
   "execution_count": null,
   "metadata": {
    "colab": {},
    "colab_type": "code",
    "id": "J2RmzwCrpvk7"
   },
   "outputs": [],
   "source": [
    "# Add any number to the array we created above\n",
    "\n",
    "# print the array\n"
   ]
  },
  {
   "cell_type": "markdown",
   "metadata": {
    "colab_type": "text",
    "id": "REWquUE2pvlN"
   },
   "source": [
    "See how much easier that was than manually changing each element of a list? We will be using `numpy` for the rest of the day to perform calculations on arrays of data. In the above example we used addition, but you can also perform any mathematical operation we've talked about with `numpy` arrays.\n",
    "\n",
    "In this lesson you learned how to:\n",
    "* Load `numpy` into Python.\n",
    "* Create an `array` with `numpy`.\n",
    "* Perform math with `numpy` arrays.\n",
    "     \n",
    "Now, let's continue to practice with your partner!"
   ]
  }
 ],
 "metadata": {
  "colab": {
   "collapsed_sections": [],
   "name": "Lesson13_Numpy_Intro.ipynb",
   "provenance": [],
   "version": "0.3.2"
  },
  "kernelspec": {
   "display_name": "Python 3",
   "language": "python",
   "name": "python3"
  },
  "language_info": {
   "codemirror_mode": {
    "name": "ipython",
    "version": 3
   },
   "file_extension": ".py",
   "mimetype": "text/x-python",
   "name": "python",
   "nbconvert_exporter": "python",
   "pygments_lexer": "ipython3",
   "version": "3.7.3"
  }
 },
 "nbformat": 4,
 "nbformat_minor": 2
}
