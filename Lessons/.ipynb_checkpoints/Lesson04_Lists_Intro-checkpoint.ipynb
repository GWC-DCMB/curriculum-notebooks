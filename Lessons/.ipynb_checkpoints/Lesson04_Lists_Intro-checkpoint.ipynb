{
 "cells": [
  {
   "cell_type": "markdown",
   "metadata": {
    "colab_type": "text",
    "id": "tfq2BSWP9ZD2"
   },
   "source": [
    "# Lists\n",
    "Lists can be used to group different values together - it's just a collection of things.\n",
    "\n",
    "You can make a list in Python by putting different things in a box of brackets `[]` separated by commas:"
   ]
  },
  {
   "cell_type": "code",
   "execution_count": null,
   "metadata": {
    "colab": {},
    "colab_type": "code",
    "id": "wb6cL34F9ZD4"
   },
   "outputs": [],
   "source": [
    "# command Python to make a list and store it in my_list\n",
    "my_list = ['pizza', 'fries', 3, -2.5, 'donuts']\n",
    "\n",
    "# command Python to print my_list\n"
   ]
  },
  {
   "cell_type": "markdown",
   "metadata": {
    "colab_type": "text",
    "id": "TTlzP6Lv9ZD-"
   },
   "source": [
    "Now let's make a list of fruit and save it to the variable `fruit`. Have your list include apple, banana, grape, and any other fruit you want!"
   ]
  },
  {
   "cell_type": "code",
   "execution_count": null,
   "metadata": {
    "colab": {},
    "colab_type": "code",
    "id": "ho_vmHgZ9ZD_"
   },
   "outputs": [],
   "source": [
    "# command Python to make a list of fruit including apple, banana, and grape\n",
    "\n",
    "# command Python to print the list of fruit\n"
   ]
  },
  {
   "cell_type": "markdown",
   "metadata": {
    "colab_type": "text",
    "id": "BuvHzVvk9ZEC"
   },
   "source": [
    "You can also see how many things there are in your list using `len`:"
   ]
  },
  {
   "cell_type": "code",
   "execution_count": null,
   "metadata": {
    "colab": {},
    "colab_type": "code",
    "id": "5GmlLobE9ZED"
   },
   "outputs": [],
   "source": [
    "# command Python to find the length of my_list\n"
   ]
  },
  {
   "cell_type": "markdown",
   "metadata": {
    "colab_type": "text",
    "id": "SNv2VyOM9ZEG"
   },
   "source": [
    "Let's find the length of `fruit` list:"
   ]
  },
  {
   "cell_type": "code",
   "execution_count": null,
   "metadata": {
    "colab": {},
    "colab_type": "code",
    "id": "QS3a2FJ39ZEG"
   },
   "outputs": [],
   "source": [
    "# command Python to find the length of your fruit list\n"
   ]
  },
  {
   "cell_type": "markdown",
   "metadata": {
    "colab_type": "text",
    "id": "ugWMnNNB9ZEJ"
   },
   "source": [
    "To add lists together, all you have to do is use the `+` operator."
   ]
  },
  {
   "cell_type": "code",
   "execution_count": null,
   "metadata": {
    "colab": {},
    "colab_type": "code",
    "id": "qa5M6hwc9ZEK"
   },
   "outputs": [],
   "source": [
    "# command python to add my_list and fruit\n"
   ]
  },
  {
   "cell_type": "markdown",
   "metadata": {
    "colab_type": "text",
    "id": "-D4zHvU_9ZEM"
   },
   "source": [
    "You can also make a list that includes variables:"
   ]
  },
  {
   "cell_type": "code",
   "execution_count": null,
   "metadata": {
    "colab": {},
    "colab_type": "code",
    "id": "QOpJS5BB9ZEN"
   },
   "outputs": [],
   "source": [
    "# assign the value 1 to the variable a\n",
    "\n",
    "# assign the value 2 to the variable b\n"
   ]
  },
  {
   "cell_type": "code",
   "execution_count": null,
   "metadata": {
    "colab": {},
    "colab_type": "code",
    "id": "4V3Bp2XE9ZEP"
   },
   "outputs": [],
   "source": [
    "# make a list including values and variables and save it to the variable numbers\n",
    "numbers = [0, a, b, a+b]\n",
    "# print the numbers list\n"
   ]
  },
  {
   "cell_type": "markdown",
   "metadata": {
    "colab_type": "text",
    "id": "3deCeo2V9ZET"
   },
   "source": [
    "To add a value to a list, you can use `.append()`:"
   ]
  },
  {
   "cell_type": "code",
   "execution_count": null,
   "metadata": {
    "colab": {},
    "colab_type": "code",
    "id": "yN-kLbau9ZET"
   },
   "outputs": [],
   "source": [
    "# append 4 to the list numbers\n",
    "numbers.append(4)\n",
    "# print numbers\n"
   ]
  },
  {
   "cell_type": "markdown",
   "metadata": {
    "colab_type": "text",
    "id": "bLioSI6X9ZEX"
   },
   "source": [
    "Let's add mango to our fruit list:"
   ]
  },
  {
   "cell_type": "code",
   "execution_count": null,
   "metadata": {
    "colab": {},
    "colab_type": "code",
    "id": "GJypaKrr9ZEY"
   },
   "outputs": [],
   "source": [
    "# add mango to fruit list\n",
    "\n",
    "# print fruit\n"
   ]
  },
  {
   "cell_type": "markdown",
   "metadata": {
    "colab_type": "text",
    "id": "AQ3IHiJM9ZEd"
   },
   "source": [
    "You just learned how to:\n",
    "* Make a list ([])\n",
    "* Find the length of a list (len)\n",
    "* Add lists together (+)\n",
    "* Add things to a list (.append)\n",
    "\n",
    "Now it's time to practice what you learned!"
   ]
  }
 ],
 "metadata": {
  "colab": {
   "collapsed_sections": [],
   "name": "Lesson04_Lists_Intro.ipynb",
   "provenance": [],
   "version": "0.3.2"
  },
  "kernelspec": {
   "display_name": "Python 3",
   "language": "python",
   "name": "python3"
  },
  "language_info": {
   "codemirror_mode": {
    "name": "ipython",
    "version": 3
   },
   "file_extension": ".py",
   "mimetype": "text/x-python",
   "name": "python",
   "nbconvert_exporter": "python",
   "pygments_lexer": "ipython3",
   "version": "3.7.3"
  }
 },
 "nbformat": 4,
 "nbformat_minor": 4
}
