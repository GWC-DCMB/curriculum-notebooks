{
 "cells": [
  {
   "cell_type": "markdown",
   "metadata": {},
   "source": [
    "# Line Graphs\n",
    "\n",
    "Line graphs are often used to show the change in a single variable over time. In this lesson we're going to learn how to make and customize line graphs using a **package** called `seaborn`, which we will give the nickname `sns`."
   ]
  },
  {
   "cell_type": "code",
   "execution_count": 1,
   "metadata": {
    "collapsed": true
   },
   "outputs": [],
   "source": [
    "# import seaborn and nickname it sns\n",
    "\n",
    "# import numpy and nickname it np\n",
    "\n",
    "# set up inline figures\n"
   ]
  },
  {
   "cell_type": "markdown",
   "metadata": {},
   "source": [
    "`seaborn` is mainly a package for plotting, but we can also load some built-in datasets using the `load_dataset` function."
   ]
  },
  {
   "cell_type": "code",
   "execution_count": 2,
   "metadata": {},
   "outputs": [],
   "source": [
    "# load fmri dataset\n",
    "\n",
    "# preview fmri dataset\n"
   ]
  },
  {
   "cell_type": "code",
   "execution_count": 3,
   "metadata": {},
   "outputs": [],
   "source": [
    "# get unique subjects\n"
   ]
  },
  {
   "cell_type": "markdown",
   "metadata": {},
   "source": [
    "This data contains [fMRI signals](https://en.wikipedia.org/wiki/Functional_magnetic_resonance_imaging) in the frontal and parietal regions of the brain over time for 14 subjects (s0 - s13). To illustrate how this signal changes over the timeframe of the fMRI scan, let's make our first line graph."
   ]
  },
  {
   "cell_type": "code",
   "execution_count": 4,
   "metadata": {},
   "outputs": [],
   "source": [
    "# line graph of fmri signal over time\n"
   ]
  },
  {
   "cell_type": "markdown",
   "metadata": {},
   "source": [
    "Can you guess why this plot returns both a line and a shaded area?\n",
    "\n",
    "If we look back at our data preview, we can see that the `fmri` dataset contains data for several subjects, regions and events - meaning each `timepoint` has not just one, but multiple corresponding `signal` values. When this happens, `seaborn` knows to take the **mean** of the data (shown as the single line), but also report the **spread** of the data (here, the *confidence interval*, shown in the shaded band) to give us a sense of how similar/different the signal is across our subjects/regions/events.\n",
    "\n",
    "But what if we wanted to visualize the *difference* between the signal in the frontal region vs. parietal region? `seaborn` lets us do this really simply with the `hue` parameter:"
   ]
  },
  {
   "cell_type": "code",
   "execution_count": 5,
   "metadata": {},
   "outputs": [],
   "source": [
    "# separate plot by event column\n"
   ]
  },
  {
   "cell_type": "markdown",
   "metadata": {},
   "source": [
    "Based on this plot what can we infer about the two regions in this fMRI scan? By separating the signal in the two regions we can easily see that the spike in signal is not as strong in the frontal region (orange) as it is in the parietal region (blue). \n",
    "\n",
    "What if we now wanted to separate the plot by the `event` column to see the differences between the *cue* and *stim* conditions? We could change the value of the `hue` parameter, or we could use another parameter - `style`."
   ]
  },
  {
   "cell_type": "code",
   "execution_count": 6,
   "metadata": {},
   "outputs": [],
   "source": [
    "# separate and style plot by event column\n"
   ]
  },
  {
   "cell_type": "markdown",
   "metadata": {},
   "source": [
    "As you can see the `style` parameter separates our plot using different line styles, rather than different color lines. Based on this plot we can see the signal has a much higher spike in the *stim* condition than in the *cue* condition.\n",
    "\n",
    "Finally, we can combine the `hue` and `style` parameters to separate our plot even more granularly."
   ]
  },
  {
   "cell_type": "code",
   "execution_count": 7,
   "metadata": {},
   "outputs": [],
   "source": [
    "# separate and style plot by event column\n"
   ]
  },
  {
   "cell_type": "markdown",
   "metadata": {},
   "source": [
    "What can you infer based on this plot?"
   ]
  },
  {
   "cell_type": "markdown",
   "metadata": {},
   "source": [
    "In this lesson you learned:\n",
    "* Plotting line graphs the `seaborn` package\n",
    "* Separating the graph by another variable using colors (`hue`)\n",
    "* Separating the graph by another variable using line type (`style`)\n",
    "* Separating the graph by multiple variables (combine `hue` and `style`)"
   ]
  }
 ],
 "metadata": {
  "kernelspec": {
   "display_name": "Python 3",
   "language": "python",
   "name": "python3"
  },
  "language_info": {
   "codemirror_mode": {
    "name": "ipython",
    "version": 3
   },
   "file_extension": ".py",
   "mimetype": "text/x-python",
   "name": "python",
   "nbconvert_exporter": "python",
   "pygments_lexer": "ipython3",
   "version": "3.6.9"
  }
 },
 "nbformat": 4,
 "nbformat_minor": 2
}
