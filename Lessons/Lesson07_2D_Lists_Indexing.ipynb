{
 "cells": [
  {
   "cell_type": "markdown",
   "metadata": {
    "colab_type": "text",
    "id": "29yiwmot9nYc"
   },
   "source": [
    "# 2D Lists Indexing\n",
    "**Remember:** \n",
    "- Lists can be used to group different values together - it's just a collection of things.\n",
    "- You can make a list in Python by putting different things in a box of brackets `[]` separated by commas\n",
    "- You can make lists of lists, which are called 2D lists\n",
    "\n",
    "Here we're going to learn how to index lists of lists. Let's use our 2D list of food:"
   ]
  },
  {
   "cell_type": "code",
   "execution_count": null,
   "metadata": {
    "colab": {},
    "colab_type": "code",
    "id": "IOcQNNMe9nYn"
   },
   "outputs": [],
   "source": [
    "# create 2D list\n",
    "food = [['apple', 'banana', 'grape', 'mango'], \n",
    "        ['lettuce','carrot','cucumber','beet'], \n",
    "        ['chicken', 'beef', 'fish', 'pork']]\n",
    "\n",
    "# print 2D list\n"
   ]
  },
  {
   "cell_type": "markdown",
   "metadata": {
    "colab_type": "text",
    "id": "7Q43XuTd9nY2"
   },
   "source": [
    "The fruit list is the first element in food. Let's get the fruit list from food:"
   ]
  },
  {
   "cell_type": "code",
   "execution_count": null,
   "metadata": {
    "colab": {},
    "colab_type": "code",
    "id": "JlhVFoJY9nY3"
   },
   "outputs": [],
   "source": [
    "# get the fruit list from the food list\n"
   ]
  },
  {
   "cell_type": "markdown",
   "metadata": {
    "colab_type": "text",
    "id": "xcrcu8A29nY9"
   },
   "source": [
    "What is the length of the first index of food?"
   ]
  },
  {
   "cell_type": "code",
   "execution_count": null,
   "metadata": {
    "colab": {},
    "colab_type": "code",
    "id": "tU-X_8-m9nY_"
   },
   "outputs": [],
   "source": [
    "# print length of the first index of food\n"
   ]
  },
  {
   "cell_type": "markdown",
   "metadata": {
    "colab_type": "text",
    "id": "tfTrX6Gp9nZC"
   },
   "source": [
    "How can you get the lists fruit and vegetables from the list?"
   ]
  },
  {
   "cell_type": "code",
   "execution_count": null,
   "metadata": {
    "colab": {},
    "colab_type": "code",
    "id": "8jJafNYO9nZD"
   },
   "outputs": [],
   "source": [
    "# get fruit and vegetables from the list\n"
   ]
  },
  {
   "cell_type": "markdown",
   "metadata": {
    "colab_type": "text",
    "id": "1Wx7MJoy9nZH"
   },
   "source": [
    "What if we want to get mango from our list? We can get the fruit list and then get mango from the fruit list:"
   ]
  },
  {
   "cell_type": "code",
   "execution_count": null,
   "metadata": {
    "colab": {},
    "colab_type": "code",
    "id": "a4LDnsS_9nZI"
   },
   "outputs": [],
   "source": [
    "# get the fruit list from food and save it in the variable fruit\n",
    "\n",
    "# print the fruit list to make sure you got what you wanted\n",
    "\n",
    "# get mango from the fruit list\n"
   ]
  },
  {
   "cell_type": "markdown",
   "metadata": {
    "colab_type": "text",
    "id": "L6Kwp0eM9nZM"
   },
   "source": [
    "We can also get mango from our list in one line! To do this, we can just index twice. The first index is to get the fruit list, and the second index is to get mango from the fruit list:"
   ]
  },
  {
   "cell_type": "code",
   "execution_count": null,
   "metadata": {
    "colab": {},
    "colab_type": "code",
    "id": "DOViyVOc9nZN"
   },
   "outputs": [],
   "source": [
    "# get mango by indexing the food list twice\n"
   ]
  },
  {
   "cell_type": "markdown",
   "metadata": {
    "colab_type": "text",
    "id": "O7L7CSrq9nZR"
   },
   "source": [
    "How can you get carrot from the food 2D list?"
   ]
  },
  {
   "cell_type": "code",
   "execution_count": null,
   "metadata": {
    "colab": {},
    "colab_type": "code",
    "id": "ecVtMCYR9nZS"
   },
   "outputs": [],
   "source": [
    "# get carrot from the food 2D list\n"
   ]
  },
  {
   "cell_type": "markdown",
   "metadata": {
    "colab_type": "text",
    "id": "t_wprjQ29nZX"
   },
   "source": [
    "Now, try getting fish and pork from the food 2D list:"
   ]
  },
  {
   "cell_type": "code",
   "execution_count": null,
   "metadata": {
    "colab": {},
    "colab_type": "code",
    "id": "Ke4PoTQq9nZa"
   },
   "outputs": [],
   "source": [
    "# get fish and pork from the food 2D list\n"
   ]
  },
  {
   "cell_type": "markdown",
   "metadata": {
    "colab_type": "text",
    "id": "VQwbG1jM9nZe"
   },
   "source": [
    "Finally, let's make a new list called favorites with your favorite food within each list in food. Print it out afterwards to make sure you did what you want!"
   ]
  },
  {
   "cell_type": "code",
   "execution_count": null,
   "metadata": {
    "colab": {},
    "colab_type": "code",
    "id": "c5Bg5o0x9nZf"
   },
   "outputs": [],
   "source": [
    "# make a list of your favorite fruit, vegetable, and meat\n",
    "\n",
    "# print favorite\n"
   ]
  },
  {
   "cell_type": "markdown",
   "metadata": {
    "colab_type": "text",
    "id": "mvTiUA-q9nZk"
   },
   "source": [
    "Nice job! You just learned how to index 2D lists in Python!"
   ]
  }
 ],
 "metadata": {
  "kernelspec": {
   "display_name": "Python 3",
   "language": "python",
   "name": "python3"
  },
  "language_info": {
   "codemirror_mode": {
    "name": "ipython",
    "version": 3
   },
   "file_extension": ".py",
   "mimetype": "text/x-python",
   "name": "python",
   "nbconvert_exporter": "python",
   "pygments_lexer": "ipython3",
   "version": "3.7.3"
  }
 },
 "nbformat": 4,
 "nbformat_minor": 4
}