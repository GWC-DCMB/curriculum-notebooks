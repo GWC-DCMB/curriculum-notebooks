{
 "cells": [
  {
   "cell_type": "markdown",
   "metadata": {
    "colab_type": "text",
    "id": "fhg6JOUipvkU"
   },
   "source": [
    "# Introduction to Numpy\n",
    "\n",
    "RECAP: You have previously learned how to manipulate data with the `pandas` library. \n",
    "\n",
    "Today, we will be learning how to perform calculations with another library known as __`numpy`.__ `numpy` allows you to do math on entire lists of data, all at the same time!"
   ]
  },
  {
   "cell_type": "markdown",
   "metadata": {
    "colab_type": "text",
    "id": "YoGzk6H1pvkV"
   },
   "source": [
    "Let's __create a list containing the numbers 0 through 5__ and assign it to a variable:"
   ]
  },
  {
   "cell_type": "code",
   "execution_count": 0,
   "metadata": {
    "colab": {},
    "colab_type": "code",
    "collapsed": true,
    "id": "s2EQD0wEpvkW"
   },
   "outputs": [],
   "source": [
    "# Create a list containing the numbers 0 through 4\n",
    "\n",
    "\n",
    "# or convert the range to a list\n"
   ]
  },
  {
   "cell_type": "code",
   "execution_count": 0,
   "metadata": {
    "colab": {},
    "colab_type": "code",
    "collapsed": true,
    "id": "N1uGkMLj2us0"
   },
   "outputs": [],
   "source": [
    "# let's see what it looks like\n"
   ]
  },
  {
   "cell_type": "markdown",
   "metadata": {
    "colab_type": "text",
    "id": "OvSKPwFspvka"
   },
   "source": [
    "Using lists can be really useful, because you can store any set of data in the list.\n",
    "\n",
    "Now, lets __add 1 to each of the items in the list.__ Is there a simple way to do this?"
   ]
  },
  {
   "cell_type": "code",
   "execution_count": 0,
   "metadata": {
    "colab": {},
    "colab_type": "code",
    "collapsed": true,
    "id": "wHp0jtLr-eET"
   },
   "outputs": [],
   "source": [
    "data + 1"
   ]
  },
  {
   "cell_type": "markdown",
   "metadata": {
    "colab_type": "text",
    "id": "2OtvNh0F-eEX"
   },
   "source": [
    "hmm ... that didn't work! That is because __the `+` operator acts as a concatenation operator__ on lists, and we learned previously that we can only concatenate lists with lists, not with integers. \n",
    "\n",
    "Another way we could update our list is to add 1 to each of the items in the list individually. We can do this by **indexing to isolate each value** in the list one by one. "
   ]
  },
  {
   "cell_type": "code",
   "execution_count": 0,
   "metadata": {
    "colab": {},
    "colab_type": "code",
    "collapsed": true,
    "id": "qFchEEvkpvkb"
   },
   "outputs": [],
   "source": [
    "# Add 1 to each item in the array you created above\n",
    "\n",
    "\n",
    "# print the list to see how it changed\n"
   ]
  },
  {
   "cell_type": "markdown",
   "metadata": {
    "colab_type": "text",
    "id": "9vRgbEEhpvkk"
   },
   "source": [
    "__This is very inconvenient with a list.__ It is more useful with a single number, where you can do something like this to add a number:"
   ]
  },
  {
   "cell_type": "code",
   "execution_count": 0,
   "metadata": {
    "colab": {},
    "colab_type": "code",
    "collapsed": true,
    "id": "jc5cRe99pvkl"
   },
   "outputs": [],
   "source": [
    "# create a single variable and add a number to it\n"
   ]
  },
  {
   "cell_type": "markdown",
   "metadata": {
    "colab_type": "text",
    "id": "ZPdA2YAmpvkp"
   },
   "source": [
    "Today we will be using __`numpy`__, which allows us to quickly and efficiently perform mathematical operations on entire lists (or, as they're called in __`numpy`__, *arrays*)!"
   ]
  },
  {
   "cell_type": "markdown",
   "metadata": {
    "colab_type": "text",
    "id": "kxiwgby4pvkq"
   },
   "source": [
    "First we will __import `numpy`.__ Remember when we imported `pandas`, we gave it the special nickname `pd`? We're also going to give `numpy` a nickname: __`np`__:"
   ]
  },
  {
   "cell_type": "code",
   "execution_count": 0,
   "metadata": {
    "colab": {},
    "colab_type": "code",
    "collapsed": true,
    "id": "uN4ydfz8pvkr"
   },
   "outputs": [],
   "source": [
    "# Load numpy\n"
   ]
  },
  {
   "cell_type": "markdown",
   "metadata": {
    "colab_type": "text",
    "id": "Mpvw3-NApvku"
   },
   "source": [
    "Now whenever we type __`np`, python will know we really mean `numpy`.__\n",
    "\n",
    "There is a ton of useful stuff we can do with `numpy`, so let's __redo the example above using `numpy` `arrays`__ instead of `lists`."
   ]
  },
  {
   "cell_type": "code",
   "execution_count": null,
   "metadata": {
    "collapsed": true
   },
   "outputs": [],
   "source": []
  },
  {
   "cell_type": "code",
   "execution_count": 0,
   "metadata": {
    "colab": {},
    "colab_type": "code",
    "collapsed": true,
    "id": "nenQbNPypvkv"
   },
   "outputs": [],
   "source": [
    "# create a numpy array containing the numbers 0 through 4\n",
    "\n",
    "# you can print arrays just like lists\n",
    "\n",
    "\n"
   ]
  },
  {
   "cell_type": "markdown",
   "metadata": {
    "colab_type": "text",
    "id": "alY8TwmVpvk0"
   },
   "source": [
    "Numpy `arrays` act very similarly to regular python `lists`, __we can grab individual items using the same syntax:__"
   ]
  },
  {
   "cell_type": "code",
   "execution_count": 0,
   "metadata": {
    "colab": {},
    "colab_type": "code",
    "collapsed": true,
    "id": "kyP00fcRpvk2"
   },
   "outputs": [],
   "source": [
    "# Print any number from the numpy array you just created:\n"
   ]
  },
  {
   "cell_type": "markdown",
   "metadata": {
    "colab_type": "text",
    "id": "D5u5-neLpvk6"
   },
   "source": [
    "Numpy `arrays` also add a lot of useful features such as the ability to perform commands __*on all items in a list at the same time*.__\n",
    "\n",
    "We can demonstrate this by __adding a number to all of the items in the Numpy `array`__:"
   ]
  },
  {
   "cell_type": "code",
   "execution_count": 0,
   "metadata": {
    "colab": {},
    "colab_type": "code",
    "collapsed": true,
    "id": "J2RmzwCrpvk7"
   },
   "outputs": [],
   "source": [
    "# Add any number to the array we created above\n",
    "\n",
    "# print the array\n"
   ]
  },
  {
   "cell_type": "markdown",
   "metadata": {
    "colab_type": "text",
    "id": "REWquUE2pvlN"
   },
   "source": [
    "See how much easier that was than manually changing each element of a list? We will be using `numpy` a lot to perform calculations on arrays of data. In the above example we used addition, but you can also perform any mathematical operation we've talked about with `numpy` arrays.\n",
    "\n",
    "In this lesson you learned how to:\n",
    "* Load `numpy` into Python.\n",
    "* Create an `array` with `numpy`.\n",
    "* Perform math with `numpy` arrays.\n",
    "     "
   ]
  }
 ],
 "metadata": {
  "kernelspec": {
   "display_name": "Python 2",
   "language": "python",
   "name": "python2"
  },
  "language_info": {
   "codemirror_mode": {
    "name": "ipython",
    "version": 2
   },
   "file_extension": ".py",
   "mimetype": "text/x-python",
   "name": "python",
   "nbconvert_exporter": "python",
   "pygments_lexer": "ipython2",
   "version": "2.7.14"
  }
 },
 "nbformat": 4,
 "nbformat_minor": 1
}
