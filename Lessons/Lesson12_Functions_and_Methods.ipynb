{
 "nbformat": 4,
 "nbformat_minor": 0,
 "metadata": {
  "language_info": {
   "codemirror_mode": {
    "name": "ipython",
    "version": 3
   },
   "file_extension": ".py",
   "mimetype": "text/x-python",
   "name": "python",
   "nbconvert_exporter": "python",
   "pygments_lexer": "ipython3",
   "version": "3.7.3"
  },
  "kernelspec": {
   "display_name": "Python 3",
   "language": "python",
   "name": "python3"
  }
 },
 "cells": [
  {
   "cell_type": "markdown",
   "metadata": {
    "id": "0L2rJFyG911J",
    "colab_type": "text"
   },
   "source": [
    "# Functions and Methods\n",
    "\n",
    "Functions and methods are things that take an input, do something with that input, and then spit out an output. You've already been using functions and methods! \n",
    "\n",
    "Examples of functions:\n",
    "- `print`: prints the input out to the screen\n",
    "- `len`: finds the length of the input\n",
    "\n",
    "Example of a method:\n",
    "- `append`: appends elements to a list\n",
    "\n",
    "So what's the difference between functions and methods?\n",
    "\n",
    "Differences in input:\n",
    "- **Functions** can take lots of different object types as input. For example, print can take a variety of inputs including a variable, a string, a list, or numbers. \n",
    "- **Methods** can only be used on one specific type of object. For example, append can only be used on lists (and not strings or numbers).\n",
    "\n",
    "Differences in syntax (how we write it to use it):\n",
    "- The input to **functions** goes *between* parentheses after the name of function\n",
    "  - Example: `print(print_input)` \n",
    "\n",
    "\n",
    "- At least part of the input to **methods** comes *before* the name of the method and is followed by a period (`.`)\n",
    "  - Example: `mylist.append(what_to_append)`\n",
    "  \n",
    "We're going to learn a few more functions and methods here!\n",
    "\n",
    "Let's start by learning some functions and methods we can use with lists of numbers!"
   ]
  },
  {
   "cell_type": "code",
   "metadata": {
    "id": "BPi-SJjd911L",
    "colab_type": "code",
    "colab": {}
   },
   "source": [
    "# make a list of numbers\n",
    "numbers = [10,2.3,-4,20,14,1,2,0,-3,1,-2,2,2,65.4,3,-23,123,43.1,32,57,32]"
   ],
   "execution_count": 0,
   "outputs": []
  },
  {
   "cell_type": "markdown",
   "metadata": {
    "id": "v1kdfgro911Q",
    "colab_type": "text"
   },
   "source": [
    "What function can you use to find the length of this list? Use this function to find the length:"
   ]
  },
  {
   "cell_type": "code",
   "metadata": {
    "id": "v0cR1R5E911S",
    "colab_type": "code",
    "colab": {}
   },
   "source": [
    "# get the length of numbers\n"
   ],
   "execution_count": 0,
   "outputs": []
  },
  {
   "cell_type": "markdown",
   "metadata": {
    "id": "12aKpQwU911V",
    "colab_type": "text"
   },
   "source": [
    "If you're not sure how to use a function, you can use the function `help` to get more information about it. Here's an exampmle to find more information about length:"
   ]
  },
  {
   "cell_type": "code",
   "metadata": {
    "id": "Sm09haXd911W",
    "colab_type": "code",
    "colab": {}
   },
   "source": [
    "# use help to find more information about the function length\n"
   ],
   "execution_count": 0,
   "outputs": []
  },
  {
   "cell_type": "markdown",
   "metadata": {
    "id": "-Xhgx94n911Z",
    "colab_type": "text"
   },
   "source": [
    "It tells you that len takes an object and returns the number of items in the object.\n",
    "\n",
    "To get the object type of `numbers` we can use the function `type`:"
   ]
  },
  {
   "cell_type": "code",
   "metadata": {
    "id": "Ij7JaVcM911a",
    "colab_type": "code",
    "colab": {}
   },
   "source": [
    "# print the type of numbers\n"
   ],
   "execution_count": 0,
   "outputs": []
  },
  {
   "cell_type": "markdown",
   "metadata": {
    "id": "hX1FOn-H911e",
    "colab_type": "text"
   },
   "source": [
    "Nice! It's a list, just like we expected. What do you think the type is of the first element in `numbers`?"
   ]
  },
  {
   "cell_type": "code",
   "metadata": {
    "id": "9M6UGyvp911f",
    "colab_type": "code",
    "colab": {}
   },
   "source": [
    "# print the first element of numbers\n",
    "\n",
    "# print the type of the first element of numbers\n"
   ],
   "execution_count": 0,
   "outputs": []
  },
  {
   "cell_type": "markdown",
   "metadata": {
    "id": "0uQBLXdz911i",
    "colab_type": "text"
   },
   "source": [
    "It's an integer. What about the type of the second element of numbers?"
   ]
  },
  {
   "cell_type": "code",
   "metadata": {
    "id": "uFm8dClb911j",
    "colab_type": "code",
    "colab": {}
   },
   "source": [
    "# print the second element of numbers\n",
    "\n",
    "# print the type of the second element of numbers\n"
   ],
   "execution_count": 0,
   "outputs": []
  },
  {
   "cell_type": "markdown",
   "metadata": {
    "id": "Q-e3MDNY911m",
    "colab_type": "text"
   },
   "source": [
    "It's a float. This means it has a decimal place (so it's not an integer). \n",
    "\n",
    "We can also find the absolute value of a number. Print the third element and then print the absolute value of this number using the function `abs`:"
   ]
  },
  {
   "cell_type": "code",
   "metadata": {
    "id": "xluiN7BO911o",
    "colab_type": "code",
    "colab": {}
   },
   "source": [
    "# print the third element of numbers\n",
    "\n",
    "# print the type of the third element of numbers\n"
   ],
   "execution_count": 0,
   "outputs": []
  },
  {
   "cell_type": "markdown",
   "metadata": {
    "id": "um6MU-Su911u",
    "colab_type": "text"
   },
   "source": [
    "Now let's find the minimum of the numbers list using the function `min` and the maximum of the numbers list using the function `max`:"
   ]
  },
  {
   "cell_type": "code",
   "metadata": {
    "id": "-MiXc1JZ911v",
    "colab_type": "code",
    "colab": {}
   },
   "source": [
    "# print the minimum of the numbers list\n",
    "\n",
    "# print the maximum of the numbers list\n"
   ],
   "execution_count": 0,
   "outputs": []
  },
  {
   "cell_type": "markdown",
   "metadata": {
    "id": "KSFeTEi5911y",
    "colab_type": "text"
   },
   "source": [
    "We can also find the sum of all of the numbers in `numbers` using the function `sum`:"
   ]
  },
  {
   "cell_type": "code",
   "metadata": {
    "id": "GWO_9czu911z",
    "colab_type": "code",
    "colab": {}
   },
   "source": [
    "# print the sum of numbers\n"
   ],
   "execution_count": 0,
   "outputs": []
  },
  {
   "cell_type": "markdown",
   "metadata": {
    "id": "Kxgz7lZL9112",
    "colab_type": "text"
   },
   "source": [
    "What if we want to find the mean of this list? Hint: We can use the functions `sum` and `len` to do this."
   ]
  },
  {
   "cell_type": "code",
   "metadata": {
    "id": "tKGUJzPB9112",
    "colab_type": "code",
    "colab": {}
   },
   "source": [
    "# save the mean of the numbers list to the variable avg\n",
    "\n",
    "# print avg\n"
   ],
   "execution_count": 0,
   "outputs": []
  },
  {
   "cell_type": "markdown",
   "metadata": {
    "id": "ppKP1yps9115",
    "colab_type": "text"
   },
   "source": [
    "What if we want to round this number so there aren't so many decimal places? We can use the function `round` to do this:"
   ]
  },
  {
   "cell_type": "code",
   "metadata": {
    "id": "H3c8bj-j9115",
    "colab_type": "code",
    "colab": {}
   },
   "source": [
    "# round avg\n"
   ],
   "execution_count": 0,
   "outputs": []
  },
  {
   "cell_type": "markdown",
   "metadata": {
    "id": "CZnu6Udy9117",
    "colab_type": "text"
   },
   "source": [
    "What if we want to include 2 decimal places when we round? We can use what's called an *argument* to tell the function that we want to do this. First, let's look at the help description for `round`:"
   ]
  },
  {
   "cell_type": "code",
   "metadata": {
    "id": "cl6TNVnt9118",
    "colab_type": "code",
    "colab": {}
   },
   "source": [
    "# get help for round function\n"
   ],
   "execution_count": 0,
   "outputs": []
  },
  {
   "cell_type": "markdown",
   "metadata": {
    "id": "FiKOUo17911-",
    "colab_type": "text"
   },
   "source": [
    "It says that the default number of digits to round to is zero, but you can also give an argument to specify the number of digits. To add an argument, you put a comma after the input and then the argument. Let's try it out!"
   ]
  },
  {
   "cell_type": "code",
   "metadata": {
    "id": "E_CExdaj911_",
    "colab_type": "code",
    "colab": {}
   },
   "source": [
    "# print avg rounded to 2 decimal places\n"
   ],
   "execution_count": 0,
   "outputs": []
  },
  {
   "cell_type": "markdown",
   "metadata": {
    "id": "fQ053kPF912B",
    "colab_type": "text"
   },
   "source": [
    "Nice job! You just learned about functions in Python! You learned:\n",
    "- What functions and methods do\n",
    "- The difference between functions and methods\n",
    "- How to learn more about a certain function or method (using the `help` function)\n",
    "- New functions: `max`, `min`, `sum`, `abs`, `round`\n",
    "- Functions can take arguments that modify the output "
   ]
  }
 ]
}