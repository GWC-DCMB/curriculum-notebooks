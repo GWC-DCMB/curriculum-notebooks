{
 "cells": [
  {
   "cell_type": "markdown",
   "metadata": {
    "colab_type": "text",
    "id": "0L2rJFyG911J"
   },
   "source": [
    "# Functions and Methods\n",
    "\n",
    "Functions and methods are things that take an input, do something with that input, and then spit out an output. You've already been using functions and methods! \n",
    "\n",
    "Examples of functions:\n",
    "- `print`: prints the input out to the screen\n",
    "- `len`: finds the length of the input\n",
    "\n",
    "Example of a method:\n",
    "- `append`: appends elements to a list\n",
    "\n",
    "So what's the difference between functions and methods?\n",
    "\n",
    "Differences in input:\n",
    "- **Functions** can take lots of different object types as input. For example, print can take a variety of inputs including a variable, a string, a list, or numbers. \n",
    "- **Methods** can only be used on one specific type of object. For example, append can only be used on lists (and not strings or numbers).\n",
    "\n",
    "Differences in syntax (how we write it to use it):\n",
    "- The input to **functions** goes *between* parentheses after the name of function\n",
    "  - Example: `print(print_input)` \n",
    "\n",
    "\n",
    "- At least part of the input to **methods** comes *before* the name of the method and is followed by a period (`.`)\n",
    "  - Example: `mylist.append(what_to_append)`\n",
    "  \n",
    "We're going to learn a few more functions and methods here!\n",
    "\n",
    "Let's start by learning some functions and methods we can use with lists of numbers!"
   ]
  },
  {
   "cell_type": "code",
   "execution_count": null,
   "metadata": {
    "colab": {},
    "colab_type": "code",
    "id": "BPi-SJjd911L"
   },
   "outputs": [],
   "source": [
    "# make a list of numbers\n",
    "numbers = [10,2.3,-4,20,14,1,2,0,-3,1,-2,2,2,65.4,3,-23,123,43.1,32,57,32]"
   ]
  },
  {
   "cell_type": "markdown",
   "metadata": {
    "colab_type": "text",
    "id": "v1kdfgro911Q"
   },
   "source": [
    "What function can you use to find the length of this list? Use this function to find the length:"
   ]
  },
  {
   "cell_type": "code",
   "execution_count": null,
   "metadata": {
    "colab": {},
    "colab_type": "code",
    "id": "v0cR1R5E911S"
   },
   "outputs": [],
   "source": [
    "# get the length of numbers\n"
   ]
  },
  {
   "cell_type": "markdown",
   "metadata": {
    "colab_type": "text",
    "id": "12aKpQwU911V"
   },
   "source": [
    "If you're not sure how to use a function, you can use the function `help` to get more information about it. Here's an example to find more information about length:"
   ]
  },
  {
   "cell_type": "code",
   "execution_count": null,
   "metadata": {
    "colab": {},
    "colab_type": "code",
    "id": "Sm09haXd911W"
   },
   "outputs": [],
   "source": [
    "# use help to find more information about the function length\n"
   ]
  },
  {
   "cell_type": "markdown",
   "metadata": {
    "colab_type": "text",
    "id": "-Xhgx94n911Z"
   },
   "source": [
    "It tells you that len takes an object and returns the number of items in the object.\n",
    "\n",
    "To get the object type of `numbers` we can use the function `type`:"
   ]
  },
  {
   "cell_type": "code",
   "execution_count": null,
   "metadata": {
    "colab": {},
    "colab_type": "code",
    "id": "Ij7JaVcM911a"
   },
   "outputs": [],
   "source": [
    "# print the type of numbers\n"
   ]
  },
  {
   "cell_type": "markdown",
   "metadata": {
    "colab_type": "text",
    "id": "hX1FOn-H911e"
   },
   "source": [
    "Nice! It's a list, just like we expected. What is the type of the first element in `numbers`?"
   ]
  },
  {
   "cell_type": "code",
   "execution_count": null,
   "metadata": {
    "colab": {},
    "colab_type": "code",
    "id": "9M6UGyvp911f"
   },
   "outputs": [],
   "source": [
    "# print the first element of numbers\n",
    "\n",
    "# print the type of the first element of numbers\n"
   ]
  },
  {
   "cell_type": "markdown",
   "metadata": {
    "colab_type": "text",
    "id": "0uQBLXdz911i"
   },
   "source": [
    "It's an integer. What about the type of the second element of numbers?"
   ]
  },
  {
   "cell_type": "code",
   "execution_count": null,
   "metadata": {
    "colab": {},
    "colab_type": "code",
    "id": "uFm8dClb911j"
   },
   "outputs": [],
   "source": [
    "# print the second element of numbers\n",
    "\n",
    "# print the type of the second element of numbers\n"
   ]
  },
  {
   "cell_type": "markdown",
   "metadata": {
    "colab_type": "text",
    "id": "Q-e3MDNY911m"
   },
   "source": [
    "It's a float. This means it has a decimal place (so it's not an integer). \n",
    "\n",
    "We can also find the absolute value of a number. Print the third element and then print the absolute value of this number using the function `abs`:"
   ]
  },
  {
   "cell_type": "code",
   "execution_count": null,
   "metadata": {
    "colab": {},
    "colab_type": "code",
    "id": "xluiN7BO911o"
   },
   "outputs": [],
   "source": [
    "# print the third element of numbers\n",
    "\n",
    "# print the absolute value of the third element of numbers"
   ]
  },
  {
   "cell_type": "markdown",
   "metadata": {
    "colab_type": "text",
    "id": "um6MU-Su911u"
   },
   "source": [
    "Now let's find the minimum of the numbers list using the function `min` and the maximum of the numbers list using the function `max`:"
   ]
  },
  {
   "cell_type": "code",
   "execution_count": null,
   "metadata": {
    "colab": {},
    "colab_type": "code",
    "id": "-MiXc1JZ911v"
   },
   "outputs": [],
   "source": [
    "# print the minimum of the numbers list\n",
    "\n",
    "# print the maximum of the numbers list\n"
   ]
  },
  {
   "cell_type": "markdown",
   "metadata": {
    "colab_type": "text",
    "id": "KSFeTEi5911y"
   },
   "source": [
    "We can also find the sum of all of the numbers in `numbers` using the function `sum`:"
   ]
  },
  {
   "cell_type": "code",
   "execution_count": null,
   "metadata": {
    "colab": {},
    "colab_type": "code",
    "id": "GWO_9czu911z"
   },
   "outputs": [],
   "source": [
    "# print the sum of numbers\n"
   ]
  },
  {
   "cell_type": "markdown",
   "metadata": {
    "colab_type": "text",
    "id": "Kxgz7lZL9112"
   },
   "source": [
    "What if we want to find the mean of this list? Hint: We can use the functions `sum` and `len` to do this."
   ]
  },
  {
   "cell_type": "code",
   "execution_count": null,
   "metadata": {
    "colab": {},
    "colab_type": "code",
    "id": "tKGUJzPB9112"
   },
   "outputs": [],
   "source": [
    "# save the mean of the numbers list to the variable avg\n",
    "\n",
    "# print avg\n"
   ]
  },
  {
   "cell_type": "markdown",
   "metadata": {
    "colab_type": "text",
    "id": "ppKP1yps9115"
   },
   "source": [
    "What if we want to round this number so there aren't so many decimal places? We can use the function `round` to do this:"
   ]
  },
  {
   "cell_type": "code",
   "execution_count": null,
   "metadata": {
    "colab": {},
    "colab_type": "code",
    "id": "H3c8bj-j9115"
   },
   "outputs": [],
   "source": [
    "# round avg\n"
   ]
  },
  {
   "cell_type": "markdown",
   "metadata": {
    "colab_type": "text",
    "id": "CZnu6Udy9117"
   },
   "source": [
    "What if we want to include 2 decimal places when we round? We can use what's called an *argument* to tell the function that we want to do this. First, let's look at the help description for `round`:"
   ]
  },
  {
   "cell_type": "code",
   "execution_count": null,
   "metadata": {
    "colab": {},
    "colab_type": "code",
    "id": "cl6TNVnt9118"
   },
   "outputs": [],
   "source": [
    "# get help for round function\n"
   ]
  },
  {
   "cell_type": "markdown",
   "metadata": {
    "colab_type": "text",
    "id": "FiKOUo17911-"
   },
   "source": [
    "It says that the default number of digits to round to is zero, but you can also give an argument to specify the number of digits. To add an argument, you put a comma after the input and then the argument. Let's try it out!"
   ]
  },
  {
   "cell_type": "code",
   "execution_count": null,
   "metadata": {
    "colab": {},
    "colab_type": "code",
    "id": "E_CExdaj911_"
   },
   "outputs": [],
   "source": [
    "# print avg rounded to 2 decimal places\n"
   ]
  },
  {
   "cell_type": "markdown",
   "metadata": {
    "colab_type": "text",
    "id": "fQ053kPF912B"
   },
   "source": [
    "Nice job! You just learned about functions in Python! You learned:\n",
    "- What functions and methods do\n",
    "- The difference between functions and methods\n",
    "- How to learn more about a certain function or method (using the `help` function)\n",
    "- New functions: `max`, `min`, `sum`, `abs`, `round`\n",
    "- Functions can take arguments that modify the output "
   ]
  }
 ],
 "metadata": {
  "kernelspec": {
   "display_name": "Python 3",
   "language": "python",
   "name": "python3"
  },
  "language_info": {
   "codemirror_mode": {
    "name": "ipython",
    "version": 3
   },
   "file_extension": ".py",
   "mimetype": "text/x-python",
   "name": "python",
   "nbconvert_exporter": "python",
   "pygments_lexer": "ipython3",
   "version": "3.7.3"
  }
 },
 "nbformat": 4,
 "nbformat_minor": 0
}
