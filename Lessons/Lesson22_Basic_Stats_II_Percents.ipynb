{
 "cells": [
  {
   "cell_type": "markdown",
   "metadata": {
    "colab_type": "text",
    "id": "pcMCEdrks7Ut"
   },
   "source": [
    "# Basic Statistics I:  Percents"
   ]
  },
  {
   "cell_type": "markdown",
   "metadata": {
    "colab_type": "text",
    "id": "wAk5jXgBs7U0"
   },
   "source": [
    "A **percentage** is a number or ratio expressed as a fraction of 100. We'll do some examples together to learn how to calculate percentages."
   ]
  },
  {
   "cell_type": "markdown",
   "metadata": {
    "colab_type": "text",
    "id": "vvDdKp98s7U3"
   },
   "source": [
    "**Example 1:** For a basket of 18 fruits, there are 5 apples, 3 bananas, 6 peaches, and 4 oranges."
   ]
  },
  {
   "cell_type": "markdown",
   "metadata": {
    "colab_type": "text",
    "id": "DFsUN3HAs7U4"
   },
   "source": [
    "What percentage of fruits are apples? "
   ]
  },
  {
   "cell_type": "code",
   "execution_count": null,
   "metadata": {
    "colab": {},
    "colab_type": "code",
    "id": "agUStgpUs7U5"
   },
   "outputs": [],
   "source": [
    "# Calculate percentage for apples\n"
   ]
  },
  {
   "cell_type": "markdown",
   "metadata": {
    "colab_type": "text",
    "id": "zGoaA_fhs7U9"
   },
   "source": [
    "What percentage of fruits are oranges **and** peaches? "
   ]
  },
  {
   "cell_type": "code",
   "execution_count": null,
   "metadata": {
    "colab": {},
    "colab_type": "code",
    "id": "DIr9ZO4us7U-"
   },
   "outputs": [],
   "source": [
    "# Calculate percentage for oranges and peaches\n"
   ]
  },
  {
   "cell_type": "markdown",
   "metadata": {
    "colab_type": "text",
    "id": "5ADm2TV-s7VG"
   },
   "source": [
    "**Example 2:**  Let's learn to calculate percentages by using real world data. We will work with a dataset of Boston housing prices."
   ]
  },
  {
   "cell_type": "code",
   "execution_count": null,
   "metadata": {
    "colab": {},
    "colab_type": "code",
    "id": "CSoS_MUus7VH"
   },
   "outputs": [],
   "source": [
    "# Import the load_boston method \n",
    "from sklearn.datasets import load_boston"
   ]
  },
  {
   "cell_type": "code",
   "execution_count": null,
   "metadata": {
    "colab": {},
    "colab_type": "code",
    "id": "9Q6sI8C0s7VL"
   },
   "outputs": [],
   "source": [
    "# Import pandas, so that we can work with the data frame version of the Boston housing data\n",
    "import pandas as pd"
   ]
  },
  {
   "cell_type": "code",
   "execution_count": null,
   "metadata": {
    "colab": {},
    "colab_type": "code",
    "id": "hepVTCgss7VR",
    "scrolled": true
   },
   "outputs": [],
   "source": [
    "# Load the dataset of housing prices in Boston, and convert to\n",
    "# a data frame format so it's easier to view and process\n",
    "boston = load_boston()\n",
    "boston_df = pd.DataFrame(boston['data'], columns = boston['feature_names'])\n",
    "boston_df['PRICE'] = boston.target\n",
    "boston_df"
   ]
  },
  {
   "cell_type": "markdown",
   "metadata": {
    "colab_type": "text",
    "id": "eyMUHGews7VZ"
   },
   "source": [
    "CHAS is the indicator variable we used last week, where 1 indicates that the property (tract) is on the Charles River and 0 means otherwise."
   ]
  },
  {
   "cell_type": "markdown",
   "metadata": {
    "colab_type": "text",
    "id": "IMpeHBEzs7VZ"
   },
   "source": [
    "What percentage of the tracts bound the Charles River? We'll see how to do this using the query method AND using boolean indexing."
   ]
  },
  {
   "cell_type": "code",
   "execution_count": null,
   "metadata": {
    "colab": {},
    "colab_type": "code",
    "id": "sX1Nw-nRSEhW"
   },
   "outputs": [],
   "source": [
    "# Determine number of tracts that bound the Charles River two ways:\n",
    "# (1) with the query function\n"
   ]
  },
  {
   "cell_type": "code",
   "execution_count": null,
   "metadata": {
    "colab": {},
    "colab_type": "code",
    "id": "qU1vhvM0s7Va"
   },
   "outputs": [],
   "source": [
    "# (2) using boolean indexing\n"
   ]
  },
  {
   "cell_type": "markdown",
   "metadata": {
    "colab_type": "text",
    "id": "NnEK_TTTSWvi"
   },
   "source": [
    "How do these two methods give the same answer?"
   ]
  },
  {
   "cell_type": "code",
   "execution_count": null,
   "metadata": {
    "colab": {},
    "colab_type": "code",
    "id": "mJO-elGkSMuC"
   },
   "outputs": [],
   "source": [
    "# Determine the total number of tracts in the dataset\n",
    "\n",
    "\n",
    "# Now calculate the percentage of tracts that bounds the Charles River.\n"
   ]
  },
  {
   "cell_type": "code",
   "execution_count": null,
   "metadata": {
    "colab": {},
    "colab_type": "code",
    "id": "AJZKng3Bs7Vd"
   },
   "outputs": [],
   "source": [
    "import numpy as np"
   ]
  },
  {
   "cell_type": "markdown",
   "metadata": {
    "colab_type": "text",
    "id": "kFGToww_s7Vg"
   },
   "source": [
    "What percentage of tracts have a median price less than $10,000?"
   ]
  },
  {
   "cell_type": "code",
   "execution_count": null,
   "metadata": {
    "colab": {},
    "colab_type": "code",
    "id": "xiZbDvpOs7Vh"
   },
   "outputs": [],
   "source": [
    "# Determine number of tracts that cost less than $10,000\n",
    "\n",
    "\n",
    "# Calculate the percentage of tracts that cost less than $10k.\n"
   ]
  },
  {
   "cell_type": "markdown",
   "metadata": {
    "colab_type": "text",
    "id": "RLZ-k3L7s7Vq"
   },
   "source": [
    "What percentage of tracts have a median price **between** \\$10,000 and \\$30,000?"
   ]
  },
  {
   "cell_type": "code",
   "execution_count": null,
   "metadata": {
    "colab": {},
    "colab_type": "code",
    "id": "tWeQmqPos7Vr"
   },
   "outputs": [],
   "source": [
    "# Make an array of booleans with cost greater than $10,000 AND less than $30,000\n",
    "\n",
    "\n",
    "# Determine number of tracts that cost between $10,000 and $30,000\n",
    "\n",
    "\n",
    "# Calculate the percentage of tracts between $10,000 and $30,000\n"
   ]
  },
  {
   "cell_type": "markdown",
   "metadata": {
    "colab_type": "text",
    "id": "eje8y19Gs7Vv"
   },
   "source": [
    "Good work! You just learned about how to calculate percentages in Python!"
   ]
  }
 ],
 "metadata": {
  "kernelspec": {
   "display_name": "Python 3",
   "language": "python",
   "name": "python3"
  },
  "language_info": {
   "codemirror_mode": {
    "name": "ipython",
    "version": 3
   },
   "file_extension": ".py",
   "mimetype": "text/x-python",
   "name": "python",
   "nbconvert_exporter": "python",
   "pygments_lexer": "ipython3",
   "version": "3.7.3"
  }
 },
 "nbformat": 4,
 "nbformat_minor": 4
}