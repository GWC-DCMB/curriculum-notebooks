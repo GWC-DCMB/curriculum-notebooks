{
 "nbformat": 4,
 "nbformat_minor": 0,
 "metadata": {
  "language_info": {
   "codemirror_mode": {
    "name": "ipython",
    "version": 3
   },
   "file_extension": ".py",
   "mimetype": "text/x-python",
   "name": "python",
   "nbconvert_exporter": "python",
   "pygments_lexer": "ipython3",
   "version": "3.7.3"
  },
  "kernelspec": {
   "display_name": "Python 3",
   "language": "python",
   "name": "python3"
  }
 },
 "cells": [
  {
   "cell_type": "markdown",
   "metadata": {
    "id": "W-MLnYHC95MA",
    "colab_type": "text"
   },
   "source": [
    "# Packages\n",
    "\n",
    "**Remember:**\n",
    "- Functions and methods are things that take an input, do something with that input, and then spit out an output. You've already been using functions and methods! \n",
    "- **Functions** can take lots of different object types as input. For example, print can take a variety of inputs including a variable, a string, a list, or numbers. \n",
    "- **Methods** can only be used on one specific type of object. For example, append can only be used on lists (and not strings or numbers).\n",
    "- The input to **functions** goes *between* parentheses after the name of function\n",
    "  - Example: `print(print_input)` \n",
    " At least part of the input to **methods** comes *before* the name of the method and is followed by a period (`.`)\n",
    "  - Example: `mylist.append(what_to_append)`\n",
    "  \n",
    "Python comes with certain built-in functions and methods like the ones we used in the previous section (such as `print` and `append`). But sometimes you might want to do things that are a bit more complicated. For this, you can import **packages**. \n",
    "\n",
    "We're going to use our numbers list to play around with functions in the **`numpy`** package."
   ]
  },
  {
   "cell_type": "code",
   "metadata": {
    "id": "ewWUGvuj95MB",
    "colab_type": "code",
    "colab": {}
   },
   "source": [
    "# list of numbers\n",
    "numbers = [10,2.3,-4,20,14,1,2,0,-3,1,-2,2,2,65.4,3,-23,123,43.1,32,57,32]\n",
    "\n",
    "# print numbers\n"
   ],
   "execution_count": 0,
   "outputs": []
  },
  {
   "cell_type": "markdown",
   "metadata": {
    "id": "Es4gFBPv95ME",
    "colab_type": "text"
   },
   "source": [
    "Packages are groups of functions and methods that you can **`import`** and then use just like built-in functions and packages.\n",
    "\n",
    "One example of a very powerful packages is **`numpy`**. To import numpy and load all of the functions in that packages into your environmnent (in this Jupyter Notebook), you do this:"
   ]
  },
  {
   "cell_type": "code",
   "metadata": {
    "id": "rObaFmRn95MF",
    "colab_type": "code",
    "colab": {}
   },
   "source": [
    "# import numpy package\n"
   ],
   "execution_count": 0,
   "outputs": []
  },
  {
   "cell_type": "markdown",
   "metadata": {
    "id": "BDlGTHNz95MJ",
    "colab_type": "text"
   },
   "source": [
    "Then you can use functions in this package. One function is the `mean` function to find the mean of a list of numbers. To do this, you have to use the prefix numpy so Python knows that the function comes from the numpy package:"
   ]
  },
  {
   "cell_type": "code",
   "metadata": {
    "id": "kDimXsB795MK",
    "colab_type": "code",
    "colab": {}
   },
   "source": [
    "# get the mean of numbers using the numpy mean function\n"
   ],
   "execution_count": 0,
   "outputs": []
  },
  {
   "cell_type": "markdown",
   "metadata": {
    "id": "U2q43aFm95MN",
    "colab_type": "text"
   },
   "source": [
    "Nice, it's the same as we got before when we calculated the mean ourselves!\n",
    "\n",
    "Typing out numpy every time is a lot of work, so a lot of people like to shorten the prefix you have to use. If you want the prefix to be `np` instead of `numpy`, you can import the package as follows:"
   ]
  },
  {
   "cell_type": "code",
   "metadata": {
    "id": "LWQKGxYz95MO",
    "colab_type": "code",
    "colab": {}
   },
   "source": [
    "# import numpy package as np\n"
   ],
   "execution_count": 0,
   "outputs": []
  },
  {
   "cell_type": "markdown",
   "metadata": {
    "id": "3O-acSyl95MR",
    "colab_type": "text"
   },
   "source": [
    "Now, if you want to find the mean of numbers using the numpy mean function, you just have to use the prefix `np`:"
   ]
  },
  {
   "cell_type": "code",
   "metadata": {
    "id": "aP1Q5pKz95MR",
    "colab_type": "code",
    "colab": {}
   },
   "source": [
    "# print the mean of numbers\n"
   ],
   "execution_count": 0,
   "outputs": []
  },
  {
   "cell_type": "markdown",
   "metadata": {
    "id": "-bDcIF8u95MU",
    "colab_type": "text"
   },
   "source": [
    "Let's explore some other functions in the numpy package.\n",
    "\n",
    "Before, we learned how to find the absolute value of a number using the `abs` function. If we want to get the absolute value of everything in a list, we can use the numpy absolute value function:"
   ]
  },
  {
   "cell_type": "code",
   "metadata": {
    "id": "NL8TYvru95MV",
    "colab_type": "code",
    "colab": {}
   },
   "source": [
    "# get absolute value of all numbers in numbers and save it to the variable abs_nums\n",
    "\n",
    "# print abs_nums\n"
   ],
   "execution_count": 0,
   "outputs": []
  },
  {
   "cell_type": "markdown",
   "metadata": {
    "id": "pB8q-jnZ95MY",
    "colab_type": "text"
   },
   "source": [
    "Did you notice that this looks different than a list? Let's look at the type of abs_nums:"
   ]
  },
  {
   "cell_type": "code",
   "metadata": {
    "id": "947SMIX395MZ",
    "colab_type": "code",
    "colab": {}
   },
   "source": [
    "# get the type of abs_nums\n"
   ],
   "execution_count": 0,
   "outputs": []
  },
  {
   "cell_type": "markdown",
   "metadata": {
    "id": "GWJ5HH1E95Md",
    "colab_type": "text"
   },
   "source": [
    "It's a numpy.ndarray. You'll learn more about what that means in a future lesson!\n",
    "\n",
    "Numpy has a similar function for `round`.\n",
    "\n",
    "Okay, we're going to play around with methods a bit more. One method that is useful is `sort`. You can use this to sort a list or a numpy array. It won't print anything out because it sorts the actual numbers list. Let's try this on the numbers list:"
   ]
  },
  {
   "cell_type": "code",
   "metadata": {
    "id": "hWl4qhXy95Me",
    "colab_type": "code",
    "colab": {}
   },
   "source": [
    "# print numbers\n",
    "\n",
    "# sort numbers\n",
    "\n",
    "# print numbers\n"
   ],
   "execution_count": 0,
   "outputs": []
  },
  {
   "cell_type": "markdown",
   "metadata": {
    "id": "GG4mHnga95Mh",
    "colab_type": "text"
   },
   "source": [
    "Now let's try it on the abs_nums list:"
   ]
  },
  {
   "cell_type": "code",
   "metadata": {
    "id": "2Hx09GK495Mj",
    "colab_type": "code",
    "colab": {}
   },
   "source": [
    "# print abs_nums\n",
    "\n",
    "# sort abs_nums\n",
    "\n",
    "# print abs_nums\n"
   ],
   "execution_count": 0,
   "outputs": []
  },
  {
   "cell_type": "markdown",
   "metadata": {
    "id": "36EF3Kfy95Mm",
    "colab_type": "text"
   },
   "source": [
    "Nice job! You just learned about packages in Python! You learned:\n",
    "- How to import new functions in packages in Python\n",
    "- More functions and methods\n",
    "\n",
    "You'll learn more about numpy in a future lesson. There are also tons of other packages out there for different purposes. We'll learn about the `pandas` package in the next lesson, and the `matplotlib` package in a few days!"
   ]
  }
 ]
}