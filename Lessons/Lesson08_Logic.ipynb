{
 "cells": [
  {
   "cell_type": "markdown",
   "metadata": {
    "colab_type": "text",
    "id": "wOfKH0p6LfRf"
   },
   "source": [
    "# Logic\n",
    "\n",
    "Previously, we learned about Booleans. Booleans are variables that can take two values: `True` or `False`.\n",
    "\n",
    "We can make a variable a Boolean by setting it equal to `True` or `False`, but as we discussed earlier we can also use comparison operators to generate  \n",
    "\n",
    "\n",
    "`<`   less than\n",
    "\n",
    "\n",
    "`>`   greater than\n",
    "\n",
    "\n",
    "`<=`  less than/equal to\n",
    "\n",
    "\n",
    "`>=`  greater than or equal to\n",
    "\n",
    "\n",
    "`==`  equal to\n",
    "\n",
    "\n",
    "`!=`  not equal to"
   ]
  },
  {
   "cell_type": "markdown",
   "metadata": {
    "colab_type": "text",
    "id": "x16no17qLfRj"
   },
   "source": [
    "Let's create a basic list to get started"
   ]
  },
  {
   "cell_type": "code",
   "execution_count": 1,
   "metadata": {
    "colab": {},
    "colab_type": "code",
    "id": "6Umho5B-LfRl"
   },
   "outputs": [],
   "source": [
    "# create a list called my_list with numbers 1,2,3 inside\n"
   ]
  },
  {
   "cell_type": "markdown",
   "metadata": {
    "colab_type": "text",
    "id": "32UoPvHRPIYX"
   },
   "source": [
    "Let's say a list with more than 2 items is considered long. Using the `len` function, we can create a Boolean value that tells us if our list is long or short."
   ]
  },
  {
   "cell_type": "code",
   "execution_count": null,
   "metadata": {
    "colab": {
     "base_uri": "https://localhost:8080/",
     "height": 34
    },
    "colab_type": "code",
    "executionInfo": {
     "elapsed": 370,
     "status": "ok",
     "timestamp": 1567217138300,
     "user": {
      "displayName": "Morgan Oneka",
      "photoUrl": "https://lh3.googleusercontent.com/a-/AAuE7mDDNp7vRaJ72dq-10S667W0tZyfdBWiE2NavfHt=s64",
      "userId": "08973921413298125078"
     },
     "user_tz": 240
    },
    "id": "rpn2aMBJPGoE",
    "outputId": "512c2044-362a-4e81-ad89-83210e03524f"
   },
   "outputs": [],
   "source": [
    "# create a boolean called long_list that is True if our list has more than 2 items\n",
    "\n",
    "# print the value of long_list\n"
   ]
  },
  {
   "cell_type": "markdown",
   "metadata": {
    "colab_type": "text",
    "id": "DxMzLIwea8od"
   },
   "source": [
    "What if we wanted to create a Boolean that had the opposite value?\n",
    "\n",
    "Certain pairs of operators are opposites of one another. \n",
    "\n",
    "`>` and `<=` are opposites\n",
    "\n",
    "`<` and `>=` are opposites\n",
    "\n",
    "`==` and `!=` are opposites\n",
    "\n",
    "So, since we used `>` to figure out if our list was long, we can use `<=` to figure out if our list is short. "
   ]
  },
  {
   "cell_type": "code",
   "execution_count": null,
   "metadata": {
    "colab": {
     "base_uri": "https://localhost:8080/",
     "height": 34
    },
    "colab_type": "code",
    "executionInfo": {
     "elapsed": 357,
     "status": "ok",
     "timestamp": 1567220847630,
     "user": {
      "displayName": "Morgan Oneka",
      "photoUrl": "https://lh3.googleusercontent.com/a-/AAuE7mDDNp7vRaJ72dq-10S667W0tZyfdBWiE2NavfHt=s64",
      "userId": "08973921413298125078"
     },
     "user_tz": 240
    },
    "id": "q5t02gYkaxvP",
    "outputId": "9fcdd349-ff87-4892-abb8-1479736909b8"
   },
   "outputs": [],
   "source": [
    "# create a boolean called short_list that is False if our list doesn't have more than 2 items\n",
    "\n",
    "\n",
    "# print the value of short_list\n"
   ]
  },
  {
   "cell_type": "markdown",
   "metadata": {
    "colab_type": "text",
    "id": "wvlENFW-LfRy"
   },
   "source": [
    "One cool thing about Python is that we can use words in place of some of the operators we talked about earlier. The operator `==` is used to tell if two things are equal, but we can also use `is` in its place.\n",
    "\n",
    "First, let's use the `==` operator to test if the first item of our list is equal to 1."
   ]
  },
  {
   "cell_type": "code",
   "execution_count": null,
   "metadata": {
    "colab": {
     "base_uri": "https://localhost:8080/",
     "height": 34
    },
    "colab_type": "code",
    "executionInfo": {
     "elapsed": 335,
     "status": "ok",
     "timestamp": 1567223865408,
     "user": {
      "displayName": "Morgan Oneka",
      "photoUrl": "https://lh3.googleusercontent.com/a-/AAuE7mDDNp7vRaJ72dq-10S667W0tZyfdBWiE2NavfHt=s64",
      "userId": "08973921413298125078"
     },
     "user_tz": 240
    },
    "id": "wzzu3Df8LfR0",
    "outputId": "3589d818-0d43-4d87-d3fe-26fe0bb4dd33"
   },
   "outputs": [],
   "source": [
    "# use == to see if the first item of my_list equals 1\n"
   ]
  },
  {
   "cell_type": "markdown",
   "metadata": {
    "colab_type": "text",
    "id": "manKK7rB0m7s"
   },
   "source": [
    "Now, let's do the same thing using the `is` operator"
   ]
  },
  {
   "cell_type": "code",
   "execution_count": null,
   "metadata": {
    "colab": {
     "base_uri": "https://localhost:8080/",
     "height": 34
    },
    "colab_type": "code",
    "executionInfo": {
     "elapsed": 341,
     "status": "ok",
     "timestamp": 1567223906232,
     "user": {
      "displayName": "Morgan Oneka",
      "photoUrl": "https://lh3.googleusercontent.com/a-/AAuE7mDDNp7vRaJ72dq-10S667W0tZyfdBWiE2NavfHt=s64",
      "userId": "08973921413298125078"
     },
     "user_tz": 240
    },
    "id": "4SP7jKCL0b4L",
    "outputId": "d914d1e3-5645-4a09-a764-725506c18218"
   },
   "outputs": [],
   "source": [
    "# use is to see if the first item of my_list equals 1\n"
   ]
  },
  {
   "cell_type": "markdown",
   "metadata": {
    "colab_type": "text",
    "id": "BDdip1QxLfR4"
   },
   "source": [
    "In most cases, it doesn't matter whether you us `is` or `==`. Using `is` might help you avoid accidentally using `=` instead of `==`, which is a common mistake."
   ]
  },
  {
   "cell_type": "markdown",
   "metadata": {
    "colab_type": "text",
    "id": "JAxkGYeY29Dy"
   },
   "source": [
    "Another useful python keyword is `not`. Putting `not` in front of a boolean will flip the value to its oposite\u2014remember that `True` and `False` are opposites."
   ]
  },
  {
   "cell_type": "code",
   "execution_count": null,
   "metadata": {
    "colab": {
     "base_uri": "https://localhost:8080/",
     "height": 34
    },
    "colab_type": "code",
    "executionInfo": {
     "elapsed": 325,
     "status": "ok",
     "timestamp": 1567224633399,
     "user": {
      "displayName": "Morgan Oneka",
      "photoUrl": "https://lh3.googleusercontent.com/a-/AAuE7mDDNp7vRaJ72dq-10S667W0tZyfdBWiE2NavfHt=s64",
      "userId": "08973921413298125078"
     },
     "user_tz": 240
    },
    "id": "mtAW16ci3d52",
    "outputId": "629c4e16-31ac-46d5-b63a-f6e2806105f5"
   },
   "outputs": [],
   "source": [
    "# use the \"not\" keyword to calculate the opposite of True\n"
   ]
  },
  {
   "cell_type": "markdown",
   "metadata": {
    "colab_type": "text",
    "id": "4iHtwWdH3l2v"
   },
   "source": [
    "The `not` keyword can be used with logical operators. Recall that the operator `!=` determines if two things are not equal to each other. We learned above that `is` can be used to compare two objects, too. Then, we can use `is` and `not` together to see if two values are different."
   ]
  },
  {
   "cell_type": "code",
   "execution_count": null,
   "metadata": {
    "colab": {
     "base_uri": "https://localhost:8080/",
     "height": 34
    },
    "colab_type": "code",
    "executionInfo": {
     "elapsed": 332,
     "status": "ok",
     "timestamp": 1567224821015,
     "user": {
      "displayName": "Morgan Oneka",
      "photoUrl": "https://lh3.googleusercontent.com/a-/AAuE7mDDNp7vRaJ72dq-10S667W0tZyfdBWiE2NavfHt=s64",
      "userId": "08973921413298125078"
     },
     "user_tz": 240
    },
    "id": "WGxHogea32f8",
    "outputId": "1faf84ed-8dc6-462c-8cc1-31563a8f8f0d"
   },
   "outputs": [],
   "source": [
    "# use != to see if the first item of my_list is not equal to 5\n"
   ]
  },
  {
   "cell_type": "code",
   "execution_count": null,
   "metadata": {
    "colab": {
     "base_uri": "https://localhost:8080/",
     "height": 34
    },
    "colab_type": "code",
    "executionInfo": {
     "elapsed": 355,
     "status": "ok",
     "timestamp": 1567224826098,
     "user": {
      "displayName": "Morgan Oneka",
      "photoUrl": "https://lh3.googleusercontent.com/a-/AAuE7mDDNp7vRaJ72dq-10S667W0tZyfdBWiE2NavfHt=s64",
      "userId": "08973921413298125078"
     },
     "user_tz": 240
    },
    "id": "AkkzfcqX367D",
    "outputId": "201ac70f-d994-4aea-965f-d4487ea46534"
   },
   "outputs": [],
   "source": [
    "# use \"is not\" to see if the first item of my_list is not equal to 5\n"
   ]
  },
  {
   "cell_type": "markdown",
   "metadata": {
    "colab_type": "text",
    "id": "0Jug5oFC_LQs"
   },
   "source": [
    "Just like comparison operators such as `>` and `<=` can work on things like strings and integers (and booleans, too!), there are operators just for booleans. \n",
    "\n",
    "First, we'll look at `or`. \n",
    "\n",
    "`or` looks at the two booleans and returns `True` if at least one is `True`, and otherwise returns `False`."
   ]
  },
  {
   "cell_type": "code",
   "execution_count": null,
   "metadata": {
    "colab": {
     "base_uri": "https://localhost:8080/",
     "height": 34
    },
    "colab_type": "code",
    "executionInfo": {
     "elapsed": 350,
     "status": "ok",
     "timestamp": 1567227109620,
     "user": {
      "displayName": "Morgan Oneka",
      "photoUrl": "https://lh3.googleusercontent.com/a-/AAuE7mDDNp7vRaJ72dq-10S667W0tZyfdBWiE2NavfHt=s64",
      "userId": "08973921413298125078"
     },
     "user_tz": 240
    },
    "id": "77gwjHCPA9N6",
    "outputId": "b2274da6-b03d-4787-e7de-22f3d1e54c71"
   },
   "outputs": [],
   "source": [
    "# print the value of True or True\n",
    "\n",
    "\n",
    "# print the value of True or False\n",
    "\n",
    "\n",
    "# print the value of False or False\n"
   ]
  },
  {
   "cell_type": "markdown",
   "metadata": {
    "colab_type": "text",
    "id": "EkCysACkBFAg"
   },
   "source": [
    "Another really useful boolean operator is `and`. \n",
    "\n",
    "`and` works similarly to `or`, except it only returns `True` if **both** of the booleans are `True`."
   ]
  },
  {
   "cell_type": "code",
   "execution_count": null,
   "metadata": {
    "colab": {
     "base_uri": "https://localhost:8080/",
     "height": 34
    },
    "colab_type": "code",
    "executionInfo": {
     "elapsed": 330,
     "status": "ok",
     "timestamp": 1567227185584,
     "user": {
      "displayName": "Morgan Oneka",
      "photoUrl": "https://lh3.googleusercontent.com/a-/AAuE7mDDNp7vRaJ72dq-10S667W0tZyfdBWiE2NavfHt=s64",
      "userId": "08973921413298125078"
     },
     "user_tz": 240
    },
    "id": "LO7vmuCJBPb5",
    "outputId": "a446bd99-26d0-4d3d-de4b-59cab8d36498"
   },
   "outputs": [],
   "source": [
    "# print the value of True and True\n",
    "\n",
    "\n",
    "# print the value of True and False\n",
    "\n",
    "\n",
    "# print the value of False and False\n"
   ]
  },
  {
   "cell_type": "markdown",
   "metadata": {
    "colab_type": "text",
    "id": "fJOMWXP6BTVF"
   },
   "source": [
    "One kind of problem that `or` and `and` can be useful for solving is testing if a value is inside a certain range. \n",
    "\n",
    "Say we wanted to see if the length of our list was greater than 5 or less than 4\u2014so any length except 4 or 5."
   ]
  },
  {
   "cell_type": "code",
   "execution_count": null,
   "metadata": {
    "colab": {
     "base_uri": "https://localhost:8080/",
     "height": 34
    },
    "colab_type": "code",
    "executionInfo": {
     "elapsed": 382,
     "status": "ok",
     "timestamp": 1567227305097,
     "user": {
      "displayName": "Morgan Oneka",
      "photoUrl": "https://lh3.googleusercontent.com/a-/AAuE7mDDNp7vRaJ72dq-10S667W0tZyfdBWiE2NavfHt=s64",
      "userId": "08973921413298125078"
     },
     "user_tz": 240
    },
    "id": "EBm7SuG_BYYF",
    "outputId": "889eeede-a4a1-4a78-9f01-00d9628ce027"
   },
   "outputs": [],
   "source": [
    "# use \"or\" to see if my_list has less than 4 or more than 5 items\n"
   ]
  },
  {
   "cell_type": "markdown",
   "metadata": {
    "colab_type": "text",
    "id": "f48zKcV8Bx1T"
   },
   "source": [
    "Say we wanted to solve the opposite problem\u2014we want to see if the length of our list is exactly 4 or 5."
   ]
  },
  {
   "cell_type": "code",
   "execution_count": null,
   "metadata": {
    "colab": {
     "base_uri": "https://localhost:8080/",
     "height": 34
    },
    "colab_type": "code",
    "executionInfo": {
     "elapsed": 318,
     "status": "ok",
     "timestamp": 1567227431008,
     "user": {
      "displayName": "Morgan Oneka",
      "photoUrl": "https://lh3.googleusercontent.com/a-/AAuE7mDDNp7vRaJ72dq-10S667W0tZyfdBWiE2NavfHt=s64",
      "userId": "08973921413298125078"
     },
     "user_tz": 240
    },
    "id": "HTC0tHp5Btqe",
    "outputId": "144102fd-4cf7-475e-a28d-d91c3e9f70e3"
   },
   "outputs": [],
   "source": [
    "# use \"and\" to see if my_list has 4 or 5 items\n"
   ]
  },
  {
   "cell_type": "markdown",
   "metadata": {
    "colab_type": "text",
    "id": "xzwhSbuhCQkm"
   },
   "source": [
    "We see that the length of our list **is** less than or equal to 5, but it isn't greater than or equal to 4, so the value is `False`. \n",
    "\n",
    "This is a bit of a tricky example, so it may take a minute or two for it to sink in. If it is confusing, try making a list with two columns - one representing `>= 4` and one representing `<= 5`. For different example values, place a check in each column if that condition is true, and an X if it is false - only values where all columns have checks will result in `True` using the `and` operator.\n",
    "\n",
    "**Challenge:** What about when we use the `or` operator?"
   ]
  },
  {
   "cell_type": "markdown",
   "metadata": {},
   "source": [
    "Great job! You just learned about logic in Python! You learned:\n",
    "- How to create a boolean using operators \n",
    "- That some operators (for example, `>` and `<=`) are \"opposites\"\n",
    "- That keywords like `is` and `not` can be used in place of symbol-based operators\n",
    "- How to use `or` and `and` to combine booleans"
   ]
  }
 ],
 "metadata": {
  "kernelspec": {
   "display_name": "Python 3",
   "language": "python",
   "name": "python3"
  },
  "language_info": {
   "codemirror_mode": {
    "name": "ipython",
    "version": 3
   },
   "file_extension": ".py",
   "mimetype": "text/x-python",
   "name": "python",
   "nbconvert_exporter": "python",
   "pygments_lexer": "ipython3",
   "version": "3.7.3"
  }
 },
 "nbformat": 4,
 "nbformat_minor": 4
}