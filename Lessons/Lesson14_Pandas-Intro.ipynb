{
 "cells": [
  {
   "cell_type": "markdown",
   "metadata": {
    "colab_type": "text",
    "id": "6WX0OhSMEi5N"
   },
   "source": [
    "# Introduction to Pandas\n",
    "\n",
    "You may have used a program like Microsoft Excel or Google Sheets to record data or perform calculations for school. Datasets are often organized in rows and columns. Does anyone have an example of a using spreadsheets in school? (e.g. recording measurements in biology class, budgeting for personal finance in econ, etc.)\n",
    "\n",
    "\n",
    "\n",
    "| Product | Price | Quantity Sold |\n",
    "|--------------|-------------|------------------------|\n",
    "| Apples  | \\$ 1.50 | 26 |\n",
    "| Bananas | \\$  0.50 | 32 |\n",
    "| Lemons | \\$ 1.99 | 17 |\n",
    "\n",
    "In this case, we have prices of fruit from a grocery store. Each row in this dataset is a type fruit, and each column is an observation or measurement. What measurements do we have here?\n",
    "\n"
   ]
  },
  {
   "cell_type": "markdown",
   "metadata": {
    "colab_type": "text",
    "id": "_90Q12UnL4Tj"
   },
   "source": [
    "**Measurements**: "
   ]
  },
  {
   "cell_type": "markdown",
   "metadata": {
    "colab_type": "text",
    "id": "WtJhbr1nL2qu"
   },
   "source": [
    "To handle data in Python, we use a package called called `pandas`. (Despite the name, it actually doesn't have anything to do with panda bears). \n",
    "Before we can use the package, we need to import it. Try writing a line of code to import the `pandas` package:"
   ]
  },
  {
   "cell_type": "code",
   "execution_count": null,
   "metadata": {
    "colab": {},
    "colab_type": "code",
    "id": "-q4BsNy9Er34"
   },
   "outputs": [],
   "source": [
    "# write the code to import the package\n"
   ]
  },
  {
   "cell_type": "markdown",
   "metadata": {
    "colab_type": "text",
    "id": "Dx6txgMkMYv3"
   },
   "source": [
    "We're going to be using `pandas` a lot. To save us some time typing, let's tell Python to rename the package for us to something a little shorter:"
   ]
  },
  {
   "cell_type": "code",
   "execution_count": null,
   "metadata": {
    "colab": {},
    "colab_type": "code",
    "id": "xZSsmJy-MPXn"
   },
   "outputs": [],
   "source": [
    "import pandas as pd"
   ]
  },
  {
   "cell_type": "markdown",
   "metadata": {
    "colab_type": "text",
    "id": "bu8qnXXwOLOJ"
   },
   "source": [
    "Adding \"`as pd`\" to our import statement tells Python that every time we use `pd`, we actually mean `pandas`. It's like giving the package a nickname! Most people use this same nickname for `pandas`, so if you see other people's code, you'll know that `pd` means `pandas`.\n",
    "\n",
    "Now that we've imported `pandas`, we're ready to use it. Datasets are stored in `pandas` in a special container called a `DataFrame`. `DataFrames` help us handle data that are organized in rows and columns, just like the grocery store dataset above. We can store that data in a `DataFrame` by calling the `DataFrame` function:"
   ]
  },
  {
   "cell_type": "code",
   "execution_count": null,
   "metadata": {
    "colab": {},
    "colab_type": "code",
    "id": "6oILyPBHOunF"
   },
   "outputs": [],
   "source": [
    "pd.DataFrame({'Product': ['Apples', 'Bananas', 'Lemons'],\n",
    "              'Price': [1.50, 0.50, 1.99],\n",
    "              'QuantitySold': [26, 32, 17]})"
   ]
  },
  {
   "cell_type": "markdown",
   "metadata": {
    "colab_type": "text",
    "id": "jsOzQKKhPAdY"
   },
   "source": [
    "Run the above cell and see what happens! There are a few things to notice:\n",
    "\n",
    "1. Python helpfully showed us what our `DataFrame` looks like with rows and columns.\n",
    "1. Python gave each row in the `DataFrame` a number, starting from zero. Does that remind you of something about lists?\n",
    "\n",
    "When we ran that cell, Python showed us what the `DataFrame` looks like, but it didn't save the `DataFrame` anywhere. If we want to do more things with it, we'll need to save it to a variable. In the below cell to save the `DataFrame` to a variable called `fruit_data`: \n",
    "\n",
    "(Hint: you may want to copy & paste the cell above to get started!)"
   ]
  },
  {
   "cell_type": "code",
   "execution_count": null,
   "metadata": {
    "colab": {},
    "colab_type": "code",
    "id": "nggCk6-xTwQL"
   },
   "outputs": [],
   "source": [
    "# save the DataFrame to a variable called fruit_data\n"
   ]
  },
  {
   "cell_type": "markdown",
   "metadata": {
    "colab_type": "text",
    "id": "EjhJ8RvtT25R"
   },
   "source": [
    "When we run the above cell, does anything happen?\n",
    "\n",
    "Since we saved the `DataFrame` to a variable, Python assumed that we don't want to take a peek at it. If we do want to see what our `DataFrame` looks like, we can write the variable on a line by itself like this:"
   ]
  },
  {
   "cell_type": "code",
   "execution_count": null,
   "metadata": {
    "colab": {},
    "colab_type": "code",
    "id": "FiwHIyIdUjyn"
   },
   "outputs": [],
   "source": [
    "fruit_data"
   ]
  },
  {
   "cell_type": "markdown",
   "metadata": {
    "colab_type": "text",
    "id": "kAHbv9J6UnkI"
   },
   "source": [
    "Sometimes we don't want to see all of the data at once. To view just the first few rows of a `DataFrame`, we use a method called `head`.\n",
    "\n",
    "Recall: methods are special functions that belong to certain types of variables. They only work with the type of variable that they belong to, so running `head` on a variable that isn't a `DataFrame` will not work.\n",
    "\n",
    "Let's use the `head` method to view only the first two rows of our fruit data:"
   ]
  },
  {
   "cell_type": "code",
   "execution_count": null,
   "metadata": {
    "colab": {},
    "colab_type": "code",
    "id": "allPAW1nVn6L"
   },
   "outputs": [],
   "source": [
    "# print head of fruit_data\n"
   ]
  },
  {
   "cell_type": "markdown",
   "metadata": {
    "colab_type": "text",
    "id": "YfQSfKheWTN8"
   },
   "source": [
    "After typing `head`, the name of the method, we wrote the number `2` between the parentheses. This told `head` that we wanted to see only the first two lines of our `DataFrame`. What would you do if you only wanted to see the first line of `fruit_data`?"
   ]
  },
  {
   "cell_type": "code",
   "execution_count": null,
   "metadata": {
    "colab": {},
    "colab_type": "code",
    "id": "8P09FlUXXPoG"
   },
   "outputs": [],
   "source": [
    "# write the code to see only the first line of the DataFrame\n"
   ]
  },
  {
   "cell_type": "markdown",
   "metadata": {
    "colab_type": "text",
    "id": "oKD81ZM9YXkn"
   },
   "source": [
    "Great! What if instead of viewing the first few lines, we wanted to see the last few lines? For that we will use another method called `tail`. It is very similar to `head`, except it will show us the last few lines instead of the first few. Try writing a line of code to view the very last line of `fruit_data`:"
   ]
  },
  {
   "cell_type": "code",
   "execution_count": null,
   "metadata": {
    "colab": {},
    "colab_type": "code",
    "id": "nAZAPhwyZBjg"
   },
   "outputs": [],
   "source": [
    "# get last line of fruit_data\n"
   ]
  },
  {
   "cell_type": "markdown",
   "metadata": {
    "colab_type": "text",
    "id": "lcQomTMvYnHv"
   },
   "source": [
    "`head` and `tail` are especially useful for big datasets with many rows so you can get a sense for what the `DataFrame` looks like without flooding your notebook with too much information. They will come in handy later!\n",
    "\n",
    "Now let's talk about the types of variables we have in the `fruit_data` `DataFrame`. What are some of the types of variables we've learned about in Python?"
   ]
  },
  {
   "cell_type": "markdown",
   "metadata": {
    "colab_type": "text",
    "id": "X_QgfriidxZF"
   },
   "source": [
    "**Types:** "
   ]
  },
  {
   "cell_type": "markdown",
   "metadata": {
    "colab_type": "text",
    "id": "amfeRkLneFMN"
   },
   "source": [
    "Based on what you know about these types of variables, what `type` do you think the values in each of the columns belong to in `fruit_data`?"
   ]
  },
  {
   "cell_type": "markdown",
   "metadata": {
    "colab_type": "text",
    "id": "9ydMKRmffKmU"
   },
   "source": [
    "**Type of the `Product` column:** \n",
    "\n",
    "**Type of the `Price` column:** \n",
    "\n",
    "**Type of the `QuantitySold` column:**"
   ]
  },
  {
   "cell_type": "markdown",
   "metadata": {
    "colab_type": "text",
    "id": "elTWh0Whf3Yg"
   },
   "source": [
    "Notice how each of the columns in `fruit_data` have different types. That's one of the many cool things about `pandas` -- it let's us store many different types of data in `DataFrames`."
   ]
  }
 ],
 "metadata": {
  "kernelspec": {
   "display_name": "Python 3",
   "language": "python",
   "name": "python3"
  },
  "language_info": {
   "codemirror_mode": {
    "name": "ipython",
    "version": 3
   },
   "file_extension": ".py",
   "mimetype": "text/x-python",
   "name": "python",
   "nbconvert_exporter": "python",
   "pygments_lexer": "ipython3",
   "version": "3.7.3"
  }
 },
 "nbformat": 4,
 "nbformat_minor": 4
}