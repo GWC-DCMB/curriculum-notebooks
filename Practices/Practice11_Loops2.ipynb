{
 "cells": [
  {
   "cell_type": "markdown",
   "metadata": {
    "colab_type": "text",
    "id": "mIspkh83RZ5n"
   },
   "source": [
    "# Practice with loops\n",
    "\n",
    "In today's lesson, we learned about a few ways to change the way our for loops work. As a reminder:\n",
    "\n",
    "- We can use `if/elif/else` statements in loops to specify what code runs for certain items in the list\n",
    "- We can use `continue` to skip to the next item \n",
    "- We can use `break` to stop iterating through items in our list"
   ]
  },
  {
   "cell_type": "markdown",
   "metadata": {
    "colab_type": "text",
    "id": "E5HR2YiNfxcC"
   },
   "source": [
    "Today, we will be working with a 2D list called `college_info`, which has information about different colleges in the country. Each list in the 2D list has the name, city, and state of a certain college"
   ]
  },
  {
   "cell_type": "code",
   "execution_count": null,
   "metadata": {
    "colab": {},
    "colab_type": "code",
    "id": "CUqi5OOURZ5s"
   },
   "outputs": [],
   "source": [
    "# college info:\n",
    "college_info = [[\"University of Michigan\", \"Ann Arbor\", \"Michigan\"], \n",
    "                [\"New York University\", \"New York\", \"New York\"], \n",
    "                [\"Grand Valley State University\", \"Allendale\", \"Michigan\"],\n",
    "                [\"Western Michigan University\",\"Kalamazoo\", \"Michigan\"],\n",
    "                [\"University of Alaska\", \"Fairbanks\", \"Alaska\"],\n",
    "                [\"University of Washington\", \"Seattle\", \"Washington\"],\n",
    "                [\"Stanford University\", \"Stanford\", \"California\"]]"
   ]
  },
  {
   "cell_type": "markdown",
   "metadata": {
    "colab_type": "text",
    "id": "ZcMdiuzZf9q3"
   },
   "source": [
    "First, let's get familiar with our dataset. Write a for loop that iterates through the list of colleges and prints out all the info for each college"
   ]
  },
  {
   "cell_type": "code",
   "execution_count": null,
   "metadata": {
    "colab": {
     "base_uri": "https://localhost:8080/",
     "height": 139
    },
    "colab_type": "code",
    "executionInfo": {
     "elapsed": 392,
     "status": "ok",
     "timestamp": 1567352344554,
     "user": {
      "displayName": "Morgan Oneka",
      "photoUrl": "https://lh3.googleusercontent.com/a-/AAuE7mDDNp7vRaJ72dq-10S667W0tZyfdBWiE2NavfHt=s64",
      "userId": "08973921413298125078"
     },
     "user_tz": 240
    },
    "id": "ZuVPvQ0QepJz",
    "outputId": "4b38ec1d-f24d-485c-9a5f-39addee8c734"
   },
   "outputs": [],
   "source": [
    "# iterate through the list of colleges and print out the info for each college\n"
   ]
  },
  {
   "cell_type": "markdown",
   "metadata": {
    "colab_type": "text",
    "id": "qElFDjybgawQ"
   },
   "source": [
    "Next, let's print out just the names of each college. Remember, each item in our for loop is a list, and the name of the college is the first item in the list."
   ]
  },
  {
   "cell_type": "code",
   "execution_count": null,
   "metadata": {
    "colab": {
     "base_uri": "https://localhost:8080/",
     "height": 139
    },
    "colab_type": "code",
    "executionInfo": {
     "elapsed": 388,
     "status": "ok",
     "timestamp": 1567352839368,
     "user": {
      "displayName": "Morgan Oneka",
      "photoUrl": "https://lh3.googleusercontent.com/a-/AAuE7mDDNp7vRaJ72dq-10S667W0tZyfdBWiE2NavfHt=s64",
      "userId": "08973921413298125078"
     },
     "user_tz": 240
    },
    "id": "CHQmeJT3et71",
    "outputId": "bc326e7c-acd9-4e13-d7ab-097087d60cf5"
   },
   "outputs": [],
   "source": [
    "# iterate through the list of colleges and print out each college's name\n"
   ]
  },
  {
   "cell_type": "markdown",
   "metadata": {
    "colab_type": "text",
    "id": "98hwPB4Egm-Q"
   },
   "source": [
    "We can see that some of the schools in our list are in Michigan, and some are not. Let's write a loop that prints \"X is an in-state school\" if a college is in the state of Michigan, and \"X is not an in-state school\" if a college is not in the state of Michigan."
   ]
  },
  {
   "cell_type": "code",
   "execution_count": null,
   "metadata": {
    "colab": {
     "base_uri": "https://localhost:8080/",
     "height": 139
    },
    "colab_type": "code",
    "executionInfo": {
     "elapsed": 352,
     "status": "ok",
     "timestamp": 1567352412887,
     "user": {
      "displayName": "Morgan Oneka",
      "photoUrl": "https://lh3.googleusercontent.com/a-/AAuE7mDDNp7vRaJ72dq-10S667W0tZyfdBWiE2NavfHt=s64",
      "userId": "08973921413298125078"
     },
     "user_tz": 240
    },
    "id": "guXsIqA5ds0N",
    "outputId": "fa0afaa5-e357-4047-c9bc-fed68c01955a"
   },
   "outputs": [],
   "source": [
    "# use if/else to do something different for schools in michigan vs. not in michigan\n"
   ]
  },
  {
   "cell_type": "markdown",
   "metadata": {
    "colab_type": "text",
    "id": "tExnZD0lg3ZR"
   },
   "source": [
    "Remember that we can use `continue` to skip over certain items in our list. Write a for loop that uses `continue` to only print info about schools that are in Michigan.\n",
    "\n",
    "Note: this can also be done without using `continue`!"
   ]
  },
  {
   "cell_type": "code",
   "execution_count": null,
   "metadata": {
    "colab": {
     "base_uri": "https://localhost:8080/",
     "height": 69
    },
    "colab_type": "code",
    "executionInfo": {
     "elapsed": 374,
     "status": "ok",
     "timestamp": 1567352439845,
     "user": {
      "displayName": "Morgan Oneka",
      "photoUrl": "https://lh3.googleusercontent.com/a-/AAuE7mDDNp7vRaJ72dq-10S667W0tZyfdBWiE2NavfHt=s64",
      "userId": "08973921413298125078"
     },
     "user_tz": 240
    },
    "id": "cr4bGfnqdwfq",
    "outputId": "3bc92749-d413-4834-a66c-1df0d72b965b"
   },
   "outputs": [],
   "source": [
    "# use continue to only print in-state schools\n"
   ]
  },
  {
   "cell_type": "markdown",
   "metadata": {
    "colab_type": "text",
    "id": "pDweMcLzhVJ0"
   },
   "source": [
    "The keyword `break` can be used to stop iterating through our list once a certain condition is met. Use `break` to only print out information about schools that are before University of Alaska in the list."
   ]
  },
  {
   "cell_type": "code",
   "execution_count": null,
   "metadata": {
    "colab": {
     "base_uri": "https://localhost:8080/",
     "height": 86
    },
    "colab_type": "code",
    "executionInfo": {
     "elapsed": 375,
     "status": "ok",
     "timestamp": 1567353159112,
     "user": {
      "displayName": "Morgan Oneka",
      "photoUrl": "https://lh3.googleusercontent.com/a-/AAuE7mDDNp7vRaJ72dq-10S667W0tZyfdBWiE2NavfHt=s64",
      "userId": "08973921413298125078"
     },
     "user_tz": 240
    },
    "id": "zAClkg0PdzAT",
    "outputId": "25557a7e-13eb-40d2-8bee-868a7c3aa817"
   },
   "outputs": [],
   "source": [
    "# use break to print info only about schools that are before U of A in the list\n"
   ]
  }
 ],
 "metadata": {
  "kernelspec": {
   "display_name": "Python 3",
   "language": "python",
   "name": "python3"
  },
  "language_info": {
   "codemirror_mode": {
    "name": "ipython",
    "version": 3
   },
   "file_extension": ".py",
   "mimetype": "text/x-python",
   "name": "python",
   "nbconvert_exporter": "python",
   "pygments_lexer": "ipython3",
   "version": "3.7.3"
  }
 },
 "nbformat": 4,
 "nbformat_minor": 4
}