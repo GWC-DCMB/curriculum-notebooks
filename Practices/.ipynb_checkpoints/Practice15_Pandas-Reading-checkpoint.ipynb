{
 "cells": [
  {
   "cell_type": "markdown",
   "metadata": {
    "colab_type": "text",
    "id": "N2vICKE3-T1Z"
   },
   "source": [
    "# Practice: Reading Data with Pandas\n",
    "\n",
    "Let's start by importing pandas. Remember to give it its special nickname!"
   ]
  },
  {
   "cell_type": "code",
   "execution_count": null,
   "metadata": {
    "colab": {},
    "colab_type": "code",
    "id": "V1tG5BV5fHOe"
   },
   "outputs": [],
   "source": []
  },
  {
   "cell_type": "markdown",
   "metadata": {
    "colab_type": "text",
    "id": "l5kk1jXMCrE9"
   },
   "source": [
    "We have another dataset called `iris` located in the GWC GitHub. Let's load it into a DataFrame called `iris`:"
   ]
  },
  {
   "cell_type": "code",
   "execution_count": null,
   "metadata": {
    "colab": {},
    "colab_type": "code",
    "id": "y8tVBQ73B-nJ"
   },
   "outputs": [],
   "source": [
    "# this is where the file is located\n",
    "path = 'https://raw.githubusercontent.com/GWC-DCMB/ClubCurriculum/master/'\n",
    "filename = path + 'SampleData/iris.csv'\n",
    "# load the iris dataset into a DataFrame\n",
    "\n"
   ]
  },
  {
   "cell_type": "markdown",
   "metadata": {
    "colab_type": "text",
    "id": "pAfFDOX2SM4U"
   },
   "source": [
    "Explore the `DataFrame`; take a look at the beginning and end:"
   ]
  },
  {
   "cell_type": "code",
   "execution_count": null,
   "metadata": {
    "colab": {},
    "colab_type": "code",
    "id": "XmlrH3cPSGY-"
   },
   "outputs": [],
   "source": [
    "# View the first few rows\n",
    "\n"
   ]
  },
  {
   "cell_type": "code",
   "execution_count": null,
   "metadata": {
    "colab": {},
    "colab_type": "code",
    "id": "MXCj6u-CSYHh"
   },
   "outputs": [],
   "source": [
    "# View the last few rows\n",
    "\n"
   ]
  },
  {
   "cell_type": "markdown",
   "metadata": {},
   "source": [
    "After taking a close look at the data, what do you think each row in the DataFrame represents?"
   ]
  },
  {
   "cell_type": "markdown",
   "metadata": {},
   "source": [
    "**Answer**:"
   ]
  },
  {
   "cell_type": "markdown",
   "metadata": {
    "colab_type": "text",
    "id": "1HOxXjNASbn4"
   },
   "source": [
    "How many rows are in the `DataFrame`? Use `len` to find out:"
   ]
  },
  {
   "cell_type": "code",
   "execution_count": null,
   "metadata": {
    "colab": {},
    "colab_type": "code",
    "id": "xSgs3WrMWXO5"
   },
   "outputs": [],
   "source": [
    "# number of rows\n",
    "\n"
   ]
  },
  {
   "cell_type": "markdown",
   "metadata": {
    "colab_type": "text",
    "id": "h_PqFc0USkNH"
   },
   "source": [
    "How many columns are in the `DataFrame`? Use `columns` and `len` to find out:"
   ]
  },
  {
   "cell_type": "code",
   "execution_count": null,
   "metadata": {
    "colab": {},
    "colab_type": "code",
    "id": "T8afGvjWSgrb"
   },
   "outputs": [],
   "source": [
    "# number of columns\n",
    "\n"
   ]
  },
  {
   "cell_type": "markdown",
   "metadata": {
    "colab_type": "text",
    "id": "ZBSkuSEMSo_y"
   },
   "source": [
    "How many data points are in the `DataFrame`:"
   ]
  },
  {
   "cell_type": "code",
   "execution_count": null,
   "metadata": {
    "colab": {},
    "colab_type": "code",
    "id": "XaMnHVTSSurC"
   },
   "outputs": [],
   "source": [
    "# calculate the number of data points\n",
    "\n"
   ]
  }
 ],
 "metadata": {
  "colab": {
   "collapsed_sections": [],
   "name": "Practice11_Pandas-Reading.ipynb",
   "provenance": [],
   "version": "0.3.2"
  },
  "kernelspec": {
   "display_name": "Python 3",
   "language": "python",
   "name": "python3"
  },
  "language_info": {
   "codemirror_mode": {
    "name": "ipython",
    "version": 3
   },
   "file_extension": ".py",
   "mimetype": "text/x-python",
   "name": "python",
   "nbconvert_exporter": "python",
   "pygments_lexer": "ipython3",
   "version": "3.7.3"
  }
 },
 "nbformat": 4,
 "nbformat_minor": 4
}
