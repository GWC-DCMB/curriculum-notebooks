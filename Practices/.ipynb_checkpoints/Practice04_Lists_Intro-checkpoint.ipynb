{
 "cells": [
  {
   "cell_type": "markdown",
   "metadata": {
    "colab_type": "text",
    "id": "Rw8tEwgUGHsj"
   },
   "source": [
    "# Practice with lists!\n",
    "**Remember:**\n",
    "* Lists can be used to group different values together - it's just a collection of things.\n",
    "* You can make a list in Python by putting different things in a box of brackets `[]` separated by commas.\n",
    "\n",
    "First, make a list of pets including cat, dog, turtle, and any other pets you want to include. Store it in the variable `pets`:"
   ]
  },
  {
   "cell_type": "code",
   "execution_count": null,
   "metadata": {
    "colab": {},
    "colab_type": "code",
    "id": "3bWn8LuWGHsk"
   },
   "outputs": [],
   "source": [
    "# command Python to make a list of pets including dog, cat, and turtle. Store it in pets\n",
    "\n",
    "# command Python to print pets\n"
   ]
  },
  {
   "cell_type": "markdown",
   "metadata": {
    "colab_type": "text",
    "id": "3C2VApprGHso"
   },
   "source": [
    "How many things are in your `pets` list?"
   ]
  },
  {
   "cell_type": "code",
   "execution_count": null,
   "metadata": {
    "colab": {},
    "colab_type": "code",
    "id": "qH2MMCWnGHsp"
   },
   "outputs": [],
   "source": [
    "# command Python to print the length of pets\n"
   ]
  },
  {
   "cell_type": "markdown",
   "metadata": {
    "colab_type": "text",
    "id": "4sDqBk3fGHss"
   },
   "source": [
    "Add another pet (snake) to your pets list. (Note that you know 2 ways to do this! As a challenge, try to remember both ways!)\n",
    "Print out the list and find the length of the list."
   ]
  },
  {
   "cell_type": "code",
   "execution_count": null,
   "metadata": {
    "colab": {},
    "colab_type": "code",
    "id": "FYiLvs7tGHst"
   },
   "outputs": [],
   "source": [
    "# command Python to add 'snake' to your pets list \n",
    "# (challenge:  find 2 ways to do this)\n",
    "\n",
    "# command Python to print pets\n",
    "\n",
    "# command Python to find the length of pets\n"
   ]
  },
  {
   "cell_type": "markdown",
   "metadata": {
    "colab_type": "text",
    "id": "2GQR3-_6GHsw"
   },
   "source": [
    "Now let's make a list of numbers. Make a list of at least 5 numbers:"
   ]
  },
  {
   "cell_type": "code",
   "execution_count": null,
   "metadata": {
    "colab": {},
    "colab_type": "code",
    "id": "q4yjb8YbGHsx"
   },
   "outputs": [],
   "source": [
    "# command Python to make a list of at least 5 numbers\n",
    "\n",
    "# command Python to print the list of numbers\n",
    "\n",
    "# command Python to print the length of numbers\n"
   ]
  },
  {
   "cell_type": "markdown",
   "metadata": {
    "colab_type": "text",
    "id": "5frPHkttGHsz"
   },
   "source": [
    "Add your two lists (pets and numbers) together:"
   ]
  },
  {
   "cell_type": "code",
   "execution_count": null,
   "metadata": {
    "colab": {},
    "colab_type": "code",
    "id": "a-9FlIbBGHs0"
   },
   "outputs": [],
   "source": [
    "# command python to add pets and numbers\n"
   ]
  },
  {
   "cell_type": "markdown",
   "metadata": {
    "colab_type": "text",
    "id": "t4o_vxnhGHs3"
   },
   "source": [
    "Assign the value 3.14 to the variable pi:"
   ]
  },
  {
   "cell_type": "code",
   "execution_count": null,
   "metadata": {
    "colab": {},
    "colab_type": "code",
    "id": "yY6bYisaGHs3"
   },
   "outputs": [],
   "source": [
    "# assign the value 3.14 to the variable pi\n"
   ]
  },
  {
   "cell_type": "markdown",
   "metadata": {
    "colab_type": "text",
    "id": "W9IsMAn8GHs6"
   },
   "source": [
    "Add the variable pi to the list numbers:"
   ]
  },
  {
   "cell_type": "code",
   "execution_count": null,
   "metadata": {
    "colab": {},
    "colab_type": "code",
    "id": "cjJ3ZZUkGHs7"
   },
   "outputs": [],
   "source": [
    "# add pi to numbers\n",
    "\n",
    "# print numbers\n",
    "\n",
    "# print the length of numbers\n"
   ]
  },
  {
   "cell_type": "markdown",
   "metadata": {
    "colab_type": "text",
    "id": "aAZkekhTGHs-"
   },
   "source": [
    "What happens if you add pi to numbers again?"
   ]
  },
  {
   "cell_type": "code",
   "execution_count": null,
   "metadata": {
    "colab": {},
    "colab_type": "code",
    "id": "vM_k8roGGHs_"
   },
   "outputs": [],
   "source": [
    "# add pi to numbers again\n",
    "\n",
    "# print numbers\n",
    "\n",
    "# print the length of numbers\n"
   ]
  },
  {
   "cell_type": "markdown",
   "metadata": {
    "colab_type": "text",
    "id": "6ZhS2cjnGHtD"
   },
   "source": [
    "Add two more numbers to your numbers list at the same time:"
   ]
  },
  {
   "cell_type": "code",
   "execution_count": null,
   "metadata": {
    "colab": {},
    "colab_type": "code",
    "id": "IHgz5dA_GHtE"
   },
   "outputs": [],
   "source": [
    "# print your numbers list\n",
    "\n",
    "# print the length of your numbers list\n",
    "\n",
    "# add 2 numbers (your choice) to your numbers list\n",
    "\n",
    "# print your numbers list\n",
    "\n",
    "# print the length of numbers\n"
   ]
  },
  {
   "cell_type": "markdown",
   "metadata": {
    "colab_type": "text",
    "id": "wC3MJSdlGHtG"
   },
   "source": [
    "**Challenge:** Duplicate your list of pets so that it contains 2 of every pet in your list (ex. 2 dogs, 2 cats, etc.). *Hint:* use the `*` operator."
   ]
  },
  {
   "cell_type": "code",
   "execution_count": null,
   "metadata": {
    "colab": {},
    "colab_type": "code",
    "id": "bZAUpkvWGHtH"
   },
   "outputs": [],
   "source": [
    "# duplicate list of pets\n"
   ]
  },
  {
   "cell_type": "markdown",
   "metadata": {
    "colab_type": "text",
    "id": "GXlvCoHuGHtJ"
   },
   "source": [
    "Nice job! You just practiced:\n",
    "* Making a list ([])\n",
    "* Finding the length of a list (len)\n",
    "* Adding lists together (+)\n",
    "* Adding things to a list (.append)"
   ]
  }
 ],
 "metadata": {
  "colab": {
   "collapsed_sections": [],
   "name": "Practice04_Lists_Intro.ipynb",
   "provenance": [],
   "version": "0.3.2"
  },
  "kernelspec": {
   "display_name": "Python 3",
   "language": "python",
   "name": "python3"
  },
  "language_info": {
   "codemirror_mode": {
    "name": "ipython",
    "version": 3
   },
   "file_extension": ".py",
   "mimetype": "text/x-python",
   "name": "python",
   "nbconvert_exporter": "python",
   "pygments_lexer": "ipython3",
   "version": "3.7.3"
  }
 },
 "nbformat": 4,
 "nbformat_minor": 4
}
