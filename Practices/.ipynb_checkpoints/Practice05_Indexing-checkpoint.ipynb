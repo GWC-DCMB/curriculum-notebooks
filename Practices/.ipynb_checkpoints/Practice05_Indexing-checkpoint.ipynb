{
 "cells": [
  {
   "cell_type": "markdown",
   "metadata": {
    "colab_type": "text",
    "id": "imzHPa8VGMdo"
   },
   "source": [
    "# Practice with indexing!\n",
    "**Remember:**\n",
    "* Use square brackets to index (`[]`)\n",
    "* You can index lists and strings\n",
    "* Python starts counting at zero!\n",
    "\n",
    "Let's start with our list of pets:"
   ]
  },
  {
   "cell_type": "code",
   "execution_count": null,
   "metadata": {
    "colab": {},
    "colab_type": "code",
    "id": "jtGpL5AXGMdp"
   },
   "outputs": [],
   "source": [
    "# command Python to make a list of pets. Store it in pets\n",
    "['dog','cat','turtle','hamster','goldfish','snake','rabbit']\n",
    "\n",
    "# command Python to print pets\n"
   ]
  },
  {
   "cell_type": "markdown",
   "metadata": {
    "colab_type": "text",
    "id": "CJe7zEVUGMdw"
   },
   "source": [
    "Use indexing to print out cat:"
   ]
  },
  {
   "cell_type": "code",
   "execution_count": null,
   "metadata": {
    "colab": {},
    "colab_type": "code",
    "id": "3_O4J_EBGMdx"
   },
   "outputs": [],
   "source": [
    "# command Python to print cat by indexing the pets list\n"
   ]
  },
  {
   "cell_type": "markdown",
   "metadata": {
    "colab_type": "text",
    "id": "tw9nZWZ2GMd1"
   },
   "source": [
    "Print the 5th element in your list. What is it? Be sure to check your answer!"
   ]
  },
  {
   "cell_type": "code",
   "execution_count": null,
   "metadata": {
    "colab": {},
    "colab_type": "code",
    "id": "9oScPsFhGMd2"
   },
   "outputs": [],
   "source": [
    "# command Python to print the 5th element in pets\n"
   ]
  },
  {
   "cell_type": "markdown",
   "metadata": {
    "colab_type": "text",
    "id": "5DQV2T-aGMd6"
   },
   "source": [
    "Get turtle, hamster, and goldfish from pets using indexing and store it as pets_subset:"
   ]
  },
  {
   "cell_type": "code",
   "execution_count": null,
   "metadata": {
    "colab": {},
    "colab_type": "code",
    "id": "gZfQUutqGMd7"
   },
   "outputs": [],
   "source": [
    "# command Python to store turtle, hamster, and goldfish from pets into pets_subset\n",
    "\n",
    "# command Python to print pets_subset\n"
   ]
  },
  {
   "cell_type": "markdown",
   "metadata": {
    "colab_type": "text",
    "id": "46OKe_P3GMd-"
   },
   "source": [
    "How can you make a list of the first and third elements of pets?"
   ]
  },
  {
   "cell_type": "code",
   "execution_count": null,
   "metadata": {
    "colab": {},
    "colab_type": "code",
    "id": "p_4FVxG5GMd_"
   },
   "outputs": [],
   "source": [
    "# make a list of the first and third elements of pets\n"
   ]
  },
  {
   "cell_type": "markdown",
   "metadata": {
    "colab_type": "text",
    "id": "cP31PTcgGMeD"
   },
   "source": [
    "Let's get the last element of pets (rabbit) and store it as my_pet. Then print it out to make sure you did it correctly!"
   ]
  },
  {
   "cell_type": "code",
   "execution_count": null,
   "metadata": {
    "colab": {},
    "colab_type": "code",
    "id": "pFKrQ4_zGMeE"
   },
   "outputs": [],
   "source": [
    "# command Python to store the last element of pets in my_pet\n",
    "\n",
    "# command Python to print my_pet\n"
   ]
  },
  {
   "cell_type": "markdown",
   "metadata": {
    "colab_type": "text",
    "id": "QWf-tSO-GMeH"
   },
   "source": [
    "Print the first three letters of my_pet:"
   ]
  },
  {
   "cell_type": "code",
   "execution_count": null,
   "metadata": {
    "colab": {},
    "colab_type": "code",
    "id": "XE6j_Qo8GMeI"
   },
   "outputs": [],
   "source": [
    "# command Python to print the first three letters of my_pet\n"
   ]
  },
  {
   "cell_type": "markdown",
   "metadata": {
    "colab_type": "text",
    "id": "FEKSTEkIGMeP"
   },
   "source": [
    "**Challenge: ** \n",
    "1. Create a list called family and populate it with names of your family\n",
    "2. Create a list called friends and populate it with names of your friends\n",
    "3. Add your friends list and your family list together and store it in the variable people_i_know\n",
    "4. Find the length of people_i_know\n",
    "5. Print out the first and last element of people_i_know\n",
    "6. Pick one person from your list who is your hero. Get that person's name from the list using indexing and store it as my_hero\n",
    "7. Find the length of my_hero\n",
    "8. Get the first 2 letters of my_hero\n",
    "9. Get the last 2 letters of my_hero"
   ]
  },
  {
   "cell_type": "code",
   "execution_count": null,
   "metadata": {
    "colab": {},
    "colab_type": "code",
    "id": "kdeQEtsTGMeR"
   },
   "outputs": [],
   "source": []
  }
 ],
 "metadata": {
  "colab": {
   "collapsed_sections": [],
   "name": "Practice05_Indexing.ipynb",
   "provenance": [],
   "version": "0.3.2"
  },
  "kernelspec": {
   "display_name": "Python 3",
   "language": "python",
   "name": "python3"
  },
  "language_info": {
   "codemirror_mode": {
    "name": "ipython",
    "version": 3
   },
   "file_extension": ".py",
   "mimetype": "text/x-python",
   "name": "python",
   "nbconvert_exporter": "python",
   "pygments_lexer": "ipython3",
   "version": "3.7.3"
  }
 },
 "nbformat": 4,
 "nbformat_minor": 4
}
