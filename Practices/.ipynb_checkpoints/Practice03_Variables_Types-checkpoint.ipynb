{
 "cells": [
  {
   "cell_type": "markdown",
   "metadata": {
    "colab_type": "text",
    "id": "VXAz3pdWAQgm"
   },
   "source": [
    "# Practice with Variables and Types\n",
    "\n",
    "As you've seen, one of the most basic ways to use Python is as a calculator. Let's step up our calculation game by using Python to solve a math problem.\n",
    "\n",
    "Let's say you opened up a savings account at your local bank and to start you deposited $100. While your money is in the bank it is *accruing interest* at a rate of 10 percent per year. Now, you want to know how much money you will have at the end of 7 years, assuming you never withdraw or deposit anything from your savings account. The formula for calculating this value is:\n",
    "\n",
    "<center>total = start_balance * ( 1 + interest_rate )<sup>years</sup></center>"
   ]
  },
  {
   "cell_type": "code",
   "execution_count": null,
   "metadata": {
    "colab": {
     "base_uri": "https://localhost:8080/",
     "height": 51
    },
    "colab_type": "code",
    "executionInfo": {
     "elapsed": 410,
     "status": "ok",
     "timestamp": 1563150108891,
     "user": {
      "displayName": "Kelly Sovacool",
      "photoUrl": "https://lh3.googleusercontent.com/-WQsOgn6cXFg/AAAAAAAAAAI/AAAAAAAAAVA/ol7X28qyOHc/s64/photo.jpg",
      "userId": "07259925140867310896"
     },
     "user_tz": 240
    },
    "id": "_qEZ_Vb9AQgq",
    "outputId": "7dab0d18-6706-4339-8cd9-85c401eeebb4"
   },
   "outputs": [],
   "source": [
    "# assign your deposit amount to the variable start_balance\n",
    "\n",
    "# assign your interest rate to the variable interest_rate (TIP: How do we represent percentages in math?)\n",
    "\n",
    "# print the types of both start_balance and interest_rate. Make sure they match what you expect\n"
   ]
  },
  {
   "cell_type": "code",
   "execution_count": null,
   "metadata": {
    "colab": {
     "base_uri": "https://localhost:8080/",
     "height": 51
    },
    "colab_type": "code",
    "executionInfo": {
     "elapsed": 649,
     "status": "ok",
     "timestamp": 1563150109163,
     "user": {
      "displayName": "Kelly Sovacool",
      "photoUrl": "https://lh3.googleusercontent.com/-WQsOgn6cXFg/AAAAAAAAAAI/AAAAAAAAAVA/ol7X28qyOHc/s64/photo.jpg",
      "userId": "07259925140867310896"
     },
     "user_tz": 240
    },
    "id": "c-Od3EhdAQg6",
    "outputId": "c2b7f31b-5163-4c88-a994-87a25c2f40db"
   },
   "outputs": [],
   "source": [
    "# assign the number of savings years to the variable years\n",
    "\n",
    "# calculate the result of your savings problem to the variable total.\n",
    "# HINT 1: Remember your order of operations!\n",
    "# HINT 2: Use Google for the Python exponent mathematical operator\n",
    "# Google is your best friend in coding - don't be afraid to use it!\n",
    "\n",
    "# print the value of the total variable\n",
    "\n",
    "# print the type of the total variable. Is this what we expect? Why?\n"
   ]
  },
  {
   "cell_type": "markdown",
   "metadata": {
    "colab_type": "text",
    "id": "gNstSD7IAQhE"
   },
   "source": [
    "Now that we've had some practice with numerical types, let's get some practice with the other types we learned!\n",
    "\n",
    "First, let's see if we were able to double our money with our 7 years of interest and patience."
   ]
  },
  {
   "cell_type": "code",
   "execution_count": null,
   "metadata": {
    "colab": {
     "base_uri": "https://localhost:8080/",
     "height": 51
    },
    "colab_type": "code",
    "executionInfo": {
     "elapsed": 632,
     "status": "ok",
     "timestamp": 1563150109165,
     "user": {
      "displayName": "Kelly Sovacool",
      "photoUrl": "https://lh3.googleusercontent.com/-WQsOgn6cXFg/AAAAAAAAAAI/AAAAAAAAAVA/ol7X28qyOHc/s64/photo.jpg",
      "userId": "07259925140867310896"
     },
     "user_tz": 240
    },
    "id": "G6vuBsQpAQhG",
    "outputId": "8ad03933-7263-489c-9a50-325deac3d9c8"
   },
   "outputs": [],
   "source": [
    "# determine if total is greater than or equal to double our start balance\n",
    "# assign this value to the variable doubled and print it\n",
    "\n",
    "# What type do we expect this to be? Let's print the type of the variable doubled\n"
   ]
  },
  {
   "cell_type": "markdown",
   "metadata": {
    "colab_type": "text",
    "id": "vOGr_zBUAQhR"
   },
   "source": [
    "Now, let's play the name game."
   ]
  },
  {
   "cell_type": "code",
   "execution_count": null,
   "metadata": {
    "colab": {
     "base_uri": "https://localhost:8080/",
     "height": 232
    },
    "colab_type": "code",
    "executionInfo": {
     "elapsed": 633,
     "status": "error",
     "timestamp": 1563150109187,
     "user": {
      "displayName": "Kelly Sovacool",
      "photoUrl": "https://lh3.googleusercontent.com/-WQsOgn6cXFg/AAAAAAAAAAI/AAAAAAAAAVA/ol7X28qyOHc/s64/photo.jpg",
      "userId": "07259925140867310896"
     },
     "user_tz": 240
    },
    "id": "LX0J-tAJAQhT",
    "outputId": "88dc461f-a37c-49f7-de7b-61a1a87337e0"
   },
   "outputs": [],
   "source": [
    "# create a variable called first_name and assign it to your first name as a string\n",
    "\n",
    "# create a variable called last_name and assign it to your last name as a string\n",
    "\n",
    "# Now, concatenate (i.e. add) first_name with last_name and assign it a variable called full_name\n",
    "\n",
    "# print full_name. Does this look like you expect? How can you fix the formatting so it makes sense?\n",
    "\n",
    "\n",
    "# now try to add full_name to the variable start_balance from above. Does this work?\n",
    "# read the error message you get carefully! \n",
    "# learning how to read error messages will give you the keys to fix mistakes (i.e. bugs) in your code\n"
   ]
  },
  {
   "cell_type": "markdown",
   "metadata": {
    "colab_type": "text",
    "id": "uzE681JbAQhX"
   },
   "source": [
    "Lastly, let's use Python to create a personalized investment report. \n",
    "\n",
    "We know that we cannot simply add integers, floats, or booleans to strings. But in terms of printing, there are a few ways we can handle the formatting to enable printing of mixed types in the same message. \n",
    "\n",
    "### Method 1 - type conversion\n",
    "Numeric types and booleans can be converted to strings using the `str()` function. "
   ]
  },
  {
   "cell_type": "code",
   "execution_count": null,
   "metadata": {
    "colab": {},
    "colab_type": "code",
    "id": "DLhNTBX9AQhY"
   },
   "outputs": [],
   "source": [
    "print('ABC' + str(123))\n",
    "print('LMNOP' + str(8.910))\n",
    "print('XYZ' + str(True))"
   ]
  },
  {
   "cell_type": "markdown",
   "metadata": {
    "colab_type": "text",
    "id": "Ki6NJbpXAQhf"
   },
   "source": [
    "Some strings can also be converted to other types (if they make sense) using the `int()`, `float()`, and `bool()` functions. "
   ]
  },
  {
   "cell_type": "code",
   "execution_count": null,
   "metadata": {
    "colab": {},
    "colab_type": "code",
    "id": "I1hLe-FvAQhg"
   },
   "outputs": [],
   "source": [
    "print(4 + int('5'))\n",
    "print(1.2 + float(\"3.4\"))\n",
    "print(False + bool('True'))"
   ]
  },
  {
   "cell_type": "markdown",
   "metadata": {
    "colab_type": "text",
    "id": "laceLTnuAQhm"
   },
   "source": [
    "### Method 2 - multiple parameters in `print` function\n",
    "The `print` function takes multiple parameters (i.e. inputs), which can be of mixed type and are separated by commas. "
   ]
  },
  {
   "cell_type": "code",
   "execution_count": null,
   "metadata": {
    "colab": {},
    "colab_type": "code",
    "id": "aaSBlzpFAQhn"
   },
   "outputs": [],
   "source": [
    "print(\"I have\", 1 , \"dog and\", 2, \"cats\")\n",
    "print(\"I ate\", 2.5, \"ice cream sandwiches\")\n",
    "print(\"Those statements are both\", True)"
   ]
  },
  {
   "cell_type": "markdown",
   "metadata": {
    "colab_type": "text",
    "id": "HWDI495EAQhr"
   },
   "source": [
    "Notice that when using multiple parameters in the `print` functon, Python automatically puts spaces between the different inputs, but when using the type conversion method there are no automatic spaces added. \n",
    "\n",
    "Now, use either of the above methods to print a report that matches the following format:\n",
    "\n",
    "    Customer Name: Marlena Duda\n",
    "    Starting Balance: $100\n",
    "Years Saved: 7\n",
    "Ending Balance: $194.87\n",
    "    Doubled Starting: False\n",
    "\n",
    "Remember: Use the variable names we defined above whenever you can! "
   ]
  },
  {
   "cell_type": "code",
   "execution_count": null,
   "metadata": {
    "colab": {},
    "colab_type": "code",
    "collapsed": true,
    "id": "qDU2ZGrTAQhs"
   },
   "outputs": [],
   "source": [
    "# HINT: remember the spacing rules above!\n"
   ]
  },
  {
   "cell_type": "code",
   "execution_count": null,
   "metadata": {
    "colab": {},
    "colab_type": "code",
    "collapsed": true,
    "id": "pKQFnZnyAQh1"
   },
   "outputs": [],
   "source": []
  }
 ],
 "metadata": {
  "colab": {
   "collapsed_sections": [],
   "name": "Practice03_Variables_Types.ipynb",
   "provenance": [],
   "version": "0.3.2"
  },
  "kernelspec": {
   "display_name": "Python 3",
   "language": "python",
   "name": "python3"
  },
  "language_info": {
   "codemirror_mode": {
    "name": "ipython",
    "version": 3
   },
   "file_extension": ".py",
   "mimetype": "text/x-python",
   "name": "python",
   "nbconvert_exporter": "python",
   "pygments_lexer": "ipython3",
   "version": "3.7.3"
  }
 },
 "nbformat": 4,
 "nbformat_minor": 2
}
