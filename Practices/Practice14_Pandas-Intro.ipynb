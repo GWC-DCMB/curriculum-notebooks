{
 "cells": [
  {
   "cell_type": "markdown",
   "metadata": {
    "colab_type": "text",
    "id": "22Wd4xaYjX0t"
   },
   "source": [
    "# Practice: Intro to Pandas\n",
    "\n",
    "First we need to import the `pandas` package. Let's give it the same special nickname we used before\u2014`pd`."
   ]
  },
  {
   "cell_type": "code",
   "execution_count": null,
   "metadata": {
    "colab": {},
    "colab_type": "code",
    "id": "JEHhIJWfjpo9"
   },
   "outputs": [],
   "source": [
    "# import the pandas package with the nickname pd\n",
    "\n"
   ]
  },
  {
   "cell_type": "markdown",
   "metadata": {
    "colab_type": "text",
    "id": "lMthWKwejvcC"
   },
   "source": [
    "Now we'll create a `DataFrame`. Modify this cell to save it to a variable called `car_data`."
   ]
  },
  {
   "cell_type": "code",
   "execution_count": null,
   "metadata": {
    "colab": {},
    "colab_type": "code",
    "id": "jLw61q3ikR4N"
   },
   "outputs": [],
   "source": [
    "# add something here to save the DataFrame to a variable\n",
    " pd.DataFrame({'acceleration': [12.0,11.5,11.0,12.0,10.5,10.0,9.0,8.5,10.0,8.5,10.0,8.0,9.5,10.0,15.0,15.5,15.5,16.0,14.5,20.5],\n",
    " 'cylinders': [8, 8, 8, 8, 8, 8, 8, 8, 8, 8, 8, 8, 8, 8, 4, 6, 6, 6, 4, 4],\n",
    " 'displacement': [307.0,350.0,318.0,304.0,302.0,429.0,454.0,440.0,455.0,390.0,383.0,340.0,400.0,455.0,113.0,198.0,199.0,200.0,97.0,97.0],\n",
    " 'horsepower': [130.0,165.0,150.0,150.0,140.0,198.0,220.0,215.0,225.0,190.0,170.0,160.0,150.0,225.0,95.0,95.0,97.0,85.0,88.0,46.0],\n",
    " 'model_year': [70,70,70,70,70,70,70,70,70,70,70,70,70,70,70,70,70,70,70,70],\n",
    " 'mpg': [18.0,15.0,18.0,16.0,17.0,15.0,14.0,14.0,14.0,15.0,15.0,14.0,15.0,14.0,24.0,22.0,18.0,21.0,27.0,26.0],\n",
    " 'name': ['chevrolet chevelle malibu','buick skylark 320','plymouth satellite','amc rebel sst','ford torino','ford galaxie 500','chevrolet impala','plymouth fury iii','pontiac catalina','amc ambassador dpl','dodge challenger se',\"plymouth 'cuda 340\",'chevrolet monte carlo','buick estate wagon (sw)','toyota corona mark ii','plymouth duster','amc hornet','ford maverick','datsun pl510','volkswagen 1131 deluxe sedan'],\n",
    " 'origin': ['usa','usa','usa','usa','usa','usa','usa','usa','usa','usa','usa','usa','usa','usa','japan','usa','usa','usa','japan','europe'],\n",
    " 'weight': [3504,3693,3436,3433,3449,4341,4354,4312,4425,3850,3563,3609,3761,3086,2372,2833,2774,2587,2130,1835]})\n"
   ]
  },
  {
   "cell_type": "markdown",
   "metadata": {
    "colab_type": "text",
    "id": "BEairHODlJ1i"
   },
   "source": [
    "Now explore the `car_data` `DataFrame`. View the first few rows:"
   ]
  },
  {
   "cell_type": "code",
   "execution_count": null,
   "metadata": {
    "colab": {},
    "colab_type": "code",
    "id": "GHjatV7-lb6_"
   },
   "outputs": [],
   "source": [
    "# view the first 5 rows\n",
    "\n"
   ]
  },
  {
   "cell_type": "code",
   "execution_count": null,
   "metadata": {
    "colab": {},
    "colab_type": "code",
    "id": "eiw-_fBHojsJ"
   },
   "outputs": [],
   "source": [
    "# view the first 10 rows\n",
    "\n"
   ]
  },
  {
   "cell_type": "markdown",
   "metadata": {
    "colab_type": "text",
    "id": "mII70oOglqBS"
   },
   "source": [
    "What does the end of the `DataFrame` look like? Try viewing the last few rows:"
   ]
  },
  {
   "cell_type": "code",
   "execution_count": null,
   "metadata": {
    "colab": {},
    "colab_type": "code",
    "id": "rc5Hr4E6mLcm"
   },
   "outputs": [],
   "source": [
    "# view the last 5 rows\n",
    "\n"
   ]
  },
  {
   "cell_type": "markdown",
   "metadata": {
    "colab_type": "text",
    "id": "-81YQbXHn-4j"
   },
   "source": [
    "What happens when you call `head` or `tail` without putting a number between the parentheses?"
   ]
  },
  {
   "cell_type": "code",
   "execution_count": null,
   "metadata": {
    "colab": {},
    "colab_type": "code",
    "id": "60MwE7WYoFGc"
   },
   "outputs": [],
   "source": [
    "# try using head without a number\n",
    "\n"
   ]
  },
  {
   "cell_type": "code",
   "execution_count": null,
   "metadata": {
    "colab": {},
    "colab_type": "code",
    "id": "E1ZApd4DontU"
   },
   "outputs": [],
   "source": [
    "# try using tail without a number\n",
    "\n"
   ]
  },
  {
   "cell_type": "markdown",
   "metadata": {
    "colab_type": "text",
    "id": "NQlJ3CnAmV6H"
   },
   "source": [
    "What do the rows of the `DataFrame` represent?\n",
    "\n"
   ]
  },
  {
   "cell_type": "markdown",
   "metadata": {
    "colab_type": "text",
    "id": "_4LxXePpGx57"
   },
   "source": [
    "**Answer:** "
   ]
  },
  {
   "cell_type": "markdown",
   "metadata": {
    "colab_type": "text",
    "id": "rFgJkW1vmefg"
   },
   "source": [
    "What measurements or observations do we have about the data?"
   ]
  },
  {
   "cell_type": "markdown",
   "metadata": {
    "colab_type": "text",
    "id": "ULj1JclXmuMl"
   },
   "source": [
    "**Answers:**"
   ]
  },
  {
   "cell_type": "markdown",
   "metadata": {
    "colab_type": "text",
    "id": "PfcYAzWJGx6M"
   },
   "source": [
    "What types of variables are in each of the columns?"
   ]
  },
  {
   "cell_type": "markdown",
   "metadata": {
    "colab_type": "text",
    "id": "5HI5MRUqm1ye"
   },
   "source": [
    "**Answers:**\n"
   ]
  },
  {
   "cell_type": "markdown",
   "metadata": {
    "colab_type": "text",
    "id": "vcTISrhjGx6W"
   },
   "source": [
    "- **acceleration**: \n",
    "- **cylinders**:\n",
    "- **displacement**:\n",
    "- **horsepower**:\n",
    "- **model_year**:\n",
    "- **mpg**:\n",
    "- **name**:\n",
    "- **origin**:\n",
    "- **weight**:\n"
   ]
  },
  {
   "cell_type": "code",
   "execution_count": null,
   "metadata": {
    "colab": {},
    "colab_type": "code",
    "id": "Jgn5LtB_Gx6a"
   },
   "outputs": [],
   "source": []
  }
 ],
 "metadata": {
  "kernelspec": {
   "display_name": "Python 3",
   "language": "python",
   "name": "python3"
  },
  "language_info": {
   "codemirror_mode": {
    "name": "ipython",
    "version": 3
   },
   "file_extension": ".py",
   "mimetype": "text/x-python",
   "name": "python",
   "nbconvert_exporter": "python",
   "pygments_lexer": "ipython3",
   "version": "3.7.3"
  }
 },
 "nbformat": 4,
 "nbformat_minor": 4
}