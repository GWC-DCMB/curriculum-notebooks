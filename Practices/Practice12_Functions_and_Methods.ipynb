{
 "nbformat": 4,
 "nbformat_minor": 0,
 "metadata": {
  "language_info": {
   "codemirror_mode": {
    "name": "ipython",
    "version": 3
   },
   "file_extension": ".py",
   "mimetype": "text/x-python",
   "name": "python",
   "nbconvert_exporter": "python",
   "pygments_lexer": "ipython3",
   "version": "3.7.3"
  },
  "kernelspec": {
   "display_name": "Python 3",
   "language": "python",
   "name": "python3"
  }
 },
 "cells": [
  {
   "cell_type": "markdown",
   "metadata": {
    "id": "ldARuLSYGm2J",
    "colab_type": "text"
   },
   "source": [
    "# Practice with functions and methods!\n",
    "**Remember:**\n",
    "* Functions and methods take an input, do something with the input, and return an output\n",
    "* Functions can take arguments that modify the output of the function\n",
    "* Methods are specific to ceratin object types"
   ]
  },
  {
   "cell_type": "markdown",
   "metadata": {
    "id": "RJ_gOI53Gm2Q",
    "colab_type": "text"
   },
   "source": [
    "Let's use the functions we learned on a new list of numbers:"
   ]
  },
  {
   "cell_type": "code",
   "metadata": {
    "id": "LQTk4ZTJGm2U",
    "colab_type": "code",
    "colab": {}
   },
   "source": [
    "# make list of numbers\n",
    "numbers = [-1.98109433,  0.4853873,  -0.36403664, -0.59780583,  0.11605985, -0.03363619,\n",
    "  0.07866253, -0.91272715, -0.17107551, -0.18762688,  1.72405448,  1.45011427,\n",
    "  1.78252183,  0.33430701, -0.65456432, -0.75685282,  0.6597416,   0.31665978,\n",
    " -0.89478975,  0.32167438,  1.04937506, -1.22575797, -0.53536782, -0.95484705,\n",
    " -1.18471148,  0.39326952, -1.46043887, -0.6158524,  -1.38622398, -0.08476239]\n",
    "\n",
    "# print numbers\n"
   ],
   "execution_count": 0,
   "outputs": []
  },
  {
   "cell_type": "markdown",
   "metadata": {
    "id": "HV_iFE_eGm2y",
    "colab_type": "text"
   },
   "source": [
    "How many elements are in `numbers`?"
   ]
  },
  {
   "cell_type": "code",
   "metadata": {
    "id": "6cR2I2v1Gm24",
    "colab_type": "code",
    "colab": {}
   },
   "source": [
    "# print length of numbers\n",
    "\n"
   ],
   "execution_count": 0,
   "outputs": []
  },
  {
   "cell_type": "markdown",
   "metadata": {
    "id": "frNOlJagGm3H",
    "colab_type": "text"
   },
   "source": [
    "What is the sum of `numbers`?"
   ]
  },
  {
   "cell_type": "code",
   "metadata": {
    "id": "1qv-C4UAGm3N",
    "colab_type": "code",
    "colab": {}
   },
   "source": [
    "# get the number of elements in numbers\n",
    "\n"
   ],
   "execution_count": 0,
   "outputs": []
  },
  {
   "cell_type": "markdown",
   "metadata": {
    "id": "GvXcB1dUGm3a",
    "colab_type": "text"
   },
   "source": [
    "What about the minimum and maximum values in `numbers`?"
   ]
  },
  {
   "cell_type": "code",
   "metadata": {
    "id": "xfrPTjtqGm3e",
    "colab_type": "code",
    "colab": {}
   },
   "source": [
    "# command Python to print the minimum of numbers\n",
    "\n",
    "# command Python to print the maximum of numbers\n",
    "\n"
   ],
   "execution_count": 0,
   "outputs": []
  },
  {
   "cell_type": "markdown",
   "metadata": {
    "id": "kTJNIwmHGm3t",
    "colab_type": "text"
   },
   "source": [
    "Get the absolute value the first element in `numbers`."
   ]
  },
  {
   "cell_type": "code",
   "metadata": {
    "id": "X7EWBaKxGm32",
    "colab_type": "code",
    "colab": {}
   },
   "source": [
    "# get the absolute value\n"
   ],
   "execution_count": 0,
   "outputs": []
  },
  {
   "cell_type": "markdown",
   "metadata": {
    "id": "MHxBsqqtGm4H",
    "colab_type": "text"
   },
   "source": [
    "Find the mean of `numbers` and save it to `avg`."
   ]
  },
  {
   "cell_type": "code",
   "metadata": {
    "id": "NcaDPQSNGm4N",
    "colab_type": "code",
    "colab": {}
   },
   "source": [
    "# get mean of numbers and save to avg\n",
    "\n",
    "# print avg\n"
   ],
   "execution_count": 0,
   "outputs": []
  },
  {
   "cell_type": "markdown",
   "metadata": {
    "id": "6wa5SV49Gm4e",
    "colab_type": "text"
   },
   "source": [
    "Round `avg` to 2 decimal places:"
   ]
  },
  {
   "cell_type": "code",
   "metadata": {
    "id": "Qt50JXatGm4k",
    "colab_type": "code",
    "colab": {}
   },
   "source": [
    "# command Python to round the first element in numbers\n",
    "\n"
   ],
   "execution_count": 0,
   "outputs": []
  },
  {
   "cell_type": "markdown",
   "metadata": {
    "id": "DGl0Z9V4Gm46",
    "colab_type": "text"
   },
   "source": [
    "**Challenge:** Let's work with our `animals` list:"
   ]
  },
  {
   "cell_type": "code",
   "metadata": {
    "id": "4yyOzOr6Gm5A",
    "colab_type": "code",
    "colab": {}
   },
   "source": [
    "# command Python to make a list of animals\n",
    "animals = [['cat','dog','elephant'],\n",
    "           ['fish','seahorse','whale'],\n",
    "           ['robin', 'cardinal', 'bat']]\n",
    "\n",
    "# command Python to print animals\n"
   ],
   "execution_count": 0,
   "outputs": []
  },
  {
   "cell_type": "markdown",
   "metadata": {
    "id": "TDkXt1_pGm5N",
    "colab_type": "text"
   },
   "source": [
    "What is the max of `animals`? Does this make sense?"
   ]
  },
  {
   "cell_type": "code",
   "metadata": {
    "id": "wrkmXIRTGm5S",
    "colab_type": "code",
    "colab": {}
   },
   "source": [
    "# command Python to get the max of animals\n"
   ],
   "execution_count": 0,
   "outputs": []
  },
  {
   "cell_type": "markdown",
   "metadata": {
    "id": "6wa_La_TGm5k",
    "colab_type": "text"
   },
   "source": [
    "What is the maximum of the land animals?"
   ]
  },
  {
   "cell_type": "code",
   "metadata": {
    "id": "1t5xaBLBGm5p",
    "colab_type": "code",
    "colab": {}
   },
   "source": [
    "# command Python to get the maximum of the land animals\n",
    "\n"
   ],
   "execution_count": 0,
   "outputs": []
  },
  {
   "cell_type": "markdown",
   "metadata": {
    "id": "fK6IPtneGm58",
    "colab_type": "text"
   },
   "source": [
    "What is the maximum of cat in the animals list? Use indexing to get cat."
   ]
  },
  {
   "cell_type": "code",
   "metadata": {
    "id": "QuN190scGm6B",
    "colab_type": "code",
    "colab": {}
   },
   "source": [
    "# print the max of cat\n"
   ],
   "execution_count": 0,
   "outputs": []
  },
  {
   "cell_type": "markdown",
   "metadata": {
    "id": "NyW1HxYSGm6P",
    "colab_type": "text"
   },
   "source": [
    "Nice job! You just practiced:\n",
    "* Using functions\n",
    "* Indexing lists\n",
    "* Saving things to variables"
   ]
  }
 ]
}