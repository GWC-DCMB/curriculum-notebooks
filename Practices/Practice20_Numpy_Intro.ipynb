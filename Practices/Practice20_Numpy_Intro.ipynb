{
 "cells": [
  {
   "cell_type": "markdown",
   "metadata": {
    "colab_type": "text",
    "id": "mobuI3G45ErZ"
   },
   "source": [
    "# Practice with `numpy`!"
   ]
  },
  {
   "cell_type": "markdown",
   "metadata": {
    "colab_type": "text",
    "id": "Rpm_nWJS5Era"
   },
   "source": [
    "**Remember:**\n",
    "* Numpy provides a bunch of useful tools for performing calculations\n",
    "* You access numpy functions by calling `np.function_name`"
   ]
  },
  {
   "cell_type": "markdown",
   "metadata": {
    "colab_type": "text",
    "id": "sBUu7s_y5Erb"
   },
   "source": [
    "First, __import numpy__. Remember to use the nickname!"
   ]
  },
  {
   "cell_type": "code",
   "execution_count": 0,
   "metadata": {
    "colab": {},
    "colab_type": "code",
    "collapsed": true,
    "id": "IGoKRnre5Erc"
   },
   "outputs": [],
   "source": [
    "# load numpy\n"
   ]
  },
  {
   "cell_type": "markdown",
   "metadata": {
    "colab_type": "text",
    "id": "8uWX2a2V5Erh"
   },
   "source": [
    "Use numpy to __create a list of numbers from 0 through 99.__ We'll use a function called __`arange`.__"
   ]
  },
  {
   "cell_type": "code",
   "execution_count": 0,
   "metadata": {
    "colab": {},
    "colab_type": "code",
    "collapsed": true,
    "id": "G_MXNx5p5Eri"
   },
   "outputs": [],
   "source": [
    "# Use np.arrange to generate an array of numbers and assign it to a variable called numbers\n",
    "\n",
    "# print the array to see what it looks like\n",
    "\n"
   ]
  },
  {
   "cell_type": "markdown",
   "metadata": {
    "colab_type": "text",
    "id": "nH-CXAFQ5Erq"
   },
   "source": [
    "Now use numpy's function called __`zeros`__ to __create another empty array__ of the same size:"
   ]
  },
  {
   "cell_type": "code",
   "execution_count": 0,
   "metadata": {
    "colab": {},
    "colab_type": "code",
    "collapsed": true,
    "id": "ncgGZbUF5Err"
   },
   "outputs": [],
   "source": [
    "# Create an empty array with np.zeros and assign it to a variable\n",
    "\n",
    "# print it\n",
    "\n"
   ]
  },
  {
   "cell_type": "markdown",
   "metadata": {
    "colab_type": "text",
    "id": "xuyYmpD85Erw"
   },
   "source": [
    "Now try manipulating the arrays using basic math:"
   ]
  },
  {
   "cell_type": "code",
   "execution_count": 0,
   "metadata": {
    "colab": {},
    "colab_type": "code",
    "collapsed": true,
    "id": "ULqMaAjJ5Erx"
   },
   "outputs": [],
   "source": [
    "# Add the numbers array to itself\n",
    "\n"
   ]
  },
  {
   "cell_type": "code",
   "execution_count": 0,
   "metadata": {
    "colab": {},
    "colab_type": "code",
    "collapsed": true,
    "id": "IwDpDsPF5Er1"
   },
   "outputs": [],
   "source": [
    "# Multiply the numbers array to itself\n",
    "\n"
   ]
  },
  {
   "cell_type": "markdown",
   "metadata": {
    "colab_type": "text",
    "id": "_DeFP4ZI5Er4"
   },
   "source": [
    "Note that when you perform a math operation on an array, __it will often perform that operation on each item in that array.__ It's convenient that __we don't have to loop through all the values__ to apply the math operation to every item in the array."
   ]
  },
  {
   "cell_type": "markdown",
   "metadata": {
    "colab_type": "text",
    "id": "8Yj_UpHS5Er5"
   },
   "source": [
    "__You can find information about the size of an array by using `.shape`.__ Note that `.shape` is an *attribute* of array -- a special variable that belongs to every *array object*. Try it out:\n",
    "\n",
    "*HINT*: Because `.shape` is not a function you don't need to use parentheses. "
   ]
  },
  {
   "cell_type": "code",
   "execution_count": 0,
   "metadata": {
    "colab": {},
    "colab_type": "code",
    "collapsed": true,
    "id": "ZngPKKEF5Er6"
   },
   "outputs": [],
   "source": [
    "# Use shape to view the size of your array\n",
    "\n"
   ]
  },
  {
   "cell_type": "markdown",
   "metadata": {
    "colab_type": "text",
    "id": "Xw5LqGwy5Er_"
   },
   "source": [
    "`.shape` gave us just one number, because our array has only 1 dimension. Later we'll see what it looks like for arrays with more than 1 dimension.\n",
    "\n",
    "Numpy also allows you to create 2D arrays, like with lists. We can __use the `method` called `reshape` to change an 1-dimensional `array` into a 2-dimensional `array`.__ `reshape` takes two arguments: the number of rows and the number of columns. Try turning one of your arrays into a 2D array using `reshape`."
   ]
  },
  {
   "cell_type": "code",
   "execution_count": 0,
   "metadata": {
    "colab": {},
    "colab_type": "code",
    "collapsed": true,
    "id": "0ERWCQTF5EsA"
   },
   "outputs": [],
   "source": [
    "# Reshape one of your arrays into a 2D array\n",
    "\n",
    "# print out the array\n"
   ]
  },
  {
   "cell_type": "markdown",
   "metadata": {
    "colab_type": "text",
    "id": "lI5QaVc55EsF"
   },
   "source": [
    "Now the `.shape` of your array should be changed, __try printing it out below:__"
   ]
  },
  {
   "cell_type": "code",
   "execution_count": 0,
   "metadata": {
    "colab": {},
    "colab_type": "code",
    "collapsed": true,
    "id": "fQkocNpj5EsG"
   },
   "outputs": [],
   "source": [
    "# Print the shape of your new array\n"
   ]
  },
  {
   "cell_type": "markdown",
   "metadata": {
    "colab_type": "text",
    "id": "EvaJPpWi5EsL"
   },
   "source": [
    "Now we will try a couple of numpy's math functions!"
   ]
  },
  {
   "cell_type": "code",
   "execution_count": 0,
   "metadata": {
    "colab": {},
    "colab_type": "code",
    "collapsed": true,
    "id": "zjvGvWo85EsM"
   },
   "outputs": [],
   "source": [
    "# try using np.sum to add the items in a list together\n",
    "\n"
   ]
  },
  {
   "cell_type": "code",
   "execution_count": 0,
   "metadata": {
    "colab": {},
    "colab_type": "code",
    "collapsed": true,
    "id": "OF-6as2_8TtN"
   },
   "outputs": [],
   "source": [
    "# try squaring the value of each item in your array\n",
    "\n"
   ]
  },
  {
   "cell_type": "markdown",
   "metadata": {
    "colab_type": "text",
    "id": "TkxL0-u09yCZ"
   },
   "source": [
    "__Try converting the `numbers` array to an array of floats__ using the method called `astype`:"
   ]
  },
  {
   "cell_type": "code",
   "execution_count": 0,
   "metadata": {
    "colab": {},
    "colab_type": "code",
    "collapsed": true,
    "id": "b3IcIXzQ8UB8"
   },
   "outputs": [],
   "source": [
    "# Convert the array into an array of floats\n",
    "\n"
   ]
  },
  {
   "cell_type": "markdown",
   "metadata": {
    "colab_type": "text",
    "id": "Ac9Wobn95EsQ"
   },
   "source": [
    "Nice job! You just practiced:\n",
    "\n",
    "* Using `numpy` to perform `array` operations.\n",
    "* Performing math with `numpy`."
   ]
  }
 ],
 "metadata": {
  "kernelspec": {
   "display_name": "Python 2",
   "language": "python",
   "name": "python2"
  },
  "language_info": {
   "codemirror_mode": {
    "name": "ipython",
    "version": 2
   },
   "file_extension": ".py",
   "mimetype": "text/x-python",
   "name": "python",
   "nbconvert_exporter": "python",
   "pygments_lexer": "ipython2",
   "version": "2.7.14"
  }
 },
 "nbformat": 4,
 "nbformat_minor": 1
}
