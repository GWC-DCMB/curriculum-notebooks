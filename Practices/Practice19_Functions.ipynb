{
 "cells": [
  {
   "cell_type": "markdown",
   "metadata": {},
   "source": [
    "# Practice with functions\n",
    "\n",
    "**Remember:**\n",
    "- Functions are used to make your code easier to read and reuse.\n",
    "- Functions take an input (_arguments_) and _return_ an output.\n",
    "- Arguments are variables that only exist inside the function.\n",
    "- You can have _default_ arguments for your function.\n",
    "- Document your function well so other people know how to use it!\n",
    "\n",
    "Now you get to try writing your own function!\n",
    "\n",
    "Now that we've gone over how to write a function, it's time to try it out yourself! Write a function called `average` that takes a list of numbers and returns the mean of those numbers."
   ]
  },
  {
   "cell_type": "code",
   "execution_count": 1,
   "metadata": {
    "collapsed": true,
    "jupyter": {
     "outputs_hidden": true
    }
   },
   "outputs": [],
   "source": [
    "# define a function called average to calculate mean\n"
   ]
  },
  {
   "cell_type": "markdown",
   "metadata": {},
   "source": [
    "Check to see if your function works:"
   ]
  },
  {
   "cell_type": "code",
   "execution_count": 2,
   "metadata": {},
   "outputs": [],
   "source": [
    "# list of numbers\n",
    "n = [1,1,2,3,5,8,13]\n",
    "#n = [0,1,2,3,4,5]\n",
    "# get average\n"
   ]
  },
  {
   "cell_type": "markdown",
   "metadata": {},
   "source": [
    "Now, add second argument that is either `True` or `False` that will round the average to the nearest whole number. *Hint:* There is a built-in function to round numbers in Python."
   ]
  },
  {
   "cell_type": "code",
   "execution_count": 3,
   "metadata": {
    "collapsed": true,
    "jupyter": {
     "outputs_hidden": true
    }
   },
   "outputs": [],
   "source": [
    "# define a function called average to calculate mean\n"
   ]
  },
  {
   "cell_type": "code",
   "execution_count": 4,
   "metadata": {},
   "outputs": [],
   "source": [
    "# test your function with rounding (print out the output)\n",
    "\n",
    "# test your function without rounding (print out the output)\n"
   ]
  },
  {
   "cell_type": "markdown",
   "metadata": {},
   "source": [
    "Did you notice if it rounds up or down when the decimal is `.5`? Is this what you expected?\n",
    "\n",
    "Now make the default be to not round to the nearest whole number."
   ]
  },
  {
   "cell_type": "code",
   "execution_count": 5,
   "metadata": {
    "collapsed": true,
    "jupyter": {
     "outputs_hidden": true
    }
   },
   "outputs": [],
   "source": [
    "# define a function called average to calculate mean\n"
   ]
  },
  {
   "cell_type": "code",
   "execution_count": 6,
   "metadata": {},
   "outputs": [],
   "source": [
    "# test out your function\n"
   ]
  },
  {
   "cell_type": "markdown",
   "metadata": {},
   "source": [
    "Nice job! You just practiced writing your own function, and using default arguments."
   ]
  }
 ],
 "metadata": {
  "kernelspec": {
   "display_name": "Python 3",
   "language": "python",
   "name": "python3"
  },
  "language_info": {
   "codemirror_mode": {
    "name": "ipython",
    "version": 3
   },
   "file_extension": ".py",
   "mimetype": "text/x-python",
   "name": "python",
   "nbconvert_exporter": "python",
   "pygments_lexer": "ipython3",
   "version": "3.7.3"
  }
 },
 "nbformat": 4,
 "nbformat_minor": 4
}
