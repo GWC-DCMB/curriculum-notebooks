{
 "cells": [
  {
   "cell_type": "markdown",
   "metadata": {
    "colab_type": "text",
    "id": "JsJYvhKrAEgR"
   },
   "source": [
    "# Hello World ... Again\n",
    "\n",
    "Now it's time for you to practice writing some of your very own Python code!\n",
    "\n",
    "Our goals for this GWC Club are for you to learn lots of new programming skills, but also to meet some new friends who will turn into your future data science colleagues. Write some Python code to teach your programming partner a little bit about yourself - share what Python prints with the programmer sitting next to you!"
   ]
  },
  {
   "cell_type": "code",
   "execution_count": null,
   "metadata": {
    "colab": {
     "base_uri": "https://localhost:8080/",
     "height": 34
    },
    "colab_type": "code",
    "executionInfo": {
     "elapsed": 544,
     "status": "ok",
     "timestamp": 1563150020668,
     "user": {
      "displayName": "Kelly Sovacool",
      "photoUrl": "https://lh3.googleusercontent.com/-WQsOgn6cXFg/AAAAAAAAAAI/AAAAAAAAAVA/ol7X28qyOHc/s64/photo.jpg",
      "userId": "07259925140867310896"
     },
     "user_tz": 240
    },
    "id": "cmL4DC3yAEgS",
    "outputId": "85d1450e-7fa4-4936-d67d-29635834818e"
   },
   "outputs": [],
   "source": [
    "# command python to print a string with some information about yourself. \n",
    "# include your name, your grade level and a fun fact about yourself\n",
    "\n",
    "\n",
    "\n",
    "# HINT: if you are getting an error message look back to the lesson. \n",
    "# What did we need to put around Hello World to make it print?"
   ]
  },
  {
   "cell_type": "markdown",
   "metadata": {
    "colab_type": "text",
    "id": "2mBNHQI1AEga"
   },
   "source": [
    "Now let's use our coding skills to do some data science! \n",
    "\n",
    "In a 2012 study conducted at MIT, researchers analyzed the differences between males and females applying to jobs at a mid-size high technology company. Out of the total 10,102 applicants, only 3,785 were female. Furthermore, only 177 females, compared to 626 males, applied for executive level positions. In the following exercises, you'll use your new coding skills to summarize this data with some statistics."
   ]
  },
  {
   "cell_type": "code",
   "execution_count": null,
   "metadata": {
    "colab": {
     "base_uri": "https://localhost:8080/",
     "height": 34
    },
    "colab_type": "code",
    "executionInfo": {
     "elapsed": 653,
     "status": "ok",
     "timestamp": 1563150020794,
     "user": {
      "displayName": "Kelly Sovacool",
      "photoUrl": "https://lh3.googleusercontent.com/-WQsOgn6cXFg/AAAAAAAAAAI/AAAAAAAAAVA/ol7X28qyOHc/s64/photo.jpg",
      "userId": "07259925140867310896"
     },
     "user_tz": 240
    },
    "id": "R-VHoJ9oAEga",
    "outputId": "cbbec2eb-c3b6-4d96-c690-a858d3112518"
   },
   "outputs": [],
   "source": [
    "# assign total number of applicants and total number of female applicants to \n",
    "# the variables total_applicants and total_female_applicants, respectively\n",
    "# print your variables\n",
    "\n",
    "# HINT: the function print can take more than one variable as an input by \n",
    "# placing \",\" between them."
   ]
  },
  {
   "cell_type": "code",
   "execution_count": null,
   "metadata": {
    "colab": {
     "base_uri": "https://localhost:8080/",
     "height": 34
    },
    "colab_type": "code",
    "executionInfo": {
     "elapsed": 645,
     "status": "ok",
     "timestamp": 1563150020798,
     "user": {
      "displayName": "Kelly Sovacool",
      "photoUrl": "https://lh3.googleusercontent.com/-WQsOgn6cXFg/AAAAAAAAAAI/AAAAAAAAAVA/ol7X28qyOHc/s64/photo.jpg",
      "userId": "07259925140867310896"
     },
     "user_tz": 240
    },
    "id": "rTRF4DFzAEgf",
    "outputId": "9be32052-0846-422d-8a75-ab393fd0d01d"
   },
   "outputs": [],
   "source": [
    "# using these variable names, calculate the total number of male applicants using subtraction\n",
    "# assign this value to the variable total_male_applicants\n",
    "# print this variable\n"
   ]
  },
  {
   "cell_type": "code",
   "execution_count": null,
   "metadata": {
    "colab": {
     "base_uri": "https://localhost:8080/",
     "height": 34
    },
    "colab_type": "code",
    "executionInfo": {
     "elapsed": 624,
     "status": "ok",
     "timestamp": 1563150020799,
     "user": {
      "displayName": "Kelly Sovacool",
      "photoUrl": "https://lh3.googleusercontent.com/-WQsOgn6cXFg/AAAAAAAAAAI/AAAAAAAAAVA/ol7X28qyOHc/s64/photo.jpg",
      "userId": "07259925140867310896"
     },
     "user_tz": 240
    },
    "id": "AlxsByrRAEgj",
    "outputId": "9988dc94-af06-4072-81b4-53769d310bea"
   },
   "outputs": [],
   "source": [
    "# calculate the percentage of total applicants that are male using division\n",
    "# assign this value to the variable percent_male_applicants\n",
    "# print this variable\n"
   ]
  },
  {
   "cell_type": "code",
   "execution_count": null,
   "metadata": {
    "colab": {
     "base_uri": "https://localhost:8080/",
     "height": 34
    },
    "colab_type": "code",
    "executionInfo": {
     "elapsed": 611,
     "status": "ok",
     "timestamp": 1563150020800,
     "user": {
      "displayName": "Kelly Sovacool",
      "photoUrl": "https://lh3.googleusercontent.com/-WQsOgn6cXFg/AAAAAAAAAAI/AAAAAAAAAVA/ol7X28qyOHc/s64/photo.jpg",
      "userId": "07259925140867310896"
     },
     "user_tz": 240
    },
    "id": "vrLMkD3_AEgm",
    "outputId": "baf5492b-6f93-4624-82f0-62dcd3f52291"
   },
   "outputs": [],
   "source": [
    "# calculate the percentage of total applicants that were female using division\n",
    "# assign this value to the variable percent_female_applicants\n",
    "# print this variable\n"
   ]
  },
  {
   "cell_type": "code",
   "execution_count": null,
   "metadata": {
    "colab": {
     "base_uri": "https://localhost:8080/",
     "height": 34
    },
    "colab_type": "code",
    "executionInfo": {
     "elapsed": 840,
     "status": "ok",
     "timestamp": 1563150021045,
     "user": {
      "displayName": "Kelly Sovacool",
      "photoUrl": "https://lh3.googleusercontent.com/-WQsOgn6cXFg/AAAAAAAAAAI/AAAAAAAAAVA/ol7X28qyOHc/s64/photo.jpg",
      "userId": "07259925140867310896"
     },
     "user_tz": 240
    },
    "id": "S1tJvu6zAEgp",
    "outputId": "78c7b399-8505-4fb2-e5d2-6f1ad690ae98"
   },
   "outputs": [],
   "source": [
    "# assign total number of male executive applicants and total number of female executive applicants\n",
    "# to the variables male_exec_applicants and female_exec_applicants, respectively\n",
    "# print your variables\n"
   ]
  },
  {
   "cell_type": "code",
   "execution_count": null,
   "metadata": {
    "colab": {
     "base_uri": "https://localhost:8080/",
     "height": 34
    },
    "colab_type": "code",
    "executionInfo": {
     "elapsed": 818,
     "status": "ok",
     "timestamp": 1563150021048,
     "user": {
      "displayName": "Kelly Sovacool",
      "photoUrl": "https://lh3.googleusercontent.com/-WQsOgn6cXFg/AAAAAAAAAAI/AAAAAAAAAVA/ol7X28qyOHc/s64/photo.jpg",
      "userId": "07259925140867310896"
     },
     "user_tz": 240
    },
    "id": "PcTzZ9JoAEgv",
    "outputId": "dcb99156-cd08-4e4d-e8ba-343d2958e56e"
   },
   "outputs": [],
   "source": [
    "# using these variable names, calculate the total number of executive applicants using addition\n",
    "# assign this value to the variable total_exec_applicants\n",
    "# print this variable\n"
   ]
  },
  {
   "cell_type": "code",
   "execution_count": null,
   "metadata": {
    "colab": {
     "base_uri": "https://localhost:8080/",
     "height": 34
    },
    "colab_type": "code",
    "executionInfo": {
     "elapsed": 807,
     "status": "ok",
     "timestamp": 1563150021052,
     "user": {
      "displayName": "Kelly Sovacool",
      "photoUrl": "https://lh3.googleusercontent.com/-WQsOgn6cXFg/AAAAAAAAAAI/AAAAAAAAAVA/ol7X28qyOHc/s64/photo.jpg",
      "userId": "07259925140867310896"
     },
     "user_tz": 240
    },
    "id": "LlBxTMXBAEg0",
    "outputId": "f489aa14-496d-446c-b266-8a633377f092"
   },
   "outputs": [],
   "source": [
    "# calculate the percentage of total applicants that applied for executive positions using division\n",
    "# assign this value to the variable percent_total_applicants_exec\n",
    "# print this variable\n"
   ]
  },
  {
   "cell_type": "code",
   "execution_count": null,
   "metadata": {
    "colab": {
     "base_uri": "https://localhost:8080/",
     "height": 34
    },
    "colab_type": "code",
    "executionInfo": {
     "elapsed": 799,
     "status": "ok",
     "timestamp": 1563150021057,
     "user": {
      "displayName": "Kelly Sovacool",
      "photoUrl": "https://lh3.googleusercontent.com/-WQsOgn6cXFg/AAAAAAAAAAI/AAAAAAAAAVA/ol7X28qyOHc/s64/photo.jpg",
      "userId": "07259925140867310896"
     },
     "user_tz": 240
    },
    "id": "Dna5K6UUAEg5",
    "outputId": "d881b886-df6a-4394-caf7-643d971698e0"
   },
   "outputs": [],
   "source": [
    "# calculate the percentage of female applicants that applied for executive positions using division\n",
    "# assign this value to the variable percent_female_applicants_exec\n",
    "# print this variable\n"
   ]
  },
  {
   "cell_type": "code",
   "execution_count": null,
   "metadata": {
    "colab": {
     "base_uri": "https://localhost:8080/",
     "height": 34
    },
    "colab_type": "code",
    "executionInfo": {
     "elapsed": 785,
     "status": "ok",
     "timestamp": 1563150021059,
     "user": {
      "displayName": "Kelly Sovacool",
      "photoUrl": "https://lh3.googleusercontent.com/-WQsOgn6cXFg/AAAAAAAAAAI/AAAAAAAAAVA/ol7X28qyOHc/s64/photo.jpg",
      "userId": "07259925140867310896"
     },
     "user_tz": 240
    },
    "id": "m7j_7p8FAEg_",
    "outputId": "82e59a79-3529-4dc4-845a-88adbf0d8890"
   },
   "outputs": [],
   "source": [
    "# calculate the percentage of male applicants that applied for executive positions using division\n",
    "# assign this value to the variable percent_male_applicants_exec\n",
    "# print this variable\n"
   ]
  },
  {
   "cell_type": "markdown",
   "metadata": {
    "colab_type": "text",
    "id": "HZ_xAVfyAEhW"
   },
   "source": [
    "Congratulations! You just used Python code to perform data analysis for the first time!\n",
    "\n",
    "What do you think of your results? In 2016, the National Center for Women & Information Technology (NCWIT) found that women held only 25% of all positions in computing, and this number has been declining since reaching its peak of 36% in 1991. Though these numbers may seem discouraging, there have never been more resources dedicated to closing the gender gap in tech. Your participation in the Data Science Summer Experience is a great first step to prepare you for being a future leader in the tech industry!"
   ]
  }
 ],
 "metadata": {
  "kernelspec": {
   "display_name": "Python 3",
   "language": "python",
   "name": "python3"
  },
  "language_info": {
   "codemirror_mode": {
    "name": "ipython",
    "version": 3
   },
   "file_extension": ".py",
   "mimetype": "text/x-python",
   "name": "python",
   "nbconvert_exporter": "python",
   "pygments_lexer": "ipython3",
   "version": "3.7.3"
  }
 },
 "nbformat": 4,
 "nbformat_minor": 4
}