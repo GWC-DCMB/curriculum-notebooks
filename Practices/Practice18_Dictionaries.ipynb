{
 "cells": [
  {
   "cell_type": "markdown",
   "metadata": {},
   "source": [
    "# Dictionaries\n",
    "\n",
    "Now it's time to practice with dictionaries!\n",
    "\n",
    "Let's start by making a dictionary of relatives in your family. Make a dictionary where the keys are a relation (ex. mom, dad, sister, brother, uncle, aunt, cousin, etc.), and the values are the people's name(s) who are related to you in that way:"
   ]
  },
  {
   "cell_type": "code",
   "execution_count": null,
   "metadata": {},
   "outputs": [],
   "source": [
    "# make dictionary of relations\n",
    "\n",
    "# print out your dictionary\n"
   ]
  },
  {
   "cell_type": "markdown",
   "metadata": {},
   "source": [
    "Now access all your aunts:"
   ]
  },
  {
   "cell_type": "code",
   "execution_count": null,
   "metadata": {},
   "outputs": [],
   "source": [
    "# access all aunts in dictionary\n"
   ]
  },
  {
   "cell_type": "markdown",
   "metadata": {},
   "source": [
    "What if you don't remember all of the keys in your dictionary? How can you print them all out?"
   ]
  },
  {
   "cell_type": "code",
   "execution_count": null,
   "metadata": {},
   "outputs": [],
   "source": [
    "# print all keys in dictionary\n"
   ]
  },
  {
   "cell_type": "markdown",
   "metadata": {},
   "source": [
    "Now you've decided that you want to add some of your closest friends to the list too. Add a key-value pair to your dictionary with some of your closest friends:"
   ]
  },
  {
   "cell_type": "code",
   "execution_count": null,
   "metadata": {},
   "outputs": [],
   "source": [
    "# add friends to dictionary\n",
    "\n",
    "# print dictionary to see if it worked!\n"
   ]
  },
  {
   "cell_type": "markdown",
   "metadata": {},
   "source": [
    "See how friends isn't at the end of the dictionary? That's a friendly reminder that dictionaries are *unordered*. \n",
    "\n",
    "Now let's loop through our dictionary and print out the name of the key and the length of the values (how many of that relation you have):"
   ]
  },
  {
   "cell_type": "code",
   "execution_count": null,
   "metadata": {},
   "outputs": [],
   "source": [
    "# loop through dictionary and print name of key and length of values\n"
   ]
  },
  {
   "cell_type": "markdown",
   "metadata": {},
   "source": [
    "**Challenge:** Let's add in a friend to our dictionary. How can we do that? (*Note:* We didn't learn this exact thing. Feel free to use Google if you need to!)"
   ]
  },
  {
   "cell_type": "code",
   "execution_count": null,
   "metadata": {},
   "outputs": [],
   "source": [
    "# add friend to friends key-value pair\n",
    "\n",
    "# print dictionary to see if it worked\n"
   ]
  },
  {
   "cell_type": "markdown",
   "metadata": {},
   "source": [
    "Say we changed our mind and now we actually want our friends to be in a separate list. How could we do that using one line of Python code?"
   ]
  },
  {
   "cell_type": "code",
   "execution_count": null,
   "metadata": {},
   "outputs": [],
   "source": [
    "# get friends out of dictionary\n",
    "\n",
    "# print friends\n"
   ]
  },
  {
   "cell_type": "markdown",
   "metadata": {},
   "source": [
    "Nice job! You're becoming an expert at accessing and manipulating keys and values in dictionaries. "
   ]
  }
 ],
 "metadata": {
  "kernelspec": {
   "display_name": "Python 3",
   "language": "python",
   "name": "python3"
  },
  "language_info": {
   "codemirror_mode": {
    "name": "ipython",
    "version": 3
   },
   "file_extension": ".py",
   "mimetype": "text/x-python",
   "name": "python",
   "nbconvert_exporter": "python",
   "pygments_lexer": "ipython3",
   "version": "3.6.9"
  }
 },
 "nbformat": 4,
 "nbformat_minor": 2
}
