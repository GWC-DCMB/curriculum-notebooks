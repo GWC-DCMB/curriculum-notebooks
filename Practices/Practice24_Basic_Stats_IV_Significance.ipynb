{
 "cells": [
  {
   "cell_type": "markdown",
   "metadata": {},
   "source": [
    "# Practice:  Statistical Significance"
   ]
  },
  {
   "cell_type": "markdown",
   "metadata": {},
   "source": [
    "Let's continue to work with the diabetes dataset to apply a t-test to real world data."
   ]
  },
  {
   "cell_type": "code",
   "execution_count": null,
   "metadata": {},
   "outputs": [],
   "source": [
    "# Import pandas, so that we can import the diabetes dataset and work with the data frame version of this data\n",
    "import pandas as pd"
   ]
  },
  {
   "cell_type": "code",
   "execution_count": null,
   "metadata": {},
   "outputs": [],
   "source": [
    "# Set the path\n",
    "path = 'https://raw.githubusercontent.com/GWC-DCMB/ClubCurriculum/master/'\n",
    "# This is where the file is located\n",
    "filename = path + 'SampleData/diabetes.csv'"
   ]
  },
  {
   "cell_type": "code",
   "execution_count": null,
   "metadata": {},
   "outputs": [],
   "source": [
    "# Load the diabetes dataset into a DataFrame\n",
    "diabetes_df = pd.read_csv(filename)\n",
    "diabetes_df"
   ]
  },
  {
   "cell_type": "markdown",
   "metadata": {},
   "source": [
    "We are interested in understanding whether there are differences in LDL levels (the \"bad\" cholesterol) by sex, i.e. are LDL levels different for males vs. females?"
   ]
  },
  {
   "cell_type": "markdown",
   "metadata": {},
   "source": [
    "**1. Formulate the null hypothesis and the alternative hypothesis.**\n",
    "- **Null hypothesis**: There is NO difference in LDL levels between male and female. \n",
    "- **Alternative hypothesis**: There is a difference in LDL levels by sex. "
   ]
  },
  {
   "cell_type": "code",
   "execution_count": null,
   "metadata": {},
   "outputs": [],
   "source": [
    "# Import numpy \n",
    "import numpy as np"
   ]
  },
  {
   "cell_type": "markdown",
   "metadata": {},
   "source": [
    "Males are indicated by \"1\" for the variable \"SEX\", while females are indicated by \"2\"."
   ]
  },
  {
   "cell_type": "code",
   "execution_count": null,
   "metadata": {},
   "outputs": [],
   "source": [
    "# Define a vector of the LDL levels for males and name it ldl_male\n",
    "\n",
    "# Define a vector of the LDL levels for females and name it ldl_female\n"
   ]
  },
  {
   "cell_type": "markdown",
   "metadata": {},
   "source": [
    "**2. Identify and compute a test statistic that can be used to reject or fail to reject the null hypothesis.**\n"
   ]
  },
  {
   "cell_type": "markdown",
   "metadata": {},
   "source": [
    "**3. Compute the test statistic and p-value.**"
   ]
  },
  {
   "cell_type": "code",
   "execution_count": null,
   "metadata": {},
   "outputs": [],
   "source": [
    "# Import stats methods to help calculate the t-statistic and p-value\n",
    "from scipy import stats"
   ]
  },
  {
   "cell_type": "code",
   "execution_count": null,
   "metadata": {},
   "outputs": [],
   "source": [
    "# Run a Student's t-test\n"
   ]
  },
  {
   "cell_type": "markdown",
   "metadata": {},
   "source": [
    "**4. Compare the p-value to an acceptable significance value, $\\alpha$ and compare the test statistic to acceptable critical value(s)**. If p-value $\\leq \\alpha$ and the test-statistic $\\geq$ +critical value or test-statistic $\\leq$ -critical value, that the observed effect is statistically significant, the null hypothesis is rejected, and the alternative hypothesis is valid.**\n",
    "- p-value \n",
    "- t-statistic  \n",
    "- Interpretation:"
   ]
  },
  {
   "cell_type": "markdown",
   "metadata": {},
   "source": [
    "Congratulations on completing the lesson and practice! \n",
    "\n",
    "It's a lot of information, but you learned powerful tools to be on your way to answer your own research questions by analyzing real world data! "
   ]
  },
  {
   "cell_type": "markdown",
   "metadata": {},
   "source": [
    "**Challenge**: Using the code you wrote above as a template, can you run a t-test comparing LDL Cholesterol for people 50 & older vs. people under 50?"
   ]
  },
  {
   "cell_type": "code",
   "execution_count": null,
   "metadata": {},
   "outputs": [],
   "source": [
    "# Define a vector of the LDL levels for people 50 or older and name it ldl_over50\n",
    "\n",
    "# Define a vector of the LDL levels for females and name it ldl_under50\n",
    "\n",
    "# Run a Student's t-test\n",
    "\n",
    "# Print out the test statistic and p-value"
   ]
  }
 ],
 "metadata": {
  "kernelspec": {
   "display_name": "Python 3",
   "language": "python",
   "name": "python3"
  },
  "language_info": {
   "codemirror_mode": {
    "name": "ipython",
    "version": 3
   },
   "file_extension": ".py",
   "mimetype": "text/x-python",
   "name": "python",
   "nbconvert_exporter": "python",
   "pygments_lexer": "ipython3",
   "version": "3.7.3"
  }
 },
 "nbformat": 4,
 "nbformat_minor": 4
}
