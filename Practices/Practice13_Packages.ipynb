{
 "nbformat": 4,
 "nbformat_minor": 0,
 "metadata": {
  "language_info": {
   "codemirror_mode": {
    "name": "ipython",
    "version": 3
   },
   "file_extension": ".py",
   "mimetype": "text/x-python",
   "name": "python",
   "nbconvert_exporter": "python",
   "pygments_lexer": "ipython3",
   "version": "3.7.3"
  },
  "kernelspec": {
   "display_name": "Python 3",
   "language": "python",
   "name": "python3"
  }
 },
 "cells": [
  {
   "cell_type": "markdown",
   "metadata": {
    "id": "CtgLqvyDCLAj",
    "colab_type": "text"
   },
   "source": [
    "# Practice with packages!\n",
    "**Remember:**\n",
    "* Functions and methods take an input, do something with the input, and return an output\n",
    "* Functions can take arguments that modify the output of the function\n",
    "* Methods are specific to ceratin object types\n",
    "* Packages are collections of functions"
   ]
  },
  {
   "cell_type": "markdown",
   "metadata": {
    "id": "6MDyqqR8CLAl",
    "colab_type": "text"
   },
   "source": [
    "First, we have to import numpy:"
   ]
  },
  {
   "cell_type": "code",
   "metadata": {
    "id": "PjWfKGXcCLAm",
    "colab_type": "code",
    "colab": {}
   },
   "source": [
    "# command Python to import numpy\n"
   ],
   "execution_count": 0,
   "outputs": []
  },
  {
   "cell_type": "markdown",
   "metadata": {
    "id": "Yu0aBcXwCLAq",
    "colab_type": "text"
   },
   "source": [
    "Now, let's use a numpy function to get random numbers from a normal distribution (the bell curve):"
   ]
  },
  {
   "cell_type": "code",
   "metadata": {
    "id": "fA9GVnDSCLAr",
    "colab_type": "code",
    "colab": {}
   },
   "source": [
    "# use np.random.normal to get random numbers from a normal distribution\n",
    "# the 0 is the mean of the distribution and the 1 is the standard deviation. \n",
    "# the 100 is the number of samples\n",
    "numbers = np.random.normal(0, 1, 100)\n",
    "\n",
    "# print numbers\n",
    "\n"
   ],
   "execution_count": 0,
   "outputs": []
  },
  {
   "cell_type": "markdown",
   "metadata": {
    "id": "kfMBLMeHCLAt",
    "colab_type": "text"
   },
   "source": [
    "How many elements are in `numbers`?"
   ]
  },
  {
   "cell_type": "code",
   "metadata": {
    "id": "Rq0uQstdCLAu",
    "colab_type": "code",
    "colab": {}
   },
   "source": [
    "# get the number of elements in numbers\n"
   ],
   "execution_count": 0,
   "outputs": []
  },
  {
   "cell_type": "markdown",
   "metadata": {
    "id": "xrPQeJ4rCLAx",
    "colab_type": "text"
   },
   "source": [
    "What is the mean of `numbers`?"
   ]
  },
  {
   "cell_type": "code",
   "metadata": {
    "id": "XGtfQen9CLAy",
    "colab_type": "code",
    "colab": {}
   },
   "source": [
    "# command Python to get the mean of numbers\n"
   ],
   "execution_count": 0,
   "outputs": []
  },
  {
   "cell_type": "markdown",
   "metadata": {
    "id": "_RFMcqJ0CLA0",
    "colab_type": "text"
   },
   "source": [
    "Get the absolute value of numbers and save it to `abs_num`:"
   ]
  },
  {
   "cell_type": "code",
   "metadata": {
    "id": "vBWRuYUiCLA1",
    "colab_type": "code",
    "colab": {}
   },
   "source": [
    "# command Python to get the absolute value of numbers\n",
    "\n",
    "# print abs_num\n"
   ],
   "execution_count": 0,
   "outputs": []
  },
  {
   "cell_type": "markdown",
   "metadata": {
    "id": "gfWeIy_hCLA5",
    "colab_type": "text"
   },
   "source": [
    "What is the mean of `abs_num`?"
   ]
  },
  {
   "cell_type": "code",
   "metadata": {
    "id": "TWuhThmCCLA6",
    "colab_type": "code",
    "colab": {}
   },
   "source": [
    "# command Python to print the mean of abs_num\n"
   ],
   "execution_count": 0,
   "outputs": []
  },
  {
   "cell_type": "markdown",
   "metadata": {
    "id": "xugVlcTVCLA9",
    "colab_type": "text"
   },
   "source": [
    "Now, let's sort `numbers`:"
   ]
  },
  {
   "cell_type": "code",
   "metadata": {
    "id": "P-ejjO_uCLA-",
    "colab_type": "code",
    "colab": {}
   },
   "source": [
    "# sort numbers\n",
    "\n",
    "# print numbers\n"
   ],
   "execution_count": 0,
   "outputs": []
  },
  {
   "cell_type": "markdown",
   "metadata": {
    "id": "q5vYj4CyCLBE",
    "colab_type": "text"
   },
   "source": [
    "Now let's round `numbers` so each element has 2 decimal places:"
   ]
  },
  {
   "cell_type": "code",
   "metadata": {
    "id": "jU05p--OCLBF",
    "colab_type": "code",
    "colab": {}
   },
   "source": [
    "# command Python to round all elements in numbers to 2 decimal places\n"
   ],
   "execution_count": 0,
   "outputs": []
  },
  {
   "cell_type": "markdown",
   "metadata": {
    "id": "5zDI5FRYCLBJ",
    "colab_type": "text"
   },
   "source": [
    "**Challenge:** Get the square root of the `abs_num` function. Save this to `sqrt_abs_num`. *Hint:* Use the function `sqrt` in the numpy package."
   ]
  },
  {
   "cell_type": "code",
   "metadata": {
    "id": "4mXvNL7VCLBK",
    "colab_type": "code",
    "colab": {}
   },
   "source": [
    "# command Python to get the square root of the numbers in abs_num\n",
    "\n",
    "# print sqrt_abs_num\n"
   ],
   "execution_count": 0,
   "outputs": []
  },
  {
   "cell_type": "markdown",
   "metadata": {
    "id": "IJiCG1NuCLBO",
    "colab_type": "text"
   },
   "source": [
    "What is the max of the square roots? The min?"
   ]
  },
  {
   "cell_type": "code",
   "metadata": {
    "id": "TXDyD1zGCLBO",
    "colab_type": "code",
    "colab": {}
   },
   "source": [
    "# print the max of the square roots\n",
    "\n",
    "# print the min of the square roots\n"
   ],
   "execution_count": 0,
   "outputs": []
  },
  {
   "cell_type": "markdown",
   "metadata": {
    "id": "BS3C_RmYCLBR",
    "colab_type": "text"
   },
   "source": [
    "Nice job! You just practiced:\n",
    "* Importing packages in Python\n",
    "* Using functions in packages\n",
    "* Saving things to variables\n",
    "* Doing math with numpy"
   ]
  }
 ]
}