{
 "cells": [
  {
   "cell_type": "markdown",
   "metadata": {
    "colab_type": "text",
    "id": "CtgLqvyDCLAj"
   },
   "source": [
    "# Practice with packages!\n",
    "**Remember:**\n",
    "* Functions and methods take an input, do something with the input, and return an output\n",
    "* Functions can take arguments that modify the output of the function\n",
    "* Methods are specific to certain object types\n",
    "* Packages are collections of functions"
   ]
  },
  {
   "cell_type": "markdown",
   "metadata": {
    "colab_type": "text",
    "id": "6MDyqqR8CLAl"
   },
   "source": [
    "First, we have to import numpy:"
   ]
  },
  {
   "cell_type": "code",
   "execution_count": null,
   "metadata": {
    "colab": {},
    "colab_type": "code",
    "id": "PjWfKGXcCLAm"
   },
   "outputs": [],
   "source": [
    "# command Python to import numpy\n"
   ]
  },
  {
   "cell_type": "markdown",
   "metadata": {
    "colab_type": "text",
    "id": "Yu0aBcXwCLAq"
   },
   "source": [
    "Now, let's use a numpy function to get random numbers from a normal distribution (the bell curve):"
   ]
  },
  {
   "cell_type": "code",
   "execution_count": null,
   "metadata": {
    "colab": {},
    "colab_type": "code",
    "id": "fA9GVnDSCLAr"
   },
   "outputs": [],
   "source": [
    "# use np.random.normal to get random numbers from a normal distribution\n",
    "# the 0 is the mean of the distribution, 1 is the standard deviation, and 100 is the number of samples\n",
    "numbers = np.random.normal(0, 1, 100)\n",
    "\n",
    "# print numbers\n",
    "\n"
   ]
  },
  {
   "cell_type": "markdown",
   "metadata": {
    "colab_type": "text",
    "id": "kfMBLMeHCLAt"
   },
   "source": [
    "How many elements are in `numbers`?"
   ]
  },
  {
   "cell_type": "code",
   "execution_count": null,
   "metadata": {
    "colab": {},
    "colab_type": "code",
    "id": "Rq0uQstdCLAu"
   },
   "outputs": [],
   "source": [
    "# get the number of elements in numbers\n"
   ]
  },
  {
   "cell_type": "markdown",
   "metadata": {
    "colab_type": "text",
    "id": "xrPQeJ4rCLAx"
   },
   "source": [
    "What is the mean of `numbers`?"
   ]
  },
  {
   "cell_type": "code",
   "execution_count": null,
   "metadata": {
    "colab": {},
    "colab_type": "code",
    "id": "XGtfQen9CLAy"
   },
   "outputs": [],
   "source": [
    "# command Python to get the mean of numbers\n"
   ]
  },
  {
   "cell_type": "markdown",
   "metadata": {
    "colab_type": "text",
    "id": "_RFMcqJ0CLA0"
   },
   "source": [
    "Get the absolute value of numbers and save it to `abs_num`:"
   ]
  },
  {
   "cell_type": "code",
   "execution_count": null,
   "metadata": {
    "colab": {},
    "colab_type": "code",
    "id": "vBWRuYUiCLA1"
   },
   "outputs": [],
   "source": [
    "# command Python to get the absolute value of numbers\n",
    "\n",
    "# print abs_num\n"
   ]
  },
  {
   "cell_type": "markdown",
   "metadata": {
    "colab_type": "text",
    "id": "gfWeIy_hCLA5"
   },
   "source": [
    "What is the mean of `abs_num`?"
   ]
  },
  {
   "cell_type": "code",
   "execution_count": null,
   "metadata": {
    "colab": {},
    "colab_type": "code",
    "id": "TWuhThmCCLA6"
   },
   "outputs": [],
   "source": [
    "# command Python to print the mean of abs_num\n"
   ]
  },
  {
   "cell_type": "markdown",
   "metadata": {
    "colab_type": "text",
    "id": "xugVlcTVCLA9"
   },
   "source": [
    "Now, let's sort `numbers`:"
   ]
  },
  {
   "cell_type": "code",
   "execution_count": null,
   "metadata": {
    "colab": {},
    "colab_type": "code",
    "id": "P-ejjO_uCLA-"
   },
   "outputs": [],
   "source": [
    "# sort numbers\n",
    "\n",
    "# print numbers\n"
   ]
  },
  {
   "cell_type": "markdown",
   "metadata": {
    "colab_type": "text",
    "id": "q5vYj4CyCLBE"
   },
   "source": [
    "Now let's round `numbers` so each element has 2 decimal places:"
   ]
  },
  {
   "cell_type": "code",
   "execution_count": null,
   "metadata": {
    "colab": {},
    "colab_type": "code",
    "id": "jU05p--OCLBF"
   },
   "outputs": [],
   "source": [
    "# command Python to round all elements in numbers to 2 decimal places\n"
   ]
  },
  {
   "cell_type": "markdown",
   "metadata": {
    "colab_type": "text",
    "id": "5zDI5FRYCLBJ"
   },
   "source": [
    "**Challenge:** Get the square root of the `abs_num` function. Save this to `sqrt_abs_num`. *Hint:* Use the function `sqrt` in the numpy package."
   ]
  },
  {
   "cell_type": "code",
   "execution_count": null,
   "metadata": {
    "colab": {},
    "colab_type": "code",
    "id": "4mXvNL7VCLBK"
   },
   "outputs": [],
   "source": [
    "# command Python to get the square root of the numbers in abs_num\n",
    "\n",
    "# print sqrt_abs_num\n"
   ]
  },
  {
   "cell_type": "markdown",
   "metadata": {
    "colab_type": "text",
    "id": "IJiCG1NuCLBO"
   },
   "source": [
    "What is the max of the square roots? The min?"
   ]
  },
  {
   "cell_type": "code",
   "execution_count": null,
   "metadata": {
    "colab": {},
    "colab_type": "code",
    "id": "TXDyD1zGCLBO"
   },
   "outputs": [],
   "source": [
    "# print the max of the square roots\n",
    "\n",
    "# print the min of the square roots\n"
   ]
  },
  {
   "cell_type": "markdown",
   "metadata": {
    "colab_type": "text",
    "id": "BS3C_RmYCLBR"
   },
   "source": [
    "Nice job! You just practiced:\n",
    "* Importing packages in Python\n",
    "* Using functions in packages\n",
    "* Saving things to variables\n",
    "* Doing math with numpy"
   ]
  }
 ],
 "metadata": {
  "kernelspec": {
   "display_name": "Python 3",
   "language": "python",
   "name": "python3"
  },
  "language_info": {
   "codemirror_mode": {
    "name": "ipython",
    "version": 3
   },
   "file_extension": ".py",
   "mimetype": "text/x-python",
   "name": "python",
   "nbconvert_exporter": "python",
   "pygments_lexer": "ipython3",
   "version": "3.7.3"
  }
 },
 "nbformat": 4,
 "nbformat_minor": 0
}
