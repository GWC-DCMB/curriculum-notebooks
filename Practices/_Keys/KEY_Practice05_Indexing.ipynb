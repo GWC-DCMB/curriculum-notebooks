{
 "cells": [
  {
   "cell_type": "markdown",
   "metadata": {
    "colab_type": "text",
    "id": "aY7ZeHPSAsVP"
   },
   "source": [
    "# Practice with indexing!\n",
    "**Remember:**\n",
    "* Use square brackets to index (`[]`)\n",
    "* You can index lists and strings\n",
    "* Python starts counting at zero!\n",
    "\n",
    "Let's start with our list of pets:"
   ]
  },
  {
   "cell_type": "code",
   "execution_count": 1,
   "metadata": {
    "colab": {
     "base_uri": "https://localhost:8080/",
     "height": 34
    },
    "colab_type": "code",
    "executionInfo": {
     "elapsed": 529,
     "status": "ok",
     "timestamp": 1563150201924,
     "user": {
      "displayName": "Kelly Sovacool",
      "photoUrl": "https://lh3.googleusercontent.com/-WQsOgn6cXFg/AAAAAAAAAAI/AAAAAAAAAVA/ol7X28qyOHc/s64/photo.jpg",
      "userId": "07259925140867310896"
     },
     "user_tz": 240
    },
    "id": "DchJZG1LAsVU",
    "outputId": "b2200cfd-cedd-44c0-9f08-d793d40f451e"
   },
   "outputs": [
    {
     "name": "stdout",
     "output_type": "stream",
     "text": [
      "['dog', 'cat', 'turtle', 'hamster', 'goldfish', 'snake', 'rabbit']\n"
     ]
    }
   ],
   "source": [
    "# command Python to make a list of pets. Store it in pets\n",
    "pets = ['dog','cat','turtle','hamster','goldfish','snake','rabbit']\n",
    "\n",
    "# command Python to print pets\n",
    "print(pets)"
   ]
  },
  {
   "cell_type": "markdown",
   "metadata": {
    "colab_type": "text",
    "id": "isU5_g7JAsVi"
   },
   "source": [
    "Use indexing to print out cat:"
   ]
  },
  {
   "cell_type": "code",
   "execution_count": 2,
   "metadata": {
    "colab": {
     "base_uri": "https://localhost:8080/",
     "height": 34
    },
    "colab_type": "code",
    "executionInfo": {
     "elapsed": 517,
     "status": "ok",
     "timestamp": 1563150201930,
     "user": {
      "displayName": "Kelly Sovacool",
      "photoUrl": "https://lh3.googleusercontent.com/-WQsOgn6cXFg/AAAAAAAAAAI/AAAAAAAAAVA/ol7X28qyOHc/s64/photo.jpg",
      "userId": "07259925140867310896"
     },
     "user_tz": 240
    },
    "id": "26diKiAOAsVs",
    "outputId": "aac311d9-3b61-496c-c738-13d08eca35ca"
   },
   "outputs": [
    {
     "name": "stdout",
     "output_type": "stream",
     "text": [
      "cat\n"
     ]
    }
   ],
   "source": [
    "# command Python to print cat by indexing the pets list\n",
    "print(pets[1])"
   ]
  },
  {
   "cell_type": "markdown",
   "metadata": {
    "colab_type": "text",
    "id": "Tvv_I95IAsVx"
   },
   "source": [
    "Print the 5th element in your list. What is it? Be sure to check your answer!"
   ]
  },
  {
   "cell_type": "code",
   "execution_count": 3,
   "metadata": {
    "colab": {
     "base_uri": "https://localhost:8080/",
     "height": 34
    },
    "colab_type": "code",
    "executionInfo": {
     "elapsed": 500,
     "status": "ok",
     "timestamp": 1563150201934,
     "user": {
      "displayName": "Kelly Sovacool",
      "photoUrl": "https://lh3.googleusercontent.com/-WQsOgn6cXFg/AAAAAAAAAAI/AAAAAAAAAVA/ol7X28qyOHc/s64/photo.jpg",
      "userId": "07259925140867310896"
     },
     "user_tz": 240
    },
    "id": "KrXTfuZYAsVy",
    "outputId": "59448cb4-b09c-4f96-c98a-b13c9d54809e"
   },
   "outputs": [
    {
     "data": {
      "text/plain": [
       "'goldfish'"
      ]
     },
     "execution_count": 3,
     "metadata": {
      "tags": []
     },
     "output_type": "execute_result"
    }
   ],
   "source": [
    "# command Python to print the 5th element in pets\n",
    "pets[4]"
   ]
  },
  {
   "cell_type": "markdown",
   "metadata": {
    "colab_type": "text",
    "id": "0ranujmhAsV2"
   },
   "source": [
    "Get turtle, hamster, and goldfish from pets using indexing and store it as pets_subset:"
   ]
  },
  {
   "cell_type": "code",
   "execution_count": 4,
   "metadata": {
    "colab": {
     "base_uri": "https://localhost:8080/",
     "height": 34
    },
    "colab_type": "code",
    "executionInfo": {
     "elapsed": 491,
     "status": "ok",
     "timestamp": 1563150201936,
     "user": {
      "displayName": "Kelly Sovacool",
      "photoUrl": "https://lh3.googleusercontent.com/-WQsOgn6cXFg/AAAAAAAAAAI/AAAAAAAAAVA/ol7X28qyOHc/s64/photo.jpg",
      "userId": "07259925140867310896"
     },
     "user_tz": 240
    },
    "id": "WJJa2Te5AsV3",
    "outputId": "5beb080a-5bdb-4c70-f6d5-981d45bcc40d"
   },
   "outputs": [
    {
     "name": "stdout",
     "output_type": "stream",
     "text": [
      "['turtle', 'hamster', 'goldfish']\n"
     ]
    }
   ],
   "source": [
    "# command Python to store turtle, hamster, and goldfish from pets into pets_subset\n",
    "pets_subset = pets[2:5]\n",
    "# command Python to print pets_subset\n",
    "print(pets_subset)"
   ]
  },
  {
   "cell_type": "markdown",
   "metadata": {
    "colab_type": "text",
    "id": "sf4BVdspAsV7"
   },
   "source": [
    "How can you make a list of the first and third elements of pets?"
   ]
  },
  {
   "cell_type": "code",
   "execution_count": 5,
   "metadata": {
    "colab": {
     "base_uri": "https://localhost:8080/",
     "height": 34
    },
    "colab_type": "code",
    "executionInfo": {
     "elapsed": 479,
     "status": "ok",
     "timestamp": 1563150201938,
     "user": {
      "displayName": "Kelly Sovacool",
      "photoUrl": "https://lh3.googleusercontent.com/-WQsOgn6cXFg/AAAAAAAAAAI/AAAAAAAAAVA/ol7X28qyOHc/s64/photo.jpg",
      "userId": "07259925140867310896"
     },
     "user_tz": 240
    },
    "id": "T4cb9Up8AsV8",
    "outputId": "c6e415f7-09b7-4987-aec0-694c3190f217"
   },
   "outputs": [
    {
     "data": {
      "text/plain": [
       "['dog', 'turtle']"
      ]
     },
     "execution_count": 5,
     "metadata": {
      "tags": []
     },
     "output_type": "execute_result"
    }
   ],
   "source": [
    "# make a list of the first and third elements of pets\n",
    "[pets[0], pets[2]]"
   ]
  },
  {
   "cell_type": "markdown",
   "metadata": {
    "colab_type": "text",
    "id": "OLjUIBU9AsWA"
   },
   "source": [
    "Let's get the last element of pets (rabbit) and store it as my_pet. Then print it out to make sure you did it correctly!"
   ]
  },
  {
   "cell_type": "code",
   "execution_count": 6,
   "metadata": {
    "colab": {
     "base_uri": "https://localhost:8080/",
     "height": 34
    },
    "colab_type": "code",
    "executionInfo": {
     "elapsed": 637,
     "status": "ok",
     "timestamp": 1563150202115,
     "user": {
      "displayName": "Kelly Sovacool",
      "photoUrl": "https://lh3.googleusercontent.com/-WQsOgn6cXFg/AAAAAAAAAAI/AAAAAAAAAVA/ol7X28qyOHc/s64/photo.jpg",
      "userId": "07259925140867310896"
     },
     "user_tz": 240
    },
    "id": "E17TBYhkAsWC",
    "outputId": "2355d36b-e223-4d29-81fc-d52947bcb048"
   },
   "outputs": [
    {
     "name": "stdout",
     "output_type": "stream",
     "text": [
      "rabbit\n"
     ]
    }
   ],
   "source": [
    "# command Python to store the last element of pets in my_pet\n",
    "my_pet = pets[-1]\n",
    "# command Python to print my_pet\n",
    "print(my_pet)"
   ]
  },
  {
   "cell_type": "markdown",
   "metadata": {
    "colab_type": "text",
    "id": "l2qSwJv3AsWG"
   },
   "source": [
    "Print the first three letters of my_pet:"
   ]
  },
  {
   "cell_type": "code",
   "execution_count": 7,
   "metadata": {
    "colab": {
     "base_uri": "https://localhost:8080/",
     "height": 34
    },
    "colab_type": "code",
    "executionInfo": {
     "elapsed": 629,
     "status": "ok",
     "timestamp": 1563150202121,
     "user": {
      "displayName": "Kelly Sovacool",
      "photoUrl": "https://lh3.googleusercontent.com/-WQsOgn6cXFg/AAAAAAAAAAI/AAAAAAAAAVA/ol7X28qyOHc/s64/photo.jpg",
      "userId": "07259925140867310896"
     },
     "user_tz": 240
    },
    "id": "Aw6O-RzDAsWH",
    "outputId": "2a55cdab-7c3e-4887-85ef-cf70f9fbe564"
   },
   "outputs": [
    {
     "name": "stdout",
     "output_type": "stream",
     "text": [
      "rab\n"
     ]
    }
   ],
   "source": [
    "# command Python to print the first three letters of my_pet\n",
    "print(my_pet[0:3])"
   ]
  },
  {
   "cell_type": "markdown",
   "metadata": {
    "colab_type": "text",
    "id": "oOLcotf1AsWW"
   },
   "source": [
    "**Challenge: ** \n",
    "1. Create a list called family and populate it with names of your family\n",
    "2. Create a list called friends and populate it with names of your friends\n",
    "3. Add your friends list and your family list together and store it in the variable people_i_know\n",
    "4. Find the length of people_i_know\n",
    "5. Print out the first and last element of people_i_know\n",
    "6. Pick one person from your list who is your hero. Get that person's name from the list using indexing and store it as my_hero\n",
    "7. Find the length of my_hero\n",
    "8. Get the first 2 letters of my_hero\n",
    "9. Get the last 2 letters of my_hero"
   ]
  },
  {
   "cell_type": "code",
   "execution_count": null,
   "metadata": {
    "colab": {},
    "colab_type": "code",
    "id": "gTEoJT7vAsWX"
   },
   "outputs": [],
   "source": []
  }
 ],
 "metadata": {
  "kernelspec": {
   "display_name": "Python 3",
   "language": "python",
   "name": "python3"
  },
  "language_info": {
   "codemirror_mode": {
    "name": "ipython",
    "version": 3
   },
   "file_extension": ".py",
   "mimetype": "text/x-python",
   "name": "python",
   "nbconvert_exporter": "python",
   "pygments_lexer": "ipython3",
   "version": "3.7.3"
  }
 },
 "nbformat": 4,
 "nbformat_minor": 4
}