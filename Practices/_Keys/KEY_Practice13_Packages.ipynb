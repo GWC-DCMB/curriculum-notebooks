{
 "cells": [
  {
   "cell_type": "markdown",
   "metadata": {
    "colab_type": "text",
    "id": "V9nK2lLLBgB1"
   },
   "source": [
    "# Practice with packages!\n",
    "**Remember:**\n",
    "* Functions and methods take an input, do something with the input, and return an output\n",
    "* Functions can take arguments that modify the output of the function\n",
    "* Methods are specific to certain object types\n",
    "* Packages are collections of functions"
   ]
  },
  {
   "cell_type": "markdown",
   "metadata": {
    "colab_type": "text",
    "id": "DkWzNWe1BgB4"
   },
   "source": [
    "First, we have to import numpy:"
   ]
  },
  {
   "cell_type": "code",
   "execution_count": 3,
   "metadata": {
    "colab": {},
    "colab_type": "code",
    "id": "v3q85J-JBgDJ"
   },
   "outputs": [],
   "source": [
    "# command Python to import numpy\n",
    "import numpy as np"
   ]
  },
  {
   "cell_type": "markdown",
   "metadata": {
    "colab_type": "text",
    "id": "V0MYUVFwBgDQ"
   },
   "source": [
    "Now, let's use a numpy function to get random numbers from a normal distribution (the bell curve):"
   ]
  },
  {
   "cell_type": "code",
   "execution_count": 4,
   "metadata": {
    "colab": {
     "base_uri": "https://localhost:8080/",
     "height": 306
    },
    "colab_type": "code",
    "executionInfo": {
     "elapsed": 518,
     "status": "ok",
     "timestamp": 1563150409822,
     "user": {
      "displayName": "Kelly Sovacool",
      "photoUrl": "https://lh3.googleusercontent.com/-WQsOgn6cXFg/AAAAAAAAAAI/AAAAAAAAAVA/ol7X28qyOHc/s64/photo.jpg",
      "userId": "07259925140867310896"
     },
     "user_tz": 240
    },
    "id": "tkphWx3bBgDb",
    "outputId": "68cc9d8b-4cab-4a49-e14d-ef9c9c2d5999"
   },
   "outputs": [
    {
     "name": "stdout",
     "output_type": "stream",
     "text": [
      "[-0.55880788  0.526387   -0.26735085 -0.53931509  0.22729003 -1.71573097\n",
      "  0.59823598 -0.73101326 -1.110104   -2.20106244 -0.80605451  0.82408391\n",
      " -1.35783294  1.27231321  0.82680613 -0.86137107  1.37244333 -1.09849576\n",
      "  1.17756052 -2.71422189  0.14311966 -1.15769198 -1.47030292  0.08301411\n",
      "  0.11107944 -0.87061163 -0.27130882  0.29234775 -0.12030484 -0.43379105\n",
      "  1.31868229 -1.5125362   0.89561861 -0.60286466 -0.86452909  0.98070951\n",
      " -0.29849868  3.0452446   1.57035558  0.68157612 -0.27191999  0.44624323\n",
      "  2.15102219  1.29246148  1.11728814  0.73343465 -0.36955471  1.08226093\n",
      " -0.05951986 -0.27410599  2.26420861 -1.21923117  1.2414915   1.8119903\n",
      " -0.11282943 -0.88045114  0.16927064  2.37624514 -0.99374201  0.18453617\n",
      " -0.156309   -0.83132456 -1.33909289  0.36331931  0.69437965 -1.09459829\n",
      "  0.62623146 -0.09620895  0.0044984   0.49764011  0.3272374   0.99222586\n",
      " -1.36325505 -1.05396343  1.06580405 -1.07075507 -2.08663217  1.65046807\n",
      "  0.02673981  0.49045513  0.52029081 -0.31481695 -1.22891962  0.47192794\n",
      "  0.39793627 -0.16154622  0.76374643 -1.53496402  0.14661258 -0.2270996\n",
      "  3.82349593  0.77914108 -1.28656514 -0.42448406 -0.27187182 -0.38519173\n",
      "  0.60221845 -0.29582084 -1.86327462  1.92386616]\n"
     ]
    }
   ],
   "source": [
    "# use np.random.normal to get random numbers from a normal distribution\n",
    "# the 0 is the mean of the distribution, 1 is the standard deviation, and 100 is the number of samples\n",
    "numbers = np.random.normal(0, 1, 100)\n",
    "\n",
    "# print numbers\n",
    "print(numbers)"
   ]
  },
  {
   "cell_type": "markdown",
   "metadata": {
    "colab_type": "text",
    "id": "0Qc7JsOxBgDh"
   },
   "source": [
    "How many elements are in `numbers`?"
   ]
  },
  {
   "cell_type": "code",
   "execution_count": 5,
   "metadata": {
    "colab": {
     "base_uri": "https://localhost:8080/",
     "height": 34
    },
    "colab_type": "code",
    "executionInfo": {
     "elapsed": 500,
     "status": "ok",
     "timestamp": 1563150409823,
     "user": {
      "displayName": "Kelly Sovacool",
      "photoUrl": "https://lh3.googleusercontent.com/-WQsOgn6cXFg/AAAAAAAAAAI/AAAAAAAAAVA/ol7X28qyOHc/s64/photo.jpg",
      "userId": "07259925140867310896"
     },
     "user_tz": 240
    },
    "id": "waSnXk96BgDm",
    "outputId": "361d08db-dc36-47d2-d890-2991310e447f"
   },
   "outputs": [
    {
     "name": "stdout",
     "output_type": "stream",
     "text": [
      "100\n"
     ]
    }
   ],
   "source": [
    "# get the number of elements in numbers\n",
    "print(len(numbers))"
   ]
  },
  {
   "cell_type": "markdown",
   "metadata": {
    "colab_type": "text",
    "id": "NJdQvymMBgDw"
   },
   "source": [
    "What is the mean of `numbers`?"
   ]
  },
  {
   "cell_type": "code",
   "execution_count": 6,
   "metadata": {
    "colab": {
     "base_uri": "https://localhost:8080/",
     "height": 34
    },
    "colab_type": "code",
    "executionInfo": {
     "elapsed": 490,
     "status": "ok",
     "timestamp": 1563150409824,
     "user": {
      "displayName": "Kelly Sovacool",
      "photoUrl": "https://lh3.googleusercontent.com/-WQsOgn6cXFg/AAAAAAAAAAI/AAAAAAAAAVA/ol7X28qyOHc/s64/photo.jpg",
      "userId": "07259925140867310896"
     },
     "user_tz": 240
    },
    "id": "ZnSNKoazBgDx",
    "outputId": "b8724e3d-f0a6-4bc9-9e9b-a0f06693f0fa"
   },
   "outputs": [
    {
     "data": {
      "text/plain": [
       "0.04153706766344687"
      ]
     },
     "execution_count": 6,
     "metadata": {},
     "output_type": "execute_result"
    }
   ],
   "source": [
    "# command Python to get the mean of numbers\n",
    "np.mean(numbers)"
   ]
  },
  {
   "cell_type": "markdown",
   "metadata": {
    "colab_type": "text",
    "id": "wXhd7I6gBgEE"
   },
   "source": [
    "Get the absolute value of `numbers` and save it to `abs_num`:"
   ]
  },
  {
   "cell_type": "code",
   "execution_count": 7,
   "metadata": {
    "colab": {
     "base_uri": "https://localhost:8080/",
     "height": 306
    },
    "colab_type": "code",
    "executionInfo": {
     "elapsed": 470,
     "status": "ok",
     "timestamp": 1563150409825,
     "user": {
      "displayName": "Kelly Sovacool",
      "photoUrl": "https://lh3.googleusercontent.com/-WQsOgn6cXFg/AAAAAAAAAAI/AAAAAAAAAVA/ol7X28qyOHc/s64/photo.jpg",
      "userId": "07259925140867310896"
     },
     "user_tz": 240
    },
    "id": "bHWXlscPBgEF",
    "outputId": "7480dbfa-be6e-4830-fe32-f1751a01c5d4"
   },
   "outputs": [
    {
     "name": "stdout",
     "output_type": "stream",
     "text": [
      "[0.55880788 0.526387   0.26735085 0.53931509 0.22729003 1.71573097\n",
      " 0.59823598 0.73101326 1.110104   2.20106244 0.80605451 0.82408391\n",
      " 1.35783294 1.27231321 0.82680613 0.86137107 1.37244333 1.09849576\n",
      " 1.17756052 2.71422189 0.14311966 1.15769198 1.47030292 0.08301411\n",
      " 0.11107944 0.87061163 0.27130882 0.29234775 0.12030484 0.43379105\n",
      " 1.31868229 1.5125362  0.89561861 0.60286466 0.86452909 0.98070951\n",
      " 0.29849868 3.0452446  1.57035558 0.68157612 0.27191999 0.44624323\n",
      " 2.15102219 1.29246148 1.11728814 0.73343465 0.36955471 1.08226093\n",
      " 0.05951986 0.27410599 2.26420861 1.21923117 1.2414915  1.8119903\n",
      " 0.11282943 0.88045114 0.16927064 2.37624514 0.99374201 0.18453617\n",
      " 0.156309   0.83132456 1.33909289 0.36331931 0.69437965 1.09459829\n",
      " 0.62623146 0.09620895 0.0044984  0.49764011 0.3272374  0.99222586\n",
      " 1.36325505 1.05396343 1.06580405 1.07075507 2.08663217 1.65046807\n",
      " 0.02673981 0.49045513 0.52029081 0.31481695 1.22891962 0.47192794\n",
      " 0.39793627 0.16154622 0.76374643 1.53496402 0.14661258 0.2270996\n",
      " 3.82349593 0.77914108 1.28656514 0.42448406 0.27187182 0.38519173\n",
      " 0.60221845 0.29582084 1.86327462 1.92386616]\n"
     ]
    }
   ],
   "source": [
    "# command Python to get the absolute value of numbers\n",
    "abs_num = np.abs(numbers)\n",
    "# print abs_num\n",
    "print(abs_num)"
   ]
  },
  {
   "cell_type": "markdown",
   "metadata": {
    "colab_type": "text",
    "id": "ys8gb7iWBgEM"
   },
   "source": [
    "What is the mean of `abs_num`?"
   ]
  },
  {
   "cell_type": "code",
   "execution_count": 8,
   "metadata": {
    "colab": {
     "base_uri": "https://localhost:8080/",
     "height": 34
    },
    "colab_type": "code",
    "executionInfo": {
     "elapsed": 456,
     "status": "ok",
     "timestamp": 1563150409826,
     "user": {
      "displayName": "Kelly Sovacool",
      "photoUrl": "https://lh3.googleusercontent.com/-WQsOgn6cXFg/AAAAAAAAAAI/AAAAAAAAAVA/ol7X28qyOHc/s64/photo.jpg",
      "userId": "07259925140867310896"
     },
     "user_tz": 240
    },
    "id": "AaIqrT40BgEN",
    "outputId": "c642e706-29d3-485f-bc2e-1301a091192c"
   },
   "outputs": [
    {
     "name": "stdout",
     "output_type": "stream",
     "text": [
      "0.8981740452330801\n"
     ]
    }
   ],
   "source": [
    "# command Python to print the mean of abs_num\n",
    "print(np.mean(abs_num))"
   ]
  },
  {
   "cell_type": "markdown",
   "metadata": {
    "colab_type": "text",
    "id": "02hJTr52BgEZ"
   },
   "source": [
    "Now, let's sort `numbers`:"
   ]
  },
  {
   "cell_type": "code",
   "execution_count": 9,
   "metadata": {
    "colab": {
     "base_uri": "https://localhost:8080/",
     "height": 306
    },
    "colab_type": "code",
    "executionInfo": {
     "elapsed": 607,
     "status": "ok",
     "timestamp": 1563150409991,
     "user": {
      "displayName": "Kelly Sovacool",
      "photoUrl": "https://lh3.googleusercontent.com/-WQsOgn6cXFg/AAAAAAAAAAI/AAAAAAAAAVA/ol7X28qyOHc/s64/photo.jpg",
      "userId": "07259925140867310896"
     },
     "user_tz": 240
    },
    "id": "8z0nxOcoBgEb",
    "outputId": "2bc9c29a-af6f-44ec-faf5-526ff4378c5c"
   },
   "outputs": [
    {
     "name": "stdout",
     "output_type": "stream",
     "text": [
      "[-2.71422189 -2.20106244 -2.08663217 -1.86327462 -1.71573097 -1.53496402\n",
      " -1.5125362  -1.47030292 -1.36325505 -1.35783294 -1.33909289 -1.28656514\n",
      " -1.22891962 -1.21923117 -1.15769198 -1.110104   -1.09849576 -1.09459829\n",
      " -1.07075507 -1.05396343 -0.99374201 -0.88045114 -0.87061163 -0.86452909\n",
      " -0.86137107 -0.83132456 -0.80605451 -0.73101326 -0.60286466 -0.55880788\n",
      " -0.53931509 -0.43379105 -0.42448406 -0.38519173 -0.36955471 -0.31481695\n",
      " -0.29849868 -0.29582084 -0.27410599 -0.27191999 -0.27187182 -0.27130882\n",
      " -0.26735085 -0.2270996  -0.16154622 -0.156309   -0.12030484 -0.11282943\n",
      " -0.09620895 -0.05951986  0.0044984   0.02673981  0.08301411  0.11107944\n",
      "  0.14311966  0.14661258  0.16927064  0.18453617  0.22729003  0.29234775\n",
      "  0.3272374   0.36331931  0.39793627  0.44624323  0.47192794  0.49045513\n",
      "  0.49764011  0.52029081  0.526387    0.59823598  0.60221845  0.62623146\n",
      "  0.68157612  0.69437965  0.73343465  0.76374643  0.77914108  0.82408391\n",
      "  0.82680613  0.89561861  0.98070951  0.99222586  1.06580405  1.08226093\n",
      "  1.11728814  1.17756052  1.2414915   1.27231321  1.29246148  1.31868229\n",
      "  1.37244333  1.57035558  1.65046807  1.8119903   1.92386616  2.15102219\n",
      "  2.26420861  2.37624514  3.0452446   3.82349593]\n"
     ]
    }
   ],
   "source": [
    "# sort numbers\n",
    "numbers.sort()\n",
    "# print numbers\n",
    "print(numbers)"
   ]
  },
  {
   "cell_type": "markdown",
   "metadata": {
    "colab_type": "text",
    "id": "hgI7Z4i0BgEj"
   },
   "source": [
    "Now let's round `numbers` so each element has 2 decimal places:"
   ]
  },
  {
   "cell_type": "code",
   "execution_count": 10,
   "metadata": {
    "colab": {
     "base_uri": "https://localhost:8080/",
     "height": 221
    },
    "colab_type": "code",
    "executionInfo": {
     "elapsed": 600,
     "status": "ok",
     "timestamp": 1563150409993,
     "user": {
      "displayName": "Kelly Sovacool",
      "photoUrl": "https://lh3.googleusercontent.com/-WQsOgn6cXFg/AAAAAAAAAAI/AAAAAAAAAVA/ol7X28qyOHc/s64/photo.jpg",
      "userId": "07259925140867310896"
     },
     "user_tz": 240
    },
    "id": "8PqFbMd_BgEl",
    "outputId": "deb12147-6461-4e24-e2ab-0e89fa8a5320"
   },
   "outputs": [
    {
     "data": {
      "text/plain": [
       "array([-2.71, -2.2 , -2.09, -1.86, -1.72, -1.53, -1.51, -1.47, -1.36,\n",
       "       -1.36, -1.34, -1.29, -1.23, -1.22, -1.16, -1.11, -1.1 , -1.09,\n",
       "       -1.07, -1.05, -0.99, -0.88, -0.87, -0.86, -0.86, -0.83, -0.81,\n",
       "       -0.73, -0.6 , -0.56, -0.54, -0.43, -0.42, -0.39, -0.37, -0.31,\n",
       "       -0.3 , -0.3 , -0.27, -0.27, -0.27, -0.27, -0.27, -0.23, -0.16,\n",
       "       -0.16, -0.12, -0.11, -0.1 , -0.06,  0.  ,  0.03,  0.08,  0.11,\n",
       "        0.14,  0.15,  0.17,  0.18,  0.23,  0.29,  0.33,  0.36,  0.4 ,\n",
       "        0.45,  0.47,  0.49,  0.5 ,  0.52,  0.53,  0.6 ,  0.6 ,  0.63,\n",
       "        0.68,  0.69,  0.73,  0.76,  0.78,  0.82,  0.83,  0.9 ,  0.98,\n",
       "        0.99,  1.07,  1.08,  1.12,  1.18,  1.24,  1.27,  1.29,  1.32,\n",
       "        1.37,  1.57,  1.65,  1.81,  1.92,  2.15,  2.26,  2.38,  3.05,\n",
       "        3.82])"
      ]
     },
     "execution_count": 10,
     "metadata": {},
     "output_type": "execute_result"
    }
   ],
   "source": [
    "# command Python to round all elements in numbers to 2 decimal places\n",
    "np.round(numbers,2)"
   ]
  },
  {
   "cell_type": "markdown",
   "metadata": {
    "colab_type": "text",
    "id": "xQ33w_u0BgEt"
   },
   "source": [
    "**Challenge:** Get the square root of the `abs_num` function. Save this to sqrt_abs_num. *Hint:* Use the function `sqrt` in the numpy package."
   ]
  },
  {
   "cell_type": "code",
   "execution_count": 11,
   "metadata": {
    "colab": {
     "base_uri": "https://localhost:8080/",
     "height": 306
    },
    "colab_type": "code",
    "executionInfo": {
     "elapsed": 589,
     "status": "ok",
     "timestamp": 1563150409994,
     "user": {
      "displayName": "Kelly Sovacool",
      "photoUrl": "https://lh3.googleusercontent.com/-WQsOgn6cXFg/AAAAAAAAAAI/AAAAAAAAAVA/ol7X28qyOHc/s64/photo.jpg",
      "userId": "07259925140867310896"
     },
     "user_tz": 240
    },
    "id": "JTB8tNVLBgEu",
    "outputId": "68f50c5d-3039-4fec-894e-f8a92a958921"
   },
   "outputs": [
    {
     "name": "stdout",
     "output_type": "stream",
     "text": [
      "[0.74753453 0.72552532 0.51705981 0.73438076 0.47674944 1.30985914\n",
      " 0.77345716 0.85499313 1.05361473 1.4835978  0.89780538 0.90779067\n",
      " 1.16526089 1.12796862 0.90928881 0.92810079 1.17151326 1.04809149\n",
      " 1.08515461 1.64748957 0.37831159 1.07596095 1.21256048 0.28812169\n",
      " 0.33328582 0.93306572 0.52087313 0.54069192 0.34684988 0.65862816\n",
      " 1.14833892 1.2298521  0.94637129 0.7764436  0.92980057 0.99030778\n",
      " 0.54635033 1.74506292 1.25313829 0.82557624 0.52145948 0.66801439\n",
      " 1.46663635 1.13686476 1.05701851 0.85640799 0.60791012 1.04031771\n",
      " 0.24396693 0.52355133 1.50472875 1.10418801 1.11422238 1.34610189\n",
      " 0.33590092 0.93832358 0.41142513 1.54150742 0.9968661  0.42957673\n",
      " 0.39535933 0.91177001 1.15719181 0.60275975 0.83329445 1.04623052\n",
      " 0.79134787 0.31017568 0.06707015 0.70543611 0.57204668 0.99610535\n",
      " 1.16758514 1.02662721 1.03237786 1.03477296 1.44451797 1.28470544\n",
      " 0.16352312 0.70032502 0.72131187 0.56108551 1.10856647 0.68697011\n",
      " 0.6308219  0.40192812 0.87392587 1.23893665 0.38290023 0.47654969\n",
      " 1.95537616 0.88268969 1.13426855 0.65152441 0.52141329 0.62063816\n",
      " 0.77602735 0.54389414 1.36501818 1.38703502]\n"
     ]
    }
   ],
   "source": [
    "# command Python to get the square root of the numbers in abs_num\n",
    "sqrt_abs_num = np.sqrt(abs_num)\n",
    "# print sqrt_abs_num\n",
    "print(sqrt_abs_num)"
   ]
  },
  {
   "cell_type": "markdown",
   "metadata": {
    "colab_type": "text",
    "id": "lftRlv8BBgEy"
   },
   "source": [
    "What is the max of the square roots? The min?"
   ]
  },
  {
   "cell_type": "code",
   "execution_count": 12,
   "metadata": {
    "colab": {
     "base_uri": "https://localhost:8080/",
     "height": 51
    },
    "colab_type": "code",
    "executionInfo": {
     "elapsed": 582,
     "status": "ok",
     "timestamp": 1563150410005,
     "user": {
      "displayName": "Kelly Sovacool",
      "photoUrl": "https://lh3.googleusercontent.com/-WQsOgn6cXFg/AAAAAAAAAAI/AAAAAAAAAVA/ol7X28qyOHc/s64/photo.jpg",
      "userId": "07259925140867310896"
     },
     "user_tz": 240
    },
    "id": "Sxf357NABgEy",
    "outputId": "9a92cd3d-b743-4993-d08f-9f4063e0ba9c"
   },
   "outputs": [
    {
     "name": "stdout",
     "output_type": "stream",
     "text": [
      "1.9553761610133882\n",
      "0.06707014509517924\n"
     ]
    }
   ],
   "source": [
    "# print the max of the square roots\n",
    "print(max(sqrt_abs_num))\n",
    "# print the min of the square roots\n",
    "print(min(sqrt_abs_num))"
   ]
  },
  {
   "cell_type": "markdown",
   "metadata": {
    "colab_type": "text",
    "id": "8yeSoQAvBgE2"
   },
   "source": [
    "Nice job! You just practiced:\n",
    "* Importing packages in Python\n",
    "* Using functions in packages\n",
    "* Saving things to variables\n",
    "* Doing math with numpy"
   ]
  }
 ],
 "metadata": {
  "kernelspec": {
   "display_name": "Python 3",
   "language": "python",
   "name": "python3"
  },
  "language_info": {
   "codemirror_mode": {
    "name": "ipython",
    "version": 3
   },
   "file_extension": ".py",
   "mimetype": "text/x-python",
   "name": "python",
   "nbconvert_exporter": "python",
   "pygments_lexer": "ipython3",
   "version": "3.9.15"
  }
 },
 "nbformat": 4,
 "nbformat_minor": 0
}
