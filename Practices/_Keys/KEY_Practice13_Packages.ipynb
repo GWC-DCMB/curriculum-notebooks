{
 "nbformat": 4,
 "nbformat_minor": 0,
 "metadata": {
  "language_info": {
   "codemirror_mode": {
    "name": "ipython",
    "version": 3
   },
   "file_extension": ".py",
   "mimetype": "text/x-python",
   "name": "python",
   "nbconvert_exporter": "python",
   "pygments_lexer": "ipython3",
   "version": "3.7.3"
  },
  "kernelspec": {
   "display_name": "Python 3",
   "language": "python",
   "name": "python3"
  }
 },
 "cells": [
  {
   "cell_type": "markdown",
   "metadata": {
    "id": "V9nK2lLLBgB1",
    "colab_type": "text"
   },
   "source": [
    "# Practice with packages!\n",
    "**Remember:**\n",
    "* Functions and methods take an input, do something with the input, and return an output\n",
    "* Functions can take arguments that modify the output of the function\n",
    "* Methods are specific to ceratin object types\n",
    "* Packages are collections of functions"
   ]
  },
  {
   "cell_type": "markdown",
   "metadata": {
    "id": "DkWzNWe1BgB4",
    "colab_type": "text"
   },
   "source": [
    "First, we have to import numpy:"
   ]
  },
  {
   "cell_type": "code",
   "metadata": {
    "id": "v3q85J-JBgDJ",
    "colab_type": "code",
    "colab": {}
   },
   "source": [
    "# command Python to import numpy\n",
    "import numpy as np"
   ],
   "execution_count": 0,
   "outputs": []
  },
  {
   "cell_type": "markdown",
   "metadata": {
    "id": "V0MYUVFwBgDQ",
    "colab_type": "text"
   },
   "source": [
    "Now, let's use a numpy function to get random numbers from a normal distribution (the bell curve):"
   ]
  },
  {
   "cell_type": "code",
   "metadata": {
    "id": "tkphWx3bBgDb",
    "colab_type": "code",
    "outputId": "68cc9d8b-4cab-4a49-e14d-ef9c9c2d5999",
    "executionInfo": {
     "status": "ok",
     "timestamp": 1563150409822,
     "user_tz": 240,
     "elapsed": 518,
     "user": {
      "displayName": "Kelly Sovacool",
      "photoUrl": "https://lh3.googleusercontent.com/-WQsOgn6cXFg/AAAAAAAAAAI/AAAAAAAAAVA/ol7X28qyOHc/s64/photo.jpg",
      "userId": "07259925140867310896"
     }
    },
    "colab": {
     "base_uri": "https://localhost:8080/",
     "height": 306
    }
   },
   "source": [
    "# use np.random.normal to get random numbers from a normal distribution\n",
    "# the 0 is the mean of the distribution and the 1 is the standard deviation. the 100 is the number of samples\n",
    "numbers = np.random.normal(0, 1, 100)\n",
    "\n",
    "# print numbers\n",
    "print(numbers)"
   ],
   "execution_count": 0,
   "outputs": [
    {
     "output_type": "stream",
     "text": [
      "[-0.44473611  1.61091167 -0.16780124 -0.47166392  0.39801569  0.39936037\n",
      "  0.5244496  -0.12340431  2.29607915 -0.51371196 -1.48457599  0.86933537\n",
      "  0.56874893 -1.06748701  0.00504559  1.36121032  1.64686597  0.10499249\n",
      "  0.71157553 -0.05306914 -0.37685488  0.84424591  0.07702687  0.8531459\n",
      "  2.30776079  1.14143095 -1.12383005 -1.40714838  0.90471179 -1.37816972\n",
      "  0.86805295 -0.3597459   1.28197886  0.29987337 -0.06244328 -0.90876881\n",
      " -0.04653701  1.52861847 -1.02595625  0.30632531 -0.20932315  0.79326536\n",
      "  0.98951154 -1.92011606 -0.32316081  0.92385941 -0.68853578 -0.64836638\n",
      "  0.63010454 -0.53508069 -1.11531105 -0.75528584 -0.70519801  0.49354908\n",
      "  2.95703976 -1.4463473  -0.95519385  0.31500731  1.21343131 -0.62975996\n",
      " -0.71247028 -1.571144   -1.1532393   0.49965326 -0.23942728 -1.02602508\n",
      " -2.12747518  0.00648779  0.15805142 -0.1499272  -0.56387856  0.93090121\n",
      " -0.46651753 -0.0314912   0.69173354  1.05465131  0.57612046  0.23339215\n",
      "  0.77566339 -0.49910077 -0.21789798 -0.85653028  1.43829777 -0.10406763\n",
      "  1.32947621  0.143696   -1.22118852 -1.32901149  1.53361447 -0.77893451\n",
      "  0.78930636  0.17041165  0.20766317  0.34997351 -1.59560997  1.56551189\n",
      " -1.01570403  0.4881667  -0.57867737 -1.28920633]\n"
     ],
     "name": "stdout"
    }
   ]
  },
  {
   "cell_type": "markdown",
   "metadata": {
    "id": "0Qc7JsOxBgDh",
    "colab_type": "text"
   },
   "source": [
    "How many elements are in `numbers`?"
   ]
  },
  {
   "cell_type": "code",
   "metadata": {
    "id": "waSnXk96BgDm",
    "colab_type": "code",
    "outputId": "361d08db-dc36-47d2-d890-2991310e447f",
    "executionInfo": {
     "status": "ok",
     "timestamp": 1563150409823,
     "user_tz": 240,
     "elapsed": 500,
     "user": {
      "displayName": "Kelly Sovacool",
      "photoUrl": "https://lh3.googleusercontent.com/-WQsOgn6cXFg/AAAAAAAAAAI/AAAAAAAAAVA/ol7X28qyOHc/s64/photo.jpg",
      "userId": "07259925140867310896"
     }
    },
    "colab": {
     "base_uri": "https://localhost:8080/",
     "height": 34
    }
   },
   "source": [
    "# get the number of elements in numbers\n",
    "print(len(numbers))"
   ],
   "execution_count": 0,
   "outputs": [
    {
     "output_type": "stream",
     "text": [
      "100\n"
     ],
     "name": "stdout"
    }
   ]
  },
  {
   "cell_type": "markdown",
   "metadata": {
    "id": "NJdQvymMBgDw",
    "colab_type": "text"
   },
   "source": [
    "What is the mean of `numbers`?"
   ]
  },
  {
   "cell_type": "code",
   "metadata": {
    "id": "ZnSNKoazBgDx",
    "colab_type": "code",
    "outputId": "b8724e3d-f0a6-4bc9-9e9b-a0f06693f0fa",
    "executionInfo": {
     "status": "ok",
     "timestamp": 1563150409824,
     "user_tz": 240,
     "elapsed": 490,
     "user": {
      "displayName": "Kelly Sovacool",
      "photoUrl": "https://lh3.googleusercontent.com/-WQsOgn6cXFg/AAAAAAAAAAI/AAAAAAAAAVA/ol7X28qyOHc/s64/photo.jpg",
      "userId": "07259925140867310896"
     }
    },
    "colab": {
     "base_uri": "https://localhost:8080/",
     "height": 34
    }
   },
   "source": [
    "# command Python to get the mean of numbers\n",
    "np.mean(numbers)"
   ],
   "execution_count": 0,
   "outputs": [
    {
     "output_type": "execute_result",
     "data": {
      "text/plain": [
       "0.036931950637023495"
      ]
     },
     "metadata": {
      "tags": []
     },
     "execution_count": 4
    }
   ]
  },
  {
   "cell_type": "markdown",
   "metadata": {
    "id": "wXhd7I6gBgEE",
    "colab_type": "text"
   },
   "source": [
    "Get the absolute value of `numbers` and save it to `abs_num`:"
   ]
  },
  {
   "cell_type": "code",
   "metadata": {
    "id": "bHWXlscPBgEF",
    "colab_type": "code",
    "outputId": "7480dbfa-be6e-4830-fe32-f1751a01c5d4",
    "executionInfo": {
     "status": "ok",
     "timestamp": 1563150409825,
     "user_tz": 240,
     "elapsed": 470,
     "user": {
      "displayName": "Kelly Sovacool",
      "photoUrl": "https://lh3.googleusercontent.com/-WQsOgn6cXFg/AAAAAAAAAAI/AAAAAAAAAVA/ol7X28qyOHc/s64/photo.jpg",
      "userId": "07259925140867310896"
     }
    },
    "colab": {
     "base_uri": "https://localhost:8080/",
     "height": 306
    }
   },
   "source": [
    "# command Python to get the absolute value of numbers\n",
    "abs_num = np.abs(numbers)\n",
    "# print abs_num\n",
    "print(abs_num)"
   ],
   "execution_count": 0,
   "outputs": [
    {
     "output_type": "stream",
     "text": [
      "[0.44473611 1.61091167 0.16780124 0.47166392 0.39801569 0.39936037\n",
      " 0.5244496  0.12340431 2.29607915 0.51371196 1.48457599 0.86933537\n",
      " 0.56874893 1.06748701 0.00504559 1.36121032 1.64686597 0.10499249\n",
      " 0.71157553 0.05306914 0.37685488 0.84424591 0.07702687 0.8531459\n",
      " 2.30776079 1.14143095 1.12383005 1.40714838 0.90471179 1.37816972\n",
      " 0.86805295 0.3597459  1.28197886 0.29987337 0.06244328 0.90876881\n",
      " 0.04653701 1.52861847 1.02595625 0.30632531 0.20932315 0.79326536\n",
      " 0.98951154 1.92011606 0.32316081 0.92385941 0.68853578 0.64836638\n",
      " 0.63010454 0.53508069 1.11531105 0.75528584 0.70519801 0.49354908\n",
      " 2.95703976 1.4463473  0.95519385 0.31500731 1.21343131 0.62975996\n",
      " 0.71247028 1.571144   1.1532393  0.49965326 0.23942728 1.02602508\n",
      " 2.12747518 0.00648779 0.15805142 0.1499272  0.56387856 0.93090121\n",
      " 0.46651753 0.0314912  0.69173354 1.05465131 0.57612046 0.23339215\n",
      " 0.77566339 0.49910077 0.21789798 0.85653028 1.43829777 0.10406763\n",
      " 1.32947621 0.143696   1.22118852 1.32901149 1.53361447 0.77893451\n",
      " 0.78930636 0.17041165 0.20766317 0.34997351 1.59560997 1.56551189\n",
      " 1.01570403 0.4881667  0.57867737 1.28920633]\n"
     ],
     "name": "stdout"
    }
   ]
  },
  {
   "cell_type": "markdown",
   "metadata": {
    "id": "ys8gb7iWBgEM",
    "colab_type": "text"
   },
   "source": [
    "What is the mean of `abs_num`?"
   ]
  },
  {
   "cell_type": "code",
   "metadata": {
    "id": "AaIqrT40BgEN",
    "colab_type": "code",
    "outputId": "c642e706-29d3-485f-bc2e-1301a091192c",
    "executionInfo": {
     "status": "ok",
     "timestamp": 1563150409826,
     "user_tz": 240,
     "elapsed": 456,
     "user": {
      "displayName": "Kelly Sovacool",
      "photoUrl": "https://lh3.googleusercontent.com/-WQsOgn6cXFg/AAAAAAAAAAI/AAAAAAAAAVA/ol7X28qyOHc/s64/photo.jpg",
      "userId": "07259925140867310896"
     }
    },
    "colab": {
     "base_uri": "https://localhost:8080/",
     "height": 34
    }
   },
   "source": [
    "# command Python to print the mean of abs_num\n",
    "print(np.mean(abs_num))"
   ],
   "execution_count": 0,
   "outputs": [
    {
     "output_type": "stream",
     "text": [
      "0.806434097506584\n"
     ],
     "name": "stdout"
    }
   ]
  },
  {
   "cell_type": "markdown",
   "metadata": {
    "id": "02hJTr52BgEZ",
    "colab_type": "text"
   },
   "source": [
    "Now, let's sort `numbers`:"
   ]
  },
  {
   "cell_type": "code",
   "metadata": {
    "id": "8z0nxOcoBgEb",
    "colab_type": "code",
    "outputId": "2bc9c29a-af6f-44ec-faf5-526ff4378c5c",
    "executionInfo": {
     "status": "ok",
     "timestamp": 1563150409991,
     "user_tz": 240,
     "elapsed": 607,
     "user": {
      "displayName": "Kelly Sovacool",
      "photoUrl": "https://lh3.googleusercontent.com/-WQsOgn6cXFg/AAAAAAAAAAI/AAAAAAAAAVA/ol7X28qyOHc/s64/photo.jpg",
      "userId": "07259925140867310896"
     }
    },
    "colab": {
     "base_uri": "https://localhost:8080/",
     "height": 306
    }
   },
   "source": [
    "# sort numbers\n",
    "numbers.sort()\n",
    "# print numbers\n",
    "print(numbers)"
   ],
   "execution_count": 0,
   "outputs": [
    {
     "output_type": "stream",
     "text": [
      "[-2.12747518 -1.92011606 -1.59560997 -1.571144   -1.48457599 -1.4463473\n",
      " -1.40714838 -1.37816972 -1.32901149 -1.28920633 -1.22118852 -1.1532393\n",
      " -1.12383005 -1.11531105 -1.06748701 -1.02602508 -1.02595625 -1.01570403\n",
      " -0.95519385 -0.90876881 -0.85653028 -0.77893451 -0.75528584 -0.71247028\n",
      " -0.70519801 -0.68853578 -0.64836638 -0.62975996 -0.57867737 -0.56387856\n",
      " -0.53508069 -0.51371196 -0.49910077 -0.47166392 -0.46651753 -0.44473611\n",
      " -0.37685488 -0.3597459  -0.32316081 -0.23942728 -0.21789798 -0.20932315\n",
      " -0.16780124 -0.1499272  -0.12340431 -0.10406763 -0.06244328 -0.05306914\n",
      " -0.04653701 -0.0314912   0.00504559  0.00648779  0.07702687  0.10499249\n",
      "  0.143696    0.15805142  0.17041165  0.20766317  0.23339215  0.29987337\n",
      "  0.30632531  0.31500731  0.34997351  0.39801569  0.39936037  0.4881667\n",
      "  0.49354908  0.49965326  0.5244496   0.56874893  0.57612046  0.63010454\n",
      "  0.69173354  0.71157553  0.77566339  0.78930636  0.79326536  0.84424591\n",
      "  0.8531459   0.86805295  0.86933537  0.90471179  0.92385941  0.93090121\n",
      "  0.98951154  1.05465131  1.14143095  1.21343131  1.28197886  1.32947621\n",
      "  1.36121032  1.43829777  1.52861847  1.53361447  1.56551189  1.61091167\n",
      "  1.64686597  2.29607915  2.30776079  2.95703976]\n"
     ],
     "name": "stdout"
    }
   ]
  },
  {
   "cell_type": "markdown",
   "metadata": {
    "id": "hgI7Z4i0BgEj",
    "colab_type": "text"
   },
   "source": [
    "Now let's round `numbers` so each element has 2 decimal places:"
   ]
  },
  {
   "cell_type": "code",
   "metadata": {
    "id": "8PqFbMd_BgEl",
    "colab_type": "code",
    "outputId": "deb12147-6461-4e24-e2ab-0e89fa8a5320",
    "executionInfo": {
     "status": "ok",
     "timestamp": 1563150409993,
     "user_tz": 240,
     "elapsed": 600,
     "user": {
      "displayName": "Kelly Sovacool",
      "photoUrl": "https://lh3.googleusercontent.com/-WQsOgn6cXFg/AAAAAAAAAAI/AAAAAAAAAVA/ol7X28qyOHc/s64/photo.jpg",
      "userId": "07259925140867310896"
     }
    },
    "colab": {
     "base_uri": "https://localhost:8080/",
     "height": 221
    }
   },
   "source": [
    "# command Python to round all elements in numbers to 2 decimal places\n",
    "np.round(numbers,2)"
   ],
   "execution_count": 0,
   "outputs": [
    {
     "output_type": "execute_result",
     "data": {
      "text/plain": [
       "array([-2.13, -1.92, -1.6 , -1.57, -1.48, -1.45, -1.41, -1.38, -1.33,\n",
       "       -1.29, -1.22, -1.15, -1.12, -1.12, -1.07, -1.03, -1.03, -1.02,\n",
       "       -0.96, -0.91, -0.86, -0.78, -0.76, -0.71, -0.71, -0.69, -0.65,\n",
       "       -0.63, -0.58, -0.56, -0.54, -0.51, -0.5 , -0.47, -0.47, -0.44,\n",
       "       -0.38, -0.36, -0.32, -0.24, -0.22, -0.21, -0.17, -0.15, -0.12,\n",
       "       -0.1 , -0.06, -0.05, -0.05, -0.03,  0.01,  0.01,  0.08,  0.1 ,\n",
       "        0.14,  0.16,  0.17,  0.21,  0.23,  0.3 ,  0.31,  0.32,  0.35,\n",
       "        0.4 ,  0.4 ,  0.49,  0.49,  0.5 ,  0.52,  0.57,  0.58,  0.63,\n",
       "        0.69,  0.71,  0.78,  0.79,  0.79,  0.84,  0.85,  0.87,  0.87,\n",
       "        0.9 ,  0.92,  0.93,  0.99,  1.05,  1.14,  1.21,  1.28,  1.33,\n",
       "        1.36,  1.44,  1.53,  1.53,  1.57,  1.61,  1.65,  2.3 ,  2.31,\n",
       "        2.96])"
      ]
     },
     "metadata": {
      "tags": []
     },
     "execution_count": 8
    }
   ]
  },
  {
   "cell_type": "markdown",
   "metadata": {
    "id": "xQ33w_u0BgEt",
    "colab_type": "text"
   },
   "source": [
    "**Challenge:** Get the square root of the `abs_num` function. Save this to sqrt_abs_num. *Hint:* Use the function `sqrt` in the numpy package."
   ]
  },
  {
   "cell_type": "code",
   "metadata": {
    "id": "JTB8tNVLBgEu",
    "colab_type": "code",
    "outputId": "68f50c5d-3039-4fec-894e-f8a92a958921",
    "executionInfo": {
     "status": "ok",
     "timestamp": 1563150409994,
     "user_tz": 240,
     "elapsed": 589,
     "user": {
      "displayName": "Kelly Sovacool",
      "photoUrl": "https://lh3.googleusercontent.com/-WQsOgn6cXFg/AAAAAAAAAAI/AAAAAAAAAVA/ol7X28qyOHc/s64/photo.jpg",
      "userId": "07259925140867310896"
     }
    },
    "colab": {
     "base_uri": "https://localhost:8080/",
     "height": 306
    }
   },
   "source": [
    "# command Python to get the square root of the numbers in abs_num\n",
    "sqrt_abs_num = np.sqrt(abs_num)\n",
    "# print sqrt_abs_num\n",
    "print(sqrt_abs_num)"
   ],
   "execution_count": 0,
   "outputs": [
    {
     "output_type": "stream",
     "text": [
      "[0.66688538 1.26921695 0.4096355  0.68677793 0.63088485 0.63194966\n",
      " 0.72418893 0.3512895  1.51528187 0.71673702 1.21843178 0.93238156\n",
      " 0.75415445 1.03319263 0.07103229 1.16670918 1.28330276 0.32402545\n",
      " 0.84354936 0.23036741 0.61388507 0.91882855 0.27753715 0.92365897\n",
      " 1.51913159 1.06837772 1.06010851 1.18623285 0.95116339 1.17395473\n",
      " 0.93169359 0.59978822 1.13224505 0.54760695 0.24988653 0.95329367\n",
      " 0.21572438 1.23637311 1.01289498 0.55346663 0.45751847 0.89065446\n",
      " 0.99474194 1.38568253 0.56847235 0.96117606 0.82978056 0.80521201\n",
      " 0.79379124 0.7314921  1.05608288 0.86907183 0.83976068 0.70253049\n",
      " 1.71960454 1.2026418  0.97734019 0.56125512 1.10155858 0.79357417\n",
      " 0.84407955 1.25345283 1.0738898  0.70686156 0.48931307 1.01292896\n",
      " 1.4585867  0.08054681 0.39755681 0.38720434 0.75091848 0.96483222\n",
      " 0.68302089 0.17745761 0.8317052  1.02696218 0.759026   0.48310677\n",
      " 0.88071754 0.70647064 0.46679544 0.92548921 1.19929053 0.32259515\n",
      " 1.15302915 0.37907256 1.10507399 1.15282761 1.23839189 0.88257266\n",
      " 0.88842915 0.41280946 0.45570074 0.59158559 1.26317456 1.25120418\n",
      " 1.00782143 0.69868927 0.76070847 1.13543222]\n"
     ],
     "name": "stdout"
    }
   ]
  },
  {
   "cell_type": "markdown",
   "metadata": {
    "id": "lftRlv8BBgEy",
    "colab_type": "text"
   },
   "source": [
    "What is the max of the square roots? The min?"
   ]
  },
  {
   "cell_type": "code",
   "metadata": {
    "id": "Sxf357NABgEy",
    "colab_type": "code",
    "outputId": "9a92cd3d-b743-4993-d08f-9f4063e0ba9c",
    "executionInfo": {
     "status": "ok",
     "timestamp": 1563150410005,
     "user_tz": 240,
     "elapsed": 582,
     "user": {
      "displayName": "Kelly Sovacool",
      "photoUrl": "https://lh3.googleusercontent.com/-WQsOgn6cXFg/AAAAAAAAAAI/AAAAAAAAAVA/ol7X28qyOHc/s64/photo.jpg",
      "userId": "07259925140867310896"
     }
    },
    "colab": {
     "base_uri": "https://localhost:8080/",
     "height": 51
    }
   },
   "source": [
    "# print the max of the square roots\n",
    "print(max(sqrt_abs_num))\n",
    "# print the min of the square roots\n",
    "print(min(sqrt_abs_num))"
   ],
   "execution_count": 0,
   "outputs": [
    {
     "output_type": "stream",
     "text": [
      "1.7196045362429888\n",
      "0.07103229246818811\n"
     ],
     "name": "stdout"
    }
   ]
  },
  {
   "cell_type": "markdown",
   "metadata": {
    "id": "8yeSoQAvBgE2",
    "colab_type": "text"
   },
   "source": [
    "Nice job! You just practiced:\n",
    "* Importing packages in Python\n",
    "* Using functions in packages\n",
    "* Saving things to variables\n",
    "* Doing math with numpy"
   ]
  }
 ]
}