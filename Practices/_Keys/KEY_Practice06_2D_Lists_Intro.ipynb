{
 "cells": [
  {
   "cell_type": "markdown",
   "metadata": {
    "colab_type": "text",
    "id": "SwRSqXsjA4kw"
   },
   "source": [
    "# Practice with 2D lists!\n",
    "**Remember:**\n",
    "* Lists can be used to group different values together - it's just a collection of things.\n",
    "* You can make a list in Python by putting different things in a box of brackets `[]` separated by commas.\n",
    "* 2D lists are lists of lists\n",
    "\n",
    "First, make a list of land animals including cat, dog, elephant, and any other land animals you want to include. Store it in the variable `land`:"
   ]
  },
  {
   "cell_type": "code",
   "execution_count": 1,
   "metadata": {
    "colab": {
     "base_uri": "https://localhost:8080/",
     "height": 34
    },
    "colab_type": "code",
    "executionInfo": {
     "elapsed": 329,
     "status": "ok",
     "timestamp": 1563150257306,
     "user": {
      "displayName": "Kelly Sovacool",
      "photoUrl": "https://lh3.googleusercontent.com/-WQsOgn6cXFg/AAAAAAAAAAI/AAAAAAAAAVA/ol7X28qyOHc/s64/photo.jpg",
      "userId": "07259925140867310896"
     },
     "user_tz": 240
    },
    "id": "KUnOPBIwA4k0",
    "outputId": "9976fc8b-186c-46a2-f7f5-5f8262609481"
   },
   "outputs": [
    {
     "name": "stdout",
     "output_type": "stream",
     "text": [
      "['cat', 'dog', 'elephant']\n"
     ]
    }
   ],
   "source": [
    "# command Python to make a list of land animals including dog, cat, and elephant. Store it in land\n",
    "land = ['cat','dog','elephant']\n",
    "\n",
    "# command Python to print land\n",
    "print(land)"
   ]
  },
  {
   "cell_type": "markdown",
   "metadata": {
    "colab_type": "text",
    "id": "sIp8HuloA4lO"
   },
   "source": [
    "Second, make a list of aquatic animals including fish, seahorse, and whale. Store it in the variable `aquatic`:"
   ]
  },
  {
   "cell_type": "code",
   "execution_count": 2,
   "metadata": {
    "colab": {
     "base_uri": "https://localhost:8080/",
     "height": 34
    },
    "colab_type": "code",
    "executionInfo": {
     "elapsed": 647,
     "status": "ok",
     "timestamp": 1563150257655,
     "user": {
      "displayName": "Kelly Sovacool",
      "photoUrl": "https://lh3.googleusercontent.com/-WQsOgn6cXFg/AAAAAAAAAAI/AAAAAAAAAVA/ol7X28qyOHc/s64/photo.jpg",
      "userId": "07259925140867310896"
     },
     "user_tz": 240
    },
    "id": "39oxa1gLA4lP",
    "outputId": "177d6169-0788-4195-d55c-2cc0c4f1060e"
   },
   "outputs": [
    {
     "name": "stdout",
     "output_type": "stream",
     "text": [
      "['fish', 'seahorse', 'whale']\n"
     ]
    }
   ],
   "source": [
    "# command Python to make a list of aquatic animals including fish, seahorse, and whale. Store it in aquatic\n",
    "aquatic = ['fish','seahorse','whale']\n",
    "\n",
    "# command Python to print aquatic\n",
    "print(aquatic)"
   ]
  },
  {
   "cell_type": "markdown",
   "metadata": {
    "colab_type": "text",
    "id": "TvVceu0SA4lU"
   },
   "source": [
    "How many things are in your `land` list? How about your `aquatic` list?"
   ]
  },
  {
   "cell_type": "code",
   "execution_count": 3,
   "metadata": {
    "colab": {
     "base_uri": "https://localhost:8080/",
     "height": 51
    },
    "colab_type": "code",
    "executionInfo": {
     "elapsed": 625,
     "status": "ok",
     "timestamp": 1563150257660,
     "user": {
      "displayName": "Kelly Sovacool",
      "photoUrl": "https://lh3.googleusercontent.com/-WQsOgn6cXFg/AAAAAAAAAAI/AAAAAAAAAVA/ol7X28qyOHc/s64/photo.jpg",
      "userId": "07259925140867310896"
     },
     "user_tz": 240
    },
    "id": "52IlwPohA4lV",
    "outputId": "08f898c2-b45e-4b61-8bc8-8a5fdaeaa57c"
   },
   "outputs": [
    {
     "name": "stdout",
     "output_type": "stream",
     "text": [
      "3\n",
      "3\n"
     ]
    }
   ],
   "source": [
    "# command Python to print the length of land\n",
    "print(len(land))\n",
    "\n",
    "# command Python to print the length of aquatic\n",
    "print(len(aquatic))\n"
   ]
  },
  {
   "cell_type": "markdown",
   "metadata": {
    "colab_type": "text",
    "id": "hq_B96OCA4lb"
   },
   "source": [
    "Okay, time to make a 2D list! Combine land and aquatic into a 2D list called `animals`:"
   ]
  },
  {
   "cell_type": "code",
   "execution_count": 4,
   "metadata": {
    "colab": {
     "base_uri": "https://localhost:8080/",
     "height": 34
    },
    "colab_type": "code",
    "executionInfo": {
     "elapsed": 616,
     "status": "ok",
     "timestamp": 1563150257666,
     "user": {
      "displayName": "Kelly Sovacool",
      "photoUrl": "https://lh3.googleusercontent.com/-WQsOgn6cXFg/AAAAAAAAAAI/AAAAAAAAAVA/ol7X28qyOHc/s64/photo.jpg",
      "userId": "07259925140867310896"
     },
     "user_tz": 240
    },
    "id": "LzDn6fTaA4le",
    "outputId": "4e2ec016-ed76-4c7f-e293-7706f6af5acd"
   },
   "outputs": [
    {
     "name": "stdout",
     "output_type": "stream",
     "text": [
      "[['cat', 'dog', 'elephant'], ['fish', 'seahorse', 'whale']]\n"
     ]
    }
   ],
   "source": [
    "# command Python to make a 2D list of animals that contains land and aquatic\n",
    "animals = [land, aquatic]\n",
    "\n",
    "# commadn Python to print animals\n",
    "print(animals)"
   ]
  },
  {
   "cell_type": "markdown",
   "metadata": {
    "colab_type": "text",
    "id": "KG4Xj_3yA4lu"
   },
   "source": [
    "Now, create another list called `air` and include robin, cardinal, and bat."
   ]
  },
  {
   "cell_type": "code",
   "execution_count": null,
   "metadata": {
    "colab": {},
    "colab_type": "code",
    "id": "kLA6ZapvA4ly"
   },
   "outputs": [],
   "source": [
    "# command Python to make a list called air\n",
    "air = ['robin','cardinal','bat']"
   ]
  },
  {
   "cell_type": "markdown",
   "metadata": {
    "colab_type": "text",
    "id": "zKq_ToCUA4l1"
   },
   "source": [
    "Add air to your 2D animals list."
   ]
  },
  {
   "cell_type": "code",
   "execution_count": 6,
   "metadata": {
    "colab": {
     "base_uri": "https://localhost:8080/",
     "height": 51
    },
    "colab_type": "code",
    "executionInfo": {
     "elapsed": 698,
     "status": "ok",
     "timestamp": 1563150257764,
     "user": {
      "displayName": "Kelly Sovacool",
      "photoUrl": "https://lh3.googleusercontent.com/-WQsOgn6cXFg/AAAAAAAAAAI/AAAAAAAAAVA/ol7X28qyOHc/s64/photo.jpg",
      "userId": "07259925140867310896"
     },
     "user_tz": 240
    },
    "id": "mSccI1ZuA4l2",
    "outputId": "351c3095-f784-4096-df63-c457ce0e4fca"
   },
   "outputs": [
    {
     "name": "stdout",
     "output_type": "stream",
     "text": [
      "[['cat', 'dog', 'elephant'], ['fish', 'seahorse', 'whale'], ['robin', 'cardinal', 'bat']]\n"
     ]
    },
    {
     "data": {
      "text/plain": [
       "3"
      ]
     },
     "execution_count": 6,
     "metadata": {
      "tags": []
     },
     "output_type": "execute_result"
    }
   ],
   "source": [
    "# command Python to add air to your animals list \n",
    "animals.append(air)\n",
    "\n",
    "# command Python to print animals\n",
    "print(animals)\n",
    "\n",
    "# command Python to find the length of animals\n",
    "len(animals)"
   ]
  },
  {
   "cell_type": "markdown",
   "metadata": {
    "colab_type": "text",
    "id": "6GIbjm7VA4l6"
   },
   "source": [
    "**Challenge:** Make a 2D list of numbers from 1 to 20 where the odd numbers are in the first list and the even numbers are in the second list"
   ]
  },
  {
   "cell_type": "code",
   "execution_count": 7,
   "metadata": {
    "colab": {
     "base_uri": "https://localhost:8080/",
     "height": 34
    },
    "colab_type": "code",
    "executionInfo": {
     "elapsed": 682,
     "status": "ok",
     "timestamp": 1563150257766,
     "user": {
      "displayName": "Kelly Sovacool",
      "photoUrl": "https://lh3.googleusercontent.com/-WQsOgn6cXFg/AAAAAAAAAAI/AAAAAAAAAVA/ol7X28qyOHc/s64/photo.jpg",
      "userId": "07259925140867310896"
     },
     "user_tz": 240
    },
    "id": "Rf-rpG2xA4l8",
    "outputId": "09a3c771-b509-408c-90ed-682d6955d286"
   },
   "outputs": [
    {
     "name": "stdout",
     "output_type": "stream",
     "text": [
      "[[1, 3, 5, 7, 9, 11, 13, 15, 17, 19], [2, 4, 6, 8, 10, 12, 14, 16, 18, 20]]\n"
     ]
    }
   ],
   "source": [
    "# make 2D list of numbers\n",
    "odd = [1,3,5,7,9,11,13,15,17,19]\n",
    "even = [2,4,6,8,10,12,14,16,18,20]\n",
    "all_nums = [odd,even]\n",
    "# print out 2D list of numbers to see if you did it right!\n",
    "print(all_nums)"
   ]
  },
  {
   "cell_type": "markdown",
   "metadata": {
    "colab_type": "text",
    "id": "qK0Qzzo9A4mA"
   },
   "source": [
    "Now add your animals list and your numbers list together, print it out, and find the length!"
   ]
  },
  {
   "cell_type": "code",
   "execution_count": 8,
   "metadata": {
    "colab": {
     "base_uri": "https://localhost:8080/",
     "height": 71
    },
    "colab_type": "code",
    "executionInfo": {
     "elapsed": 661,
     "status": "ok",
     "timestamp": 1563150257768,
     "user": {
      "displayName": "Kelly Sovacool",
      "photoUrl": "https://lh3.googleusercontent.com/-WQsOgn6cXFg/AAAAAAAAAAI/AAAAAAAAAVA/ol7X28qyOHc/s64/photo.jpg",
      "userId": "07259925140867310896"
     },
     "user_tz": 240
    },
    "id": "Og26DlSiA4mC",
    "outputId": "c164ce21-2828-42c4-e94d-3e22a7d539fc"
   },
   "outputs": [
    {
     "name": "stdout",
     "output_type": "stream",
     "text": [
      "[['cat', 'dog', 'elephant'], ['fish', 'seahorse', 'whale'], ['robin', 'cardinal', 'bat'], [1, 3, 5, 7, 9, 11, 13, 15, 17, 19], [2, 4, 6, 8, 10, 12, 14, 16, 18, 20]]\n"
     ]
    },
    {
     "data": {
      "text/plain": [
       "5"
      ]
     },
     "execution_count": 8,
     "metadata": {
      "tags": []
     },
     "output_type": "execute_result"
    }
   ],
   "source": [
    "# add your animals list and your numbers list together\n",
    "both_lists = animals + all_nums\n",
    "# print new list\n",
    "print(both_lists)\n",
    "# find length of new list\n",
    "len(both_lists)"
   ]
  },
  {
   "cell_type": "markdown",
   "metadata": {
    "colab_type": "text",
    "id": "RTEYuE4iA4mG"
   },
   "source": [
    "Nice job! You just practiced:\n",
    "* Making a 2D list (a list of lists)\n",
    "* Finding the length of a 2D list (len)\n",
    "* Adding 2D lists together (+)\n",
    "* Adding things to a 2D list (.append)"
   ]
  }
 ],
 "metadata": {
  "kernelspec": {
   "display_name": "Python 3",
   "language": "python",
   "name": "python3"
  },
  "language_info": {
   "codemirror_mode": {
    "name": "ipython",
    "version": 3
   },
   "file_extension": ".py",
   "mimetype": "text/x-python",
   "name": "python",
   "nbconvert_exporter": "python",
   "pygments_lexer": "ipython3",
   "version": "3.7.3"
  }
 },
 "nbformat": 4,
 "nbformat_minor": 4
}