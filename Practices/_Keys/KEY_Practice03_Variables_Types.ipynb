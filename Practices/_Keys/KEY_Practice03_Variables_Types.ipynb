{
 "cells": [
  {
   "cell_type": "markdown",
   "metadata": {
    "colab_type": "text",
    "id": "VXAz3pdWAQgm"
   },
   "source": [
    "# Practice with Variables and Types\n",
    "\n",
    "As you've seen, one of the most basic ways to use Python is as a calculator. Let's step up our calculation game by using Python to solve a math problem.\n",
    "\n",
    "Let's say you opened up a savings account at your local bank and to start you deposited $100. While your money is in the bank it is *accruing interest* at a rate of 10 percent per year. Now, you want to know how much money you will have at the end of 7 years, assuming you never withdraw or deposit anything from your savings account. The formula for calculating this value is:\n",
    "\n",
    "<center>total = start_balance * ( 1 + interest_rate )<sup>years</sup></center>"
   ]
  },
  {
   "cell_type": "code",
   "execution_count": 1,
   "metadata": {
    "colab": {
     "base_uri": "https://localhost:8080/",
     "height": 51
    },
    "colab_type": "code",
    "executionInfo": {
     "elapsed": 410,
     "status": "ok",
     "timestamp": 1563150108891,
     "user": {
      "displayName": "Kelly Sovacool",
      "photoUrl": "https://lh3.googleusercontent.com/-WQsOgn6cXFg/AAAAAAAAAAI/AAAAAAAAAVA/ol7X28qyOHc/s64/photo.jpg",
      "userId": "07259925140867310896"
     },
     "user_tz": 240
    },
    "id": "_qEZ_Vb9AQgq",
    "outputId": "7dab0d18-6706-4339-8cd9-85c401eeebb4"
   },
   "outputs": [
    {
     "name": "stdout",
     "output_type": "stream",
     "text": [
      "<class 'int'>\n",
      "<class 'float'>\n"
     ]
    }
   ],
   "source": [
    "# assign your deposit amount to the variable start_balance\n",
    "start_balance = 100\n",
    "\n",
    "# assign your interest rate to the variable interest_rate (TIP: How do we represent percentages in math?)\n",
    "interest_rate = 0.1\n",
    "\n",
    "# print the types of both start_balance and interest_rate. Make sure they match what you expect\n",
    "print(type(start_balance))\n",
    "print(type(interest_rate))"
   ]
  },
  {
   "cell_type": "code",
   "execution_count": 2,
   "metadata": {
    "colab": {
     "base_uri": "https://localhost:8080/",
     "height": 51
    },
    "colab_type": "code",
    "executionInfo": {
     "elapsed": 649,
     "status": "ok",
     "timestamp": 1563150109163,
     "user": {
      "displayName": "Kelly Sovacool",
      "photoUrl": "https://lh3.googleusercontent.com/-WQsOgn6cXFg/AAAAAAAAAAI/AAAAAAAAAVA/ol7X28qyOHc/s64/photo.jpg",
      "userId": "07259925140867310896"
     },
     "user_tz": 240
    },
    "id": "c-Od3EhdAQg6",
    "outputId": "c2b7f31b-5163-4c88-a994-87a25c2f40db"
   },
   "outputs": [
    {
     "name": "stdout",
     "output_type": "stream",
     "text": [
      "194.87171000000012\n",
      "<class 'float'>\n"
     ]
    }
   ],
   "source": [
    "# assign the number of savings years to the variable years\n",
    "years = 7\n",
    "\n",
    "# calculate the result of your savings problem to the variable total.\n",
    "# HINT 1: Remember your order of operations!\n",
    "# HINT 2: Use Google for the Python exponent mathematical operator\n",
    "# Google is your best friend in coding - don't be afraid to use it!\n",
    "total = start_balance * (1+interest_rate) ** years\n",
    "\n",
    "# print the value of the total variable\n",
    "print(total)\n",
    "\n",
    "# print the type of the total variable. Is this what we expect? Why?\n",
    "print(type(total))"
   ]
  },
  {
   "cell_type": "markdown",
   "metadata": {
    "colab_type": "text",
    "id": "gNstSD7IAQhE"
   },
   "source": [
    "Now that we've had some practice with numerical types, let's get some practice with the other types we learned!\n",
    "\n",
    "First, let's see if we were able to double our money with our 7 years of interest and patience."
   ]
  },
  {
   "cell_type": "code",
   "execution_count": 3,
   "metadata": {
    "colab": {
     "base_uri": "https://localhost:8080/",
     "height": 51
    },
    "colab_type": "code",
    "executionInfo": {
     "elapsed": 632,
     "status": "ok",
     "timestamp": 1563150109165,
     "user": {
      "displayName": "Kelly Sovacool",
      "photoUrl": "https://lh3.googleusercontent.com/-WQsOgn6cXFg/AAAAAAAAAAI/AAAAAAAAAVA/ol7X28qyOHc/s64/photo.jpg",
      "userId": "07259925140867310896"
     },
     "user_tz": 240
    },
    "id": "G6vuBsQpAQhG",
    "outputId": "8ad03933-7263-489c-9a50-325deac3d9c8"
   },
   "outputs": [
    {
     "name": "stdout",
     "output_type": "stream",
     "text": [
      "False\n",
      "<class 'bool'>\n"
     ]
    }
   ],
   "source": [
    "# determine if total is greater than or equal to double our start balance\n",
    "# assign this value to the variable doubled and print it\n",
    "doubled = total >= start_balance*2\n",
    "print(doubled)\n",
    "\n",
    "# What type do we expect this to be? Let's print the type of the variable doubled\n",
    "print(type(doubled))"
   ]
  },
  {
   "cell_type": "markdown",
   "metadata": {
    "colab_type": "text",
    "id": "vOGr_zBUAQhR"
   },
   "source": [
    "Now, let's play the name game."
   ]
  },
  {
   "cell_type": "code",
   "execution_count": 4,
   "metadata": {
    "colab": {
     "base_uri": "https://localhost:8080/",
     "height": 232
    },
    "colab_type": "code",
    "executionInfo": {
     "elapsed": 633,
     "status": "error",
     "timestamp": 1563150109187,
     "user": {
      "displayName": "Kelly Sovacool",
      "photoUrl": "https://lh3.googleusercontent.com/-WQsOgn6cXFg/AAAAAAAAAAI/AAAAAAAAAVA/ol7X28qyOHc/s64/photo.jpg",
      "userId": "07259925140867310896"
     },
     "user_tz": 240
    },
    "id": "LX0J-tAJAQhT",
    "outputId": "88dc461f-a37c-49f7-de7b-61a1a87337e0"
   },
   "outputs": [
    {
     "name": "stdout",
     "output_type": "stream",
     "text": [
      "MarlenaDuda\n",
      "Marlena Duda\n"
     ]
    },
    {
     "ename": "TypeError",
     "evalue": "must be str, not int",
     "output_type": "error",
     "traceback": [
      "\u001b[0;31m---------------------------------------------------------------------------\u001b[0m",
      "\u001b[0;31mTypeError\u001b[0m                                 Traceback (most recent call last)",
      "\u001b[0;32m<ipython-input-4-6d47cd2526cd>\u001b[0m in \u001b[0;36m<module>\u001b[0;34m()\u001b[0m\n\u001b[1;32m     17\u001b[0m \u001b[0;31m# read the error message you get carefully!\u001b[0m\u001b[0;34m\u001b[0m\u001b[0;34m\u001b[0m\u001b[0m\n\u001b[1;32m     18\u001b[0m \u001b[0;31m# learning how to read error messages will give you the keys to fix mistakes (i.e. bugs) in your code\u001b[0m\u001b[0;34m\u001b[0m\u001b[0;34m\u001b[0m\u001b[0m\n\u001b[0;32m---> 19\u001b[0;31m \u001b[0mfull_name\u001b[0m \u001b[0;34m+\u001b[0m \u001b[0mstart_balance\u001b[0m\u001b[0;34m\u001b[0m\u001b[0m\n\u001b[0m",
      "\u001b[0;31mTypeError\u001b[0m: must be str, not int"
     ]
    }
   ],
   "source": [
    "# create a variable called first_name and assign it to your first name as a string\n",
    "first_name = \"Marlena\"\n",
    "\n",
    "# create a variable called last_name and assign it to your last name as a string\n",
    "last_name = \"Duda\"\n",
    "\n",
    "# Now, concatenate (i.e. add) first_name with last_name and assign it a variable called full_name\n",
    "full_name = first_name + last_name\n",
    "\n",
    "# print full_name. Does this look like you expect? How can you fix the formatting so it makes sense?\n",
    "print(full_name)\n",
    "\n",
    "full_name = first_name + \" \" + last_name\n",
    "print(full_name)\n",
    "\n",
    "# now try to add full_name to the variable start_balance from above. Does this work?\n",
    "# read the error message you get carefully! \n",
    "# learning how to read error messages will give you the keys to fix mistakes (i.e. bugs) in your code\n",
    "full_name + start_balance\n"
   ]
  },
  {
   "cell_type": "markdown",
   "metadata": {
    "colab_type": "text",
    "id": "uzE681JbAQhX"
   },
   "source": [
    "Lastly, let's use Python to create a personalized investment report. \n",
    "\n",
    "We know that we cannot simply add integers, floats, or booleans to strings. But in terms of printing, there are a few ways we can handle the formatting to enable printing of mixed types in the same message. \n",
    "\n",
    "### Method 1 - type conversion\n",
    "Numeric types and booleans can be converted to strings using the `str()` function. "
   ]
  },
  {
   "cell_type": "code",
   "execution_count": 5,
   "metadata": {
    "colab": {},
    "colab_type": "code",
    "id": "DLhNTBX9AQhY"
   },
   "outputs": [
    {
     "name": "stdout",
     "output_type": "stream",
     "text": [
      "ABC123\n",
      "LMNOP8.91\n",
      "XYZTrue\n"
     ]
    }
   ],
   "source": [
    "print('ABC' + str(123))\n",
    "print('LMNOP' + str(8.910))\n",
    "print('XYZ' + str(True))"
   ]
  },
  {
   "cell_type": "markdown",
   "metadata": {
    "colab_type": "text",
    "id": "Ki6NJbpXAQhf"
   },
   "source": [
    "Some strings can also be converted to other types (if they make sense) using the `int()`, `float()`, and `bool()` functions. "
   ]
  },
  {
   "cell_type": "code",
   "execution_count": 6,
   "metadata": {
    "colab": {},
    "colab_type": "code",
    "id": "I1hLe-FvAQhg"
   },
   "outputs": [
    {
     "name": "stdout",
     "output_type": "stream",
     "text": [
      "9\n",
      "4.6\n",
      "1\n"
     ]
    }
   ],
   "source": [
    "print(4 + int('5'))\n",
    "print(1.2 + float(\"3.4\"))\n",
    "print(False + bool('True'))"
   ]
  },
  {
   "cell_type": "markdown",
   "metadata": {
    "colab_type": "text",
    "id": "laceLTnuAQhm"
   },
   "source": [
    "### Method 2 - multiple parameters in `print` function\n",
    "The `print` function takes multiple parameters (i.e. inputs), which can be of mixed type and are separated by commas. "
   ]
  },
  {
   "cell_type": "code",
   "execution_count": 7,
   "metadata": {
    "colab": {},
    "colab_type": "code",
    "id": "aaSBlzpFAQhn"
   },
   "outputs": [
    {
     "name": "stdout",
     "output_type": "stream",
     "text": [
      "I have 1 dog and 2 cats\n",
      "I ate 2.5 ice cream sandwiches\n",
      "Those statements are both True\n"
     ]
    }
   ],
   "source": [
    "print(\"I have\", 1 , \"dog and\", 2, \"cats\")\n",
    "print(\"I ate\", 2.5, \"ice cream sandwiches\")\n",
    "print(\"Those statements are both\", True)"
   ]
  },
  {
   "cell_type": "markdown",
   "metadata": {
    "colab_type": "text",
    "id": "HWDI495EAQhr"
   },
   "source": [
    "Notice that when using multiple parameters in the `print` functon, Python automatically puts spaces between the different inputs, but when using the type conversion method there are no automatic spaces added. \n",
    "\n",
    "Now, use either of the above methods to print a report that matches the following format:\n",
    "\n",
    "    Customer Name: Marlena Duda\n",
    "    Starting Balance: $100\n",
    "Years Saved: 7\n",
    "Ending Balance: $194.87\n",
    "    Doubled Starting: False\n",
    "\n",
    "Remember: Use the variable names we defined above whenever you can! "
   ]
  },
  {
   "cell_type": "code",
   "execution_count": 8,
   "metadata": {
    "colab": {},
    "colab_type": "code",
    "id": "qDU2ZGrTAQhs"
   },
   "outputs": [
    {
     "name": "stdout",
     "output_type": "stream",
     "text": [
      "Customer Name: Marlena Duda\n",
      "Starting Balance: $100\n",
      "Years Saved: 7\n",
      "Ending Balance: $194.87171000000012\n",
      "Doubled Starting: False\n"
     ]
    }
   ],
   "source": [
    "# HINT: remember the spacing rules above!\n",
    "print('Customer Name:', full_name)\n",
    "print('Starting Balance: $' + str(start_balance))\n",
    "print('Years Saved:', years)\n",
    "print('Ending Balance: $' + str(total))\n",
    "print('Doubled Starting:', doubled)"
   ]
  },
  {
   "cell_type": "code",
   "execution_count": null,
   "metadata": {
    "collapsed": true
   },
   "outputs": [],
   "source": []
  }
 ],
 "metadata": {
  "kernelspec": {
   "display_name": "Python 3",
   "language": "python",
   "name": "python3"
  },
  "language_info": {
   "codemirror_mode": {
    "name": "ipython",
    "version": 3
   },
   "file_extension": ".py",
   "mimetype": "text/x-python",
   "name": "python",
   "nbconvert_exporter": "python",
   "pygments_lexer": "ipython3",
   "version": "3.6.1"
  }
 },
 "nbformat": 4,
 "nbformat_minor": 1
}