{
 "cells": [
  {
   "cell_type": "markdown",
   "metadata": {
    "colab_type": "text",
    "id": "xcQa0bA3AhWZ"
   },
   "source": [
    "# Practice with lists!\n",
    "**Remember:**\n",
    "* Lists can be used to group different values together - it's just a collection of things.\n",
    "* You can make a list in Python by putting different things in a box of brackets `[]` separated by commas.\n",
    "\n",
    "First, make a list of pets including cat, dog, turtle, and any other pets you want to include. Store it in the variable `pets`:"
   ]
  },
  {
   "cell_type": "code",
   "execution_count": 1,
   "metadata": {
    "colab": {
     "base_uri": "https://localhost:8080/",
     "height": 34
    },
    "colab_type": "code",
    "executionInfo": {
     "elapsed": 550,
     "status": "ok",
     "timestamp": 1563150156423,
     "user": {
      "displayName": "Kelly Sovacool",
      "photoUrl": "https://lh3.googleusercontent.com/-WQsOgn6cXFg/AAAAAAAAAAI/AAAAAAAAAVA/ol7X28qyOHc/s64/photo.jpg",
      "userId": "07259925140867310896"
     },
     "user_tz": 240
    },
    "id": "Gf1oDsHKAhWb",
    "outputId": "56363961-c4c0-4b5c-a7a5-0cd63b15dbe4"
   },
   "outputs": [
    {
     "name": "stdout",
     "output_type": "stream",
     "text": [
      "['dog', 'cat', 'turtle']\n"
     ]
    }
   ],
   "source": [
    "# command Python to make a list of pets including dog, cat, and turtle. Store it in pets\n",
    "pets = ['dog','cat','turtle']\n",
    "# command Python to print pets\n",
    "print(pets)"
   ]
  },
  {
   "cell_type": "markdown",
   "metadata": {
    "colab_type": "text",
    "id": "P8dv29cCAhWj"
   },
   "source": [
    "How many things are in your `pets` list?"
   ]
  },
  {
   "cell_type": "code",
   "execution_count": 2,
   "metadata": {
    "colab": {
     "base_uri": "https://localhost:8080/",
     "height": 34
    },
    "colab_type": "code",
    "executionInfo": {
     "elapsed": 531,
     "status": "ok",
     "timestamp": 1563150156427,
     "user": {
      "displayName": "Kelly Sovacool",
      "photoUrl": "https://lh3.googleusercontent.com/-WQsOgn6cXFg/AAAAAAAAAAI/AAAAAAAAAVA/ol7X28qyOHc/s64/photo.jpg",
      "userId": "07259925140867310896"
     },
     "user_tz": 240
    },
    "id": "D0ES6PLKAhWk",
    "outputId": "1c858a52-ff9f-4f75-cc25-1f70f72b9e4e"
   },
   "outputs": [
    {
     "name": "stdout",
     "output_type": "stream",
     "text": [
      "3\n"
     ]
    }
   ],
   "source": [
    "# command Python to print the length of pets\n",
    "print(len(pets))"
   ]
  },
  {
   "cell_type": "markdown",
   "metadata": {
    "colab_type": "text",
    "id": "eewurcpfAhWo"
   },
   "source": [
    "Add another pet (snake) to your pets list. (Note that you know 2 ways to do this! As a challenge, try to remember both ways!)\n",
    "Print out the list and find the length of the list."
   ]
  },
  {
   "cell_type": "code",
   "execution_count": 3,
   "metadata": {
    "colab": {
     "base_uri": "https://localhost:8080/",
     "height": 51
    },
    "colab_type": "code",
    "executionInfo": {
     "elapsed": 515,
     "status": "ok",
     "timestamp": 1563150156429,
     "user": {
      "displayName": "Kelly Sovacool",
      "photoUrl": "https://lh3.googleusercontent.com/-WQsOgn6cXFg/AAAAAAAAAAI/AAAAAAAAAVA/ol7X28qyOHc/s64/photo.jpg",
      "userId": "07259925140867310896"
     },
     "user_tz": 240
    },
    "id": "I4O2qOfAAhWp",
    "outputId": "81db8f9d-5317-4128-c51b-b7406f9477e1"
   },
   "outputs": [
    {
     "name": "stdout",
     "output_type": "stream",
     "text": [
      "['dog', 'cat', 'turtle', 'snake']\n",
      "4\n"
     ]
    }
   ],
   "source": [
    "# command Python to add 'snake' to your pets list \n",
    "# (challenge:  find 2 ways to do this)\n",
    "pets.append('snake')\n",
    "# command Python to print pets\n",
    "print(pets)\n",
    "# command Python to find the length of pets\n",
    "print(len(pets))"
   ]
  },
  {
   "cell_type": "markdown",
   "metadata": {
    "colab_type": "text",
    "id": "7p2mIGNjAhWt"
   },
   "source": [
    "Now let's make a list of numbers. Make a list of at least 5 numbers:"
   ]
  },
  {
   "cell_type": "code",
   "execution_count": 4,
   "metadata": {
    "colab": {
     "base_uri": "https://localhost:8080/",
     "height": 51
    },
    "colab_type": "code",
    "executionInfo": {
     "elapsed": 496,
     "status": "ok",
     "timestamp": 1563150156430,
     "user": {
      "displayName": "Kelly Sovacool",
      "photoUrl": "https://lh3.googleusercontent.com/-WQsOgn6cXFg/AAAAAAAAAAI/AAAAAAAAAVA/ol7X28qyOHc/s64/photo.jpg",
      "userId": "07259925140867310896"
     },
     "user_tz": 240
    },
    "id": "kZSdfVHoAhWu",
    "outputId": "52584711-f54e-4adf-87c0-cdb9a73b9f86"
   },
   "outputs": [
    {
     "name": "stdout",
     "output_type": "stream",
     "text": [
      "[0, 1, 2, 3, 4]\n",
      "5\n"
     ]
    }
   ],
   "source": [
    "# command Python to make a list of at least 5 numbers\n",
    "numbers = [0,1,2,3,4]\n",
    "# command Python to print the list of numbers\n",
    "print(numbers)\n",
    "# command Python to print the length of numbers\n",
    "print(len(numbers))"
   ]
  },
  {
   "cell_type": "markdown",
   "metadata": {
    "colab_type": "text",
    "id": "DMJWaLotAhWx"
   },
   "source": [
    "Add your two lists (pets and numbers) together:"
   ]
  },
  {
   "cell_type": "code",
   "execution_count": 5,
   "metadata": {
    "colab": {
     "base_uri": "https://localhost:8080/",
     "height": 34
    },
    "colab_type": "code",
    "executionInfo": {
     "elapsed": 478,
     "status": "ok",
     "timestamp": 1563150156435,
     "user": {
      "displayName": "Kelly Sovacool",
      "photoUrl": "https://lh3.googleusercontent.com/-WQsOgn6cXFg/AAAAAAAAAAI/AAAAAAAAAVA/ol7X28qyOHc/s64/photo.jpg",
      "userId": "07259925140867310896"
     },
     "user_tz": 240
    },
    "id": "eDlXUjxGAhWz",
    "outputId": "83a059ce-2ff7-488a-a15a-86e2a12435ff"
   },
   "outputs": [
    {
     "data": {
      "text/plain": [
       "['dog', 'cat', 'turtle', 'snake', 0, 1, 2, 3, 4]"
      ]
     },
     "execution_count": 5,
     "metadata": {
      "tags": []
     },
     "output_type": "execute_result"
    }
   ],
   "source": [
    "# command python to add pets and numbers\n",
    "pets + numbers"
   ]
  },
  {
   "cell_type": "markdown",
   "metadata": {
    "colab_type": "text",
    "id": "e1TPyhyTAhW4"
   },
   "source": [
    "Assign the value 3.14 to the variable pi:"
   ]
  },
  {
   "cell_type": "code",
   "execution_count": null,
   "metadata": {
    "colab": {},
    "colab_type": "code",
    "id": "obiXMMX0AhW5"
   },
   "outputs": [],
   "source": [
    "# assign the value 3.14 to the variable pi\n",
    "pi = 3.14"
   ]
  },
  {
   "cell_type": "markdown",
   "metadata": {
    "colab_type": "text",
    "id": "An4Nenh6AhW7"
   },
   "source": [
    "Add the variable pi to the list numbers:"
   ]
  },
  {
   "cell_type": "code",
   "execution_count": 7,
   "metadata": {
    "colab": {
     "base_uri": "https://localhost:8080/",
     "height": 51
    },
    "colab_type": "code",
    "executionInfo": {
     "elapsed": 465,
     "status": "ok",
     "timestamp": 1563150156441,
     "user": {
      "displayName": "Kelly Sovacool",
      "photoUrl": "https://lh3.googleusercontent.com/-WQsOgn6cXFg/AAAAAAAAAAI/AAAAAAAAAVA/ol7X28qyOHc/s64/photo.jpg",
      "userId": "07259925140867310896"
     },
     "user_tz": 240
    },
    "id": "yt14aF8iAhW8",
    "outputId": "d9a8e17b-b10d-4850-ae37-8c8281c054e0"
   },
   "outputs": [
    {
     "name": "stdout",
     "output_type": "stream",
     "text": [
      "[0, 1, 2, 3, 4, 3.14]\n",
      "6\n"
     ]
    }
   ],
   "source": [
    "# add pi to numbers\n",
    "numbers.append(pi)\n",
    "# print numbers\n",
    "print(numbers)\n",
    "# print the length of numbers\n",
    "print(len(numbers))"
   ]
  },
  {
   "cell_type": "markdown",
   "metadata": {
    "colab_type": "text",
    "id": "5r11TNACAhXA"
   },
   "source": [
    "What happens if you add pi to numbers again?"
   ]
  },
  {
   "cell_type": "code",
   "execution_count": 8,
   "metadata": {
    "colab": {
     "base_uri": "https://localhost:8080/",
     "height": 51
    },
    "colab_type": "code",
    "executionInfo": {
     "elapsed": 446,
     "status": "ok",
     "timestamp": 1563150156442,
     "user": {
      "displayName": "Kelly Sovacool",
      "photoUrl": "https://lh3.googleusercontent.com/-WQsOgn6cXFg/AAAAAAAAAAI/AAAAAAAAAVA/ol7X28qyOHc/s64/photo.jpg",
      "userId": "07259925140867310896"
     },
     "user_tz": 240
    },
    "id": "6i-xQrySAhXB",
    "outputId": "d5ce6bf8-fb15-4e43-9de1-31ff7b61d0dc"
   },
   "outputs": [
    {
     "name": "stdout",
     "output_type": "stream",
     "text": [
      "[0, 1, 2, 3, 4, 3.14, 3.14]\n",
      "7\n"
     ]
    }
   ],
   "source": [
    "# add pi to numbers again\n",
    "numbers.append(pi)\n",
    "# print numbers\n",
    "print(numbers)\n",
    "# print the length of numbers\n",
    "print(len(numbers))"
   ]
  },
  {
   "cell_type": "markdown",
   "metadata": {
    "colab_type": "text",
    "id": "Zlz8EKAPAhXF"
   },
   "source": [
    "Add two more numbers to your numbers list at the same time:"
   ]
  },
  {
   "cell_type": "code",
   "execution_count": 9,
   "metadata": {
    "colab": {
     "base_uri": "https://localhost:8080/",
     "height": 85
    },
    "colab_type": "code",
    "executionInfo": {
     "elapsed": 430,
     "status": "ok",
     "timestamp": 1563150156443,
     "user": {
      "displayName": "Kelly Sovacool",
      "photoUrl": "https://lh3.googleusercontent.com/-WQsOgn6cXFg/AAAAAAAAAAI/AAAAAAAAAVA/ol7X28qyOHc/s64/photo.jpg",
      "userId": "07259925140867310896"
     },
     "user_tz": 240
    },
    "id": "nP_5rvizAhXG",
    "outputId": "bcafa7ad-b381-4c7a-a240-5d12a8e5fcc2"
   },
   "outputs": [
    {
     "name": "stdout",
     "output_type": "stream",
     "text": [
      "[0, 1, 2, 3, 4, 3.14, 3.14]\n",
      "7\n",
      "[0, 1, 2, 3, 4, 3.14, 3.14, 1, 2]\n",
      "9\n"
     ]
    }
   ],
   "source": [
    "# print your numbers list\n",
    "print(numbers)\n",
    "# print the length of your numbers list\n",
    "print(len(numbers))\n",
    "# add 2 numbers (your choice) to your numbers list\n",
    "numbers = numbers + [1,2]\n",
    "# print your numbers list\n",
    "print(numbers)\n",
    "# print the length of numbers\n",
    "print(len(numbers))"
   ]
  },
  {
   "cell_type": "markdown",
   "metadata": {
    "colab_type": "text",
    "id": "hpPow02aAhXK"
   },
   "source": [
    "**Challenge:** Duplicate your list of pets so that it contains 2 of every pet in your list (ex. 2 dogs, 2 cats, etc.). *Hint:* use the `*` operator."
   ]
  },
  {
   "cell_type": "code",
   "execution_count": 10,
   "metadata": {
    "colab": {
     "base_uri": "https://localhost:8080/",
     "height": 34
    },
    "colab_type": "code",
    "executionInfo": {
     "elapsed": 547,
     "status": "ok",
     "timestamp": 1563150156589,
     "user": {
      "displayName": "Kelly Sovacool",
      "photoUrl": "https://lh3.googleusercontent.com/-WQsOgn6cXFg/AAAAAAAAAAI/AAAAAAAAAVA/ol7X28qyOHc/s64/photo.jpg",
      "userId": "07259925140867310896"
     },
     "user_tz": 240
    },
    "id": "GE1hnuP_AhXL",
    "outputId": "f49bca95-3652-4406-9535-bcf48f467912"
   },
   "outputs": [
    {
     "data": {
      "text/plain": [
       "['dog', 'cat', 'turtle', 'snake', 'dog', 'cat', 'turtle', 'snake']"
      ]
     },
     "execution_count": 10,
     "metadata": {
      "tags": []
     },
     "output_type": "execute_result"
    }
   ],
   "source": [
    "# duplicate list of pets\n",
    "pets*2"
   ]
  },
  {
   "cell_type": "markdown",
   "metadata": {
    "colab_type": "text",
    "id": "AMOcVaBeAhXR"
   },
   "source": [
    "Nice job! You just practiced:\n",
    "* Making a list ([])\n",
    "* Finding the length of a list (len)\n",
    "* Adding lists together (+)\n",
    "* Adding things to a list (.append)"
   ]
  }
 ],
 "metadata": {
  "kernelspec": {
   "display_name": "Python 3",
   "language": "python",
   "name": "python3"
  },
  "language_info": {
   "codemirror_mode": {
    "name": "ipython",
    "version": 3
   },
   "file_extension": ".py",
   "mimetype": "text/x-python",
   "name": "python",
   "nbconvert_exporter": "python",
   "pygments_lexer": "ipython3",
   "version": "3.7.3"
  }
 },
 "nbformat": 4,
 "nbformat_minor": 4
}