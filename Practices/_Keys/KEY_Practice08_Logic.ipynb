{
 "cells": [
  {
   "cell_type": "markdown",
   "metadata": {
    "colab_type": "text",
    "id": "U2apyU_eLgsh"
   },
   "source": [
    "# Practice with logic\n",
    "\n",
    "We will practice:\n",
    "- using conditional operators to create booleans\n",
    "- identifying conditional operators that are opposite\n",
    "- using keywords like not, is, and, or"
   ]
  },
  {
   "cell_type": "markdown",
   "metadata": {
    "colab_type": "text",
    "id": "dQ4zqVHMK4_r"
   },
   "source": [
    "Pretend we are having a Girls Who Code party! We want to order cupcakes and brownies for the party so that we can enjoy some sweet treats together. \n",
    "\n",
    "At the start of our planning, we have 25 guests attending. We have already baked 10 cupcakes and 10 brownies."
   ]
  },
  {
   "cell_type": "code",
   "execution_count": 1,
   "metadata": {
    "colab": {},
    "colab_type": "code",
    "id": "3zLbYcgOLgsl"
   },
   "outputs": [],
   "source": [
    "cupcakes = 10\n",
    "brownies = 10\n",
    "\n",
    "guests = 25"
   ]
  },
  {
   "cell_type": "markdown",
   "metadata": {
    "colab_type": "text",
    "id": "wBBnFvMQMNns"
   },
   "source": [
    "Everyone coming to the party wants at least one cupcake and at least one brownie. Therefore, to have enough cupcakes and brownies, we want the number of each to be *at least* the number of guests. "
   ]
  },
  {
   "cell_type": "code",
   "execution_count": 7,
   "metadata": {
    "colab": {
     "base_uri": "https://localhost:8080/",
     "height": 52
    },
    "colab_type": "code",
    "executionInfo": {
     "elapsed": 406,
     "status": "ok",
     "timestamp": 1567263492506,
     "user": {
      "displayName": "Morgan Oneka",
      "photoUrl": "https://lh3.googleusercontent.com/a-/AAuE7mDDNp7vRaJ72dq-10S667W0tZyfdBWiE2NavfHt=s64",
      "userId": "08973921413298125078"
     },
     "user_tz": 240
    },
    "id": "iC9fv0aSK2YE",
    "outputId": "4c3a91fe-1d50-45dc-d44a-da4cfbe08b66"
   },
   "outputs": [
    {
     "name": "stdout",
     "output_type": "stream",
     "text": [
      "False\n",
      "False\n"
     ]
    }
   ],
   "source": [
    "# create a boolean that tells us if we have enough cupcakes; save in enough_cupcakes\n",
    "enough_cupcakes = cupcakes >= guests\n",
    "# print enough_cupcakes\n",
    "print(enough_cupcakes)\n",
    "\n",
    "# create a boolean that tells us if we have enough brownies; save in enough_brownies\n",
    "enough_brownies = brownies >= guests\n",
    "# print enough_brownies\n",
    "print(enough_brownies)"
   ]
  },
  {
   "cell_type": "markdown",
   "metadata": {
    "colab_type": "text",
    "id": "vo5LFbdpL5Bq"
   },
   "source": [
    "We have enough food if we have enough cupcakes **and** we have enough brownies. Do we have enough food for the party?"
   ]
  },
  {
   "cell_type": "code",
   "execution_count": 12,
   "metadata": {
    "colab": {
     "base_uri": "https://localhost:8080/",
     "height": 34
    },
    "colab_type": "code",
    "executionInfo": {
     "elapsed": 397,
     "status": "ok",
     "timestamp": 1567264329491,
     "user": {
      "displayName": "Morgan Oneka",
      "photoUrl": "https://lh3.googleusercontent.com/a-/AAuE7mDDNp7vRaJ72dq-10S667W0tZyfdBWiE2NavfHt=s64",
      "userId": "08973921413298125078"
     },
     "user_tz": 240
    },
    "id": "MIAgKSkyLu9m",
    "outputId": "615fe40e-78ba-4e3e-d49c-7ad1f810b623"
   },
   "outputs": [
    {
     "name": "stdout",
     "output_type": "stream",
     "text": [
      "False\n"
     ]
    }
   ],
   "source": [
    "# create a boolean called enough_food that says if we are ready for the party\n",
    "enough_food = enough_cupcakes and enough_brownies\n",
    "\n",
    "# print enough_food\n",
    "print(enough_food)"
   ]
  },
  {
   "cell_type": "markdown",
   "metadata": {
    "colab_type": "text",
    "id": "C49dznz-NGVZ"
   },
   "source": [
    "The night before the party, we get busy baking, and we make 20 more cupcakes. Are we ready now?"
   ]
  },
  {
   "cell_type": "code",
   "execution_count": 13,
   "metadata": {
    "colab": {
     "base_uri": "https://localhost:8080/",
     "height": 34
    },
    "colab_type": "code",
    "executionInfo": {
     "elapsed": 311,
     "status": "ok",
     "timestamp": 1567264336999,
     "user": {
      "displayName": "Morgan Oneka",
      "photoUrl": "https://lh3.googleusercontent.com/a-/AAuE7mDDNp7vRaJ72dq-10S667W0tZyfdBWiE2NavfHt=s64",
      "userId": "08973921413298125078"
     },
     "user_tz": 240
    },
    "id": "8ffGzb03L3xH",
    "outputId": "30e04bd1-5078-4143-d398-2c6363cda306"
   },
   "outputs": [
    {
     "name": "stdout",
     "output_type": "stream",
     "text": [
      "False\n"
     ]
    }
   ],
   "source": [
    "# add 20 to cupcakes\n",
    "cupcakes = cupcakes + 20\n",
    "\n",
    "# re-calculate enough_cupcakes\n",
    "enough_cupcakes = cupcakes >= guests\n",
    "\n",
    "# re-calculate enough_food\n",
    "enough_food = enough_cupcakes and enough_brownies\n",
    "\n",
    "# print enough_food\n",
    "print(enough_food)"
   ]
  },
  {
   "cell_type": "markdown",
   "metadata": {
    "colab_type": "text",
    "id": "dYtH9qMgORTw"
   },
   "source": [
    "We also want to order party hats for the party. Hats can be expensive, so we don't want to order more than we need, but we also want everyone to have one. "
   ]
  },
  {
   "cell_type": "code",
   "execution_count": 11,
   "metadata": {
    "colab": {
     "base_uri": "https://localhost:8080/",
     "height": 34
    },
    "colab_type": "code",
    "executionInfo": {
     "elapsed": 286,
     "status": "ok",
     "timestamp": 1567264284994,
     "user": {
      "displayName": "Morgan Oneka",
      "photoUrl": "https://lh3.googleusercontent.com/a-/AAuE7mDDNp7vRaJ72dq-10S667W0tZyfdBWiE2NavfHt=s64",
      "userId": "08973921413298125078"
     },
     "user_tz": 240
    },
    "id": "g7O2IitUOKGP",
    "outputId": "ea79192f-e0a6-4afb-af6a-ce49ac36cd52"
   },
   "outputs": [
    {
     "name": "stdout",
     "output_type": "stream",
     "text": [
      "True\n"
     ]
    }
   ],
   "source": [
    "# create a variable called hats and set it equal to 25\n",
    "hats = 25\n",
    "\n",
    "# create a boolean that determines if hats equals guests, and store it in enough_hats\n",
    "enough_hats = hats is guests\n",
    "\n",
    "# print enough_hats\n",
    "print(enough_hats)"
   ]
  },
  {
   "cell_type": "markdown",
   "metadata": {
    "colab_type": "text",
    "id": "AqXYEVsYPAzz"
   },
   "source": [
    "We are ready for the party when we have enough food **and** when we have enough hats. Are we ready for the party?"
   ]
  },
  {
   "cell_type": "code",
   "execution_count": 14,
   "metadata": {
    "colab": {
     "base_uri": "https://localhost:8080/",
     "height": 34
    },
    "colab_type": "code",
    "executionInfo": {
     "elapsed": 350,
     "status": "ok",
     "timestamp": 1567264403539,
     "user": {
      "displayName": "Morgan Oneka",
      "photoUrl": "https://lh3.googleusercontent.com/a-/AAuE7mDDNp7vRaJ72dq-10S667W0tZyfdBWiE2NavfHt=s64",
      "userId": "08973921413298125078"
     },
     "user_tz": 240
    },
    "id": "s1GWafjDOx-1",
    "outputId": "a0b75e92-d0b4-4de9-f5e4-a5e25b0984c8"
   },
   "outputs": [
    {
     "name": "stdout",
     "output_type": "stream",
     "text": [
      "False\n"
     ]
    }
   ],
   "source": [
    "# create a variable called ready that says if we have enough food and enough hats\n",
    "ready = enough_food and enough_hats\n",
    "\n",
    "# print ready\n",
    "print(ready)"
   ]
  },
  {
   "cell_type": "code",
   "execution_count": 18,
   "metadata": {
    "colab": {
     "base_uri": "https://localhost:8080/",
     "height": 34
    },
    "colab_type": "code",
    "executionInfo": {
     "elapsed": 270,
     "status": "ok",
     "timestamp": 1567264484800,
     "user": {
      "displayName": "Morgan Oneka",
      "photoUrl": "https://lh3.googleusercontent.com/a-/AAuE7mDDNp7vRaJ72dq-10S667W0tZyfdBWiE2NavfHt=s64",
      "userId": "08973921413298125078"
     },
     "user_tz": 240
    },
    "id": "I2sHi3RPPO6R",
    "outputId": "a9fb6470-fdef-4ea0-eef2-9c448400ad56"
   },
   "outputs": [
    {
     "name": "stdout",
     "output_type": "stream",
     "text": [
      "True\n"
     ]
    }
   ],
   "source": [
    "# add 30 to brownies\n",
    "brownies = brownies + 30\n",
    "\n",
    "# re-calculate enough_brownies, enough_food and ready\n",
    "enough_brownies = brownies >= guests\n",
    "enough_food = enough_brownies and enough_cupcakes\n",
    "ready = enough_food and enough_hats\n",
    "\n",
    "# print ready\n",
    "print(ready)"
   ]
  }
 ],
 "metadata": {
  "kernelspec": {
   "display_name": "Python 3",
   "language": "python",
   "name": "python3"
  },
  "language_info": {
   "codemirror_mode": {
    "name": "ipython",
    "version": 3
   },
   "file_extension": ".py",
   "mimetype": "text/x-python",
   "name": "python",
   "nbconvert_exporter": "python",
   "pygments_lexer": "ipython3",
   "version": "3.7.3"
  }
 },
 "nbformat": 4,
 "nbformat_minor": 4
}