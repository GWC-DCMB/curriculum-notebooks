{
 "nbformat": 4,
 "nbformat_minor": 0,
 "metadata": {
  "language_info": {
   "codemirror_mode": {
    "name": "ipython",
    "version": 3
   },
   "file_extension": ".py",
   "mimetype": "text/x-python",
   "name": "python",
   "nbconvert_exporter": "python",
   "pygments_lexer": "ipython3",
   "version": "3.7.3"
  },
  "kernelspec": {
   "display_name": "Python 3",
   "language": "python",
   "name": "python3"
  }
 },
 "cells": [
  {
   "cell_type": "markdown",
   "metadata": {
    "id": "NL_SDxh0BZHW",
    "colab_type": "text"
   },
   "source": [
    "# Practice with functions and methods!\n",
    "**Remember:**\n",
    "* Functions and methods take an input, do something with the input, and return an output\n",
    "* Functions can take arguments that modify the output of the function\n",
    "* Methods are specific to ceratin object types"
   ]
  },
  {
   "cell_type": "markdown",
   "metadata": {
    "id": "Cf_PGQ0PBZHY",
    "colab_type": "text"
   },
   "source": [
    "Let's use the functions we learned on a new list of numbers:"
   ]
  },
  {
   "cell_type": "code",
   "metadata": {
    "id": "xsDbufyeBZHZ",
    "colab_type": "code",
    "colab": {
     "base_uri": "https://localhost:8080/",
     "height": 54
    },
    "outputId": "209c01f7-a37f-4712-b890-a728439b8b98",
    "executionInfo": {
     "status": "ok",
     "timestamp": 1563150372018,
     "user_tz": 240,
     "elapsed": 498,
     "user": {
      "displayName": "Kelly Sovacool",
      "photoUrl": "https://lh3.googleusercontent.com/-WQsOgn6cXFg/AAAAAAAAAAI/AAAAAAAAAVA/ol7X28qyOHc/s64/photo.jpg",
      "userId": "07259925140867310896"
     }
    }
   },
   "source": [
    "# make list of numbers\n",
    "numbers = [-1.98109433,  0.4853873,  -0.36403664, -0.59780583,  0.11605985, -0.03363619,\n",
    "  0.07866253, -0.91272715, -0.17107551, -0.18762688,  1.72405448,  1.45011427,\n",
    "  1.78252183,  0.33430701, -0.65456432, -0.75685282,  0.6597416,   0.31665978,\n",
    " -0.89478975,  0.32167438,  1.04937506, -1.22575797, -0.53536782, -0.95484705,\n",
    " -1.18471148,  0.39326952, -1.46043887, -0.6158524,  -1.38622398, -0.08476239]\n",
    "\n",
    "# print numbers\n",
    "print(numbers)"
   ],
   "execution_count": 1,
   "outputs": [
    {
     "output_type": "stream",
     "text": [
      "[-1.98109433, 0.4853873, -0.36403664, -0.59780583, 0.11605985, -0.03363619, 0.07866253, -0.91272715, -0.17107551, -0.18762688, 1.72405448, 1.45011427, 1.78252183, 0.33430701, -0.65456432, -0.75685282, 0.6597416, 0.31665978, -0.89478975, 0.32167438, 1.04937506, -1.22575797, -0.53536782, -0.95484705, -1.18471148, 0.39326952, -1.46043887, -0.6158524, -1.38622398, -0.08476239]\n"
     ],
     "name": "stdout"
    }
   ]
  },
  {
   "cell_type": "markdown",
   "metadata": {
    "id": "qMtQMW0BBZHi",
    "colab_type": "text"
   },
   "source": [
    "How many elements are in `numbers`?"
   ]
  },
  {
   "cell_type": "code",
   "metadata": {
    "id": "PSzF4G10BZHj",
    "colab_type": "code",
    "colab": {
     "base_uri": "https://localhost:8080/",
     "height": 34
    },
    "outputId": "57ff091e-7917-47dd-cf3d-6042ce320930",
    "executionInfo": {
     "status": "ok",
     "timestamp": 1563150372290,
     "user_tz": 240,
     "elapsed": 754,
     "user": {
      "displayName": "Kelly Sovacool",
      "photoUrl": "https://lh3.googleusercontent.com/-WQsOgn6cXFg/AAAAAAAAAAI/AAAAAAAAAVA/ol7X28qyOHc/s64/photo.jpg",
      "userId": "07259925140867310896"
     }
    }
   },
   "source": [
    "# print length of numbers\n",
    "len(numbers)"
   ],
   "execution_count": 2,
   "outputs": [
    {
     "output_type": "execute_result",
     "data": {
      "text/plain": [
       "30"
      ]
     },
     "metadata": {
      "tags": []
     },
     "execution_count": 2
    }
   ]
  },
  {
   "cell_type": "markdown",
   "metadata": {
    "id": "FmgHnTJABZHo",
    "colab_type": "text"
   },
   "source": [
    "What is the sum of `numbers`?"
   ]
  },
  {
   "cell_type": "code",
   "metadata": {
    "id": "vKMQxgwDBZHo",
    "colab_type": "code",
    "colab": {
     "base_uri": "https://localhost:8080/",
     "height": 34
    },
    "outputId": "1c352095-f8f8-4f25-93ed-94c0442dd36a",
    "executionInfo": {
     "status": "ok",
     "timestamp": 1563150372292,
     "user_tz": 240,
     "elapsed": 736,
     "user": {
      "displayName": "Kelly Sovacool",
      "photoUrl": "https://lh3.googleusercontent.com/-WQsOgn6cXFg/AAAAAAAAAAI/AAAAAAAAAVA/ol7X28qyOHc/s64/photo.jpg",
      "userId": "07259925140867310896"
     }
    }
   },
   "source": [
    "# get the number of elements in numbers\n",
    "sum(numbers)"
   ],
   "execution_count": 3,
   "outputs": [
    {
     "output_type": "execute_result",
     "data": {
      "text/plain": [
       "-5.29034377"
      ]
     },
     "metadata": {
      "tags": []
     },
     "execution_count": 3
    }
   ]
  },
  {
   "cell_type": "markdown",
   "metadata": {
    "id": "kqs_LDs5BZHs",
    "colab_type": "text"
   },
   "source": [
    "What about the minimum and maximum values in `numbers`?"
   ]
  },
  {
   "cell_type": "code",
   "metadata": {
    "id": "BZd5W1ZhBZHt",
    "colab_type": "code",
    "colab": {
     "base_uri": "https://localhost:8080/",
     "height": 51
    },
    "outputId": "d3b41d7f-5ab5-4d09-b941-afe39b3e7bcd",
    "executionInfo": {
     "status": "ok",
     "timestamp": 1563150372294,
     "user_tz": 240,
     "elapsed": 712,
     "user": {
      "displayName": "Kelly Sovacool",
      "photoUrl": "https://lh3.googleusercontent.com/-WQsOgn6cXFg/AAAAAAAAAAI/AAAAAAAAAVA/ol7X28qyOHc/s64/photo.jpg",
      "userId": "07259925140867310896"
     }
    }
   },
   "source": [
    "# command Python to print the minimum of numbers\n",
    "print(min(numbers))\n",
    "# command Python to print the maximum of numbers\n",
    "print(max(numbers))"
   ],
   "execution_count": 4,
   "outputs": [
    {
     "output_type": "stream",
     "text": [
      "-1.98109433\n",
      "1.78252183\n"
     ],
     "name": "stdout"
    }
   ]
  },
  {
   "cell_type": "markdown",
   "metadata": {
    "id": "joCrPRoABZHw",
    "colab_type": "text"
   },
   "source": [
    "Get the absolute value the first element in `numbers`."
   ]
  },
  {
   "cell_type": "code",
   "metadata": {
    "id": "YfjwSV41BZHx",
    "colab_type": "code",
    "colab": {
     "base_uri": "https://localhost:8080/",
     "height": 34
    },
    "outputId": "b8a6aaec-e693-499b-e99c-9938b1ef1b8a",
    "executionInfo": {
     "status": "ok",
     "timestamp": 1563150372295,
     "user_tz": 240,
     "elapsed": 694,
     "user": {
      "displayName": "Kelly Sovacool",
      "photoUrl": "https://lh3.googleusercontent.com/-WQsOgn6cXFg/AAAAAAAAAAI/AAAAAAAAAVA/ol7X28qyOHc/s64/photo.jpg",
      "userId": "07259925140867310896"
     }
    }
   },
   "source": [
    "# get the absolute value\n",
    "abs(numbers[0])"
   ],
   "execution_count": 5,
   "outputs": [
    {
     "output_type": "execute_result",
     "data": {
      "text/plain": [
       "1.98109433"
      ]
     },
     "metadata": {
      "tags": []
     },
     "execution_count": 5
    }
   ]
  },
  {
   "cell_type": "markdown",
   "metadata": {
    "id": "Ob5-slWRBZH2",
    "colab_type": "text"
   },
   "source": [
    "Find the mean of numbers and save it to `avg`."
   ]
  },
  {
   "cell_type": "code",
   "metadata": {
    "id": "n_8H_QniBZH3",
    "colab_type": "code",
    "colab": {
     "base_uri": "https://localhost:8080/",
     "height": 34
    },
    "outputId": "32ed51e9-bbe5-4ba7-e6d6-9249bd5973cd",
    "executionInfo": {
     "status": "ok",
     "timestamp": 1563150372299,
     "user_tz": 240,
     "elapsed": 682,
     "user": {
      "displayName": "Kelly Sovacool",
      "photoUrl": "https://lh3.googleusercontent.com/-WQsOgn6cXFg/AAAAAAAAAAI/AAAAAAAAAVA/ol7X28qyOHc/s64/photo.jpg",
      "userId": "07259925140867310896"
     }
    }
   },
   "source": [
    "# get mean of numbers and save to avg\n",
    "avg = sum(numbers)/len(numbers)\n",
    "\n",
    "# print avg\n",
    "print(avg)"
   ],
   "execution_count": 6,
   "outputs": [
    {
     "output_type": "stream",
     "text": [
      "-0.17634479233333333\n"
     ],
     "name": "stdout"
    }
   ]
  },
  {
   "cell_type": "markdown",
   "metadata": {
    "id": "rl0owzHaBZH8",
    "colab_type": "text"
   },
   "source": [
    "Round `avg` to 2 decimal places:"
   ]
  },
  {
   "cell_type": "code",
   "metadata": {
    "id": "q8KlMFYIBZH_",
    "colab_type": "code",
    "colab": {
     "base_uri": "https://localhost:8080/",
     "height": 34
    },
    "outputId": "10d0c929-3926-431a-a33a-35a64a08f5a4",
    "executionInfo": {
     "status": "ok",
     "timestamp": 1563150372301,
     "user_tz": 240,
     "elapsed": 668,
     "user": {
      "displayName": "Kelly Sovacool",
      "photoUrl": "https://lh3.googleusercontent.com/-WQsOgn6cXFg/AAAAAAAAAAI/AAAAAAAAAVA/ol7X28qyOHc/s64/photo.jpg",
      "userId": "07259925140867310896"
     }
    }
   },
   "source": [
    "# command Python to round the first element in numbers\n",
    "round(avg,2)"
   ],
   "execution_count": 7,
   "outputs": [
    {
     "output_type": "execute_result",
     "data": {
      "text/plain": [
       "-0.18"
      ]
     },
     "metadata": {
      "tags": []
     },
     "execution_count": 7
    }
   ]
  },
  {
   "cell_type": "markdown",
   "metadata": {
    "id": "8187pPfzBZID",
    "colab_type": "text"
   },
   "source": [
    "**Challenge:** Let's work with our `animals` list:"
   ]
  },
  {
   "cell_type": "code",
   "metadata": {
    "id": "JhipBQRIBZIE",
    "colab_type": "code",
    "colab": {
     "base_uri": "https://localhost:8080/",
     "height": 34
    },
    "outputId": "a1fb8ef9-f35e-4849-818d-ada2932651c5",
    "executionInfo": {
     "status": "ok",
     "timestamp": 1563150372302,
     "user_tz": 240,
     "elapsed": 652,
     "user": {
      "displayName": "Kelly Sovacool",
      "photoUrl": "https://lh3.googleusercontent.com/-WQsOgn6cXFg/AAAAAAAAAAI/AAAAAAAAAVA/ol7X28qyOHc/s64/photo.jpg",
      "userId": "07259925140867310896"
     }
    }
   },
   "source": [
    "# command Python to make a list of animals\n",
    "animals = [['cat','dog','elephant'],\n",
    "           ['fish','seahorse','whale'],\n",
    "           ['robin', 'cardinal', 'bat']]\n",
    "\n",
    "# command Python to print animals\n",
    "print(animals)"
   ],
   "execution_count": 8,
   "outputs": [
    {
     "output_type": "stream",
     "text": [
      "[['cat', 'dog', 'elephant'], ['fish', 'seahorse', 'whale'], ['robin', 'cardinal', 'bat']]\n"
     ],
     "name": "stdout"
    }
   ]
  },
  {
   "cell_type": "markdown",
   "metadata": {
    "id": "KxgfsTZJBZIH",
    "colab_type": "text"
   },
   "source": [
    "What is the max of `animals`? Does this make sense?"
   ]
  },
  {
   "cell_type": "code",
   "metadata": {
    "id": "R59MeJ0eBZII",
    "colab_type": "code",
    "colab": {
     "base_uri": "https://localhost:8080/",
     "height": 34
    },
    "outputId": "87598ba3-59ee-425b-c2b5-e7be6a5aeb0e",
    "executionInfo": {
     "status": "ok",
     "timestamp": 1563150372304,
     "user_tz": 240,
     "elapsed": 640,
     "user": {
      "displayName": "Kelly Sovacool",
      "photoUrl": "https://lh3.googleusercontent.com/-WQsOgn6cXFg/AAAAAAAAAAI/AAAAAAAAAVA/ol7X28qyOHc/s64/photo.jpg",
      "userId": "07259925140867310896"
     }
    }
   },
   "source": [
    "# command Python to get the max of animals\n",
    "print(max(animals))"
   ],
   "execution_count": 9,
   "outputs": [
    {
     "output_type": "stream",
     "text": [
      "['robin', 'cardinal', 'bat']\n"
     ],
     "name": "stdout"
    }
   ]
  },
  {
   "cell_type": "markdown",
   "metadata": {
    "id": "4Hkos4ynBZIL",
    "colab_type": "text"
   },
   "source": [
    "What is the maximum of the land animals?"
   ]
  },
  {
   "cell_type": "code",
   "metadata": {
    "id": "6eCB6oE-BZIM",
    "colab_type": "code",
    "colab": {
     "base_uri": "https://localhost:8080/",
     "height": 34
    },
    "outputId": "47f6474a-3127-4c27-91aa-1dc300216680",
    "executionInfo": {
     "status": "ok",
     "timestamp": 1563150372305,
     "user_tz": 240,
     "elapsed": 625,
     "user": {
      "displayName": "Kelly Sovacool",
      "photoUrl": "https://lh3.googleusercontent.com/-WQsOgn6cXFg/AAAAAAAAAAI/AAAAAAAAAVA/ol7X28qyOHc/s64/photo.jpg",
      "userId": "07259925140867310896"
     }
    }
   },
   "source": [
    "# command Python to get the maximum of the land animals\n",
    "max(animals[0])"
   ],
   "execution_count": 10,
   "outputs": [
    {
     "output_type": "execute_result",
     "data": {
      "text/plain": [
       "'elephant'"
      ]
     },
     "metadata": {
      "tags": []
     },
     "execution_count": 10
    }
   ]
  },
  {
   "cell_type": "markdown",
   "metadata": {
    "id": "hHDSRxzdBZIP",
    "colab_type": "text"
   },
   "source": [
    "What is the maximum of cat in the `animals` list? Use indexing to get cat."
   ]
  },
  {
   "cell_type": "code",
   "metadata": {
    "id": "bgzZAF6OBZIQ",
    "colab_type": "code",
    "colab": {
     "base_uri": "https://localhost:8080/",
     "height": 34
    },
    "outputId": "96b5e30a-52ab-474b-bb67-127951f0e56e",
    "executionInfo": {
     "status": "ok",
     "timestamp": 1563150372308,
     "user_tz": 240,
     "elapsed": 612,
     "user": {
      "displayName": "Kelly Sovacool",
      "photoUrl": "https://lh3.googleusercontent.com/-WQsOgn6cXFg/AAAAAAAAAAI/AAAAAAAAAVA/ol7X28qyOHc/s64/photo.jpg",
      "userId": "07259925140867310896"
     }
    }
   },
   "source": [
    "# print the max of cat\n",
    "max(animals[0][0])"
   ],
   "execution_count": 11,
   "outputs": [
    {
     "output_type": "execute_result",
     "data": {
      "text/plain": [
       "'t'"
      ]
     },
     "metadata": {
      "tags": []
     },
     "execution_count": 11
    }
   ]
  },
  {
   "cell_type": "markdown",
   "metadata": {
    "id": "bjF2_Q2xBZIU",
    "colab_type": "text"
   },
   "source": [
    "Nice job! You just practiced:\n",
    "* Using functions\n",
    "* Indexing lists\n",
    "* Saving things to variables"
   ]
  }
 ]
}