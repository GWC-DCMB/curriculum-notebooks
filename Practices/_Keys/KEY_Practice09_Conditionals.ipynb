{
 "cells": [
  {
   "cell_type": "markdown",
   "metadata": {
    "colab_type": "text",
    "id": "kW_Z5ADkQILF"
   },
   "source": [
    "# Practice with conditionals\n",
    "\n",
    "Before we practice conditionals, let's review:\n",
    "\n",
    "To execute a command when a condition is true, use `if`:\n",
    "\n",
    "```\n",
    "if [condition]:\n",
    "  [command]\n",
    "```\n",
    "\n",
    "To execute a command when a condition is true, and execute something else otherwise, use `if/else`:\n",
    "```\n",
    "if [condition]:\n",
    "  [command 1]\n",
    "else:\n",
    "  [command 2]\n",
    "```\n",
    "\n",
    "To execute a command when one condition is true, a different command if a second condition is true, and execute something else otherwise, use `if/elif/else`:\n",
    "```\n",
    "if [condition 1]:\n",
    "  [command 1]\n",
    "elif [condition 2]:\n",
    "  [command 2]\n",
    "else:\n",
    "  [command 3]\n",
    "```\n",
    "\n",
    "Remember that commands in an `elif` will only run if the first condition is false AND the second condition is true."
   ]
  },
  {
   "cell_type": "markdown",
   "metadata": {
    "colab_type": "text",
    "id": "QQrx5kD0Y9GI"
   },
   "source": [
    "Let's say we are making a smoothie. In order to make a big enough smoothie, we want at least 4 cups of ingredients."
   ]
  },
  {
   "cell_type": "code",
   "execution_count": null,
   "metadata": {
    "colab": {},
    "colab_type": "code",
    "id": "hOVZPKp8QILK"
   },
   "outputs": [],
   "source": [
    "strawberries = 1\n",
    "bananas = 0.5\n",
    "milk = 1\n",
    "\n",
    "# create a variable ingredients that equals the sum of all our ingredients\n",
    "ingredients = strawberries + bananas + milk\n",
    "\n",
    "# write an if statement that prints out \"We have enough ingredients!\" if we have at least 4 cups of ingredients\n",
    "if ingredients >= 4:\n",
    "    print(\"We have enough ingredients!\")"
   ]
  },
  {
   "cell_type": "markdown",
   "metadata": {
    "colab_type": "text",
    "id": "KeH_OrzCI8fT"
   },
   "source": [
    "The code above will let us know if we have enough ingredients for our smoothie. But, if we don't have enough ingredients, the code won't print anything. Our code would be more informative if it also told us when we didn't have enough ingredients. Next, let's write code that also lets us know when we _don't_ have enough ingredients."
   ]
  },
  {
   "cell_type": "code",
   "execution_count": 3,
   "metadata": {
    "colab": {
     "base_uri": "https://localhost:8080/",
     "height": 34
    },
    "colab_type": "code",
    "executionInfo": {
     "elapsed": 376,
     "status": "ok",
     "timestamp": 1567346794597,
     "user": {
      "displayName": "Morgan Oneka",
      "photoUrl": "https://lh3.googleusercontent.com/a-/AAuE7mDDNp7vRaJ72dq-10S667W0tZyfdBWiE2NavfHt=s64",
      "userId": "08973921413298125078"
     },
     "user_tz": 240
    },
    "id": "XGq4kCRA9gaK",
    "outputId": "124bad0f-7233-440e-80b6-2524aef5c8ba"
   },
   "outputs": [
    {
     "name": "stdout",
     "output_type": "stream",
     "text": [
      "We do not have enough ingredients.\n"
     ]
    }
   ],
   "source": [
    "# write code that prints \"We have enough ingredients\" if we have at least 4 cups of ingredients\n",
    "# and also prints \"We don't have enough ingredients\" if we have less than 4 cups of ingredients\n",
    "if ingredients >=4:\n",
    "    print(\"We have enough ingredients!\")\n",
    "else:\n",
    "    print(\"We do not have enough ingredients.\")"
   ]
  },
  {
   "cell_type": "markdown",
   "metadata": {
    "colab_type": "text",
    "id": "XHzYAJiOKReC"
   },
   "source": [
    "It might also be useful to know if we have exactly 4 cups of ingredients. Add to the code above so that it lets us know when we have more than enough ingredients, exactly enough ingredients, or not enough ingredients."
   ]
  },
  {
   "cell_type": "code",
   "execution_count": 13,
   "metadata": {
    "colab": {
     "base_uri": "https://localhost:8080/",
     "height": 34
    },
    "colab_type": "code",
    "executionInfo": {
     "elapsed": 353,
     "status": "ok",
     "timestamp": 1567310344195,
     "user": {
      "displayName": "Morgan Oneka",
      "photoUrl": "https://lh3.googleusercontent.com/a-/AAuE7mDDNp7vRaJ72dq-10S667W0tZyfdBWiE2NavfHt=s64",
      "userId": "08973921413298125078"
     },
     "user_tz": 240
    },
    "id": "E3-NQxXM-ETO",
    "outputId": "d3ab9ff4-4cee-4783-e25a-e2f7a82b17e4"
   },
   "outputs": [
    {
     "name": "stdout",
     "output_type": "stream",
     "text": [
      "we have exactly enough ingredients\n"
     ]
    }
   ],
   "source": [
    "# write code that prints informative messages when we have more than 4 cups of ingredients,\n",
    "# exactly 4 cups of ingredients, or less than 4 cups of ingredients\n",
    "if ingredients > 4:\n",
    "    print(\"we have more than enough ingredients\")\n",
    "elif ingredients is 4:\n",
    "    print(\"we have exactly enough ingredients\")\n",
    "else:\n",
    "    print(\"we do not have enough ingredients\")"
   ]
  },
  {
   "cell_type": "markdown",
   "metadata": {
    "colab_type": "text",
    "id": "PvtwWnrUJn6A"
   },
   "source": [
    "**Challenge**: Suppose our blender can only fit up to 6 cups inside. Add to the above code so that it also warns us when we have too many ingredients."
   ]
  },
  {
   "cell_type": "code",
   "execution_count": null,
   "metadata": {
    "colab": {},
    "colab_type": "code",
    "id": "EXw_M7R5-XD4"
   },
   "outputs": [],
   "source": [
    "# write an if/elif/else style statement that does the following:\n",
    "# prints a message when we have exactly 4 cups of ingredients saying we have exactly the right amount of ingredients\n",
    "# prints a message when we have less than 4 cups of ingredients say we do not have enough \n",
    "# prints a message when we have 4-6 cups of ingredients saying we have more than enough\n",
    "# prints a message otherwise that says we have too many ingredients \n",
    "if ingredients is 4:\n",
    "    print(\"we have exactly enough ingredients\")\n",
    "elif ingredients < 4:\n",
    "    print(\"we do not have enough ingredients\")\n",
    "elif ingredients > 4 and ingredients < 6:\n",
    "    print(\"we have more than enough ingredients\")\n",
    "else:\n",
    "    print(\"We have too many ingredients\")"
   ]
  }
 ],
 "metadata": {
  "kernelspec": {
   "display_name": "Python 3",
   "language": "python",
   "name": "python3"
  },
  "language_info": {
   "codemirror_mode": {
    "name": "ipython",
    "version": 3
   },
   "file_extension": ".py",
   "mimetype": "text/x-python",
   "name": "python",
   "nbconvert_exporter": "python",
   "pygments_lexer": "ipython3",
   "version": "3.7.3"
  }
 },
 "nbformat": 4,
 "nbformat_minor": 4
}