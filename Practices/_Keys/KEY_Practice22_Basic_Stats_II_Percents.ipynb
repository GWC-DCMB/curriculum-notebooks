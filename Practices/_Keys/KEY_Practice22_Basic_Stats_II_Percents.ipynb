{
 "nbformat": 4,
 "nbformat_minor": 0,
 "metadata": {
  "kernelspec": {
   "display_name": "Python 3",
   "language": "python",
   "name": "python3"
  },
  "language_info": {
   "codemirror_mode": {
    "name": "ipython",
    "version": 3
   },
   "file_extension": ".py",
   "mimetype": "text/x-python",
   "name": "python",
   "nbconvert_exporter": "python",
   "pygments_lexer": "ipython3",
   "version": "3.6.1"
  }
 },
 "cells": [
  {
   "cell_type": "markdown",
   "metadata": {
    "id": "xVWUKuriyh9Y",
    "colab_type": "text"
   },
   "source": [
    "For this practice, let's use the California housing dataset."
   ]
  },
  {
   "cell_type": "code",
   "metadata": {
    "id": "Qof-5_iZyh9c",
    "colab_type": "code",
    "colab": {}
   },
   "source": [
    "# Import the fetch_california_housing method & load the data\n",
    "from sklearn.datasets import fetch_california_housing\n",
    "california = fetch_california_housing()"
   ],
   "execution_count": 0,
   "outputs": []
  },
  {
   "cell_type": "code",
   "metadata": {
    "id": "HSEmetYAyh9j",
    "colab_type": "code",
    "colab": {}
   },
   "source": [
    "# Import pandas, so that we can work with the data frame version of the California housing dataset\n",
    "import pandas as pd"
   ],
   "execution_count": 0,
   "outputs": []
  },
  {
   "cell_type": "code",
   "metadata": {
    "id": "uaf7hgsoyh9r",
    "colab_type": "code",
    "colab": {
     "base_uri": "https://localhost:8080/",
     "height": 706
    },
    "outputId": "af5649ed-d69e-493d-a53d-e5985e11b79e"
   },
   "source": [
    "# Print the characteristics of the California housing dataset\n",
    "print(california.DESCR)"
   ],
   "execution_count": 3,
   "outputs": [
    {
     "output_type": "stream",
     "text": [
      ".. _california_housing_dataset:\n",
      "\n",
      "California Housing dataset\n",
      "--------------------------\n",
      "\n",
      "**Data Set Characteristics:**\n",
      "\n",
      "    :Number of Instances: 20640\n",
      "\n",
      "    :Number of Attributes: 8 numeric, predictive attributes and the target\n",
      "\n",
      "    :Attribute Information:\n",
      "        - MedInc        median income in block\n",
      "        - HouseAge      median house age in block\n",
      "        - AveRooms      average number of rooms\n",
      "        - AveBedrms     average number of bedrooms\n",
      "        - Population    block population\n",
      "        - AveOccup      average house occupancy\n",
      "        - Latitude      house block latitude\n",
      "        - Longitude     house block longitude\n",
      "\n",
      "    :Missing Attribute Values: None\n",
      "\n",
      "This dataset was obtained from the StatLib repository.\n",
      "http://lib.stat.cmu.edu/datasets/\n",
      "\n",
      "The target variable is the median house value for California districts.\n",
      "\n",
      "This dataset was derived from the 1990 U.S. census, using one row per census\n",
      "block group. A block group is the smallest geographical unit for which the U.S.\n",
      "Census Bureau publishes sample data (a block group typically has a population\n",
      "of 600 to 3,000 people).\n",
      "\n",
      "It can be downloaded/loaded using the\n",
      ":func:`sklearn.datasets.fetch_california_housing` function.\n",
      "\n",
      ".. topic:: References\n",
      "\n",
      "    - Pace, R. Kelley and Ronald Barry, Sparse Spatial Autoregressions,\n",
      "      Statistics and Probability Letters, 33 (1997) 291-297\n",
      "\n"
     ],
     "name": "stdout"
    }
   ]
  },
  {
   "cell_type": "code",
   "metadata": {
    "id": "LLwKfeU6yh9u",
    "colab_type": "code",
    "colab": {
     "base_uri": "https://localhost:8080/",
     "height": 402
    },
    "outputId": "0c9e9a87-bcf1-41b9-b71c-2ec98b361627"
   },
   "source": [
    "# Convert the California housing data to a dataframe format so it's easier to view and process\n",
    "california_df = pd.DataFrame(california['data'], columns = california['feature_names'])\n",
    "california_df['HouseValue'] = california['target']\n",
    "california_df"
   ],
   "execution_count": 22,
   "outputs": [
    {
     "output_type": "execute_result",
     "data": {
      "text/html": [
       "<div>\n",
       "<style scoped>\n",
       "    .dataframe tbody tr th:only-of-type {\n",
       "        vertical-align: middle;\n",
       "    }\n",
       "\n",
       "    .dataframe tbody tr th {\n",
       "        vertical-align: top;\n",
       "    }\n",
       "\n",
       "    .dataframe thead th {\n",
       "        text-align: right;\n",
       "    }\n",
       "</style>\n",
       "<table border=\"1\" class=\"dataframe\">\n",
       "  <thead>\n",
       "    <tr style=\"text-align: right;\">\n",
       "      <th></th>\n",
       "      <th>MedInc</th>\n",
       "      <th>HouseAge</th>\n",
       "      <th>AveRooms</th>\n",
       "      <th>AveBedrms</th>\n",
       "      <th>Population</th>\n",
       "      <th>AveOccup</th>\n",
       "      <th>Latitude</th>\n",
       "      <th>Longitude</th>\n",
       "      <th>HouseValue</th>\n",
       "    </tr>\n",
       "  </thead>\n",
       "  <tbody>\n",
       "    <tr>\n",
       "      <th>0</th>\n",
       "      <td>8.3252</td>\n",
       "      <td>41.0</td>\n",
       "      <td>6.984127</td>\n",
       "      <td>1.023810</td>\n",
       "      <td>322.0</td>\n",
       "      <td>2.555556</td>\n",
       "      <td>37.88</td>\n",
       "      <td>-122.23</td>\n",
       "      <td>4.526</td>\n",
       "    </tr>\n",
       "    <tr>\n",
       "      <th>1</th>\n",
       "      <td>8.3014</td>\n",
       "      <td>21.0</td>\n",
       "      <td>6.238137</td>\n",
       "      <td>0.971880</td>\n",
       "      <td>2401.0</td>\n",
       "      <td>2.109842</td>\n",
       "      <td>37.86</td>\n",
       "      <td>-122.22</td>\n",
       "      <td>3.585</td>\n",
       "    </tr>\n",
       "    <tr>\n",
       "      <th>2</th>\n",
       "      <td>7.2574</td>\n",
       "      <td>52.0</td>\n",
       "      <td>8.288136</td>\n",
       "      <td>1.073446</td>\n",
       "      <td>496.0</td>\n",
       "      <td>2.802260</td>\n",
       "      <td>37.85</td>\n",
       "      <td>-122.24</td>\n",
       "      <td>3.521</td>\n",
       "    </tr>\n",
       "    <tr>\n",
       "      <th>3</th>\n",
       "      <td>5.6431</td>\n",
       "      <td>52.0</td>\n",
       "      <td>5.817352</td>\n",
       "      <td>1.073059</td>\n",
       "      <td>558.0</td>\n",
       "      <td>2.547945</td>\n",
       "      <td>37.85</td>\n",
       "      <td>-122.25</td>\n",
       "      <td>3.413</td>\n",
       "    </tr>\n",
       "    <tr>\n",
       "      <th>4</th>\n",
       "      <td>3.8462</td>\n",
       "      <td>52.0</td>\n",
       "      <td>6.281853</td>\n",
       "      <td>1.081081</td>\n",
       "      <td>565.0</td>\n",
       "      <td>2.181467</td>\n",
       "      <td>37.85</td>\n",
       "      <td>-122.25</td>\n",
       "      <td>3.422</td>\n",
       "    </tr>\n",
       "    <tr>\n",
       "      <th>...</th>\n",
       "      <td>...</td>\n",
       "      <td>...</td>\n",
       "      <td>...</td>\n",
       "      <td>...</td>\n",
       "      <td>...</td>\n",
       "      <td>...</td>\n",
       "      <td>...</td>\n",
       "      <td>...</td>\n",
       "      <td>...</td>\n",
       "    </tr>\n",
       "    <tr>\n",
       "      <th>20635</th>\n",
       "      <td>1.5603</td>\n",
       "      <td>25.0</td>\n",
       "      <td>5.045455</td>\n",
       "      <td>1.133333</td>\n",
       "      <td>845.0</td>\n",
       "      <td>2.560606</td>\n",
       "      <td>39.48</td>\n",
       "      <td>-121.09</td>\n",
       "      <td>0.781</td>\n",
       "    </tr>\n",
       "    <tr>\n",
       "      <th>20636</th>\n",
       "      <td>2.5568</td>\n",
       "      <td>18.0</td>\n",
       "      <td>6.114035</td>\n",
       "      <td>1.315789</td>\n",
       "      <td>356.0</td>\n",
       "      <td>3.122807</td>\n",
       "      <td>39.49</td>\n",
       "      <td>-121.21</td>\n",
       "      <td>0.771</td>\n",
       "    </tr>\n",
       "    <tr>\n",
       "      <th>20637</th>\n",
       "      <td>1.7000</td>\n",
       "      <td>17.0</td>\n",
       "      <td>5.205543</td>\n",
       "      <td>1.120092</td>\n",
       "      <td>1007.0</td>\n",
       "      <td>2.325635</td>\n",
       "      <td>39.43</td>\n",
       "      <td>-121.22</td>\n",
       "      <td>0.923</td>\n",
       "    </tr>\n",
       "    <tr>\n",
       "      <th>20638</th>\n",
       "      <td>1.8672</td>\n",
       "      <td>18.0</td>\n",
       "      <td>5.329513</td>\n",
       "      <td>1.171920</td>\n",
       "      <td>741.0</td>\n",
       "      <td>2.123209</td>\n",
       "      <td>39.43</td>\n",
       "      <td>-121.32</td>\n",
       "      <td>0.847</td>\n",
       "    </tr>\n",
       "    <tr>\n",
       "      <th>20639</th>\n",
       "      <td>2.3886</td>\n",
       "      <td>16.0</td>\n",
       "      <td>5.254717</td>\n",
       "      <td>1.162264</td>\n",
       "      <td>1387.0</td>\n",
       "      <td>2.616981</td>\n",
       "      <td>39.37</td>\n",
       "      <td>-121.24</td>\n",
       "      <td>0.894</td>\n",
       "    </tr>\n",
       "  </tbody>\n",
       "</table>\n",
       "<p>20640 rows \u00d7 9 columns</p>\n",
       "</div>"
      ],
      "text/plain": [
       "       MedInc  HouseAge  AveRooms  ...  Latitude  Longitude  HouseValue\n",
       "0      8.3252      41.0  6.984127  ...     37.88    -122.23       4.526\n",
       "1      8.3014      21.0  6.238137  ...     37.86    -122.22       3.585\n",
       "2      7.2574      52.0  8.288136  ...     37.85    -122.24       3.521\n",
       "3      5.6431      52.0  5.817352  ...     37.85    -122.25       3.413\n",
       "4      3.8462      52.0  6.281853  ...     37.85    -122.25       3.422\n",
       "...       ...       ...       ...  ...       ...        ...         ...\n",
       "20635  1.5603      25.0  5.045455  ...     39.48    -121.09       0.781\n",
       "20636  2.5568      18.0  6.114035  ...     39.49    -121.21       0.771\n",
       "20637  1.7000      17.0  5.205543  ...     39.43    -121.22       0.923\n",
       "20638  1.8672      18.0  5.329513  ...     39.43    -121.32       0.847\n",
       "20639  2.3886      16.0  5.254717  ...     39.37    -121.24       0.894\n",
       "\n",
       "[20640 rows x 9 columns]"
      ]
     },
     "metadata": {
      "tags": []
     },
     "execution_count": 22
    }
   ]
  },
  {
   "cell_type": "markdown",
   "metadata": {
    "id": "l5TYSMnzyh9y",
    "colab_type": "text"
   },
   "source": [
    "Determine the percentage of recently built houses (i.e. houses with an age less than 10 years). "
   ]
  },
  {
   "cell_type": "code",
   "metadata": {
    "id": "miQVsTKoyh9z",
    "colab_type": "code",
    "colab": {
     "base_uri": "https://localhost:8080/",
     "height": 34
    },
    "outputId": "8aa0cdd3-d343-4d78-b7bf-67e1d8fec334"
   },
   "source": [
    "# Using the boolean array method, \n",
    "# get the number of houses less than 10 years old \n",
    "num_new_houses = sum(california_df['HouseAge'] < 10)\n",
    "\n",
    "# Determine the total number of houses in the dataset\n",
    "total_num = len(california_df['HouseAge'])\n",
    "\n",
    "# Calculate the percentage of recently built houses.\n",
    "num_new_houses/total_num*100"
   ],
   "execution_count": 23,
   "outputs": [
    {
     "output_type": "execute_result",
     "data": {
      "text/plain": [
       "6.3226744186046515"
      ]
     },
     "metadata": {
      "tags": []
     },
     "execution_count": 23
    }
   ]
  },
  {
   "cell_type": "markdown",
   "metadata": {
    "id": "1nK1FY3tyh92",
    "colab_type": "text"
   },
   "source": [
    "What is the easiest way to calculate the percentage of houses that are 10 years or older? Try to do this in one line of code."
   ]
  },
  {
   "cell_type": "code",
   "metadata": {
    "id": "IQ3Aoki3yh94",
    "colab_type": "code",
    "colab": {
     "base_uri": "https://localhost:8080/",
     "height": 34
    },
    "outputId": "cf03c48a-56b5-4a40-aedf-07802f77e9f8"
   },
   "source": [
    "100 - num_new_houses/total_num*100"
   ],
   "execution_count": 24,
   "outputs": [
    {
     "output_type": "execute_result",
     "data": {
      "text/plain": [
       "93.67732558139535"
      ]
     },
     "metadata": {
      "tags": []
     },
     "execution_count": 24
    }
   ]
  },
  {
   "cell_type": "markdown",
   "metadata": {
    "id": "p8JGYiSKyh96",
    "colab_type": "text"
   },
   "source": [
    "That's right! Just take the difference from 100%."
   ]
  },
  {
   "cell_type": "markdown",
   "metadata": {
    "id": "qmG9wmZHyh97",
    "colab_type": "text"
   },
   "source": [
    "Now, let's double check this by calculating the percentage using comparison operators (<, >, =<, =>, !=, ==). "
   ]
  },
  {
   "cell_type": "code",
   "metadata": {
    "id": "YRomyfSiyh98",
    "colab_type": "code",
    "colab": {
     "base_uri": "https://localhost:8080/",
     "height": 34
    },
    "outputId": "0b0513b4-defe-4b90-fd8b-cacfa50ddfd2"
   },
   "source": [
    "# Determine number of houses with an age of 10 years or greater. \n",
    "num_old_houses = sum(california_df['HouseAge'] >= 10)\n",
    "\n",
    "# Calculate the percentage of older houses.\n",
    "num_old_houses/total_num*100"
   ],
   "execution_count": 25,
   "outputs": [
    {
     "output_type": "execute_result",
     "data": {
      "text/plain": [
       "93.67732558139535"
      ]
     },
     "metadata": {
      "tags": []
     },
     "execution_count": 25
    }
   ]
  },
  {
   "cell_type": "markdown",
   "metadata": {
    "id": "6s6QFb8Pyh-A",
    "colab_type": "text"
   },
   "source": [
    "Nicely done! "
   ]
  },
  {
   "cell_type": "markdown",
   "metadata": {
    "id": "EhRvR8sOyh-B",
    "colab_type": "text"
   },
   "source": [
    "Let's do another problem. Determine the percentages of houses that are **less than** 20 years old **AND** have an average value of **greater than or equal to** \\$80,000 (which is 0.8 in this data, HouseValue is in units of \\$100,000)."
   ]
  },
  {
   "cell_type": "markdown",
   "metadata": {
    "id": "ndULgnyxyh-B",
    "colab_type": "text"
   },
   "source": [
    "You'll be using logical operators (&, |) to solve this problem. The \"&\" operator signifies all conditions must be true, while \"|\" only requires one of the conditions to be true."
   ]
  },
  {
   "cell_type": "code",
   "metadata": {
    "id": "jySjyQ-oyh-C",
    "colab_type": "code",
    "colab": {
     "base_uri": "https://localhost:8080/",
     "height": 34
    },
    "outputId": "d6dc4c0c-1485-4cf2-a472-5676415217ff"
   },
   "source": [
    "# Determine number of houses with an age less than 20 years AND valued at $80,000 or more\n",
    "num_both = sum((california_df['HouseAge'] < 20) & (california_df['HouseValue'] >= 0.8))\n",
    "\n",
    "# Calculate the percentage of these houses meeting both conditions from the total.\n",
    "num_both/total_num*100"
   ],
   "execution_count": 26,
   "outputs": [
    {
     "output_type": "execute_result",
     "data": {
      "text/plain": [
       "26.148255813953487"
      ]
     },
     "metadata": {
      "tags": []
     },
     "execution_count": 26
    }
   ]
  },
  {
   "cell_type": "markdown",
   "metadata": {
    "id": "qEkEvxckbI6c",
    "colab_type": "text"
   },
   "source": [
    "Now we'll calculate the percentages of houses that are **less than** 20 years old **OR** have an average value of **greater than or equal to** 0.8."
   ]
  },
  {
   "cell_type": "code",
   "metadata": {
    "id": "7235Mdw_akNN",
    "colab_type": "code",
    "colab": {
     "base_uri": "https://localhost:8080/",
     "height": 34
    },
    "outputId": "ac961260-e0c9-4d33-f026-2c446f4bbebd"
   },
   "source": [
    "# Determine number of houses with an age less than 20 years OR cost $80,000 or more\n",
    "num_either = sum((california_df['HouseAge'] < 20) | (california_df['HouseValue'] >= 0.8))\n",
    "\n",
    "# Calculate the percentage of these houses meeting either condition from the total.\n",
    "num_either/total_num*100"
   ],
   "execution_count": 27,
   "outputs": [
    {
     "output_type": "execute_result",
     "data": {
      "text/plain": [
       "92.84399224806201"
      ]
     },
     "metadata": {
      "tags": []
     },
     "execution_count": 27
    }
   ]
  },
  {
   "cell_type": "markdown",
   "metadata": {
    "id": "w4I3mwX_azO0",
    "colab_type": "text"
   },
   "source": [
    "Why are these two results different?"
   ]
  },
  {
   "cell_type": "markdown",
   "metadata": {
    "id": "PWM5EHl8yh-O",
    "colab_type": "text"
   },
   "source": [
    "Nice work learning how to calculate percentages!"
   ]
  }
 ]
}