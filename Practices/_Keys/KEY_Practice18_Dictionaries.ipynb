{
 "cells": [
  {
   "cell_type": "markdown",
   "metadata": {},
   "source": [
    "# Dictionaries\n",
    "\n",
    "Now it's time to practice with dictionaries!\n",
    "\n",
    "Let's start by making a dictionary of relatives in your family. Make a dictionary where the keys are a relation (ex. mom, dad, sister, brother, uncle, aunt, cousin, etc.), and the values are the people's name(s) who are related to you in that way:"
   ]
  },
  {
   "cell_type": "code",
   "execution_count": 37,
   "metadata": {},
   "outputs": [
    {
     "name": "stdout",
     "output_type": "stream",
     "text": [
      "{'mom': 'carmen', 'dad': 'dan', 'sister': 'maya', 'brother': 'sam', 'uncle': ['russell', 'david'], 'aunt': ['helene', 'sharry', 'diana', 'debbie'], 'cousin': ['zane', 'nico', 'hannah', 'alyssa', 'zach', 'kamilya', 'ismail', 'saidi']}\n"
     ]
    }
   ],
   "source": [
    "# make dictionary of relations\n",
    "family = {'mom':'carmen',\n",
    "         'dad':'dan',\n",
    "         'sister':'maya',\n",
    "         'brother':'sam',\n",
    "         'uncle':['russell','david'],\n",
    "         'aunt':['helene','sharry','diana','debbie'],\n",
    "         'cousin':['zane','nico','hannah','alyssa','zach','kamilya','ismail','saidi']}\n",
    "\n",
    "# print out your dictionary\n",
    "print(family)"
   ]
  },
  {
   "cell_type": "markdown",
   "metadata": {},
   "source": [
    "Now access all your aunts:"
   ]
  },
  {
   "cell_type": "code",
   "execution_count": 38,
   "metadata": {},
   "outputs": [
    {
     "data": {
      "text/plain": [
       "['helene', 'sharry', 'diana', 'debbie']"
      ]
     },
     "execution_count": 38,
     "metadata": {},
     "output_type": "execute_result"
    }
   ],
   "source": [
    "# access all aunts in dictionary\n",
    "family['aunt']"
   ]
  },
  {
   "cell_type": "markdown",
   "metadata": {},
   "source": [
    "What if you don't remember all of the keys in your dictionary? How can you print them all out?"
   ]
  },
  {
   "cell_type": "code",
   "execution_count": 39,
   "metadata": {},
   "outputs": [
    {
     "data": {
      "text/plain": [
       "dict_keys(['mom', 'dad', 'sister', 'brother', 'uncle', 'aunt', 'cousin'])"
      ]
     },
     "execution_count": 39,
     "metadata": {},
     "output_type": "execute_result"
    }
   ],
   "source": [
    "# print all keys in dictionary\n",
    "family.keys()"
   ]
  },
  {
   "cell_type": "markdown",
   "metadata": {},
   "source": [
    "Now you've decided that you want to add some of your closest friends to the list too. Add a key-value pair to your dictionary with some of your closest friends:"
   ]
  },
  {
   "cell_type": "code",
   "execution_count": 40,
   "metadata": {},
   "outputs": [
    {
     "data": {
      "text/plain": [
       "{'aunt': ['helene', 'sharry', 'diana', 'debbie'],\n",
       " 'brother': 'sam',\n",
       " 'cousin': ['zane',\n",
       "  'nico',\n",
       "  'hannah',\n",
       "  'alyssa',\n",
       "  'zach',\n",
       "  'kamilya',\n",
       "  'ismail',\n",
       "  'saidi'],\n",
       " 'dad': 'dan',\n",
       " 'friends': ['brooke', 'marlena', 'kelly'],\n",
       " 'mom': 'carmen',\n",
       " 'sister': 'maya',\n",
       " 'uncle': ['russell', 'david']}"
      ]
     },
     "execution_count": 40,
     "metadata": {},
     "output_type": "execute_result"
    }
   ],
   "source": [
    "# add friends to dictionary\n",
    "family['friends'] = ['brooke','marlena','kelly']\n",
    "\n",
    "# print dictionary to see if it worked!\n",
    "\n",
    "family"
   ]
  },
  {
   "cell_type": "markdown",
   "metadata": {},
   "source": [
    "See how friends isn't at the end of the dictionary? That's a friendly reminder that dictionaries are *unordered*. \n",
    "\n",
    "Now let's loop through our dictionary and print out the name of the key and the length of the values (how many of that relation you have):"
   ]
  },
  {
   "cell_type": "code",
   "execution_count": 41,
   "metadata": {},
   "outputs": [
    {
     "name": "stdout",
     "output_type": "stream",
     "text": [
      "mom\n",
      "6\n",
      "dad\n",
      "3\n",
      "sister\n",
      "4\n",
      "brother\n",
      "3\n",
      "uncle\n",
      "2\n",
      "aunt\n",
      "4\n",
      "cousin\n",
      "8\n",
      "friends\n",
      "3\n"
     ]
    }
   ],
   "source": [
    "for k,v in family.items():\n",
    "    print(k)\n",
    "    print(len(v))"
   ]
  },
  {
   "cell_type": "markdown",
   "metadata": {},
   "source": [
    "**Challenge:** Let's add in a friend to our dictionary. How can we do that? (*Note:* We didn't learn this exact thing. Feel free to use Google if you need to!)"
   ]
  },
  {
   "cell_type": "code",
   "execution_count": 42,
   "metadata": {},
   "outputs": [
    {
     "name": "stdout",
     "output_type": "stream",
     "text": [
      "{'mom': 'carmen', 'dad': 'dan', 'sister': 'maya', 'brother': 'sam', 'uncle': ['russell', 'david'], 'aunt': ['helene', 'sharry', 'diana', 'debbie'], 'cousin': ['zane', 'nico', 'hannah', 'alyssa', 'zach', 'kamilya', 'ismail', 'saidi'], 'friends': ['brooke', 'marlena', 'kelly', 'stephanie']}\n"
     ]
    }
   ],
   "source": [
    "# add friend to friends key-value pair\n",
    "family['friends'].append('stephanie')\n",
    "\n",
    "# print dictionary to see if it worked\n",
    "print(family)"
   ]
  },
  {
   "cell_type": "markdown",
   "metadata": {},
   "source": [
    "Say we changed our mind and now we actually want our friends to be in a separate list. How could we do that using one line of Python code?"
   ]
  },
  {
   "cell_type": "code",
   "execution_count": 43,
   "metadata": {},
   "outputs": [
    {
     "name": "stdout",
     "output_type": "stream",
     "text": [
      "['brooke', 'marlena', 'kelly', 'stephanie']\n"
     ]
    }
   ],
   "source": [
    "# get friends out of dictionary\n",
    "friends = family.pop('friends')\n",
    "\n",
    "# print friends\n",
    "print(friends)"
   ]
  },
  {
   "cell_type": "markdown",
   "metadata": {},
   "source": [
    "Nice job! You're becoming an expert at accessing and manipulating keys and values in dictionaries. "
   ]
  }
 ],
 "metadata": {
  "kernelspec": {
   "display_name": "Python 3",
   "language": "python",
   "name": "python3"
  },
  "language_info": {
   "codemirror_mode": {
    "name": "ipython",
    "version": 3
   },
   "file_extension": ".py",
   "mimetype": "text/x-python",
   "name": "python",
   "nbconvert_exporter": "python",
   "pygments_lexer": "ipython3",
   "version": "3.6.9"
  }
 },
 "nbformat": 4,
 "nbformat_minor": 2
}
