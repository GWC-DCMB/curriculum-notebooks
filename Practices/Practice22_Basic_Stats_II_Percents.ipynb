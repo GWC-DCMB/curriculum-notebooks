{
 "nbformat": 4,
 "nbformat_minor": 0,
 "metadata": {
  "kernelspec": {
   "display_name": "Python 3",
   "language": "python",
   "name": "python3"
  },
  "language_info": {
   "codemirror_mode": {
    "name": "ipython",
    "version": 3
   },
   "file_extension": ".py",
   "mimetype": "text/x-python",
   "name": "python",
   "nbconvert_exporter": "python",
   "pygments_lexer": "ipython3",
   "version": "3.6.1"
  }
 },
 "cells": [
  {
   "cell_type": "markdown",
   "metadata": {
    "id": "xVWUKuriyh9Y",
    "colab_type": "text"
   },
   "source": [
    "For this practice, let's use the California housing dataset."
   ]
  },
  {
   "cell_type": "code",
   "metadata": {
    "id": "Qof-5_iZyh9c",
    "colab_type": "code",
    "colab": {}
   },
   "source": [
    "# Import the fetch_california_housing method & load the data\n",
    "from sklearn.datasets import fetch_california_housing\n",
    "california = fetch_california_housing()"
   ],
   "execution_count": 0,
   "outputs": []
  },
  {
   "cell_type": "code",
   "metadata": {
    "id": "HSEmetYAyh9j",
    "colab_type": "code",
    "colab": {}
   },
   "source": [
    "# Import pandas, so that we can work with the data frame version of the California housing dataset\n",
    "import pandas as pd"
   ],
   "execution_count": 0,
   "outputs": []
  },
  {
   "cell_type": "code",
   "metadata": {
    "id": "uaf7hgsoyh9r",
    "colab_type": "code",
    "colab": {}
   },
   "source": [
    "# Print the characteristics of the California housing dataset\n",
    "print(california.DESCR)"
   ],
   "execution_count": 0,
   "outputs": []
  },
  {
   "cell_type": "code",
   "metadata": {
    "id": "LLwKfeU6yh9u",
    "colab_type": "code",
    "colab": {}
   },
   "source": [
    "# Convert the California housing data to a dataframe format so it's easier to view and process\n",
    "california_df = pd.DataFrame(california['data'], columns = california['feature_names'])\n",
    "california_df['HouseValue'] = california['target']\n",
    "california_df"
   ],
   "execution_count": 0,
   "outputs": []
  },
  {
   "cell_type": "markdown",
   "metadata": {
    "id": "l5TYSMnzyh9y",
    "colab_type": "text"
   },
   "source": [
    "Determine the percentage of recently built houses (i.e. houses with an age less than 10 years). "
   ]
  },
  {
   "cell_type": "code",
   "metadata": {
    "id": "miQVsTKoyh9z",
    "colab_type": "code",
    "colab": {}
   },
   "source": [
    "# Using the boolean array method, \n",
    "# get the number of houses less than 10 years old \n",
    "\n",
    "\n",
    "# Determine the total number of houses in the dataset\n",
    "\n",
    "\n",
    "# Calculate the percentage of recently built houses.\n"
   ],
   "execution_count": 0,
   "outputs": []
  },
  {
   "cell_type": "markdown",
   "metadata": {
    "id": "1nK1FY3tyh92",
    "colab_type": "text"
   },
   "source": [
    "What is the easiest way to calculate the percentage of houses that are 10 years or older? Try to do this in one line of code."
   ]
  },
  {
   "cell_type": "code",
   "metadata": {
    "id": "IQ3Aoki3yh94",
    "colab_type": "code",
    "colab": {}
   },
   "source": [
    ""
   ],
   "execution_count": 0,
   "outputs": []
  },
  {
   "cell_type": "markdown",
   "metadata": {
    "id": "p8JGYiSKyh96",
    "colab_type": "text"
   },
   "source": [
    "That's right! Just take the difference from 100%."
   ]
  },
  {
   "cell_type": "markdown",
   "metadata": {
    "id": "qmG9wmZHyh97",
    "colab_type": "text"
   },
   "source": [
    "Now, let's double check this by calculating the percentage using comparison operators (<, >, =<, =>, !=, ==). "
   ]
  },
  {
   "cell_type": "code",
   "metadata": {
    "id": "YRomyfSiyh98",
    "colab_type": "code",
    "colab": {}
   },
   "source": [
    "# Determine number of houses with an age of 10 years or greater. \n",
    "\n",
    "\n",
    "# Calculate the percentage of older houses.\n"
   ],
   "execution_count": 0,
   "outputs": []
  },
  {
   "cell_type": "markdown",
   "metadata": {
    "id": "6s6QFb8Pyh-A",
    "colab_type": "text"
   },
   "source": [
    "Nicely done! "
   ]
  },
  {
   "cell_type": "markdown",
   "metadata": {
    "id": "EhRvR8sOyh-B",
    "colab_type": "text"
   },
   "source": [
    "Let's do another problem. Determine the percentages of houses that are **less than** 20 years old **AND** have an average value of **greater than or equal to** \\$80,000 (which is 0.8 in this data, HouseValue is in units of \\$100,000)."
   ]
  },
  {
   "cell_type": "markdown",
   "metadata": {
    "id": "ndULgnyxyh-B",
    "colab_type": "text"
   },
   "source": [
    "You'll be using logical operators (&, |) to solve this problem. The \"&\" operator signifies all conditions must be true, while \"|\" only requires one of the conditions to be true."
   ]
  },
  {
   "cell_type": "code",
   "metadata": {
    "id": "jySjyQ-oyh-C",
    "colab_type": "code",
    "colab": {}
   },
   "source": [
    "# Determine number of houses with an age less than 20 years AND valued at $80,000 or more\n",
    "\n",
    "\n",
    "# Calculate the percentage of these houses meeting both conditions from the total.\n"
   ],
   "execution_count": 0,
   "outputs": []
  },
  {
   "cell_type": "markdown",
   "metadata": {
    "id": "qEkEvxckbI6c",
    "colab_type": "text"
   },
   "source": [
    "Now we'll calculate the percentages of houses that are **less than** 20 years old **OR** have an average value of **greater than or equal to** 0.8."
   ]
  },
  {
   "cell_type": "code",
   "metadata": {
    "id": "7235Mdw_akNN",
    "colab_type": "code",
    "colab": {}
   },
   "source": [
    "# Determine number of houses with an age less than 20 years OR cost $80,000 or more\n",
    "\n",
    "\n",
    "# Calculate the percentage of these houses meeting either condition from the total.\n"
   ],
   "execution_count": 0,
   "outputs": []
  },
  {
   "cell_type": "markdown",
   "metadata": {
    "id": "w4I3mwX_azO0",
    "colab_type": "text"
   },
   "source": [
    "Why are these two results different?"
   ]
  },
  {
   "cell_type": "markdown",
   "metadata": {
    "id": "PWM5EHl8yh-O",
    "colab_type": "text"
   },
   "source": [
    "Nice work learning how to calculate percentages!"
   ]
  }
 ]
}