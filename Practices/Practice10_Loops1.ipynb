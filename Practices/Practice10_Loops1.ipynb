{
 "cells": [
  {
   "cell_type": "markdown",
   "metadata": {
    "colab_type": "text",
    "id": "TbhQtMLaQsq0"
   },
   "source": [
    "# Practice with loops\n",
    "\n",
    "In this practice, we will review:\n",
    "- how to iterate through a list with a loop\n",
    "- how to use the range function with loops\n",
    "- how to create a nested loop\n",
    "\n",
    "As you have seen, loops give us the ability to loop through, or _iterate_ through, a list of items and perform the same action with each item in the list. A for loop follows this pattern:\n",
    "\n",
    "``` \n",
    "for [item] in [list]:\n",
    "  [do something with item]\n",
    "```\n",
    "\n",
    "Some other things to remember before practicing:\n",
    "- The `range` function gives you a list of numbers between two parameters. For example, `range(0,3)` would give you the list `[0,1,2]`. It is _inclusive_ of the first parameter, but _exclusive_ of the second parameter.\n",
    "- You can put for loops inside each other, but it is __very__ important to make sure both loops have different variable names. For example, this is okay:\n",
    "\n",
    "```\n",
    "for num1 in list_1:\n",
    "  for num2 in list_2:\n",
    "    print(num1 + num2)\n",
    "```\n",
    "\n",
    "but this is not:\n",
    "\n",
    "```\n",
    "for num in list_1:\n",
    "  for num in list_2:\n",
    "    print(num + num)\n",
    "```\n",
    "\n",
    "The above code will probably run, but it won't give you the output you expect!\n",
    "\n",
    "\n"
   ]
  },
  {
   "cell_type": "markdown",
   "metadata": {
    "colab_type": "text",
    "id": "w5INUDXsNgrC"
   },
   "source": [
    "In this lesson, we are going to work with information about the planets! \n",
    "\n"
   ]
  },
  {
   "cell_type": "code",
   "execution_count": 22,
   "metadata": {
    "colab": {},
    "colab_type": "code",
    "id": "WuJ7jvUeQsq5"
   },
   "outputs": [],
   "source": [
    "# create a list of planets\n",
    "planets = ['mercury', 'venus', 'earth', 'mars', 'jupiter', 'saturn', 'uranus', 'neptune', 'pluto']"
   ]
  },
  {
   "cell_type": "markdown",
   "metadata": {
    "colab_type": "text",
    "id": "9FKe-A75O18-"
   },
   "source": [
    "First, let's create a string containing the names of all the planets. We want something that looks like this:\n",
    "\n",
    "\"mercury venus earth mars jupiter saturn uranus neptune pluto\"\n",
    "\n",
    "This can be done by creating an empty string, then adding the name of each planet using a for loop!"
   ]
  },
  {
   "cell_type": "code",
   "execution_count": 23,
   "metadata": {
    "colab": {
     "base_uri": "https://localhost:8080/",
     "height": 34
    },
    "colab_type": "code",
    "executionInfo": {
     "elapsed": 340,
     "status": "ok",
     "timestamp": 1567348403216,
     "user": {
      "displayName": "Morgan Oneka",
      "photoUrl": "https://lh3.googleusercontent.com/a-/AAuE7mDDNp7vRaJ72dq-10S667W0tZyfdBWiE2NavfHt=s64",
      "userId": "08973921413298125078"
     },
     "user_tz": 240
    },
    "id": "XlL_LzksA1bj",
    "outputId": "e753e1ee-538b-4ecc-994b-43b66027e6b1"
   },
   "outputs": [],
   "source": [
    "# create an empty string called planet_string (hint: an empty string is just opening & closing quotation marks)\n",
    "\n",
    "\n",
    "# use a for loop to add each planet's name to the string\n",
    "# remember that each time we add a planet we also want to add a space\n",
    "\n",
    "\n",
    "# print the value of planet_string  \n"
   ]
  },
  {
   "cell_type": "markdown",
   "metadata": {
    "colab_type": "text",
    "id": "LUrE_CSsPONK"
   },
   "source": [
    "What if we wanted to create a string that only contained the planets further from the sun than Earth (these are the planets that come after Earth in our list). "
   ]
  },
  {
   "cell_type": "code",
   "execution_count": 24,
   "metadata": {
    "colab": {
     "base_uri": "https://localhost:8080/",
     "height": 34
    },
    "colab_type": "code",
    "executionInfo": {
     "elapsed": 377,
     "status": "ok",
     "timestamp": 1567348422069,
     "user": {
      "displayName": "Morgan Oneka",
      "photoUrl": "https://lh3.googleusercontent.com/a-/AAuE7mDDNp7vRaJ72dq-10S667W0tZyfdBWiE2NavfHt=s64",
      "userId": "08973921413298125078"
     },
     "user_tz": 240
    },
    "id": "gGZ1NH-oBKYR",
    "outputId": "556b044b-2a71-486a-97bb-e3e3358f6967"
   },
   "outputs": [],
   "source": [
    "# create an empty string called after_earth\n",
    "\n",
    "\n",
    "# create a for loop similar to above, but only iterating over the planets after earth in the list\n",
    "\n",
    "\n",
    "# print the value of after_earth\n"
   ]
  },
  {
   "cell_type": "markdown",
   "metadata": {
    "colab_type": "text",
    "id": "_MQ78KoVPwc7"
   },
   "source": [
    "What if we also wanted to look at more data about the planets? We can create a 2D list that contains more information about each planet. "
   ]
  },
  {
   "cell_type": "code",
   "execution_count": 25,
   "metadata": {
    "colab": {},
    "colab_type": "code",
    "id": "dj8wHbNYNrZf"
   },
   "outputs": [],
   "source": [
    "# the number of moons each planet has\n",
    "moons = [0,0,1,2,67,62,27,14,5]\n",
    "\n",
    "# the distance of each planet from the sun (in millions of miles)\n",
    "distances = [35.98,67.24,92.96,141.6,483.8,890.8,1784,2793,3670]\n",
    "\n",
    "# create a 2D list (list of lists) made up of the planets, moons,\n",
    "# and distances lists & assign it to the variable 'space'\n"
   ]
  },
  {
   "cell_type": "markdown",
   "metadata": {
    "colab_type": "text",
    "id": "mm6feQ79P9TE"
   },
   "source": [
    "We can visualize our 2D list as looking something kind of like this:\n",
    "\n",
    "\n",
    "```\n",
    "mercury | 0 | 35.98\n",
    "venus   | 0 | 67.24\n",
    "earth   | 1 | 92.96\n",
    "mars    | 2 | 141.6\n",
    "  ...   |...|  ...\n",
    "```\n",
    "\n",
    "But when we print our 2D list, that isn't what it looks like"
   ]
  },
  {
   "cell_type": "code",
   "execution_count": 26,
   "metadata": {
    "colab": {
     "base_uri": "https://localhost:8080/",
     "height": 54
    },
    "colab_type": "code",
    "executionInfo": {
     "elapsed": 408,
     "status": "ok",
     "timestamp": 1567351425339,
     "user": {
      "displayName": "Morgan Oneka",
      "photoUrl": "https://lh3.googleusercontent.com/a-/AAuE7mDDNp7vRaJ72dq-10S667W0tZyfdBWiE2NavfHt=s64",
      "userId": "08973921413298125078"
     },
     "user_tz": 240
    },
    "id": "dkiSe0WHbL1I",
    "outputId": "5b2fe884-ab6b-4ca9-f636-f73f8911487f"
   },
   "outputs": [],
   "source": [
    "# print the 2D list space\n"
   ]
  },
  {
   "cell_type": "markdown",
   "metadata": {
    "colab_type": "text",
    "id": "XF_GjekpbOgh"
   },
   "source": [
    "Fortunately, we now know how to use nested for loops! Using one for loop to iterate over the \"columns\" of the 2D list and another to iterate over the \"rows\" of the 2D list, we can print out our 2D list so that it looks like a table.\n",
    "\n",
    "First we will loop through the planets and make an empty string that will become each row in the table. Then for each empty string/row, we will add the name of the planet, number of moons, and distance from the sun. "
   ]
  },
  {
   "cell_type": "code",
   "execution_count": 27,
   "metadata": {
    "colab": {
     "base_uri": "https://localhost:8080/",
     "height": 173
    },
    "colab_type": "code",
    "executionInfo": {
     "elapsed": 342,
     "status": "ok",
     "timestamp": 1567351674196,
     "user": {
      "displayName": "Morgan Oneka",
      "photoUrl": "https://lh3.googleusercontent.com/a-/AAuE7mDDNp7vRaJ72dq-10S667W0tZyfdBWiE2NavfHt=s64",
      "userId": "08973921413298125078"
     },
     "user_tz": 240
    },
    "id": "aGKySp8wDQ3n",
    "outputId": "a8ec3302-7477-433f-f2b4-b60bd11e0a6e"
   },
   "outputs": [
    {
     "name": "stdout",
     "output_type": "stream",
     "text": [
      "\n",
      "\n",
      "\n",
      "\n",
      "\n",
      "\n",
      "\n",
      "\n",
      "\n"
     ]
    }
   ],
   "source": [
    "# first loop through the planets\n",
    "for planet_index in range(0, len(planets)):\n",
    "    # make an empty string to construct each row\n",
    "    planet_string = ''\n",
    "    # make another loop here to get the right entries from the planets, moons, and distances list\n",
    "    # (hint: loop through \"space\" as we did with \"planets\" above)\n",
    "    # (hint 2: add \"str(space[your_loop_index][planet_index])\" plus the tab character (\\t) to row_string)\n",
    "\n",
    "    \n",
    "    \n",
    "    print(planet_string)\n",
    "    \n",
    "    "
   ]
  }
 ],
 "metadata": {
  "kernelspec": {
   "display_name": "Python 3",
   "language": "python",
   "name": "python3"
  },
  "language_info": {
   "codemirror_mode": {
    "name": "ipython",
    "version": 3
   },
   "file_extension": ".py",
   "mimetype": "text/x-python",
   "name": "python",
   "nbconvert_exporter": "python",
   "pygments_lexer": "ipython3",
   "version": "3.7.3"
  }
 },
 "nbformat": 4,
 "nbformat_minor": 4
}
