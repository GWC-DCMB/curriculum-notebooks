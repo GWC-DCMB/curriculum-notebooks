{
 "cells": [
  {
   "cell_type": "markdown",
   "metadata": {
    "colab_type": "text",
    "id": "OysD9LnxGi3R"
   },
   "source": [
    "# Practice with 2D list indexing!\n",
    "**Remember:**\n",
    "* Lists can be used to group different values together - it's just a collection of things.\n",
    "* You can make a list in Python by putting different things in a box of brackets `[]` separated by commas.\n",
    "* 2D lists are lists of lists\n",
    "* You can double-index 2D lists to get an element from the sub-list\n",
    "\n",
    "Let's use our list of  animals:"
   ]
  },
  {
   "cell_type": "code",
   "execution_count": null,
   "metadata": {
    "colab": {},
    "colab_type": "code",
    "id": "XJuLwCj2Gi3d"
   },
   "outputs": [],
   "source": [
    "# command Python to make a list of animals\n",
    "animals = [['cat','dog','elephant'],\n",
    "           ['fish','seahorse','whale'],\n",
    "           ['robin', 'cardinal', 'bat']]\n",
    "\n",
    "# command Python to print animals\n"
   ]
  },
  {
   "cell_type": "markdown",
   "metadata": {
    "colab_type": "text",
    "id": "oz74yWdRGi3l"
   },
   "source": [
    "Get the aquatic animals from your list:"
   ]
  },
  {
   "cell_type": "code",
   "execution_count": null,
   "metadata": {
    "colab": {},
    "colab_type": "code",
    "id": "H0Aq7x_oGi3n"
   },
   "outputs": [],
   "source": [
    "# command Python to get aquatic animals from your list\n"
   ]
  },
  {
   "cell_type": "markdown",
   "metadata": {
    "colab_type": "text",
    "id": "pIjV85QGGi3s"
   },
   "source": [
    "What if you want to get seahorse from `animals`?"
   ]
  },
  {
   "cell_type": "code",
   "execution_count": null,
   "metadata": {
    "colab": {},
    "colab_type": "code",
    "id": "bsw3VO7ZGi3t"
   },
   "outputs": [],
   "source": [
    "# command Python to get seahorse from animals\n"
   ]
  },
  {
   "cell_type": "markdown",
   "metadata": {
    "colab_type": "text",
    "id": "fD5__QWyGi3x"
   },
   "source": [
    "How about getting elephant from the `animals` list?"
   ]
  },
  {
   "cell_type": "code",
   "execution_count": null,
   "metadata": {
    "colab": {},
    "colab_type": "code",
    "id": "2wvJPQz8Gi3z"
   },
   "outputs": [],
   "source": [
    "# command Python to get elephant from animals\n"
   ]
  },
  {
   "cell_type": "markdown",
   "metadata": {
    "colab_type": "text",
    "id": "w4x1MXmzGi35"
   },
   "source": [
    "Now create a list of your favorite land, aquatic, and air animals by subsetting the `animals` list. Call this list `favorites` and print it out to see if you indexed corretcly:"
   ]
  },
  {
   "cell_type": "code",
   "execution_count": null,
   "metadata": {
    "colab": {},
    "colab_type": "code",
    "id": "IWHTiy42Gi36"
   },
   "outputs": [],
   "source": [
    "# command Python to make a list called favorites with your favorite of each animal\n",
    "\n",
    "# command Python to print favorites\n"
   ]
  },
  {
   "cell_type": "markdown",
   "metadata": {
    "colab_type": "text",
    "id": "IG6CRk5QGi39"
   },
   "source": [
    "**Challenge:** Using your 2D list of numbers from 1 to 20 get the even numbers from the list:"
   ]
  },
  {
   "cell_type": "code",
   "execution_count": null,
   "metadata": {
    "colab": {},
    "colab_type": "code",
    "id": "kMLfHRtkGi3-"
   },
   "outputs": [],
   "source": [
    "# make 2D list of numbers\n",
    "\n",
    "# get the even numbers from numbers\n"
   ]
  },
  {
   "cell_type": "markdown",
   "metadata": {
    "colab_type": "text",
    "id": "BO-TAfz1Gi4D"
   },
   "source": [
    "Now get your age from the list of numbers:"
   ]
  },
  {
   "cell_type": "code",
   "execution_count": null,
   "metadata": {
    "colab": {},
    "colab_type": "code",
    "id": "3QL2V3dzGi4F"
   },
   "outputs": [],
   "source": [
    "# get your age from numbers and save it to age\n",
    "\n",
    "# print age to see if you did it correctly\n"
   ]
  },
  {
   "cell_type": "markdown",
   "metadata": {
    "colab_type": "text",
    "id": "Y07qPBpxGi4K"
   },
   "source": [
    "Add 5 to your age and save it to `age_plus_5`. What do you think you'll be doing in 5 years?"
   ]
  },
  {
   "cell_type": "code",
   "execution_count": null,
   "metadata": {
    "colab": {},
    "colab_type": "code",
    "id": "FOsGPneLGi4R"
   },
   "outputs": [],
   "source": [
    "# add 5 to your age\n",
    "\n",
    "# print age_plus_5\n"
   ]
  },
  {
   "cell_type": "markdown",
   "metadata": {
    "colab_type": "text",
    "id": "JcTHdlVjGi4U"
   },
   "source": [
    "Now add 5 to age_plus_5 and save it to the variable `age_plus_10`. What do you think you'll be doing in 10 years?"
   ]
  },
  {
   "cell_type": "code",
   "execution_count": null,
   "metadata": {
    "colab": {},
    "colab_type": "code",
    "id": "WXm5DvwtGi4V"
   },
   "outputs": [],
   "source": [
    "# add 5 to age_plus_10\n",
    "\n",
    "# print age_plus_10\n"
   ]
  },
  {
   "cell_type": "markdown",
   "metadata": {
    "colab_type": "text",
    "id": "HmdunV1lGi4c"
   },
   "source": [
    "Nice job! You just practiced:\n",
    "* Indexing a 2D list (a list of lists)\n",
    "* Making a new list from a subset of a 2D list\n",
    "* Saving things to variables\n",
    "* Adding variables and numbers"
   ]
  }
 ],
 "metadata": {
  "kernelspec": {
   "display_name": "Python 3",
   "language": "python",
   "name": "python3"
  },
  "language_info": {
   "codemirror_mode": {
    "name": "ipython",
    "version": 3
   },
   "file_extension": ".py",
   "mimetype": "text/x-python",
   "name": "python",
   "nbconvert_exporter": "python",
   "pygments_lexer": "ipython3",
   "version": "3.7.3"
  }
 },
 "nbformat": 4,
 "nbformat_minor": 4
}